{
 "cells": [
  {
   "cell_type": "markdown",
   "metadata": {},
   "source": [
    "# !!!! NOTE:\n",
    "\n",
    "To evaluate **coherence score**: set GA.objective to 'coherence' and in GA file, import Gene from Gene\n",
    "\n",
    "To evaluate **silhouette score**: set GA.objective to 'silhouette' and in GA file, import Gene from Gene2"
   ]
  },
  {
   "cell_type": "code",
   "execution_count": 1,
   "metadata": {},
   "outputs": [],
   "source": [
    "from Documents import Documents\n",
    "from GA import GA\n",
    "import pandas as pd\n",
    "import pickle\n",
    "from os import path\n",
    "import random"
   ]
  },
  {
   "cell_type": "code",
   "execution_count": 2,
   "metadata": {},
   "outputs": [],
   "source": [
    "# loadit = False\n",
    "\n",
    "# if loadit:\n",
    "#   with open('docs.pkl', 'rb') as f:\n",
    "#     docs = pickle.load(f)\n",
    "# else:\n",
    "#   data_path = '../data/github_issues.csv'\n",
    "#   df = pd.read_csv(data_path)\n",
    "#   docs = Documents()\n",
    "#   docs.load(list(df['description'])[:300])\n",
    "# #   docs.load(list(df['description']))\n",
    "#   docs.vectorise()\n",
    "#   with open('docs.pkl', 'wb+') as f:\n",
    "#     pickle.dump(docs, f)\n",
    "\n",
    "# print(\"No. of documents loaded: {}\".format(docs.get_doc_size()))\n",
    "\n",
    "# corpus = docs.get_vectors()\n",
    "# dictionary = docs.get_dictionary()"
   ]
  },
  {
   "cell_type": "code",
   "execution_count": 2,
   "metadata": {},
   "outputs": [
    {
     "name": "stdout",
     "output_type": "stream",
     "text": [
      "No. of documents loaded: 4000\n"
     ]
    }
   ],
   "source": [
    "loadit = False\n",
    "\n",
    "if loadit:\n",
    "  with open('android_docs.pkl', 'rb') as f:\n",
    "    docs = pickle.load(f)\n",
    "else:\n",
    "  data_path = '../data/android_app_reviews.txt'\n",
    "  with open(data_path, 'r') as f:\n",
    "    data = f.readlines()\n",
    "  data = [x.strip() for x in data]\n",
    "  data = random.sample(data,4000)\n",
    "  docs = Documents()\n",
    "  docs.load(data)\n",
    "  docs.vectorise()\n",
    "  with open('android_docs.pkl', 'wb+') as f:\n",
    "    pickle.dump(docs, f)\n",
    "\n",
    "print(\"No. of documents loaded: {}\".format(docs.get_doc_size()))\n",
    "\n",
    "corpus = docs.get_vectors()\n",
    "dictionary = docs.get_dictionary()"
   ]
  },
  {
   "cell_type": "code",
   "execution_count": 3,
   "metadata": {},
   "outputs": [
    {
     "name": "stdout",
     "output_type": "stream",
     "text": [
      "Initialising Population...\n"
     ]
    },
    {
     "data": {
      "application/vnd.jupyter.widget-view+json": {
       "model_id": "bc9cea8be51a4e31973e9b6a342fe92c",
       "version_major": 2,
       "version_minor": 0
      },
      "text/plain": [
       "HBox(children=(FloatProgress(value=0.0, max=30.0), HTML(value='')))"
      ]
     },
     "metadata": {},
     "output_type": "display_data"
    },
    {
     "name": "stdout",
     "output_type": "stream",
     "text": [
      "\n",
      "0: Fitness: -5.287984112099496, Best Fitness: -5.287984112099496, Num Topics: 31, Fitness Budget: 2970 \n",
      "Evolving Population...\n"
     ]
    },
    {
     "data": {
      "application/vnd.jupyter.widget-view+json": {
       "model_id": "4ac267b879bc433bbf5b1d1c386d8dee",
       "version_major": 2,
       "version_minor": 0
      },
      "text/plain": [
       "HBox(children=(FloatProgress(value=0.0, max=30.0), HTML(value='')))"
      ]
     },
     "metadata": {},
     "output_type": "display_data"
    },
    {
     "name": "stdout",
     "output_type": "stream",
     "text": [
      "\n",
      "0: Fitness: -5.116782805981446, Best Fitness: -5.116782805981446, Num Topics: 17, Fitness Budget: 2940 \n"
     ]
    },
    {
     "data": {
      "application/vnd.jupyter.widget-view+json": {
       "model_id": "ad43abfb26db4c039c39a08c658b9d27",
       "version_major": 2,
       "version_minor": 0
      },
      "text/plain": [
       "HBox(children=(FloatProgress(value=0.0, max=30.0), HTML(value='')))"
      ]
     },
     "metadata": {},
     "output_type": "display_data"
    },
    {
     "name": "stdout",
     "output_type": "stream",
     "text": [
      "\n",
      "1: Fitness: -4.725577828969663, Best Fitness: -4.725577828969663, Num Topics: 23, Fitness Budget: 2910 \n"
     ]
    },
    {
     "data": {
      "application/vnd.jupyter.widget-view+json": {
       "model_id": "dbceb7d1051440bba2f1b05331e729b7",
       "version_major": 2,
       "version_minor": 0
      },
      "text/plain": [
       "HBox(children=(FloatProgress(value=0.0, max=30.0), HTML(value='')))"
      ]
     },
     "metadata": {},
     "output_type": "display_data"
    },
    {
     "name": "stdout",
     "output_type": "stream",
     "text": [
      "\n",
      "2: Fitness: -4.448115013302000, Best Fitness: -4.448115013302000, Num Topics: 25, Fitness Budget: 2880 \n"
     ]
    },
    {
     "data": {
      "application/vnd.jupyter.widget-view+json": {
       "model_id": "b8b68f4f849b4bbc8cbcaaf8f845bb9b",
       "version_major": 2,
       "version_minor": 0
      },
      "text/plain": [
       "HBox(children=(FloatProgress(value=0.0, max=30.0), HTML(value='')))"
      ]
     },
     "metadata": {},
     "output_type": "display_data"
    },
    {
     "name": "stdout",
     "output_type": "stream",
     "text": [
      "\n",
      "3: Fitness: -4.403966817227992, Best Fitness: -4.403966817227992, Num Topics: 25, Fitness Budget: 2850 \n"
     ]
    },
    {
     "data": {
      "application/vnd.jupyter.widget-view+json": {
       "model_id": "40668fb352664166ab84914282e34a1f",
       "version_major": 2,
       "version_minor": 0
      },
      "text/plain": [
       "HBox(children=(FloatProgress(value=0.0, max=30.0), HTML(value='')))"
      ]
     },
     "metadata": {},
     "output_type": "display_data"
    },
    {
     "name": "stdout",
     "output_type": "stream",
     "text": [
      "\n",
      "4: Fitness: -4.389252302117642, Best Fitness: -4.389252302117642, Num Topics: 26, Fitness Budget: 2820 \n"
     ]
    },
    {
     "data": {
      "application/vnd.jupyter.widget-view+json": {
       "model_id": "4e1fdfbf42f649b981591c08b98adaa6",
       "version_major": 2,
       "version_minor": 0
      },
      "text/plain": [
       "HBox(children=(FloatProgress(value=0.0, max=30.0), HTML(value='')))"
      ]
     },
     "metadata": {},
     "output_type": "display_data"
    },
    {
     "name": "stdout",
     "output_type": "stream",
     "text": [
      "\n",
      "5: Fitness: -4.435635625504089, Best Fitness: -4.389252302117642, Num Topics: 26, Fitness Budget: 2790 \n"
     ]
    },
    {
     "data": {
      "application/vnd.jupyter.widget-view+json": {
       "model_id": "acff6af853694203b04307dd3cd2ca00",
       "version_major": 2,
       "version_minor": 0
      },
      "text/plain": [
       "HBox(children=(FloatProgress(value=0.0, max=30.0), HTML(value='')))"
      ]
     },
     "metadata": {},
     "output_type": "display_data"
    },
    {
     "name": "stdout",
     "output_type": "stream",
     "text": [
      "\n",
      "6: Fitness: -3.915131075500487, Best Fitness: -3.915131075500487, Num Topics: 11, Fitness Budget: 2760 \n"
     ]
    },
    {
     "data": {
      "application/vnd.jupyter.widget-view+json": {
       "model_id": "3867864b534840cfa2cf51f8e4cd8f16",
       "version_major": 2,
       "version_minor": 0
      },
      "text/plain": [
       "HBox(children=(FloatProgress(value=0.0, max=30.0), HTML(value='')))"
      ]
     },
     "metadata": {},
     "output_type": "display_data"
    },
    {
     "name": "stdout",
     "output_type": "stream",
     "text": [
      "\n",
      "7: Fitness: -4.195285173299625, Best Fitness: -3.915131075500487, Num Topics: 11, Fitness Budget: 2730 \n"
     ]
    },
    {
     "data": {
      "application/vnd.jupyter.widget-view+json": {
       "model_id": "1619c7884d7f4effb7a8e424fc274dd7",
       "version_major": 2,
       "version_minor": 0
      },
      "text/plain": [
       "HBox(children=(FloatProgress(value=0.0, max=30.0), HTML(value='')))"
      ]
     },
     "metadata": {},
     "output_type": "display_data"
    },
    {
     "name": "stdout",
     "output_type": "stream",
     "text": [
      "\n",
      "8: Fitness: -3.181408927588376, Best Fitness: -3.181408927588376, Num Topics: 7, Fitness Budget: 2700 \n"
     ]
    },
    {
     "data": {
      "application/vnd.jupyter.widget-view+json": {
       "model_id": "941fc335cda24414bfc56bf55a82119e",
       "version_major": 2,
       "version_minor": 0
      },
      "text/plain": [
       "HBox(children=(FloatProgress(value=0.0, max=30.0), HTML(value='')))"
      ]
     },
     "metadata": {},
     "output_type": "display_data"
    },
    {
     "name": "stdout",
     "output_type": "stream",
     "text": [
      "\n",
      "9: Fitness: -3.117812811794373, Best Fitness: -3.117812811794373, Num Topics: 7, Fitness Budget: 2670 \n"
     ]
    },
    {
     "data": {
      "application/vnd.jupyter.widget-view+json": {
       "model_id": "bfb363f47476415295b6ee42d1922665",
       "version_major": 2,
       "version_minor": 0
      },
      "text/plain": [
       "HBox(children=(FloatProgress(value=0.0, max=30.0), HTML(value='')))"
      ]
     },
     "metadata": {},
     "output_type": "display_data"
    },
    {
     "name": "stdout",
     "output_type": "stream",
     "text": [
      "\n",
      "10: Fitness: -3.043958135648734, Best Fitness: -3.043958135648734, Num Topics: 8, Fitness Budget: 2640 \n"
     ]
    },
    {
     "data": {
      "application/vnd.jupyter.widget-view+json": {
       "model_id": "31fe6c89d2894971a1177d04f475e7df",
       "version_major": 2,
       "version_minor": 0
      },
      "text/plain": [
       "HBox(children=(FloatProgress(value=0.0, max=30.0), HTML(value='')))"
      ]
     },
     "metadata": {},
     "output_type": "display_data"
    },
    {
     "name": "stdout",
     "output_type": "stream",
     "text": [
      "\n",
      "11: Fitness: -2.977424099059263, Best Fitness: -2.977424099059263, Num Topics: 7, Fitness Budget: 2610 \n"
     ]
    },
    {
     "data": {
      "application/vnd.jupyter.widget-view+json": {
       "model_id": "ff81dc2196944b02bebc8b75ed5780f4",
       "version_major": 2,
       "version_minor": 0
      },
      "text/plain": [
       "HBox(children=(FloatProgress(value=0.0, max=30.0), HTML(value='')))"
      ]
     },
     "metadata": {},
     "output_type": "display_data"
    },
    {
     "name": "stdout",
     "output_type": "stream",
     "text": [
      "\n",
      "12: Fitness: -3.037524501435092, Best Fitness: -2.977424099059263, Num Topics: 7, Fitness Budget: 2580 \n"
     ]
    },
    {
     "data": {
      "application/vnd.jupyter.widget-view+json": {
       "model_id": "bd26357ecd654e208fb2929c25de04e9",
       "version_major": 2,
       "version_minor": 0
      },
      "text/plain": [
       "HBox(children=(FloatProgress(value=0.0, max=30.0), HTML(value='')))"
      ]
     },
     "metadata": {},
     "output_type": "display_data"
    },
    {
     "name": "stdout",
     "output_type": "stream",
     "text": [
      "\n",
      "13: Fitness: -3.035663211250774, Best Fitness: -2.977424099059263, Num Topics: 7, Fitness Budget: 2550 \n"
     ]
    },
    {
     "data": {
      "application/vnd.jupyter.widget-view+json": {
       "model_id": "3c101798310e4997b68f78bd44091876",
       "version_major": 2,
       "version_minor": 0
      },
      "text/plain": [
       "HBox(children=(FloatProgress(value=0.0, max=30.0), HTML(value='')))"
      ]
     },
     "metadata": {},
     "output_type": "display_data"
    },
    {
     "name": "stdout",
     "output_type": "stream",
     "text": [
      "\n",
      "14: Fitness: -2.979466433122547, Best Fitness: -2.977424099059263, Num Topics: 7, Fitness Budget: 2520 \n"
     ]
    },
    {
     "data": {
      "application/vnd.jupyter.widget-view+json": {
       "model_id": "6433e1a50e0348c292f478beea1d7766",
       "version_major": 2,
       "version_minor": 0
      },
      "text/plain": [
       "HBox(children=(FloatProgress(value=0.0, max=30.0), HTML(value='')))"
      ]
     },
     "metadata": {},
     "output_type": "display_data"
    },
    {
     "name": "stdout",
     "output_type": "stream",
     "text": [
      "\n",
      "15: Fitness: -2.981815207060739, Best Fitness: -2.977424099059263, Num Topics: 7, Fitness Budget: 2490 \n"
     ]
    },
    {
     "data": {
      "application/vnd.jupyter.widget-view+json": {
       "model_id": "73a4f8d4508343b492d83f9848539741",
       "version_major": 2,
       "version_minor": 0
      },
      "text/plain": [
       "HBox(children=(FloatProgress(value=0.0, max=30.0), HTML(value='')))"
      ]
     },
     "metadata": {},
     "output_type": "display_data"
    },
    {
     "name": "stdout",
     "output_type": "stream",
     "text": [
      "\n",
      "16: Fitness: -2.867188565007951, Best Fitness: -2.867188565007951, Num Topics: 8, Fitness Budget: 2460 \n"
     ]
    },
    {
     "data": {
      "application/vnd.jupyter.widget-view+json": {
       "model_id": "7d4cf2b8739a4345a40e42bb1e78c496",
       "version_major": 2,
       "version_minor": 0
      },
      "text/plain": [
       "HBox(children=(FloatProgress(value=0.0, max=30.0), HTML(value='')))"
      ]
     },
     "metadata": {},
     "output_type": "display_data"
    },
    {
     "name": "stdout",
     "output_type": "stream",
     "text": [
      "\n",
      "17: Fitness: -3.039076179260256, Best Fitness: -2.867188565007951, Num Topics: 8, Fitness Budget: 2430 \n"
     ]
    },
    {
     "data": {
      "application/vnd.jupyter.widget-view+json": {
       "model_id": "b5bc1299995a48988e213f3195d6fbb7",
       "version_major": 2,
       "version_minor": 0
      },
      "text/plain": [
       "HBox(children=(FloatProgress(value=0.0, max=30.0), HTML(value='')))"
      ]
     },
     "metadata": {},
     "output_type": "display_data"
    },
    {
     "name": "stdout",
     "output_type": "stream",
     "text": [
      "\n",
      "18: Fitness: -2.989520795812007, Best Fitness: -2.867188565007951, Num Topics: 8, Fitness Budget: 2400 \n"
     ]
    },
    {
     "data": {
      "application/vnd.jupyter.widget-view+json": {
       "model_id": "e33539eb51534972909d282215868460",
       "version_major": 2,
       "version_minor": 0
      },
      "text/plain": [
       "HBox(children=(FloatProgress(value=0.0, max=30.0), HTML(value='')))"
      ]
     },
     "metadata": {},
     "output_type": "display_data"
    },
    {
     "name": "stdout",
     "output_type": "stream",
     "text": [
      "\n",
      "19: Fitness: -2.966384678977519, Best Fitness: -2.867188565007951, Num Topics: 8, Fitness Budget: 2370 \n"
     ]
    },
    {
     "data": {
      "application/vnd.jupyter.widget-view+json": {
       "model_id": "2314502498994d2aacaaa16d26c788f3",
       "version_major": 2,
       "version_minor": 0
      },
      "text/plain": [
       "HBox(children=(FloatProgress(value=0.0, max=30.0), HTML(value='')))"
      ]
     },
     "metadata": {},
     "output_type": "display_data"
    },
    {
     "name": "stdout",
     "output_type": "stream",
     "text": [
      "\n",
      "20: Fitness: -3.015179187052934, Best Fitness: -2.867188565007951, Num Topics: 8, Fitness Budget: 2340 \n"
     ]
    },
    {
     "data": {
      "application/vnd.jupyter.widget-view+json": {
       "model_id": "6fb199a6f5f2461f8185d5201238cd29",
       "version_major": 2,
       "version_minor": 0
      },
      "text/plain": [
       "HBox(children=(FloatProgress(value=0.0, max=30.0), HTML(value='')))"
      ]
     },
     "metadata": {},
     "output_type": "display_data"
    },
    {
     "name": "stdout",
     "output_type": "stream",
     "text": [
      "\n",
      "21: Fitness: -2.944228433387589, Best Fitness: -2.867188565007951, Num Topics: 8, Fitness Budget: 2310 \n"
     ]
    },
    {
     "data": {
      "application/vnd.jupyter.widget-view+json": {
       "model_id": "14417fc131b24e60b55a019bc20e62bf",
       "version_major": 2,
       "version_minor": 0
      },
      "text/plain": [
       "HBox(children=(FloatProgress(value=0.0, max=30.0), HTML(value='')))"
      ]
     },
     "metadata": {},
     "output_type": "display_data"
    },
    {
     "name": "stdout",
     "output_type": "stream",
     "text": [
      "\n",
      "22: Fitness: -3.099520613974454, Best Fitness: -2.867188565007951, Num Topics: 8, Fitness Budget: 2280 \n"
     ]
    },
    {
     "data": {
      "application/vnd.jupyter.widget-view+json": {
       "model_id": "d04c263b000044e9926a16d905169e07",
       "version_major": 2,
       "version_minor": 0
      },
      "text/plain": [
       "HBox(children=(FloatProgress(value=0.0, max=30.0), HTML(value='')))"
      ]
     },
     "metadata": {},
     "output_type": "display_data"
    },
    {
     "name": "stdout",
     "output_type": "stream",
     "text": [
      "\n",
      "23: Fitness: -3.085670094203625, Best Fitness: -2.867188565007951, Num Topics: 8, Fitness Budget: 2250 \n"
     ]
    },
    {
     "data": {
      "application/vnd.jupyter.widget-view+json": {
       "model_id": "443373137af8448c9805d44089f72be9",
       "version_major": 2,
       "version_minor": 0
      },
      "text/plain": [
       "HBox(children=(FloatProgress(value=0.0, max=30.0), HTML(value='')))"
      ]
     },
     "metadata": {},
     "output_type": "display_data"
    },
    {
     "name": "stdout",
     "output_type": "stream",
     "text": [
      "\n",
      "24: Fitness: -2.952873764019498, Best Fitness: -2.867188565007951, Num Topics: 8, Fitness Budget: 2220 \n"
     ]
    },
    {
     "data": {
      "application/vnd.jupyter.widget-view+json": {
       "model_id": "de0ee790f8674b1ca691dc5d1744e46c",
       "version_major": 2,
       "version_minor": 0
      },
      "text/plain": [
       "HBox(children=(FloatProgress(value=0.0, max=30.0), HTML(value='')))"
      ]
     },
     "metadata": {},
     "output_type": "display_data"
    },
    {
     "name": "stdout",
     "output_type": "stream",
     "text": [
      "\n",
      "25: Fitness: -3.049173449662467, Best Fitness: -2.867188565007951, Num Topics: 8, Fitness Budget: 2190 \n"
     ]
    },
    {
     "data": {
      "application/vnd.jupyter.widget-view+json": {
       "model_id": "52c1e69127b047778e95f638f8bc89cb",
       "version_major": 2,
       "version_minor": 0
      },
      "text/plain": [
       "HBox(children=(FloatProgress(value=0.0, max=30.0), HTML(value='')))"
      ]
     },
     "metadata": {},
     "output_type": "display_data"
    },
    {
     "name": "stdout",
     "output_type": "stream",
     "text": [
      "\n",
      "26: Fitness: -3.031999532769946, Best Fitness: -2.867188565007951, Num Topics: 8, Fitness Budget: 2160 \n"
     ]
    },
    {
     "data": {
      "application/vnd.jupyter.widget-view+json": {
       "model_id": "146f88bc39334abb89b50833165dddbe",
       "version_major": 2,
       "version_minor": 0
      },
      "text/plain": [
       "HBox(children=(FloatProgress(value=0.0, max=30.0), HTML(value='')))"
      ]
     },
     "metadata": {},
     "output_type": "display_data"
    },
    {
     "name": "stdout",
     "output_type": "stream",
     "text": [
      "\n",
      "27: Fitness: -2.986043565469773, Best Fitness: -2.867188565007951, Num Topics: 8, Fitness Budget: 2130 \n"
     ]
    },
    {
     "data": {
      "application/vnd.jupyter.widget-view+json": {
       "model_id": "eb0abe8c1eea41fdbeb1d77affd36c2d",
       "version_major": 2,
       "version_minor": 0
      },
      "text/plain": [
       "HBox(children=(FloatProgress(value=0.0, max=30.0), HTML(value='')))"
      ]
     },
     "metadata": {},
     "output_type": "display_data"
    },
    {
     "name": "stdout",
     "output_type": "stream",
     "text": [
      "\n",
      "28: Fitness: -3.150576785788453, Best Fitness: -2.867188565007951, Num Topics: 8, Fitness Budget: 2100 \n"
     ]
    },
    {
     "data": {
      "application/vnd.jupyter.widget-view+json": {
       "model_id": "80d92c25ef444fa4b87b4232552cd54b",
       "version_major": 2,
       "version_minor": 0
      },
      "text/plain": [
       "HBox(children=(FloatProgress(value=0.0, max=30.0), HTML(value='')))"
      ]
     },
     "metadata": {},
     "output_type": "display_data"
    },
    {
     "name": "stdout",
     "output_type": "stream",
     "text": [
      "\n",
      "29: Fitness: -3.045958231289092, Best Fitness: -2.867188565007951, Num Topics: 8, Fitness Budget: 2070 \n"
     ]
    },
    {
     "data": {
      "application/vnd.jupyter.widget-view+json": {
       "model_id": "54d9ba897b1a4f0086575eb478a196e9",
       "version_major": 2,
       "version_minor": 0
      },
      "text/plain": [
       "HBox(children=(FloatProgress(value=0.0, max=30.0), HTML(value='')))"
      ]
     },
     "metadata": {},
     "output_type": "display_data"
    },
    {
     "name": "stdout",
     "output_type": "stream",
     "text": [
      "\n",
      "30: Fitness: -2.933153384421527, Best Fitness: -2.867188565007951, Num Topics: 8, Fitness Budget: 2040 \n"
     ]
    },
    {
     "data": {
      "application/vnd.jupyter.widget-view+json": {
       "model_id": "41f36fe0e9cf4206b6c5cdd08c0e9171",
       "version_major": 2,
       "version_minor": 0
      },
      "text/plain": [
       "HBox(children=(FloatProgress(value=0.0, max=30.0), HTML(value='')))"
      ]
     },
     "metadata": {},
     "output_type": "display_data"
    },
    {
     "name": "stdout",
     "output_type": "stream",
     "text": [
      "\n",
      "31: Fitness: -3.077385215342761, Best Fitness: -2.867188565007951, Num Topics: 8, Fitness Budget: 2010 \n"
     ]
    },
    {
     "data": {
      "application/vnd.jupyter.widget-view+json": {
       "model_id": "a831dc6f939b4f329bcbf7c2746b55cf",
       "version_major": 2,
       "version_minor": 0
      },
      "text/plain": [
       "HBox(children=(FloatProgress(value=0.0, max=30.0), HTML(value='')))"
      ]
     },
     "metadata": {},
     "output_type": "display_data"
    },
    {
     "name": "stdout",
     "output_type": "stream",
     "text": [
      "\n",
      "32: Fitness: -3.055499686616557, Best Fitness: -2.867188565007951, Num Topics: 8, Fitness Budget: 1980 \n"
     ]
    },
    {
     "data": {
      "application/vnd.jupyter.widget-view+json": {
       "model_id": "9f0284b96bb44bd8a15b64a591af8079",
       "version_major": 2,
       "version_minor": 0
      },
      "text/plain": [
       "HBox(children=(FloatProgress(value=0.0, max=30.0), HTML(value='')))"
      ]
     },
     "metadata": {},
     "output_type": "display_data"
    },
    {
     "name": "stdout",
     "output_type": "stream",
     "text": [
      "\n",
      "33: Fitness: -3.065497529862181, Best Fitness: -2.867188565007951, Num Topics: 8, Fitness Budget: 1950 \n"
     ]
    },
    {
     "data": {
      "application/vnd.jupyter.widget-view+json": {
       "model_id": "ec06f5160bc6497a8ecb67b50a855bcf",
       "version_major": 2,
       "version_minor": 0
      },
      "text/plain": [
       "HBox(children=(FloatProgress(value=0.0, max=30.0), HTML(value='')))"
      ]
     },
     "metadata": {},
     "output_type": "display_data"
    },
    {
     "name": "stdout",
     "output_type": "stream",
     "text": [
      "\n",
      "34: Fitness: -2.989533336999981, Best Fitness: -2.867188565007951, Num Topics: 8, Fitness Budget: 1920 \n"
     ]
    },
    {
     "data": {
      "application/vnd.jupyter.widget-view+json": {
       "model_id": "f36e68fa904547b3ba5da944d88c97e6",
       "version_major": 2,
       "version_minor": 0
      },
      "text/plain": [
       "HBox(children=(FloatProgress(value=0.0, max=30.0), HTML(value='')))"
      ]
     },
     "metadata": {},
     "output_type": "display_data"
    },
    {
     "name": "stdout",
     "output_type": "stream",
     "text": [
      "\n",
      "35: Fitness: -3.025502230157149, Best Fitness: -2.867188565007951, Num Topics: 8, Fitness Budget: 1890 \n"
     ]
    },
    {
     "data": {
      "application/vnd.jupyter.widget-view+json": {
       "model_id": "e78800e618a24152b6a67fe988a2c067",
       "version_major": 2,
       "version_minor": 0
      },
      "text/plain": [
       "HBox(children=(FloatProgress(value=0.0, max=30.0), HTML(value='')))"
      ]
     },
     "metadata": {},
     "output_type": "display_data"
    },
    {
     "name": "stdout",
     "output_type": "stream",
     "text": [
      "\n",
      "36: Fitness: -3.038359234808413, Best Fitness: -2.867188565007951, Num Topics: 8, Fitness Budget: 1860 \n"
     ]
    },
    {
     "data": {
      "application/vnd.jupyter.widget-view+json": {
       "model_id": "9dbe2d4c066840fe95d620cafd813048",
       "version_major": 2,
       "version_minor": 0
      },
      "text/plain": [
       "HBox(children=(FloatProgress(value=0.0, max=30.0), HTML(value='')))"
      ]
     },
     "metadata": {},
     "output_type": "display_data"
    },
    {
     "name": "stdout",
     "output_type": "stream",
     "text": [
      "\n",
      "37: Fitness: -3.047637155344276, Best Fitness: -2.867188565007951, Num Topics: 8, Fitness Budget: 1830 \n"
     ]
    },
    {
     "data": {
      "application/vnd.jupyter.widget-view+json": {
       "model_id": "637045f318b8404c84aa77448e01a2d7",
       "version_major": 2,
       "version_minor": 0
      },
      "text/plain": [
       "HBox(children=(FloatProgress(value=0.0, max=30.0), HTML(value='')))"
      ]
     },
     "metadata": {},
     "output_type": "display_data"
    },
    {
     "name": "stdout",
     "output_type": "stream",
     "text": [
      "\n",
      "38: Fitness: -3.083025554498923, Best Fitness: -2.867188565007951, Num Topics: 8, Fitness Budget: 1800 \n"
     ]
    },
    {
     "data": {
      "application/vnd.jupyter.widget-view+json": {
       "model_id": "fa4bd16268894539a675e05470f6e5cd",
       "version_major": 2,
       "version_minor": 0
      },
      "text/plain": [
       "HBox(children=(FloatProgress(value=0.0, max=30.0), HTML(value='')))"
      ]
     },
     "metadata": {},
     "output_type": "display_data"
    },
    {
     "name": "stdout",
     "output_type": "stream",
     "text": [
      "\n",
      "39: Fitness: -3.018977079629356, Best Fitness: -2.867188565007951, Num Topics: 8, Fitness Budget: 1770 \n"
     ]
    },
    {
     "data": {
      "application/vnd.jupyter.widget-view+json": {
       "model_id": "f3c52b8ee2ea4e2aae1ec7803c22246d",
       "version_major": 2,
       "version_minor": 0
      },
      "text/plain": [
       "HBox(children=(FloatProgress(value=0.0, max=30.0), HTML(value='')))"
      ]
     },
     "metadata": {},
     "output_type": "display_data"
    },
    {
     "name": "stdout",
     "output_type": "stream",
     "text": [
      "\n",
      "40: Fitness: -2.909704212303182, Best Fitness: -2.867188565007951, Num Topics: 8, Fitness Budget: 1740 \n"
     ]
    },
    {
     "data": {
      "application/vnd.jupyter.widget-view+json": {
       "model_id": "36aacc9b2af54d48b7fc1c4d31038298",
       "version_major": 2,
       "version_minor": 0
      },
      "text/plain": [
       "HBox(children=(FloatProgress(value=0.0, max=30.0), HTML(value='')))"
      ]
     },
     "metadata": {},
     "output_type": "display_data"
    },
    {
     "name": "stdout",
     "output_type": "stream",
     "text": [
      "\n",
      "41: Fitness: -3.024633950798601, Best Fitness: -2.867188565007951, Num Topics: 8, Fitness Budget: 1710 \n"
     ]
    },
    {
     "data": {
      "application/vnd.jupyter.widget-view+json": {
       "model_id": "f47b4a6cfc724eefa480a99a56033510",
       "version_major": 2,
       "version_minor": 0
      },
      "text/plain": [
       "HBox(children=(FloatProgress(value=0.0, max=30.0), HTML(value='')))"
      ]
     },
     "metadata": {},
     "output_type": "display_data"
    },
    {
     "name": "stdout",
     "output_type": "stream",
     "text": [
      "\n",
      "42: Fitness: -2.886385212914810, Best Fitness: -2.867188565007951, Num Topics: 8, Fitness Budget: 1680 \n"
     ]
    },
    {
     "data": {
      "application/vnd.jupyter.widget-view+json": {
       "model_id": "edb273b43e5e4160be2674341c9fd139",
       "version_major": 2,
       "version_minor": 0
      },
      "text/plain": [
       "HBox(children=(FloatProgress(value=0.0, max=30.0), HTML(value='')))"
      ]
     },
     "metadata": {},
     "output_type": "display_data"
    },
    {
     "name": "stdout",
     "output_type": "stream",
     "text": [
      "\n",
      "43: Fitness: -3.035745356551139, Best Fitness: -2.867188565007951, Num Topics: 8, Fitness Budget: 1650 \n"
     ]
    },
    {
     "data": {
      "application/vnd.jupyter.widget-view+json": {
       "model_id": "a77e965d50d54d46be323b8abd5d3f33",
       "version_major": 2,
       "version_minor": 0
      },
      "text/plain": [
       "HBox(children=(FloatProgress(value=0.0, max=30.0), HTML(value='')))"
      ]
     },
     "metadata": {},
     "output_type": "display_data"
    },
    {
     "name": "stdout",
     "output_type": "stream",
     "text": [
      "\n",
      "44: Fitness: -3.050867834922504, Best Fitness: -2.867188565007951, Num Topics: 8, Fitness Budget: 1620 \n"
     ]
    },
    {
     "data": {
      "application/vnd.jupyter.widget-view+json": {
       "model_id": "5880268d1b26418d9bad6129445b9e1e",
       "version_major": 2,
       "version_minor": 0
      },
      "text/plain": [
       "HBox(children=(FloatProgress(value=0.0, max=30.0), HTML(value='')))"
      ]
     },
     "metadata": {},
     "output_type": "display_data"
    },
    {
     "name": "stdout",
     "output_type": "stream",
     "text": [
      "\n",
      "45: Fitness: -2.878852829503824, Best Fitness: -2.867188565007951, Num Topics: 8, Fitness Budget: 1590 \n"
     ]
    },
    {
     "data": {
      "application/vnd.jupyter.widget-view+json": {
       "model_id": "b7d9fb0839f14f0ea0eea8c59738b723",
       "version_major": 2,
       "version_minor": 0
      },
      "text/plain": [
       "HBox(children=(FloatProgress(value=0.0, max=30.0), HTML(value='')))"
      ]
     },
     "metadata": {},
     "output_type": "display_data"
    },
    {
     "name": "stdout",
     "output_type": "stream",
     "text": [
      "\n",
      "46: Fitness: -2.988678459097263, Best Fitness: -2.867188565007951, Num Topics: 8, Fitness Budget: 1560 \n"
     ]
    },
    {
     "data": {
      "application/vnd.jupyter.widget-view+json": {
       "model_id": "a946605a67c647a3a075af03ee8cd4ba",
       "version_major": 2,
       "version_minor": 0
      },
      "text/plain": [
       "HBox(children=(FloatProgress(value=0.0, max=30.0), HTML(value='')))"
      ]
     },
     "metadata": {},
     "output_type": "display_data"
    },
    {
     "name": "stdout",
     "output_type": "stream",
     "text": [
      "\n",
      "47: Fitness: -3.067983933970162, Best Fitness: -2.867188565007951, Num Topics: 8, Fitness Budget: 1530 \n"
     ]
    },
    {
     "data": {
      "application/vnd.jupyter.widget-view+json": {
       "model_id": "5feedc08004c4c7186ef19bc900eb544",
       "version_major": 2,
       "version_minor": 0
      },
      "text/plain": [
       "HBox(children=(FloatProgress(value=0.0, max=30.0), HTML(value='')))"
      ]
     },
     "metadata": {},
     "output_type": "display_data"
    },
    {
     "name": "stdout",
     "output_type": "stream",
     "text": [
      "\n",
      "48: Fitness: -2.924121870386291, Best Fitness: -2.867188565007951, Num Topics: 8, Fitness Budget: 1500 \n"
     ]
    },
    {
     "data": {
      "application/vnd.jupyter.widget-view+json": {
       "model_id": "2925a551c0dd44bdbb486f9e4a415706",
       "version_major": 2,
       "version_minor": 0
      },
      "text/plain": [
       "HBox(children=(FloatProgress(value=0.0, max=30.0), HTML(value='')))"
      ]
     },
     "metadata": {},
     "output_type": "display_data"
    },
    {
     "name": "stdout",
     "output_type": "stream",
     "text": [
      "\n",
      "49: Fitness: -2.944456100577496, Best Fitness: -2.867188565007951, Num Topics: 8, Fitness Budget: 1470 \n"
     ]
    },
    {
     "data": {
      "application/vnd.jupyter.widget-view+json": {
       "model_id": "3888dfbce0964a89b18806844179bfc4",
       "version_major": 2,
       "version_minor": 0
      },
      "text/plain": [
       "HBox(children=(FloatProgress(value=0.0, max=30.0), HTML(value='')))"
      ]
     },
     "metadata": {},
     "output_type": "display_data"
    },
    {
     "name": "stdout",
     "output_type": "stream",
     "text": [
      "\n",
      "50: Fitness: -3.024364115679687, Best Fitness: -2.867188565007951, Num Topics: 8, Fitness Budget: 1440 \n"
     ]
    },
    {
     "data": {
      "application/vnd.jupyter.widget-view+json": {
       "model_id": "c8a0b1a2011444ab9f4160aba803e02c",
       "version_major": 2,
       "version_minor": 0
      },
      "text/plain": [
       "HBox(children=(FloatProgress(value=0.0, max=30.0), HTML(value='')))"
      ]
     },
     "metadata": {},
     "output_type": "display_data"
    },
    {
     "name": "stdout",
     "output_type": "stream",
     "text": [
      "\n",
      "51: Fitness: -2.992978160526714, Best Fitness: -2.867188565007951, Num Topics: 8, Fitness Budget: 1410 \n"
     ]
    },
    {
     "data": {
      "application/vnd.jupyter.widget-view+json": {
       "model_id": "ba3cf19b13894739be08dfdb55673e32",
       "version_major": 2,
       "version_minor": 0
      },
      "text/plain": [
       "HBox(children=(FloatProgress(value=0.0, max=30.0), HTML(value='')))"
      ]
     },
     "metadata": {},
     "output_type": "display_data"
    },
    {
     "name": "stdout",
     "output_type": "stream",
     "text": [
      "\n",
      "52: Fitness: -3.116808975290973, Best Fitness: -2.867188565007951, Num Topics: 8, Fitness Budget: 1380 \n"
     ]
    },
    {
     "data": {
      "application/vnd.jupyter.widget-view+json": {
       "model_id": "1b6c2f4cbdec44f0a3a31aebca121b6c",
       "version_major": 2,
       "version_minor": 0
      },
      "text/plain": [
       "HBox(children=(FloatProgress(value=0.0, max=30.0), HTML(value='')))"
      ]
     },
     "metadata": {},
     "output_type": "display_data"
    },
    {
     "name": "stdout",
     "output_type": "stream",
     "text": [
      "\n",
      "53: Fitness: -3.005316780630205, Best Fitness: -2.867188565007951, Num Topics: 8, Fitness Budget: 1350 \n"
     ]
    },
    {
     "data": {
      "application/vnd.jupyter.widget-view+json": {
       "model_id": "34fda72f5a5944a9ad5dd0346ad71bb0",
       "version_major": 2,
       "version_minor": 0
      },
      "text/plain": [
       "HBox(children=(FloatProgress(value=0.0, max=30.0), HTML(value='')))"
      ]
     },
     "metadata": {},
     "output_type": "display_data"
    },
    {
     "name": "stdout",
     "output_type": "stream",
     "text": [
      "\n",
      "54: Fitness: -2.947491909151251, Best Fitness: -2.867188565007951, Num Topics: 8, Fitness Budget: 1320 \n"
     ]
    },
    {
     "data": {
      "application/vnd.jupyter.widget-view+json": {
       "model_id": "c517b077f38a4f22b3c52a1c88fd1a4c",
       "version_major": 2,
       "version_minor": 0
      },
      "text/plain": [
       "HBox(children=(FloatProgress(value=0.0, max=30.0), HTML(value='')))"
      ]
     },
     "metadata": {},
     "output_type": "display_data"
    },
    {
     "name": "stdout",
     "output_type": "stream",
     "text": [
      "\n",
      "55: Fitness: -3.028369809883596, Best Fitness: -2.867188565007951, Num Topics: 8, Fitness Budget: 1290 \n"
     ]
    },
    {
     "data": {
      "application/vnd.jupyter.widget-view+json": {
       "model_id": "4e80bd1752014f6eb952e66e0861072c",
       "version_major": 2,
       "version_minor": 0
      },
      "text/plain": [
       "HBox(children=(FloatProgress(value=0.0, max=30.0), HTML(value='')))"
      ]
     },
     "metadata": {},
     "output_type": "display_data"
    },
    {
     "name": "stdout",
     "output_type": "stream",
     "text": [
      "\n",
      "56: Fitness: -2.869786523153017, Best Fitness: -2.867188565007951, Num Topics: 8, Fitness Budget: 1260 \n"
     ]
    },
    {
     "data": {
      "application/vnd.jupyter.widget-view+json": {
       "model_id": "2a601306c47447f08110e5573d0f0f67",
       "version_major": 2,
       "version_minor": 0
      },
      "text/plain": [
       "HBox(children=(FloatProgress(value=0.0, max=30.0), HTML(value='')))"
      ]
     },
     "metadata": {},
     "output_type": "display_data"
    },
    {
     "name": "stdout",
     "output_type": "stream",
     "text": [
      "\n",
      "57: Fitness: -3.025555531052211, Best Fitness: -2.867188565007951, Num Topics: 8, Fitness Budget: 1230 \n"
     ]
    },
    {
     "data": {
      "application/vnd.jupyter.widget-view+json": {
       "model_id": "73e17de92e9b4ca481becd650cc310e3",
       "version_major": 2,
       "version_minor": 0
      },
      "text/plain": [
       "HBox(children=(FloatProgress(value=0.0, max=30.0), HTML(value='')))"
      ]
     },
     "metadata": {},
     "output_type": "display_data"
    },
    {
     "name": "stdout",
     "output_type": "stream",
     "text": [
      "\n",
      "58: Fitness: -2.983307143421651, Best Fitness: -2.867188565007951, Num Topics: 8, Fitness Budget: 1200 \n"
     ]
    },
    {
     "data": {
      "application/vnd.jupyter.widget-view+json": {
       "model_id": "236fd621300e4bd397234324404f07d0",
       "version_major": 2,
       "version_minor": 0
      },
      "text/plain": [
       "HBox(children=(FloatProgress(value=0.0, max=30.0), HTML(value='')))"
      ]
     },
     "metadata": {},
     "output_type": "display_data"
    },
    {
     "name": "stdout",
     "output_type": "stream",
     "text": [
      "\n",
      "59: Fitness: -3.059609766548031, Best Fitness: -2.867188565007951, Num Topics: 8, Fitness Budget: 1170 \n"
     ]
    },
    {
     "data": {
      "application/vnd.jupyter.widget-view+json": {
       "model_id": "70f8a1342a8e48fc964f0817652418b1",
       "version_major": 2,
       "version_minor": 0
      },
      "text/plain": [
       "HBox(children=(FloatProgress(value=0.0, max=30.0), HTML(value='')))"
      ]
     },
     "metadata": {},
     "output_type": "display_data"
    },
    {
     "name": "stdout",
     "output_type": "stream",
     "text": [
      "\n",
      "60: Fitness: -2.958505258218654, Best Fitness: -2.867188565007951, Num Topics: 8, Fitness Budget: 1140 \n"
     ]
    },
    {
     "data": {
      "application/vnd.jupyter.widget-view+json": {
       "model_id": "c077f6befcac45e983b7bdbc593eb860",
       "version_major": 2,
       "version_minor": 0
      },
      "text/plain": [
       "HBox(children=(FloatProgress(value=0.0, max=30.0), HTML(value='')))"
      ]
     },
     "metadata": {},
     "output_type": "display_data"
    },
    {
     "name": "stdout",
     "output_type": "stream",
     "text": [
      "\n",
      "61: Fitness: -2.991201027120985, Best Fitness: -2.867188565007951, Num Topics: 8, Fitness Budget: 1110 \n"
     ]
    },
    {
     "data": {
      "application/vnd.jupyter.widget-view+json": {
       "model_id": "6a98f08b361a4ba6af1ad9f81865c46e",
       "version_major": 2,
       "version_minor": 0
      },
      "text/plain": [
       "HBox(children=(FloatProgress(value=0.0, max=30.0), HTML(value='')))"
      ]
     },
     "metadata": {},
     "output_type": "display_data"
    },
    {
     "name": "stdout",
     "output_type": "stream",
     "text": [
      "\n",
      "62: Fitness: -2.925968550725398, Best Fitness: -2.867188565007951, Num Topics: 8, Fitness Budget: 1080 \n"
     ]
    },
    {
     "data": {
      "application/vnd.jupyter.widget-view+json": {
       "model_id": "1d497e4f327b414c9501895a3db30f4e",
       "version_major": 2,
       "version_minor": 0
      },
      "text/plain": [
       "HBox(children=(FloatProgress(value=0.0, max=30.0), HTML(value='')))"
      ]
     },
     "metadata": {},
     "output_type": "display_data"
    },
    {
     "name": "stdout",
     "output_type": "stream",
     "text": [
      "\n",
      "63: Fitness: -2.991617588667737, Best Fitness: -2.867188565007951, Num Topics: 8, Fitness Budget: 1050 \n"
     ]
    },
    {
     "data": {
      "application/vnd.jupyter.widget-view+json": {
       "model_id": "927f72d0d14e422fa4379de173b6a939",
       "version_major": 2,
       "version_minor": 0
      },
      "text/plain": [
       "HBox(children=(FloatProgress(value=0.0, max=30.0), HTML(value='')))"
      ]
     },
     "metadata": {},
     "output_type": "display_data"
    },
    {
     "name": "stdout",
     "output_type": "stream",
     "text": [
      "\n",
      "64: Fitness: -2.972236943944248, Best Fitness: -2.867188565007951, Num Topics: 8, Fitness Budget: 1020 \n"
     ]
    },
    {
     "data": {
      "application/vnd.jupyter.widget-view+json": {
       "model_id": "3210962cbb124471bfb3bae4996ab37d",
       "version_major": 2,
       "version_minor": 0
      },
      "text/plain": [
       "HBox(children=(FloatProgress(value=0.0, max=30.0), HTML(value='')))"
      ]
     },
     "metadata": {},
     "output_type": "display_data"
    },
    {
     "name": "stdout",
     "output_type": "stream",
     "text": [
      "\n",
      "65: Fitness: -2.962865107635781, Best Fitness: -2.867188565007951, Num Topics: 8, Fitness Budget: 990 \n"
     ]
    },
    {
     "data": {
      "application/vnd.jupyter.widget-view+json": {
       "model_id": "ae227b0a0fe7413e923038ce837670ed",
       "version_major": 2,
       "version_minor": 0
      },
      "text/plain": [
       "HBox(children=(FloatProgress(value=0.0, max=30.0), HTML(value='')))"
      ]
     },
     "metadata": {},
     "output_type": "display_data"
    },
    {
     "name": "stdout",
     "output_type": "stream",
     "text": [
      "\n",
      "66: Fitness: -2.961875865297677, Best Fitness: -2.867188565007951, Num Topics: 8, Fitness Budget: 960 \n"
     ]
    },
    {
     "data": {
      "application/vnd.jupyter.widget-view+json": {
       "model_id": "08cda4aeb4fd4f7fb4b275a43bf6ce4c",
       "version_major": 2,
       "version_minor": 0
      },
      "text/plain": [
       "HBox(children=(FloatProgress(value=0.0, max=30.0), HTML(value='')))"
      ]
     },
     "metadata": {},
     "output_type": "display_data"
    },
    {
     "name": "stdout",
     "output_type": "stream",
     "text": [
      "\n",
      "67: Fitness: -3.032505746134536, Best Fitness: -2.867188565007951, Num Topics: 8, Fitness Budget: 930 \n"
     ]
    },
    {
     "data": {
      "application/vnd.jupyter.widget-view+json": {
       "model_id": "3c61ef99210a460d928b198ea4f020ee",
       "version_major": 2,
       "version_minor": 0
      },
      "text/plain": [
       "HBox(children=(FloatProgress(value=0.0, max=30.0), HTML(value='')))"
      ]
     },
     "metadata": {},
     "output_type": "display_data"
    },
    {
     "name": "stdout",
     "output_type": "stream",
     "text": [
      "\n",
      "68: Fitness: -3.025817826507114, Best Fitness: -2.867188565007951, Num Topics: 8, Fitness Budget: 900 \n"
     ]
    },
    {
     "data": {
      "application/vnd.jupyter.widget-view+json": {
       "model_id": "11bfe913e1074f21bb6d7fdcfd6535c5",
       "version_major": 2,
       "version_minor": 0
      },
      "text/plain": [
       "HBox(children=(FloatProgress(value=0.0, max=30.0), HTML(value='')))"
      ]
     },
     "metadata": {},
     "output_type": "display_data"
    },
    {
     "name": "stdout",
     "output_type": "stream",
     "text": [
      "\n",
      "69: Fitness: -2.996706078515488, Best Fitness: -2.867188565007951, Num Topics: 8, Fitness Budget: 870 \n"
     ]
    },
    {
     "data": {
      "application/vnd.jupyter.widget-view+json": {
       "model_id": "860cc8f49eb248c7962b03eb3da9e644",
       "version_major": 2,
       "version_minor": 0
      },
      "text/plain": [
       "HBox(children=(FloatProgress(value=0.0, max=30.0), HTML(value='')))"
      ]
     },
     "metadata": {},
     "output_type": "display_data"
    },
    {
     "name": "stdout",
     "output_type": "stream",
     "text": [
      "\n",
      "70: Fitness: -2.955002880108319, Best Fitness: -2.867188565007951, Num Topics: 8, Fitness Budget: 840 \n"
     ]
    },
    {
     "data": {
      "application/vnd.jupyter.widget-view+json": {
       "model_id": "9c6aa85df11244b884573021efb5b756",
       "version_major": 2,
       "version_minor": 0
      },
      "text/plain": [
       "HBox(children=(FloatProgress(value=0.0, max=30.0), HTML(value='')))"
      ]
     },
     "metadata": {},
     "output_type": "display_data"
    },
    {
     "name": "stdout",
     "output_type": "stream",
     "text": [
      "\n",
      "71: Fitness: -2.990620222761225, Best Fitness: -2.867188565007951, Num Topics: 8, Fitness Budget: 810 \n"
     ]
    },
    {
     "data": {
      "application/vnd.jupyter.widget-view+json": {
       "model_id": "39e6185f072d4931a52a6087f89f61e1",
       "version_major": 2,
       "version_minor": 0
      },
      "text/plain": [
       "HBox(children=(FloatProgress(value=0.0, max=30.0), HTML(value='')))"
      ]
     },
     "metadata": {},
     "output_type": "display_data"
    },
    {
     "name": "stdout",
     "output_type": "stream",
     "text": [
      "\n",
      "72: Fitness: -3.044223975567306, Best Fitness: -2.867188565007951, Num Topics: 8, Fitness Budget: 780 \n"
     ]
    },
    {
     "data": {
      "application/vnd.jupyter.widget-view+json": {
       "model_id": "a7e1b8d0c81b46e8a5ef7fee3e8538f0",
       "version_major": 2,
       "version_minor": 0
      },
      "text/plain": [
       "HBox(children=(FloatProgress(value=0.0, max=30.0), HTML(value='')))"
      ]
     },
     "metadata": {},
     "output_type": "display_data"
    },
    {
     "name": "stdout",
     "output_type": "stream",
     "text": [
      "\n",
      "73: Fitness: -2.986414426926556, Best Fitness: -2.867188565007951, Num Topics: 8, Fitness Budget: 750 \n"
     ]
    },
    {
     "data": {
      "application/vnd.jupyter.widget-view+json": {
       "model_id": "07984f4698e74dee9758331a5cb7f2a4",
       "version_major": 2,
       "version_minor": 0
      },
      "text/plain": [
       "HBox(children=(FloatProgress(value=0.0, max=30.0), HTML(value='')))"
      ]
     },
     "metadata": {},
     "output_type": "display_data"
    },
    {
     "name": "stdout",
     "output_type": "stream",
     "text": [
      "\n",
      "74: Fitness: -3.081425084907772, Best Fitness: -2.867188565007951, Num Topics: 8, Fitness Budget: 720 \n"
     ]
    },
    {
     "data": {
      "application/vnd.jupyter.widget-view+json": {
       "model_id": "dc0dc58f1e314397bba2db06ad95b34c",
       "version_major": 2,
       "version_minor": 0
      },
      "text/plain": [
       "HBox(children=(FloatProgress(value=0.0, max=30.0), HTML(value='')))"
      ]
     },
     "metadata": {},
     "output_type": "display_data"
    },
    {
     "name": "stdout",
     "output_type": "stream",
     "text": [
      "\n",
      "75: Fitness: -3.060404708544856, Best Fitness: -2.867188565007951, Num Topics: 8, Fitness Budget: 690 \n"
     ]
    },
    {
     "data": {
      "application/vnd.jupyter.widget-view+json": {
       "model_id": "7e099e6f852b40c889baec6b4f07e505",
       "version_major": 2,
       "version_minor": 0
      },
      "text/plain": [
       "HBox(children=(FloatProgress(value=0.0, max=30.0), HTML(value='')))"
      ]
     },
     "metadata": {},
     "output_type": "display_data"
    },
    {
     "name": "stdout",
     "output_type": "stream",
     "text": [
      "\n",
      "76: Fitness: -3.066206841807952, Best Fitness: -2.867188565007951, Num Topics: 8, Fitness Budget: 660 \n"
     ]
    },
    {
     "data": {
      "application/vnd.jupyter.widget-view+json": {
       "model_id": "73c41fc2691c47a8a72594e014897bcc",
       "version_major": 2,
       "version_minor": 0
      },
      "text/plain": [
       "HBox(children=(FloatProgress(value=0.0, max=30.0), HTML(value='')))"
      ]
     },
     "metadata": {},
     "output_type": "display_data"
    },
    {
     "name": "stdout",
     "output_type": "stream",
     "text": [
      "\n",
      "77: Fitness: -2.949618037840165, Best Fitness: -2.867188565007951, Num Topics: 8, Fitness Budget: 630 \n"
     ]
    },
    {
     "data": {
      "application/vnd.jupyter.widget-view+json": {
       "model_id": "0eef5202417549b9bdb040c105ed7f62",
       "version_major": 2,
       "version_minor": 0
      },
      "text/plain": [
       "HBox(children=(FloatProgress(value=0.0, max=30.0), HTML(value='')))"
      ]
     },
     "metadata": {},
     "output_type": "display_data"
    },
    {
     "name": "stdout",
     "output_type": "stream",
     "text": [
      "\n",
      "78: Fitness: -2.969174815174985, Best Fitness: -2.867188565007951, Num Topics: 8, Fitness Budget: 600 \n"
     ]
    },
    {
     "data": {
      "application/vnd.jupyter.widget-view+json": {
       "model_id": "689d735b937a49a4bbb3262c21da79c2",
       "version_major": 2,
       "version_minor": 0
      },
      "text/plain": [
       "HBox(children=(FloatProgress(value=0.0, max=30.0), HTML(value='')))"
      ]
     },
     "metadata": {},
     "output_type": "display_data"
    },
    {
     "name": "stdout",
     "output_type": "stream",
     "text": [
      "\n",
      "79: Fitness: -2.985607635511249, Best Fitness: -2.867188565007951, Num Topics: 8, Fitness Budget: 570 \n"
     ]
    },
    {
     "data": {
      "application/vnd.jupyter.widget-view+json": {
       "model_id": "606b5a30730c4a1a8fd2a804974a6ae6",
       "version_major": 2,
       "version_minor": 0
      },
      "text/plain": [
       "HBox(children=(FloatProgress(value=0.0, max=30.0), HTML(value='')))"
      ]
     },
     "metadata": {},
     "output_type": "display_data"
    },
    {
     "name": "stdout",
     "output_type": "stream",
     "text": [
      "\n",
      "80: Fitness: -3.054992724559451, Best Fitness: -2.867188565007951, Num Topics: 8, Fitness Budget: 540 \n"
     ]
    },
    {
     "data": {
      "application/vnd.jupyter.widget-view+json": {
       "model_id": "46e608c280ff42f693c20d225c0be08d",
       "version_major": 2,
       "version_minor": 0
      },
      "text/plain": [
       "HBox(children=(FloatProgress(value=0.0, max=30.0), HTML(value='')))"
      ]
     },
     "metadata": {},
     "output_type": "display_data"
    },
    {
     "name": "stdout",
     "output_type": "stream",
     "text": [
      "\n",
      "81: Fitness: -3.038512508043650, Best Fitness: -2.867188565007951, Num Topics: 8, Fitness Budget: 510 \n"
     ]
    },
    {
     "data": {
      "application/vnd.jupyter.widget-view+json": {
       "model_id": "c82dd33f2c0f4a1b86e750d4f2147505",
       "version_major": 2,
       "version_minor": 0
      },
      "text/plain": [
       "HBox(children=(FloatProgress(value=0.0, max=30.0), HTML(value='')))"
      ]
     },
     "metadata": {},
     "output_type": "display_data"
    },
    {
     "name": "stdout",
     "output_type": "stream",
     "text": [
      "\n",
      "82: Fitness: -2.978179653662485, Best Fitness: -2.867188565007951, Num Topics: 8, Fitness Budget: 480 \n"
     ]
    },
    {
     "data": {
      "application/vnd.jupyter.widget-view+json": {
       "model_id": "91cd52fe561448c397978bf7d93e6a95",
       "version_major": 2,
       "version_minor": 0
      },
      "text/plain": [
       "HBox(children=(FloatProgress(value=0.0, max=30.0), HTML(value='')))"
      ]
     },
     "metadata": {},
     "output_type": "display_data"
    },
    {
     "name": "stdout",
     "output_type": "stream",
     "text": [
      "\n",
      "83: Fitness: -3.035728971112082, Best Fitness: -2.867188565007951, Num Topics: 8, Fitness Budget: 450 \n"
     ]
    },
    {
     "data": {
      "application/vnd.jupyter.widget-view+json": {
       "model_id": "94e2f16dcbbc4e99851381da1dabc5c1",
       "version_major": 2,
       "version_minor": 0
      },
      "text/plain": [
       "HBox(children=(FloatProgress(value=0.0, max=30.0), HTML(value='')))"
      ]
     },
     "metadata": {},
     "output_type": "display_data"
    },
    {
     "name": "stdout",
     "output_type": "stream",
     "text": [
      "\n",
      "84: Fitness: -2.990098710856058, Best Fitness: -2.867188565007951, Num Topics: 8, Fitness Budget: 420 \n"
     ]
    },
    {
     "data": {
      "application/vnd.jupyter.widget-view+json": {
       "model_id": "730a0c86a31c47d4bca14255d4c2d098",
       "version_major": 2,
       "version_minor": 0
      },
      "text/plain": [
       "HBox(children=(FloatProgress(value=0.0, max=30.0), HTML(value='')))"
      ]
     },
     "metadata": {},
     "output_type": "display_data"
    },
    {
     "name": "stdout",
     "output_type": "stream",
     "text": [
      "\n",
      "85: Fitness: -3.060940087409765, Best Fitness: -2.867188565007951, Num Topics: 8, Fitness Budget: 390 \n"
     ]
    },
    {
     "data": {
      "application/vnd.jupyter.widget-view+json": {
       "model_id": "1472a8c45ff44e08a8553b5a3fbeab35",
       "version_major": 2,
       "version_minor": 0
      },
      "text/plain": [
       "HBox(children=(FloatProgress(value=0.0, max=30.0), HTML(value='')))"
      ]
     },
     "metadata": {},
     "output_type": "display_data"
    },
    {
     "name": "stdout",
     "output_type": "stream",
     "text": [
      "\n",
      "86: Fitness: -2.970350351793193, Best Fitness: -2.867188565007951, Num Topics: 8, Fitness Budget: 360 \n"
     ]
    },
    {
     "data": {
      "application/vnd.jupyter.widget-view+json": {
       "model_id": "218730065e3c4901b7f5b0900b002d78",
       "version_major": 2,
       "version_minor": 0
      },
      "text/plain": [
       "HBox(children=(FloatProgress(value=0.0, max=30.0), HTML(value='')))"
      ]
     },
     "metadata": {},
     "output_type": "display_data"
    },
    {
     "name": "stdout",
     "output_type": "stream",
     "text": [
      "\n",
      "87: Fitness: -2.992705860661554, Best Fitness: -2.867188565007951, Num Topics: 8, Fitness Budget: 330 \n"
     ]
    },
    {
     "data": {
      "application/vnd.jupyter.widget-view+json": {
       "model_id": "d32c8291f6194fb490721bcac484d89a",
       "version_major": 2,
       "version_minor": 0
      },
      "text/plain": [
       "HBox(children=(FloatProgress(value=0.0, max=30.0), HTML(value='')))"
      ]
     },
     "metadata": {},
     "output_type": "display_data"
    },
    {
     "name": "stdout",
     "output_type": "stream",
     "text": [
      "\n",
      "88: Fitness: -3.012026768489366, Best Fitness: -2.867188565007951, Num Topics: 8, Fitness Budget: 300 \n"
     ]
    },
    {
     "data": {
      "application/vnd.jupyter.widget-view+json": {
       "model_id": "b1dabc70e15a42cf8ad76761c0d39e85",
       "version_major": 2,
       "version_minor": 0
      },
      "text/plain": [
       "HBox(children=(FloatProgress(value=0.0, max=30.0), HTML(value='')))"
      ]
     },
     "metadata": {},
     "output_type": "display_data"
    },
    {
     "name": "stdout",
     "output_type": "stream",
     "text": [
      "\n",
      "89: Fitness: -3.029371953329515, Best Fitness: -2.867188565007951, Num Topics: 8, Fitness Budget: 270 \n"
     ]
    },
    {
     "data": {
      "application/vnd.jupyter.widget-view+json": {
       "model_id": "20063d26df874daa878cf7457f23fe3f",
       "version_major": 2,
       "version_minor": 0
      },
      "text/plain": [
       "HBox(children=(FloatProgress(value=0.0, max=30.0), HTML(value='')))"
      ]
     },
     "metadata": {},
     "output_type": "display_data"
    },
    {
     "name": "stdout",
     "output_type": "stream",
     "text": [
      "\n",
      "90: Fitness: -2.984914649481182, Best Fitness: -2.867188565007951, Num Topics: 8, Fitness Budget: 240 \n"
     ]
    },
    {
     "data": {
      "application/vnd.jupyter.widget-view+json": {
       "model_id": "91d5eb6808f146879ae376a4a288e7cd",
       "version_major": 2,
       "version_minor": 0
      },
      "text/plain": [
       "HBox(children=(FloatProgress(value=0.0, max=30.0), HTML(value='')))"
      ]
     },
     "metadata": {},
     "output_type": "display_data"
    },
    {
     "name": "stdout",
     "output_type": "stream",
     "text": [
      "\n",
      "91: Fitness: -3.045613378885172, Best Fitness: -2.867188565007951, Num Topics: 8, Fitness Budget: 210 \n"
     ]
    },
    {
     "data": {
      "application/vnd.jupyter.widget-view+json": {
       "model_id": "b2c4637365824774a321fd9d1e1b957c",
       "version_major": 2,
       "version_minor": 0
      },
      "text/plain": [
       "HBox(children=(FloatProgress(value=0.0, max=30.0), HTML(value='')))"
      ]
     },
     "metadata": {},
     "output_type": "display_data"
    },
    {
     "name": "stdout",
     "output_type": "stream",
     "text": [
      "\n",
      "92: Fitness: -3.002713866608334, Best Fitness: -2.867188565007951, Num Topics: 8, Fitness Budget: 180 \n"
     ]
    },
    {
     "data": {
      "application/vnd.jupyter.widget-view+json": {
       "model_id": "8f634af59bf240958321f8050f963bdd",
       "version_major": 2,
       "version_minor": 0
      },
      "text/plain": [
       "HBox(children=(FloatProgress(value=0.0, max=30.0), HTML(value='')))"
      ]
     },
     "metadata": {},
     "output_type": "display_data"
    },
    {
     "name": "stdout",
     "output_type": "stream",
     "text": [
      "\n",
      "93: Fitness: -3.013918855524072, Best Fitness: -2.867188565007951, Num Topics: 8, Fitness Budget: 150 \n"
     ]
    },
    {
     "data": {
      "application/vnd.jupyter.widget-view+json": {
       "model_id": "a45528dc45a947318911954be13b836a",
       "version_major": 2,
       "version_minor": 0
      },
      "text/plain": [
       "HBox(children=(FloatProgress(value=0.0, max=30.0), HTML(value='')))"
      ]
     },
     "metadata": {},
     "output_type": "display_data"
    },
    {
     "name": "stdout",
     "output_type": "stream",
     "text": [
      "\n",
      "94: Fitness: -3.068623586394892, Best Fitness: -2.867188565007951, Num Topics: 8, Fitness Budget: 120 \n"
     ]
    },
    {
     "data": {
      "application/vnd.jupyter.widget-view+json": {
       "model_id": "07bc9f5a15ad4e20b8fac39f73341983",
       "version_major": 2,
       "version_minor": 0
      },
      "text/plain": [
       "HBox(children=(FloatProgress(value=0.0, max=30.0), HTML(value='')))"
      ]
     },
     "metadata": {},
     "output_type": "display_data"
    },
    {
     "name": "stdout",
     "output_type": "stream",
     "text": [
      "\n",
      "95: Fitness: -2.990123513094063, Best Fitness: -2.867188565007951, Num Topics: 8, Fitness Budget: 90 \n"
     ]
    },
    {
     "data": {
      "application/vnd.jupyter.widget-view+json": {
       "model_id": "1eab253bde564c23a8812825b8f55e22",
       "version_major": 2,
       "version_minor": 0
      },
      "text/plain": [
       "HBox(children=(FloatProgress(value=0.0, max=30.0), HTML(value='')))"
      ]
     },
     "metadata": {},
     "output_type": "display_data"
    },
    {
     "name": "stdout",
     "output_type": "stream",
     "text": [
      "\n",
      "96: Fitness: -2.918737210179620, Best Fitness: -2.867188565007951, Num Topics: 8, Fitness Budget: 60 \n"
     ]
    },
    {
     "data": {
      "application/vnd.jupyter.widget-view+json": {
       "model_id": "cd8682d73dea4d8b829649cbb993bb4a",
       "version_major": 2,
       "version_minor": 0
      },
      "text/plain": [
       "HBox(children=(FloatProgress(value=0.0, max=30.0), HTML(value='')))"
      ]
     },
     "metadata": {},
     "output_type": "display_data"
    },
    {
     "name": "stdout",
     "output_type": "stream",
     "text": [
      "\n",
      "97: Fitness: -3.019581457607766, Best Fitness: -2.867188565007951, Num Topics: 8, Fitness Budget: 30 \n"
     ]
    },
    {
     "data": {
      "application/vnd.jupyter.widget-view+json": {
       "model_id": "15b8b3bb4f0a4f51bc0ae59543166e9e",
       "version_major": 2,
       "version_minor": 0
      },
      "text/plain": [
       "HBox(children=(FloatProgress(value=0.0, max=30.0), HTML(value='')))"
      ]
     },
     "metadata": {},
     "output_type": "display_data"
    },
    {
     "name": "stdout",
     "output_type": "stream",
     "text": [
      "\n",
      "98: Fitness: -3.080717985377659, Best Fitness: -2.867188565007951, Num Topics: 8, Fitness Budget: 0 \n",
      "Fittest Gene discovered 8 topics with score of -2.86718857\n"
     ]
    }
   ],
   "source": [
    "# GA = GA(corpus,dictionary,pop_size=20,fitness_budget=10000,objective='silhouette')\n",
    "ga = GA(corpus,dictionary,pop_size=30,fitness_budget=3000,objective='coherence')\n",
    "ga.initialise_population()\n",
    "ga.evolve()\n",
    "\n",
    "fittest_gene = ga.get_fittest()\n",
    "model = ga.get_model()\n",
    "docs.assign_labels(model)\n",
    "\n",
    "print('Fittest Gene discovered {} topics with score of {:.8f}'.format(fittest_gene.n,ga.fitness))"
   ]
  },
  {
   "cell_type": "code",
   "execution_count": 4,
   "metadata": {},
   "outputs": [],
   "source": [
    "fittest_gene = ga.get_fittest()\n",
    "model = ga.get_model()\n",
    "docs.assign_labels(model)"
   ]
  },
  {
   "cell_type": "code",
   "execution_count": 5,
   "metadata": {},
   "outputs": [],
   "source": [
    "# dump model\n",
    "with open('android_lda_model_1.pkl', 'wb+') as f:\n",
    "    pickle.dump(model, f)"
   ]
  },
  {
   "cell_type": "code",
   "execution_count": 6,
   "metadata": {
    "scrolled": false
   },
   "outputs": [
    {
     "data": {
      "text/html": [
       "\n",
       "<link rel=\"stylesheet\" type=\"text/css\" href=\"https://cdn.rawgit.com/bmabey/pyLDAvis/files/ldavis.v1.0.0.css\">\n",
       "\n",
       "\n",
       "<div id=\"ldavis_el6064747738737289569437927\"></div>\n",
       "<script type=\"text/javascript\">\n",
       "\n",
       "var ldavis_el6064747738737289569437927_data = {\"mdsDat\": {\"x\": [0.03735519810857558, 0.017816804877253192, 0.022330321438910408, 0.035854824498887335, 0.030675782516163208, 0.036398469314004894, 0.05626009848927336, -0.23669149924306773], \"y\": [0.05959991485609542, 0.02696887867836683, 0.03814152396305495, 0.0024004229697799457, 0.07677891254617847, -0.06636560452326576, -0.1233482439168398, -0.014175804573370343], \"topics\": [1, 2, 3, 4, 5, 6, 7, 8], \"cluster\": [1, 1, 1, 1, 1, 1, 1, 1], \"Freq\": [19.472827911376953, 14.978384971618652, 14.089666366577148, 13.198235511779785, 11.859048843383789, 10.691213607788086, 9.668875694274902, 6.041747093200684]}, \"tinfo\": {\"Category\": [\"Default\", \"Default\", \"Default\", \"Default\", \"Default\", \"Default\", \"Default\", \"Default\", \"Default\", \"Default\", \"Default\", \"Default\", \"Default\", \"Default\", \"Default\", \"Default\", \"Default\", \"Default\", \"Default\", \"Default\", \"Default\", \"Default\", \"Default\", \"Default\", \"Default\", \"Default\", \"Default\", \"Default\", \"Default\", \"Default\", \"Topic1\", \"Topic1\", \"Topic1\", \"Topic1\", \"Topic1\", \"Topic1\", \"Topic1\", \"Topic1\", \"Topic1\", \"Topic1\", \"Topic1\", \"Topic1\", \"Topic1\", \"Topic1\", \"Topic1\", \"Topic1\", \"Topic1\", \"Topic1\", \"Topic1\", \"Topic1\", \"Topic1\", \"Topic1\", \"Topic1\", \"Topic1\", \"Topic1\", \"Topic1\", \"Topic1\", \"Topic1\", \"Topic1\", \"Topic1\", \"Topic1\", \"Topic1\", \"Topic1\", \"Topic1\", \"Topic1\", \"Topic1\", \"Topic1\", \"Topic1\", \"Topic1\", \"Topic1\", \"Topic1\", \"Topic1\", \"Topic1\", \"Topic1\", \"Topic1\", \"Topic1\", \"Topic1\", \"Topic1\", \"Topic1\", \"Topic1\", \"Topic1\", \"Topic1\", \"Topic1\", \"Topic1\", \"Topic1\", \"Topic1\", \"Topic1\", \"Topic1\", \"Topic1\", \"Topic2\", \"Topic2\", \"Topic2\", \"Topic2\", \"Topic2\", \"Topic2\", \"Topic2\", \"Topic2\", \"Topic2\", \"Topic2\", \"Topic2\", \"Topic2\", \"Topic2\", \"Topic2\", \"Topic2\", \"Topic2\", \"Topic2\", \"Topic2\", \"Topic2\", \"Topic2\", \"Topic2\", \"Topic2\", \"Topic2\", \"Topic2\", \"Topic2\", \"Topic2\", \"Topic2\", \"Topic2\", \"Topic2\", \"Topic2\", \"Topic2\", \"Topic2\", \"Topic2\", \"Topic2\", \"Topic2\", \"Topic2\", \"Topic2\", \"Topic2\", \"Topic2\", \"Topic2\", \"Topic2\", \"Topic2\", \"Topic2\", \"Topic2\", \"Topic2\", \"Topic2\", \"Topic2\", \"Topic2\", \"Topic2\", \"Topic2\", \"Topic2\", \"Topic2\", \"Topic2\", \"Topic2\", \"Topic2\", \"Topic2\", \"Topic2\", \"Topic3\", \"Topic3\", \"Topic3\", \"Topic3\", \"Topic3\", \"Topic3\", \"Topic3\", \"Topic3\", \"Topic3\", \"Topic3\", \"Topic3\", \"Topic3\", \"Topic3\", \"Topic3\", \"Topic3\", \"Topic3\", \"Topic3\", \"Topic3\", \"Topic3\", \"Topic3\", \"Topic3\", \"Topic3\", \"Topic3\", \"Topic3\", \"Topic3\", \"Topic3\", \"Topic3\", \"Topic3\", \"Topic3\", \"Topic3\", \"Topic3\", \"Topic3\", \"Topic3\", \"Topic3\", \"Topic3\", \"Topic3\", \"Topic3\", \"Topic3\", \"Topic3\", \"Topic3\", \"Topic3\", \"Topic3\", \"Topic3\", \"Topic3\", \"Topic3\", \"Topic3\", \"Topic3\", \"Topic3\", \"Topic3\", \"Topic3\", \"Topic3\", \"Topic3\", \"Topic3\", \"Topic3\", \"Topic3\", \"Topic3\", \"Topic3\", \"Topic3\", \"Topic3\", \"Topic4\", \"Topic4\", \"Topic4\", \"Topic4\", \"Topic4\", \"Topic4\", \"Topic4\", \"Topic4\", \"Topic4\", \"Topic4\", \"Topic4\", \"Topic4\", \"Topic4\", \"Topic4\", \"Topic4\", \"Topic4\", \"Topic4\", \"Topic4\", \"Topic4\", \"Topic4\", \"Topic4\", \"Topic4\", \"Topic4\", \"Topic4\", \"Topic4\", \"Topic4\", \"Topic4\", \"Topic4\", \"Topic4\", \"Topic4\", \"Topic4\", \"Topic4\", \"Topic4\", \"Topic4\", \"Topic4\", \"Topic4\", \"Topic4\", \"Topic4\", \"Topic4\", \"Topic4\", \"Topic4\", \"Topic4\", \"Topic4\", \"Topic4\", \"Topic4\", \"Topic4\", \"Topic4\", \"Topic4\", \"Topic4\", \"Topic4\", \"Topic4\", \"Topic4\", \"Topic4\", \"Topic4\", \"Topic4\", \"Topic4\", \"Topic4\", \"Topic5\", \"Topic5\", \"Topic5\", \"Topic5\", \"Topic5\", \"Topic5\", \"Topic5\", \"Topic5\", \"Topic5\", \"Topic5\", \"Topic5\", \"Topic5\", \"Topic5\", \"Topic5\", \"Topic5\", \"Topic5\", \"Topic5\", \"Topic5\", \"Topic5\", \"Topic5\", \"Topic5\", \"Topic5\", \"Topic5\", \"Topic5\", \"Topic5\", \"Topic5\", \"Topic5\", \"Topic5\", \"Topic5\", \"Topic5\", \"Topic5\", \"Topic5\", \"Topic5\", \"Topic5\", \"Topic5\", \"Topic5\", \"Topic5\", \"Topic5\", \"Topic5\", \"Topic5\", \"Topic5\", \"Topic5\", \"Topic5\", \"Topic5\", \"Topic5\", \"Topic5\", \"Topic5\", \"Topic5\", \"Topic5\", \"Topic5\", \"Topic5\", \"Topic5\", \"Topic5\", \"Topic5\", \"Topic6\", \"Topic6\", \"Topic6\", \"Topic6\", \"Topic6\", \"Topic6\", \"Topic6\", \"Topic6\", \"Topic6\", \"Topic6\", \"Topic6\", \"Topic6\", \"Topic6\", \"Topic6\", \"Topic6\", \"Topic6\", \"Topic6\", \"Topic6\", \"Topic6\", \"Topic6\", \"Topic6\", \"Topic6\", \"Topic6\", \"Topic6\", \"Topic6\", \"Topic6\", \"Topic6\", \"Topic6\", \"Topic6\", \"Topic6\", \"Topic6\", \"Topic6\", \"Topic6\", \"Topic6\", \"Topic6\", \"Topic6\", \"Topic6\", \"Topic6\", \"Topic6\", \"Topic6\", \"Topic6\", \"Topic6\", \"Topic6\", \"Topic6\", \"Topic6\", \"Topic6\", \"Topic6\", \"Topic6\", \"Topic6\", \"Topic6\", \"Topic6\", \"Topic6\", \"Topic6\", \"Topic7\", \"Topic7\", \"Topic7\", \"Topic7\", \"Topic7\", \"Topic7\", \"Topic7\", \"Topic7\", \"Topic7\", \"Topic7\", \"Topic7\", \"Topic7\", \"Topic7\", \"Topic7\", \"Topic7\", \"Topic7\", \"Topic7\", \"Topic7\", \"Topic7\", \"Topic7\", \"Topic7\", \"Topic7\", \"Topic7\", \"Topic7\", \"Topic7\", \"Topic7\", \"Topic7\", \"Topic7\", \"Topic7\", \"Topic7\", \"Topic7\", \"Topic7\", \"Topic7\", \"Topic7\", \"Topic7\", \"Topic7\", \"Topic7\", \"Topic7\", \"Topic7\", \"Topic7\", \"Topic7\", \"Topic7\", \"Topic7\", \"Topic7\", \"Topic7\", \"Topic7\", \"Topic7\", \"Topic7\", \"Topic7\", \"Topic7\", \"Topic7\", \"Topic8\", \"Topic8\", \"Topic8\", \"Topic8\", \"Topic8\", \"Topic8\", \"Topic8\", \"Topic8\", \"Topic8\", \"Topic8\", \"Topic8\", \"Topic8\", \"Topic8\", \"Topic8\", \"Topic8\", \"Topic8\", \"Topic8\", \"Topic8\", \"Topic8\", \"Topic8\", \"Topic8\", \"Topic8\", \"Topic8\", \"Topic8\", \"Topic8\", \"Topic8\", \"Topic8\", \"Topic8\", \"Topic8\", \"Topic8\", \"Topic8\", \"Topic8\", \"Topic8\", \"Topic8\", \"Topic8\", \"Topic8\", \"Topic8\", \"Topic8\", \"Topic8\", \"Topic8\", \"Topic8\", \"Topic8\", \"Topic8\", \"Topic8\", \"Topic8\", \"Topic8\", \"Topic8\", \"Topic8\", \"Topic8\", \"Topic8\"], \"Freq\": [533.0, 571.0, 335.0, 159.0, 181.0, 167.0, 829.0, 1671.0, 205.0, 235.0, 453.0, 291.0, 63.0, 351.0, 293.0, 269.0, 242.0, 51.0, 237.0, 74.0, 85.0, 113.0, 205.0, 189.0, 136.0, 128.0, 126.0, 224.0, 201.0, 84.0, 27.76711082458496, 28.43889617919922, 97.56739807128906, 16.042068481445312, 16.216651916503906, 16.872770309448242, 17.0225830078125, 17.779876708984375, 12.55070972442627, 16.723554611206055, 56.35105895996094, 70.87740325927734, 41.7227668762207, 68.5908432006836, 20.173234939575195, 15.376437187194824, 28.017822265625, 17.026641845703125, 11.27919864654541, 9.821012496948242, 8.779818534851074, 27.94145965576172, 16.01097297668457, 14.82829475402832, 15.493584632873535, 11.255602836608887, 23.318395614624023, 15.587320327758789, 12.247797012329102, 11.02254867553711, 58.86416244506836, 67.96774291992188, 615.8106079101562, 47.55119323730469, 61.80628204345703, 63.63874816894531, 49.245601654052734, 38.1175422668457, 28.433191299438477, 69.34100341796875, 71.4861068725586, 143.76510620117188, 77.75983428955078, 62.18770217895508, 117.39564514160156, 63.2574462890625, 64.74319458007812, 57.753353118896484, 98.31684112548828, 44.3502082824707, 38.04082107543945, 43.710243225097656, 56.08462905883789, 70.89781951904297, 76.26273345947266, 61.18207550048828, 71.82020568847656, 43.29317092895508, 47.57725143432617, 21.311973571777344, 21.22536849975586, 16.928955078125, 57.4724235534668, 20.07723045349121, 15.747323989868164, 21.738882064819336, 14.864920616149902, 15.484249114990234, 11.370692253112793, 21.92439842224121, 34.698421478271484, 15.416492462158203, 14.762495994567871, 36.33798599243164, 22.976238250732422, 12.699836730957031, 9.42142105102539, 11.428269386291504, 28.461267471313477, 35.274105072021484, 18.05205535888672, 15.282649040222168, 15.758920669555664, 13.63814640045166, 10.428632736206055, 10.443999290466309, 38.4654655456543, 9.153730392456055, 10.050969123840332, 83.35211181640625, 19.795818328857422, 33.99733352661133, 121.62012481689453, 96.37114715576172, 113.08662414550781, 233.44534301757812, 29.973068237304688, 65.67517852783203, 34.06731033325195, 107.06751251220703, 194.75991821289062, 38.46656799316406, 86.05110168457031, 32.865013122558594, 70.44912719726562, 33.23307800292969, 33.7321891784668, 50.56096267700195, 38.2120361328125, 35.1824836730957, 42.02772521972656, 35.03380584716797, 35.61776351928711, 32.66912078857422, 30.471275329589844, 30.46424102783203, 24.19266700744629, 18.28544044494629, 18.3953914642334, 13.927846908569336, 21.71219253540039, 14.802606582641602, 12.282992362976074, 10.346003532409668, 14.266738891601562, 11.69112491607666, 13.433479309082031, 26.48703956604004, 15.001094818115234, 31.59749984741211, 11.543232917785645, 29.41370391845703, 9.676280975341797, 11.135150909423828, 11.406498908996582, 25.329864501953125, 18.142179489135742, 8.758278846740723, 15.511199951171875, 8.554542541503906, 63.88040542602539, 44.68735885620117, 7.519584655761719, 25.085662841796875, 105.11082458496094, 24.22323226928711, 16.552873611450195, 20.888132095336914, 136.32305908203125, 76.36762237548828, 123.49998474121094, 116.29357147216797, 257.6459655761719, 149.66038513183594, 49.280723571777344, 73.0533447265625, 42.37240219116211, 69.06952667236328, 46.69236755371094, 39.3172721862793, 28.17689323425293, 33.107887268066406, 62.39299774169922, 40.80965805053711, 37.50347137451172, 39.16594696044922, 35.770713806152344, 34.84359359741211, 34.22504425048828, 28.28445816040039, 30.787418365478516, 31.67372703552246, 29.59972381591797, 28.501264572143555, 28.335121154785156, 22.179847717285156, 19.751646041870117, 22.947999954223633, 33.399078369140625, 17.064550399780273, 19.290233612060547, 69.8322525024414, 12.626627922058105, 50.4296875, 24.07462501525879, 26.112648010253906, 12.937360763549805, 19.193359375, 12.611246109008789, 12.718951225280762, 12.348880767822266, 41.547916412353516, 31.468442916870117, 25.741376876831055, 9.116097450256348, 13.333876609802246, 11.45307445526123, 12.748741149902344, 9.213899612426758, 11.494831085205078, 10.11369800567627, 55.8583984375, 13.244890213012695, 12.354701042175293, 10.664856910705566, 86.39604949951172, 18.77075958251953, 60.34998321533203, 72.75391387939453, 154.5965576171875, 49.1246452331543, 119.91951751708984, 16.579448699951172, 40.077945709228516, 45.48814392089844, 82.5891342163086, 231.74346923828125, 99.09455108642578, 54.12517547607422, 54.20147705078125, 25.644359588623047, 31.03737449645996, 72.92847442626953, 41.45158767700195, 81.85364532470703, 42.22645950317383, 40.30922317504883, 44.37802505493164, 37.64511489868164, 36.39547348022461, 37.17607498168945, 29.12271499633789, 21.065187454223633, 24.649192810058594, 19.07869529724121, 20.063182830810547, 21.530508041381836, 42.944862365722656, 17.052200317382812, 24.11163330078125, 20.016807556152344, 17.91085433959961, 24.37110137939453, 17.759641647338867, 29.49490737915039, 12.37798023223877, 34.91007995605469, 32.86677932739258, 12.789169311523438, 18.0093994140625, 15.715569496154785, 9.435896873474121, 18.750144958496094, 23.711137771606445, 17.301429748535156, 26.87252426147461, 68.8751220703125, 12.429693222045898, 27.26372528076172, 25.587875366210938, 9.406906127929688, 14.7049560546875, 49.30741500854492, 48.970550537109375, 63.58224868774414, 75.28022766113281, 42.541954040527344, 85.26995086669922, 234.14334106445312, 100.74015808105469, 46.874271392822266, 45.4636344909668, 81.09590911865234, 67.73497772216797, 50.085514068603516, 34.62975311279297, 53.79145812988281, 27.49272918701172, 35.51454162597656, 40.672950744628906, 33.687835693359375, 34.692745208740234, 39.489654541015625, 33.84534454345703, 30.097991943359375, 27.206748962402344, 29.19518280029297, 24.333871841430664, 26.764495849609375, 19.375667572021484, 22.69720458984375, 17.974451065063477, 16.489845275878906, 13.201859474182129, 16.24427604675293, 24.371767044067383, 24.17201042175293, 8.27812385559082, 20.914058685302734, 32.82898712158203, 25.15950584411621, 17.213848114013672, 20.785980224609375, 28.28010368347168, 8.10156536102295, 8.700382232666016, 21.436975479125977, 10.201361656188965, 12.368033409118652, 186.65611267089844, 48.91550827026367, 43.35059356689453, 18.7386531829834, 40.286014556884766, 7.227471351623535, 10.169099807739258, 20.55402183532715, 32.155242919921875, 46.883140563964844, 42.7153205871582, 35.30497741699219, 78.0241470336914, 57.24992370605469, 35.393898010253906, 46.01479721069336, 95.18595123291016, 36.27981185913086, 51.786781311035156, 51.61410903930664, 50.120426177978516, 36.69502258300781, 47.744224548339844, 29.120765686035156, 26.83632469177246, 45.85862731933594, 28.262210845947266, 30.105609893798828, 26.305530548095703, 25.724233627319336, 37.05855941772461, 93.05553436279297, 46.821353912353516, 96.87333679199219, 11.437158584594727, 11.468888282775879, 11.903996467590332, 12.491103172302246, 14.37435531616211, 50.284915924072266, 9.4437255859375, 11.101564407348633, 21.774585723876953, 13.160849571228027, 9.921700477600098, 14.21803092956543, 12.574911117553711, 10.829019546508789, 25.25889778137207, 9.956140518188477, 10.519227981567383, 27.919923782348633, 21.265525817871094, 58.12483215332031, 63.09123611450195, 90.96354675292969, 11.51639175415039, 63.516510009765625, 7.642526149749756, 9.637579917907715, 35.501834869384766, 16.38434600830078, 52.671207427978516, 121.7853012084961, 94.37427520751953, 117.90638732910156, 82.29796600341797, 49.317440032958984, 38.55145263671875, 25.297487258911133, 37.20426940917969, 31.106218338012695, 29.8300838470459, 28.23834800720215, 22.342931747436523, 35.21449279785156, 49.88151168823242, 21.267852783203125, 25.53772735595703, 25.189542770385742, 22.350191116333008, 34.330543518066406, 39.31908416748047, 23.085147857666016, 13.507975578308105, 21.02732276916504, 12.057472229003906, 20.13330078125, 34.16335678100586, 10.949030876159668, 9.416373252868652, 18.218307495117188, 9.053536415100098, 18.67253875732422, 22.468791961669922, 24.126880645751953, 9.780229568481445, 57.33559799194336, 8.042695999145508, 29.382652282714844, 9.438895225524902, 10.257864952087402, 11.800749778747559, 26.78801155090332, 14.340919494628906, 8.680520057678223, 17.90163230895996, 22.02517318725586, 15.44633674621582, 6.657721519470215, 9.291748046875, 15.485197067260742, 23.097806930541992, 38.729854583740234, 42.482234954833984, 36.43668746948242, 46.190460205078125, 37.97165298461914, 37.376224517822266, 21.249801635742188, 18.393747329711914, 20.521644592285156, 37.342628479003906, 40.18455123901367, 41.443241119384766, 18.135669708251953, 25.783462524414062, 18.777231216430664, 20.923114776611328, 19.99825096130371, 18.496435165405273], \"Term\": [\"work\", \"fix\", \"update\", \"suck\", \"version\", \"new\", \"app\", \"game\", \"waste\", \"please_fix\", \"please\", \"good\", \"control\", \"like\", \"money\", \"one\", \"screen\", \"dumb\", \"crash\", \"waste_money\", \"boring\", \"every_time\", \"every\", \"level\", \"error\", \"stupid\", \"ever\", \"phone\", \"really\", \"nice\", \"content\", \"many_ad\", \"ever\", \"life\", \"lame\", \"glitch\", \"hit\", \"fake\", \"ridiculous\", \"half\", \"help\", \"worst\", \"able\", \"many\", \"fast\", \"car\", \"hated\", \"black_screen\", \"someone\", \"min\", \"seen\", \"point\", \"card\", \"awful\", \"stuck\", \"setting\", \"minute\", \"map\", \"totally\", \"away\", \"start\", \"let\", \"game\", \"pay\", \"fun\", \"hate\", \"try\", \"add\", \"black\", \"every\", \"download\", \"play\", \"would\", \"want\", \"get\", \"ad\", \"need\", \"level\", \"time\", \"free\", \"see\", \"paid\", \"screen\", \"please\", \"fix\", \"even\", \"app\", \"say\", \"like\", \"check\", \"seems\", \"book\", \"waste_time\", \"reason\", \"access\", \"big\", \"properly\", \"press\", \"sort\", \"downloading\", \"wrong\", \"awesome\", \"freezing\", \"look\", \"last_update\", \"allow\", \"favorite\", \"space\", \"lost\", \"cannot\", \"feature\", \"best\", \"end\", \"actually\", \"else\", \"mean\", \"know\", \"bother\", \"type\", \"waste\", \"keep_crashing\", \"last\", \"update\", \"good\", \"like\", \"app\", \"freeze\", \"keep\", \"issue\", \"time\", \"game\", \"problem\", \"get\", \"thing\", \"work\", \"love\", \"let\", \"play\", \"would\", \"really\", \"even\", \"download\", \"money\", \"open\", \"back\", \"need\", \"store\", \"delete\", \"want_refund\", \"pretty\", \"far\", \"feel\", \"liked\", \"recommend\", \"online\", \"opened\", \"yet\", \"real\", \"happy\", \"tablet\", \"sorry\", \"option\", \"maybe\", \"frustrating\", \"internet_connection\", \"hard\", \"kid\", \"wasted\", \"month\", \"complete\", \"refund\", \"got\", \"stage\", \"bug\", \"good\", \"come\", \"sound\", \"connection\", \"play\", \"money\", \"get\", \"time\", \"game\", \"app\", \"want\", \"like\", \"still\", \"even\", \"phone\", \"bad\", \"see\", \"love\", \"work\", \"crash\", \"back\", \"would\", \"give\", \"ad\", \"download\", \"never\", \"level\", \"please\", \"one\", \"really\", \"waste\", \"plz_fix\", \"installed\", \"samsung_galaxy\", \"plz\", \"daughter\", \"tab\", \"stupid\", \"view\", \"galaxy\", \"keep_crashing\", \"graphic\", \"hell\", \"enough\", \"server\", \"unfortunately\", \"keep_saying\", \"crashing\", \"bought\", \"samsung\", \"rip\", \"cause\", \"world\", \"cool\", \"stopped_working\", \"paying\", \"five\", \"nothing\", \"son\", \"unable\", \"home\", \"keep\", \"log\", \"working\", \"please_fix\", \"fix\", \"hate\", \"please\", \"upgrade\", \"buy\", \"bad\", \"even\", \"game\", \"work\", \"screen\", \"star\", \"downloaded\", \"playing\", \"play\", \"back\", \"app\", \"open\", \"ad\", \"money\", \"give\", \"one\", \"get\", \"phone\", \"part\", \"name\", \"took\", \"year_old\", \"notification\", \"force\", \"character\", \"force_close\", \"letter\", \"round\", \"bonus\", \"different\", \"year\", \"type\", \"old\", \"coin\", \"match\", \"wanted\", \"thought\", \"place\", \"player\", \"give_star\", \"though\", \"horrible\", \"level\", \"almost\", \"annoying\", \"slow\", \"easy\", \"developer\", \"load\", \"fun\", \"give\", \"star\", \"buy\", \"like\", \"game\", \"fix\", \"back\", \"make\", \"get\", \"please\", \"one\", \"suck\", \"play\", \"close\", \"please_fix\", \"even\", \"need\", \"money\", \"app\", \"time\", \"would\", \"download\", \"purchase\", \"page\", \"fine\", \"review\", \"message\", \"mode\", \"login\", \"lollipop\", \"user\", \"connect\", \"note\", \"often\", \"worked\", \"android\", \"connection\", \"made\", \"two\", \"loading\", \"bit\", \"stopped_working\", \"pop\", \"internet_connection\", \"longer\", \"work\", \"much\", \"cant\", \"terrible\", \"show\", \"reinstalled\", \"running\", \"come\", \"tried\", \"working\", \"refund\", \"error\", \"even\", \"one\", \"better\", \"open\", \"app\", \"still\", \"update\", \"play\", \"time\", \"crash\", \"get\", \"great\", \"way\", \"game\", \"say\", \"fix\", \"every\", \"star\", \"plus\", \"new\", \"nice\", \"version\", \"seriously\", \"higher\", \"crashed\", \"due\", \"unlock\", \"every_time\", \"automatically\", \"immediately\", \"nexus\", \"running\", \"worse\", \"gone\", \"cool\", \"broken\", \"apps\", \"choose\", \"opening\", \"rate\", \"used\", \"every\", \"phone\", \"update\", \"already\", \"please_fix\", \"pro\", \"friend\", \"error\", \"day\", \"open\", \"fix\", \"please\", \"app\", \"time\", \"would\", \"need\", \"tried\", \"crash\", \"make\", \"say\", \"give\", \"nothing\", \"work\", \"game\", \"paid\", \"one\", \"star\", \"want\", \"dumb\", \"control\", \"touch\", \"whenever\", \"wait\", \"spend\", \"rubbish\", \"waste_money\", \"happened\", \"giving\", \"anymore\", \"three\", \"device\", \"move\", \"win\", \"set\", \"suck\", \"wasted\", \"boring\", \"lose\", \"sometimes\", \"click\", \"crap\", \"constantly\", \"paying\", \"long\", \"always\", \"go\", \"feel\", \"wish\", \"think\", \"anything\", \"waste\", \"screen\", \"really\", \"money\", \"crash\", \"one\", \"use\", \"last\", \"playing\", \"fix\", \"app\", \"game\", \"could\", \"work\", \"error\", \"play\", \"get\", \"please_fix\"], \"Total\": [533.0, 571.0, 335.0, 159.0, 181.0, 167.0, 829.0, 1671.0, 205.0, 235.0, 453.0, 291.0, 63.0, 351.0, 293.0, 269.0, 242.0, 51.0, 237.0, 74.0, 85.0, 113.0, 205.0, 189.0, 136.0, 128.0, 126.0, 224.0, 201.0, 84.0, 34.716636657714844, 36.08413314819336, 126.1143798828125, 21.212356567382812, 22.797218322753906, 25.35980224609375, 25.94664192199707, 27.23895263671875, 19.498945236206055, 26.394134521484375, 89.97515106201172, 116.299560546875, 70.26828002929688, 120.32525634765625, 36.539649963378906, 28.041873931884766, 53.6197509765625, 33.39591598510742, 22.251771926879883, 20.062061309814453, 18.308137893676758, 59.63915252685547, 34.1783447265625, 31.664100646972656, 33.16636276245117, 24.326589584350586, 50.919471740722656, 34.41337966918945, 27.530479431152344, 24.882488250732422, 135.99258422851562, 158.96522521972656, 1671.28662109375, 113.60256958007812, 150.62477111816406, 158.72171020507812, 123.22209930419922, 94.24002838134766, 67.75499725341797, 205.03448486328125, 215.41510009765625, 550.5416259765625, 249.23464965820312, 194.5528564453125, 530.6179809570312, 214.53709411621094, 223.35836791992188, 189.51513671875, 519.1258544921875, 132.3540496826172, 103.66438293457031, 133.42782592773438, 242.7072296142578, 453.6025085449219, 571.6327514648438, 395.2216491699219, 829.5462036132812, 181.14590454101562, 351.9161376953125, 26.002716064453125, 30.35247230529785, 25.498842239379883, 89.05058288574219, 31.13005256652832, 24.537799835205078, 34.05031204223633, 23.999065399169922, 27.062973022460938, 20.1242618560791, 39.07495880126953, 62.85383987426758, 27.954870223999023, 26.906463623046875, 68.03849029541016, 43.24386978149414, 24.71417999267578, 19.27457618713379, 23.4965763092041, 59.001686096191406, 74.76139831542969, 38.520301818847656, 32.70780944824219, 34.11443328857422, 30.702842712402344, 24.23044204711914, 24.444984436035156, 90.54821014404297, 21.871200561523438, 24.21710968017578, 205.09552001953125, 48.589630126953125, 86.10830688476562, 335.35223388671875, 291.3320007324219, 351.9161376953125, 829.5462036132812, 81.37440490722656, 243.03025817871094, 100.85197448730469, 519.1258544921875, 1671.28662109375, 134.5802764892578, 530.6179809570312, 114.5160903930664, 533.5260009765625, 147.75680541992188, 158.96522521972656, 550.5416259765625, 249.23464965820312, 201.21649169921875, 395.2216491699219, 215.41510009765625, 293.3337707519531, 227.17176818847656, 200.06741333007812, 223.35836791992188, 32.81858444213867, 25.784807205200195, 26.642990112304688, 20.475345611572266, 34.990638732910156, 24.68264389038086, 21.193296432495117, 19.089649200439453, 27.014026641845703, 23.638744354248047, 27.6212215423584, 54.5056037902832, 31.092819213867188, 67.4253158569336, 24.756593704223633, 68.51553344726562, 22.87032127380371, 27.26470375061035, 27.992856979370117, 62.24835968017578, 46.56560134887695, 22.945518493652344, 41.391902923583984, 23.009662628173828, 171.9745330810547, 121.21847534179688, 20.653871536254883, 69.15998840332031, 291.3320007324219, 67.56681060791016, 46.44099426269531, 59.854881286621094, 550.5416259765625, 293.3337707519531, 530.6179809570312, 519.1258544921875, 1671.28662109375, 829.5462036132812, 194.5528564453125, 351.9161376953125, 166.6165008544922, 395.2216491699219, 224.31698608398438, 171.3804168701172, 103.66438293457031, 147.75680541992188, 533.5260009765625, 237.85951232910156, 200.06741333007812, 249.23464965820312, 220.16839599609375, 214.53709411621094, 215.41510009765625, 112.95413208007812, 189.51513671875, 453.6025085449219, 269.9618225097656, 201.21649169921875, 205.09552001953125, 29.423748016357422, 31.637067794799805, 38.09420394897461, 56.005126953125, 29.351598739624023, 33.23695755004883, 128.66505432128906, 24.940549850463867, 101.59808349609375, 48.589630126953125, 53.30845642089844, 26.608673095703125, 40.32119369506836, 26.688135147094727, 27.065385818481445, 28.192089080810547, 95.18363189697266, 72.95155334472656, 59.875030517578125, 21.326642990112305, 31.320140838623047, 27.99130630493164, 31.87310791015625, 23.303932189941406, 29.368480682373047, 25.89202308654785, 143.19456481933594, 34.00402069091797, 31.893423080444336, 27.824155807495117, 243.03025817871094, 50.540645599365234, 183.95468139648438, 235.7053985595703, 571.6327514648438, 158.72171020507812, 453.6025085449219, 45.19933319091797, 142.62237548828125, 171.3804168701172, 395.2216491699219, 1671.28662109375, 533.5260009765625, 242.7072296142578, 270.5505676269531, 83.23332977294922, 115.33112335205078, 550.5416259765625, 200.06741333007812, 829.5462036132812, 227.17176818847656, 214.53709411621094, 293.3337707519531, 220.16839599609375, 269.9618225097656, 530.6179809570312, 224.31698608398438, 26.582216262817383, 31.31710433959961, 28.391489028930664, 30.187923431396484, 34.21553039550781, 68.5217056274414, 27.9304256439209, 40.59804916381836, 33.95717239379883, 30.40869140625, 43.135581970214844, 32.49531936645508, 56.99174118041992, 24.21710968017578, 70.84613037109375, 68.49262237548828, 26.963279724121094, 38.54926300048828, 34.213809967041016, 24.45172119140625, 48.624393463134766, 63.089874267578125, 46.62871551513672, 73.80982971191406, 189.51513671875, 34.25606918334961, 75.6064682006836, 72.0841064453125, 26.65843963623047, 42.0862922668457, 141.81114196777344, 150.62477111816406, 220.16839599609375, 270.5505676269531, 142.62237548828125, 351.9161376953125, 1671.28662109375, 571.6327514648438, 200.06741333007812, 191.47938537597656, 530.6179809570312, 453.6025085449219, 269.9618225097656, 159.7816162109375, 550.5416259765625, 90.14690399169922, 235.7053985595703, 395.2216491699219, 223.35836791992188, 293.3337707519531, 829.5462036132812, 519.1258544921875, 249.23464965820312, 215.41510009765625, 43.342811584472656, 44.36176300048828, 49.688560485839844, 36.34188461303711, 42.624149322509766, 34.52288055419922, 32.14187240600586, 26.300312042236328, 33.111236572265625, 51.12296676635742, 53.72101593017578, 18.416563034057617, 47.657989501953125, 76.8824234008789, 59.854881286621094, 41.43442916870117, 51.52212905883789, 73.32907104492188, 21.47895622253418, 23.303932189941406, 58.069332122802734, 27.992856979370117, 35.01319885253906, 533.5260009765625, 140.7622528076172, 125.5051040649414, 54.8296012878418, 124.47161865234375, 22.543821334838867, 32.061866760253906, 67.56681060791016, 112.29813385009766, 183.95468139648438, 171.9745330810547, 136.95925903320312, 395.2216491699219, 269.9618225097656, 146.44386291503906, 227.17176818847656, 829.5462036132812, 166.6165008544922, 335.35223388671875, 550.5416259765625, 519.1258544921875, 237.85951232910156, 530.6179809570312, 135.12506103515625, 133.05535888671875, 1671.28662109375, 181.14590454101562, 571.6327514648438, 205.03448486328125, 270.5505676269531, 42.23169708251953, 167.0072021484375, 84.50414276123047, 181.0577850341797, 23.419361114501953, 23.56829261779785, 24.812902450561523, 26.601369857788086, 32.24570846557617, 113.58653259277344, 21.443504333496094, 25.33690071105957, 51.55672073364258, 32.061866760253906, 24.56707763671875, 35.633689880371094, 31.87310791015625, 27.8179874420166, 65.6236343383789, 27.25946044921875, 31.344690322875977, 88.33031463623047, 73.60282897949219, 205.03448486328125, 224.31698608398438, 335.35223388671875, 42.67915344238281, 235.7053985595703, 28.368314743041992, 36.876197814941406, 136.95925903320312, 64.39266204833984, 227.17176818847656, 571.6327514648438, 453.6025085449219, 829.5462036132812, 519.1258544921875, 249.23464965820312, 223.35836791992188, 112.29813385009766, 237.85951232910156, 191.47938537597656, 181.14590454101562, 220.16839599609375, 143.19456481933594, 533.5260009765625, 1671.28662109375, 133.42782592773438, 269.9618225097656, 270.5505676269531, 194.5528564453125, 51.092750549316406, 63.71791076660156, 40.23341369628906, 26.909847259521484, 43.285247802734375, 24.946849822998047, 43.64945983886719, 74.69297790527344, 25.795944213867188, 22.52416229248047, 46.602081298828125, 23.348834991455078, 49.322200775146484, 60.260135650634766, 65.32752990722656, 26.613298416137695, 159.7816162109375, 22.945518493652344, 85.64790344238281, 28.052234649658203, 31.690765380859375, 37.00953674316406, 84.81710815429688, 45.89052200317383, 29.368480682373047, 61.61589813232422, 75.88526916503906, 57.237815856933594, 24.68264389038086, 34.801734924316406, 58.57945251464844, 95.66991424560547, 205.09552001953125, 242.7072296142578, 201.21649169921875, 293.3337707519531, 237.85951232910156, 269.9618225097656, 111.90879821777344, 86.10830688476562, 115.33112335205078, 571.6327514648438, 829.5462036132812, 1671.28662109375, 103.6390380859375, 533.5260009765625, 136.95925903320312, 550.5416259765625, 530.6179809570312, 235.7053985595703], \"loglift\": [30.0, 29.0, 28.0, 27.0, 26.0, 25.0, 24.0, 23.0, 22.0, 21.0, 20.0, 19.0, 18.0, 17.0, 16.0, 15.0, 14.0, 13.0, 12.0, 11.0, 10.0, 9.0, 8.0, 7.0, 6.0, 5.0, 4.0, 3.0, 2.0, 1.0, 1.4127999544143677, 1.3981000185012817, 1.3795000314712524, 1.3567999601364136, 1.2956000566482544, 1.228700041770935, 1.2145999670028687, 1.2095999717712402, 1.1956000328063965, 1.179800033569336, 1.1682000160217285, 1.1409000158309937, 1.11489999294281, 1.0741000175476074, 1.042099952697754, 1.0353000164031982, 0.9871000051498413, 0.9624999761581421, 0.9567000269889832, 0.9218000173568726, 0.9013000130653381, 0.8779000043869019, 0.8777999877929688, 0.8774999976158142, 0.875, 0.8654000163078308, 0.8550999760627747, 0.8442000150680542, 0.826200008392334, 0.8219000101089478, 0.798799991607666, 0.7864999771118164, 0.6377000212669373, 0.7652999758720398, 0.7454000115394592, 0.7221999764442444, 0.718999981880188, 0.7310000061988831, 0.767799973487854, 0.5519999861717224, 0.5331000089645386, 0.29339998960494995, 0.4713999927043915, 0.49559998512268066, 0.12770000100135803, 0.414900004863739, 0.3977999985218048, 0.4478999972343445, -0.027799999341368675, 0.5428000092506409, 0.6337000131607056, 0.5202000141143799, 0.1712000072002411, -0.21979999542236328, -0.3781999945640564, -0.22939999401569366, -0.8105999827384949, 0.20479999482631683, -0.36489999294281006, 1.6995999813079834, 1.5408999919891357, 1.4889999628067017, 1.4607000350952148, 1.4600000381469727, 1.4550000429153442, 1.4498000144958496, 1.419600009918213, 1.3401999473571777, 1.3277000188827515, 1.3207000494003296, 1.3043999671936035, 1.3034000396728516, 1.29830002784729, 1.271399974822998, 1.2661999464035034, 1.232800006866455, 1.182800054550171, 1.1778000593185425, 1.1694999933242798, 1.1474000215530396, 1.1405999660491943, 1.1376999616622925, 1.1261999607086182, 1.0871000289916992, 1.0555000305175781, 1.048200011253357, 1.0424000024795532, 1.0276000499725342, 1.0191999673843384, 0.998199999332428, 1.000599980354309, 0.9692000150680542, 0.8842999935150146, 0.7922999858856201, 0.7633000016212463, 0.6305999755859375, 0.8998000025749207, 0.5900999903678894, 0.8131999969482422, 0.3199000060558319, -0.25099998712539673, 0.6462000012397766, 0.0794999971985817, 0.6503000259399414, -0.12610000371932983, 0.4065000116825104, 0.3483000099658966, -0.48919999599456787, 0.02329999953508377, 0.15469999611377716, -0.3425999879837036, 0.08229999989271164, -0.20990000665187836, -0.040699999779462814, 0.016699999570846558, -0.09369999915361404, 1.6548000574111938, 1.6160000562667847, 1.5893000364303589, 1.5743999481201172, 1.4824999570846558, 1.4484000205993652, 1.4142999649047852, 1.3472000360488892, 1.3213000297546387, 1.2556999921798706, 1.2388999462127686, 1.2381000518798828, 1.2309000492095947, 1.201799988746643, 1.1966999769210815, 1.1140999794006348, 1.0995999574661255, 1.0642000436782837, 1.062000036239624, 1.0606000423431396, 1.0170999765396118, 0.9965999722480774, 0.9782000184059143, 0.970300018787384, 0.9693999886512756, 0.9617999792098999, 0.9492999911308289, 0.9455999732017517, 0.9402999877929688, 0.933899998664856, 0.9280999898910522, 0.9070000052452087, 0.5638999938964844, 0.6140000224113464, 0.5019000172615051, 0.46369999647140503, 0.09000000357627869, 0.24719999730587006, 0.5866000056266785, 0.38749998807907104, 0.590499997138977, 0.21539999544620514, 0.3901999890804291, 0.48750001192092896, 0.6571000218391418, 0.46389999985694885, -0.18629999458789825, 0.19699999690055847, 0.2854999899864197, 0.10909999907016754, 0.14249999821186066, 0.1421000063419342, 0.1200999990105629, 0.5751000046730042, 0.14239999651908875, -0.7020000219345093, -0.2508000135421753, 0.0052999998442828655, -0.019600000232458115, 1.7424999475479126, 1.5540000200271606, 1.5183000564575195, 1.5082000494003296, 1.482699990272522, 1.4809999465942383, 1.4140000343322754, 1.3444000482559204, 1.3245999813079834, 1.3228000402450562, 1.311400055885315, 1.3040000200271606, 1.2827999591827393, 1.2755000591278076, 1.2698999643325806, 1.1995999813079834, 1.1960999965667725, 1.1842999458312988, 1.180899977684021, 1.1751999855041504, 1.1711000204086304, 1.131500005722046, 1.1088000535964966, 1.0972000360488892, 1.0871000289916992, 1.0850000381469727, 1.0836999416351318, 1.082200050354004, 1.07669997215271, 1.066100001335144, 0.9908000230789185, 1.034600019454956, 0.9106000065803528, 0.8496000170707703, 0.7174000144004822, 0.8522999882698059, 0.6947000026702881, 1.0221999883651733, 0.7556999921798706, 0.6987000107765198, 0.4595000147819519, 0.049400001764297485, 0.3416999876499176, 0.5245000123977661, 0.4172999858856201, 0.8478000164031982, 0.7124999761581421, 0.003700000001117587, 0.45100000500679016, -0.29089999198913574, 0.3424000144004822, 0.3531999886035919, 0.13650000095367432, 0.258899986743927, 0.021299999207258224, -0.6333000063896179, -0.016499999910593033, 1.8995000123977661, 1.892699956893921, 1.7345999479293823, 1.7235000133514404, 1.6689000129699707, 1.6648000478744507, 1.6385999917984009, 1.6110999584197998, 1.603600025177002, 1.6028000116348267, 1.5611000061035156, 1.527899980545044, 1.4733999967575073, 1.4608999490737915, 1.424299955368042, 1.3977999687194824, 1.386199951171875, 1.371000051498413, 1.354099988937378, 1.179900050163269, 1.1792000532150269, 1.153499960899353, 1.1406999826431274, 1.1217000484466553, 1.1198999881744385, 1.118299961090088, 1.1121000051498413, 1.0964000225067139, 1.090399980545044, 1.0805000066757202, 1.075700044631958, 1.0084999799728394, 0.8899999856948853, 0.8528000116348267, 0.9223999977111816, 0.7145000100135803, 0.16670000553131104, 0.3961000144481659, 0.680899977684021, 0.6941999793052673, 0.25369998812675476, 0.2304999977350235, 0.44749999046325684, 0.6029999852180481, -0.19370000064373016, 0.944599986076355, 0.2393999993801117, -0.14180000126361847, 0.24040000140666962, -0.0027000000700354576, -0.9128000140190125, -0.5982999801635742, 0.01810000091791153, 0.06300000101327896, 1.8406000137329102, 1.635200023651123, 1.6169999837875366, 1.6067999601364136, 1.6055999994277954, 1.5830999612808228, 1.5683000087738037, 1.5464999675750732, 1.5235999822616577, 1.4948999881744385, 1.4371000528335571, 1.4361000061035156, 1.4120999574661255, 1.3847999572753906, 1.3690999746322632, 1.3573999404907227, 1.3279999494552612, 1.2828999757766724, 1.260699987411499, 1.250499963760376, 1.2391999959945679, 1.2263000011444092, 1.195099949836731, 1.1855000257492065, 1.1787999868392944, 1.172700047492981, 1.1620999574661255, 1.107699990272522, 1.0981999635696411, 1.087399959564209, 1.045699954032898, 0.9851999878883362, 0.8687000274658203, 0.8429999947547913, 0.8801000118255615, 0.6133000254631042, 0.6848999857902527, 0.8155999779701233, 0.6389999985694885, 0.07069999724626541, 0.7113000154495239, 0.3677000105381012, -0.131400004029274, -0.10199999809265137, 0.3666999936103821, -0.17239999771118164, 0.7009999752044678, 0.6347000002861023, -1.3600000143051147, 0.3779999911785126, -0.7080000042915344, 0.18230000138282776, -0.11729999631643295, 2.2056000232696533, 1.7513999938964844, 1.7458000183105469, 1.710800051689148, 1.6196000576019287, 1.6160000562667847, 1.6017999649047852, 1.580299973487854, 1.5283000469207764, 1.521399974822998, 1.5161999464035034, 1.5111000537872314, 1.4743000268936157, 1.4457999467849731, 1.4296000003814697, 1.4175000190734863, 1.4062000513076782, 1.392799973487854, 1.381500005722046, 1.3289999961853027, 1.2444000244140625, 1.184499979019165, 1.0946999788284302, 1.075700044631958, 1.0678000450134277, 1.031499981880188, 1.0262999534606934, 1.024999976158142, 1.0247000455856323, 0.9944000244140625, 0.9861999750137329, 0.9675999879837036, 0.8745999932289124, 0.7900000214576721, 0.7663000226020813, 0.38530001044273376, 0.4945000112056732, 0.7160999774932861, 0.5795000195503235, 0.84579998254776, 0.48100000619888306, 0.5188999772071838, 0.5325000286102295, 0.2824999988079071, 0.47859999537467957, -0.38179999589920044, -1.1754000186920166, 0.4999000132083893, -0.021900000050663948, -0.03779999911785126, 0.17239999771118164, 2.408900022506714, 2.323699951171875, 2.250999927520752, 2.117300033569336, 2.0845000743865967, 2.079400062561035, 2.0327000617980957, 2.024199962615967, 1.9494999647140503, 1.9342999458312988, 1.867300033569336, 1.8590999841690063, 1.8351999521255493, 1.8199000358581543, 1.8104000091552734, 1.805400013923645, 1.781599998474121, 1.7581000328063965, 1.7366000413894653, 1.7172000408172607, 1.6785000562667847, 1.6634999513626099, 1.6539000272750854, 1.6433000564575195, 1.5875999927520752, 1.5703999996185303, 1.5693999528884888, 1.4966000318527222, 1.4961999654769897, 1.4859000444412231, 1.4759999513626099, 1.3853000402450562, 1.1396000385284424, 1.0636999607086182, 1.0976999998092651, 0.9578999876976013, 0.9715999960899353, 0.829200029373169, 1.1450999975204468, 1.2628999948501587, 1.0801000595092773, 0.07810000330209732, -0.22089999914169312, -0.890500009059906, 1.0634000301361084, -0.2232999950647354, 0.8194000124931335, -0.4636000096797943, -0.47189998626708984, 0.2615000009536743], \"logprob\": [30.0, 29.0, 28.0, 27.0, 26.0, 25.0, 24.0, 23.0, 22.0, 21.0, 20.0, 19.0, 18.0, 17.0, 16.0, 15.0, 14.0, 13.0, 12.0, 11.0, 10.0, 9.0, 8.0, 7.0, 6.0, 5.0, 4.0, 3.0, 2.0, 1.0, -5.411399841308594, -5.387499809265137, -4.154699802398682, -5.960000038146973, -5.94920015335083, -5.9095001220703125, -5.900700092315674, -5.8572001457214355, -6.20550012588501, -5.918399810791016, -4.70359992980957, -4.474299907684326, -5.004199981689453, -4.5071001052856445, -5.730899810791016, -6.002399921417236, -5.402400016784668, -5.9004998207092285, -6.312300205230713, -6.450699806213379, -6.56279993057251, -5.405099868774414, -5.961999893188477, -6.038700103759766, -5.994800090789795, -6.3144001960754395, -5.585999965667725, -5.988800048828125, -6.229899883270264, -6.335299968719482, -4.659999847412109, -4.516200065612793, -2.312299966812134, -4.8734002113342285, -4.611199855804443, -4.581999778747559, -4.838399887084961, -5.094600200653076, -5.387700080871582, -4.496200084686279, -4.465700149536133, -3.7671000957489014, -4.3815999031066895, -4.605100154876709, -3.9697000980377197, -4.5879998207092285, -4.564799785614014, -4.679100036621094, -4.14709997177124, -4.9430999755859375, -5.09660005569458, -4.957699775695801, -4.708399772644043, -4.473999977111816, -4.401100158691406, -4.621399879455566, -4.461100101470947, -4.967299938201904, -4.872900009155273, -5.413599967956543, -5.417600154876709, -5.643799781799316, -4.421500205993652, -5.473199844360352, -5.71619987487793, -5.393700122833252, -5.773799896240234, -5.732999801635742, -6.041800022125244, -5.385200023651123, -4.92609977722168, -5.737400054931641, -5.780700206756592, -4.880000114440918, -5.338399887084961, -5.93120002746582, -6.229800224304199, -6.0366997718811035, -5.124300003051758, -4.9096999168396, -5.579599857330322, -5.746099948883057, -5.715400218963623, -5.860000133514404, -6.128300189971924, -6.126800060272217, -4.8231000900268555, -6.258699893951416, -6.165200233459473, -4.049799919128418, -5.487400054931641, -4.946599960327148, -3.6719000339508057, -3.904599905014038, -3.7446999549865723, -3.01990008354187, -5.072500228881836, -4.288099765777588, -4.944499969482422, -3.7994000911712646, -3.2011001110076904, -4.822999954223633, -4.017899990081787, -4.980400085449219, -4.217899799346924, -4.969299793243408, -4.954400062561035, -4.549699783325195, -4.829699993133545, -4.912300109863281, -4.734499931335449, -4.916500091552734, -4.900000095367432, -4.986400127410889, -5.056000232696533, -5.056300163269043, -5.225599765777588, -5.5055999755859375, -5.499599933624268, -5.7778000831604, -5.333799839019775, -5.716899871826172, -5.903500080108643, -6.075099945068359, -5.753699779510498, -5.9527997970581055, -5.813899993896484, -5.135000228881836, -5.703499794006348, -4.958600044250488, -5.96560001373291, -5.030200004577637, -6.142000198364258, -6.0015997886657715, -5.977499961853027, -5.179699897766113, -5.513400077819824, -6.241700172424316, -5.670100212097168, -6.265200138092041, -4.254700183868408, -4.611999988555908, -6.394199848175049, -5.1894001960754395, -3.756700038909912, -5.224400043487549, -5.605100154876709, -5.372499942779541, -3.4965999126434326, -4.076099872589111, -3.595400094985962, -3.6554999351501465, -2.860100030899048, -3.4033000469207764, -4.514100074768066, -4.120500087738037, -4.665200233459473, -4.176599979400635, -4.5680999755859375, -4.739999771118164, -5.073200225830078, -4.911900043487549, -4.278200149536133, -4.702700138092041, -4.787199974060059, -4.743899822235107, -4.834499835968018, -4.860799789428711, -4.878699779510498, -5.069399833679199, -4.984600067138672, -4.956200122833252, -5.023900032043457, -5.061699867248535, -5.067599773406982, -5.247099876403809, -5.363100051879883, -5.213099956512451, -4.837800025939941, -5.509300231933594, -5.38670015335083, -4.100200176239014, -5.810500144958496, -4.4257001876831055, -5.165200233459473, -5.083899974822998, -5.786200046539307, -5.39169979095459, -5.811699867248535, -5.803199768066406, -5.832699775695801, -4.619500160217285, -4.897299766540527, -5.098199844360352, -6.136300086975098, -5.75600004196167, -5.908100128173828, -5.800899982452393, -6.1255998611450195, -5.904399871826172, -6.032400131225586, -4.323500156402588, -5.762700080871582, -5.832300186157227, -5.979400157928467, -3.887399911880493, -5.414000034332275, -4.246099948883057, -4.059199810028076, -3.305500030517578, -4.451900005340576, -3.559499979019165, -5.538099765777588, -4.6554999351501465, -4.528900146484375, -3.9323999881744385, -2.900700092315674, -3.750200033187866, -4.355000019073486, -4.353600025177002, -5.1020002365112305, -4.911099910736084, -4.05679988861084, -4.621799945831299, -3.9414000511169434, -4.603300094604492, -4.649700164794922, -4.553599834442139, -4.718100070953369, -4.7519001960754395, -4.730599880218506, -4.974800109863281, -5.191699981689453, -5.034599781036377, -5.2906999588012695, -5.2403998374938965, -5.1697998046875, -4.479400157928467, -5.4029998779296875, -5.056600093841553, -5.242700099945068, -5.353899955749512, -5.045899868011475, -5.362400054931641, -4.855100154876709, -5.723400115966797, -4.686500072479248, -4.7469000816345215, -5.690700054168701, -5.348400115966797, -5.4847002029418945, -5.994800090789795, -5.30810022354126, -5.073400020599365, -5.388500213623047, -4.948200225830078, -4.006999969482422, -5.719200134277344, -4.933800220489502, -4.997200012207031, -5.997900009155273, -5.55109977722168, -4.34119987487793, -4.348100185394287, -4.086999893188477, -3.918100118637085, -4.488800048828125, -3.7934999465942383, -2.783400058746338, -3.626800060272217, -4.3917999267578125, -4.422399997711182, -3.8436999320983887, -4.02370023727417, -4.3256001472473145, -4.6946001052856445, -4.254199981689453, -4.9253997802734375, -4.669400215148926, -4.53380012512207, -4.7221999168396, -4.692800045013428, -4.563300132751465, -4.71750020980835, -4.83489990234375, -4.9359002113342285, -4.761600017547607, -4.94379997253418, -4.848599910736084, -5.171599864959717, -5.013400077819824, -5.246699810028076, -5.332900047302246, -5.555300235748291, -5.347899913787842, -4.942200183868408, -4.950500011444092, -6.021999835968018, -5.095200061798096, -4.6442999839782715, -4.910399913787842, -5.289899826049805, -5.101399898529053, -4.793499946594238, -6.043600082397461, -5.972300052642822, -5.070499897003174, -5.8130998611450195, -5.620500087738037, -2.906399965286255, -4.24560022354126, -4.366300106048584, -5.205100059509277, -4.439599990844727, -6.157800197601318, -5.816299915313721, -5.112599849700928, -4.66510009765625, -4.288000106811523, -4.381100177764893, -4.571599960327148, -3.778599977493286, -4.088200092315674, -4.5690999031066895, -4.306700229644775, -3.5797998905181885, -4.544400215148926, -4.188499927520752, -4.19189977645874, -4.221199989318848, -4.5329999923706055, -4.269800186157227, -4.764200210571289, -4.845900058746338, -4.310100078582764, -4.794099807739258, -4.730899810791016, -4.865900039672852, -4.888199806213379, -4.422599792480469, -3.5018999576568604, -4.188799858093262, -3.461699962615967, -5.598299980163574, -5.5954999923706055, -5.558300018310547, -5.5100998878479, -5.369699954986572, -4.117400169372559, -5.78980016708374, -5.6280999183654785, -4.954400062561035, -5.457900047302246, -5.7403998374938965, -5.3805999755859375, -5.503399848937988, -5.652900218963623, -4.806000232696533, -5.7368998527526855, -5.6819000244140625, -4.7058000564575195, -4.978099822998047, -3.9725000858306885, -3.8905999660491943, -3.5246999263763428, -5.591400146484375, -3.8838000297546387, -6.001399993896484, -5.769499778747559, -4.46560001373291, -5.238800048828125, -4.071100234985352, -3.2328999042510986, -3.4879000186920166, -3.265199899673462, -3.624799966812134, -4.136899948120117, -4.3831000328063965, -4.8043999671936035, -4.418700218200684, -4.597700119018555, -4.639599800109863, -4.694499969482422, -4.928599834442139, -4.473700046539307, -4.125500202178955, -4.97790002822876, -4.795000076293945, -4.808700084686279, -4.928299903869629, -4.028900146484375, -3.893199920654297, -4.4257001876831055, -4.961599826812744, -4.519100189208984, -5.075200080871582, -4.5625, -4.03380012512207, -5.1717000007629395, -5.322500228881836, -4.662499904632568, -5.361800193786621, -4.637899875640869, -4.4527997970581055, -4.3815999031066895, -5.284599781036377, -3.5160000324249268, -5.480199813842773, -4.184500217437744, -5.320099830627441, -5.2368998527526855, -5.096799850463867, -4.2769999504089355, -4.901800155639648, -5.403800010681152, -4.679999828338623, -4.472700119018555, -4.827499866485596, -5.669099807739258, -5.3358001708984375, -4.824999809265137, -4.42519998550415, -3.9082999229431152, -3.8157999515533447, -3.9693000316619873, -3.732100009918213, -3.928100109100342, -3.9439001083374023, -4.508600234985352, -4.652900218963623, -4.543399810791016, -3.9447999000549316, -3.8714001178741455, -3.84060001373291, -4.666999816894531, -4.315199851989746, -4.632299900054932, -4.524099826812744, -4.569300174713135, -4.647299766540527]}, \"token.table\": {\"Topic\": [1, 2, 3, 4, 5, 6, 1, 2, 5, 6, 7, 1, 2, 3, 4, 5, 1, 2, 3, 4, 5, 6, 7, 1, 2, 3, 4, 5, 6, 7, 1, 2, 3, 4, 1, 2, 3, 4, 5, 7, 8, 1, 2, 3, 4, 5, 7, 1, 2, 3, 4, 5, 6, 7, 8, 1, 2, 3, 4, 5, 6, 7, 1, 2, 3, 4, 5, 6, 7, 8, 1, 2, 3, 4, 7, 8, 1, 2, 3, 4, 5, 6, 7, 8, 1, 2, 3, 4, 5, 6, 7, 8, 1, 2, 3, 4, 5, 6, 7, 8, 1, 2, 4, 5, 7, 1, 2, 3, 4, 6, 7, 1, 2, 3, 4, 5, 6, 1, 2, 3, 5, 7, 8, 1, 2, 3, 4, 5, 6, 7, 1, 2, 3, 4, 5, 6, 7, 8, 1, 2, 3, 4, 5, 6, 7, 1, 2, 3, 4, 5, 6, 7, 1, 2, 5, 6, 1, 2, 4, 6, 7, 1, 3, 4, 5, 6, 7, 8, 1, 3, 4, 5, 6, 7, 1, 2, 3, 4, 5, 1, 2, 3, 8, 1, 2, 3, 4, 5, 6, 7, 8, 1, 2, 3, 6, 7, 8, 1, 2, 3, 4, 5, 6, 8, 2, 3, 4, 6, 7, 1, 2, 3, 4, 5, 6, 7, 1, 2, 3, 4, 5, 6, 7, 8, 1, 2, 3, 4, 5, 6, 7, 1, 2, 3, 4, 5, 6, 7, 8, 1, 2, 4, 5, 8, 1, 2, 3, 7, 8, 2, 3, 4, 5, 7, 1, 2, 5, 6, 1, 2, 3, 5, 1, 5, 6, 7, 1, 2, 3, 4, 5, 7, 8, 1, 2, 3, 4, 5, 6, 7, 8, 1, 2, 3, 4, 5, 7, 1, 2, 3, 5, 6, 8, 1, 2, 3, 4, 6, 1, 2, 3, 4, 6, 7, 8, 1, 2, 3, 4, 5, 6, 7, 1, 2, 3, 4, 5, 6, 7, 8, 1, 3, 5, 1, 2, 3, 4, 5, 6, 7, 8, 1, 2, 3, 4, 5, 7, 1, 2, 3, 4, 5, 6, 7, 8, 1, 2, 3, 4, 5, 7, 8, 1, 2, 3, 4, 5, 6, 7, 8, 1, 2, 3, 6, 7, 1, 2, 3, 4, 5, 6, 8, 2, 3, 4, 5, 6, 1, 2, 3, 4, 5, 6, 7, 8, 1, 2, 3, 1, 2, 3, 4, 5, 6, 1, 2, 3, 5, 6, 7, 8, 2, 4, 5, 7, 8, 1, 2, 3, 4, 5, 6, 7, 1, 2, 3, 4, 5, 6, 7, 1, 2, 4, 7, 2, 3, 4, 5, 7, 2, 3, 4, 5, 6, 7, 8, 1, 2, 3, 4, 5, 7, 1, 2, 3, 4, 6, 1, 2, 3, 5, 6, 7, 8, 1, 2, 3, 4, 6, 7, 1, 2, 3, 4, 6, 7, 8, 1, 2, 3, 4, 5, 6, 7, 8, 1, 2, 3, 5, 6, 7, 1, 2, 3, 4, 5, 6, 7, 1, 2, 3, 4, 5, 6, 7, 1, 2, 4, 7, 8, 1, 2, 3, 4, 6, 8, 1, 2, 3, 4, 1, 2, 3, 4, 6, 1, 2, 4, 5, 6, 7, 1, 2, 3, 4, 8, 1, 2, 3, 4, 5, 6, 7, 1, 2, 3, 4, 5, 6, 8, 1, 2, 3, 4, 5, 6, 7, 8, 1, 2, 3, 4, 5, 6, 7, 1, 2, 3, 4, 5, 6, 7, 1, 2, 3, 4, 5, 6, 7, 8, 1, 2, 3, 4, 5, 6, 7, 1, 2, 4, 5, 6, 7, 1, 2, 3, 5, 7, 8, 1, 2, 3, 4, 5, 1, 2, 3, 4, 5, 6, 7, 1, 2, 3, 4, 5, 6, 7, 8, 1, 2, 3, 4, 5, 6, 7, 8, 1, 2, 3, 4, 5, 6, 7, 8, 1, 2, 3, 4, 5, 6, 7, 8, 1, 2, 3, 4, 5, 6, 7, 1, 2, 3, 5, 7, 8, 1, 2, 3, 5, 6, 8, 1, 2, 3, 4, 5, 6, 7, 8, 1, 2, 3, 4, 5, 7, 1, 2, 3, 4, 5, 6, 7, 1, 2, 3, 4, 5, 6, 7, 8, 1, 2, 3, 4, 5, 6, 7, 8, 1, 2, 3, 4, 5, 6, 7, 8, 1, 2, 5, 6, 1, 4, 5, 6, 7, 8, 1, 2, 3, 4, 6, 1, 2, 3, 4, 5, 6, 7, 1, 2, 3, 4, 5, 6, 7, 1, 2, 3, 5, 6, 1, 2, 4, 5, 6, 7, 1, 2, 3, 4, 5, 1, 2, 3, 4, 5, 7, 1, 2, 3, 4, 5, 1, 3, 4, 5, 6, 1, 2, 3, 4, 5, 6, 7, 8, 1, 2, 3, 4, 6, 7, 1, 2, 3, 4, 6, 7, 2, 3, 4, 5, 6, 7, 1, 2, 3, 4, 5, 6, 7, 8, 1, 2, 3, 4, 5, 6, 7, 8, 1, 2, 3, 4, 6, 2, 3, 4, 6, 1, 2, 3, 4, 5, 8, 1, 2, 3, 4, 5, 6, 7, 8, 1, 2, 3, 5, 1, 2, 3, 4, 5, 6, 7, 8, 1, 2, 6, 7, 8, 1, 2, 3, 4, 5, 6, 7, 1, 2, 3, 5, 6, 7, 1, 2, 3, 4, 5, 6, 7, 1, 2, 4, 6, 1, 2, 3, 4, 5, 6, 7, 8, 2, 3, 4, 6, 1, 2, 3, 4, 5, 6, 7, 8, 1, 2, 3, 4, 5, 6, 7, 1, 3, 4, 6, 7, 1, 2, 3, 4, 5, 6, 7, 1, 4, 5, 6, 8, 1, 2, 3, 5, 6, 7, 8, 1, 2, 4, 5, 6, 8, 1, 2, 4, 5, 6, 8, 1, 2, 4, 5, 6, 7, 8, 1, 2, 3, 5, 7, 1, 2, 3, 4, 5, 6, 7, 8, 1, 2, 6, 8, 1, 2, 3, 4, 5, 6, 7, 8, 1, 2, 3, 4, 5, 6, 7, 1, 3, 5, 6, 1, 2, 3, 4, 5, 1, 2, 3, 4, 5, 6, 7, 1, 2, 3, 4, 6, 7, 1, 2, 3, 4, 5, 6, 1, 2, 3, 4, 6, 1, 3, 5, 6, 1, 2, 3, 4, 5, 6, 7, 8, 1, 3, 4, 5, 6, 1, 2, 3, 4, 5, 6, 7, 8, 1, 2, 3, 4, 7, 1, 2, 3, 4, 5, 7, 8, 1, 2, 3, 4, 5, 6, 7, 8, 3, 4, 5, 8, 1, 2, 3, 4, 5, 6, 7, 8, 1, 2, 3, 4, 5, 6, 7, 1, 2, 3, 4, 5, 7, 8, 1, 2, 3, 4, 5, 6, 7, 8, 1, 2, 3, 4, 5, 6, 7, 1, 2, 3, 4, 5, 6, 7, 8, 1, 2, 3, 4, 5, 6, 7, 8, 1, 5, 6, 8, 1, 2, 3, 4, 6, 1, 2, 3, 5, 7, 1, 2, 3, 4, 5, 6, 7, 8, 1, 3, 4, 6, 1, 2, 3, 4, 5, 6, 7, 8, 1, 2, 3, 4, 5, 6, 1, 2, 3, 4, 6, 7, 8, 1, 2, 3, 4, 5, 7, 1, 2, 4, 5, 6, 1, 2, 3, 4, 5, 6, 7, 2, 4, 5, 6, 1, 2, 3, 4, 5, 6, 7, 8, 1, 2, 4, 5, 6, 7, 8, 1, 2, 3, 4, 5, 6, 7, 1, 3, 4, 5, 8, 1, 2, 3, 4, 5, 6, 7, 8, 1, 2, 4, 5, 6, 7, 1, 2, 3, 4, 5, 7, 8, 1, 2, 3, 4, 5, 6, 7, 8, 1, 2, 3, 4, 5, 6, 7, 8, 2, 3, 4, 6, 7, 1, 2, 3, 4, 5, 7, 8, 1, 2, 4, 5, 7, 8, 1, 2, 3, 4, 5, 6, 7, 8, 1, 2, 3, 4, 5, 6, 7, 8, 1, 2, 3, 4, 6, 1, 2, 3, 4, 6, 1, 2, 3, 4, 6, 7, 1, 2, 3, 4, 5, 6, 7, 8, 2, 5, 6, 8, 1, 2, 3, 4, 6, 7, 1, 2, 3, 4, 5, 6, 7, 8, 1, 2, 3, 4, 5, 6, 7, 8, 1, 2, 3, 4, 5, 6, 7, 8, 2, 3, 4, 5, 1, 3, 4, 5, 6, 7, 1, 3, 4, 5, 6, 7, 8, 1, 2, 3, 4, 5, 6, 1, 2, 3, 4, 5, 6, 1, 2, 3, 4, 7, 1, 3, 4, 6, 1, 2, 4, 5, 7, 1, 2, 3, 4, 6, 7, 8, 1, 2, 3, 4, 5, 6, 7, 1, 2, 3, 4, 5, 6, 2, 3, 4, 6, 1, 2, 3, 4, 5, 6, 7, 8, 1, 2, 3, 4, 5, 6, 7, 8, 1, 2, 3, 4, 5, 6, 7, 8, 1, 2, 3, 4, 5, 6, 1, 2, 3, 7, 1, 2, 3, 4, 7, 1, 2, 3, 4, 6, 7, 1, 2, 3, 4, 8, 1, 2, 3, 5, 6, 1, 2, 3, 4, 5, 6, 7, 8, 1, 2, 3, 5, 6, 7, 1, 2, 4, 7, 1, 2, 3, 4, 7, 8, 1, 2, 3, 4, 6, 1, 2, 3, 5, 7, 1, 2, 1, 2, 3, 4, 5, 6, 7, 1, 2, 3, 4, 5, 6, 7, 2, 3, 4, 6, 8, 1, 2, 3, 5, 6, 1, 2, 3, 4, 5, 6, 7, 8, 1, 2, 3, 4, 5, 6, 7, 8, 1, 2, 3, 4, 5, 6, 7, 8, 2, 3, 4, 5, 6, 7, 1, 3, 4, 6, 7, 1, 3, 4, 5, 6, 7, 8, 1, 2, 3, 4, 5, 7, 8, 1, 2, 3, 4, 5, 6, 7, 8, 1, 2, 3, 4, 5, 6, 1, 2, 3, 4, 6, 7, 1, 2, 3, 4, 5, 6, 7, 8, 1, 2, 3, 4, 5, 6, 7, 8, 1, 2, 3, 4, 5, 6, 8, 1, 2, 3, 4, 5, 7, 1, 2, 3, 4, 5, 6, 1, 2, 3, 4, 5, 6, 7, 8, 1, 2, 3, 4, 5, 6, 7, 8, 1, 2, 3, 5, 1, 2, 3, 4, 5, 8, 1, 2, 3, 4, 6, 7, 8, 1, 2, 3, 4, 5, 6, 7, 1, 2, 3, 4, 5, 6, 7, 8, 1, 2, 3, 4, 5, 6, 7, 1, 2, 5, 1, 2, 3, 4, 5, 6, 7, 1, 2, 4, 5, 6, 7, 1, 2, 3, 5, 6, 7, 1, 2, 3, 4, 5, 6, 7, 8, 1, 2, 3, 4, 5, 6, 8, 1, 2, 3, 4, 5, 6, 7, 8, 1, 2, 3, 4, 5, 7, 8, 1, 2, 3, 5, 6, 7, 8, 1, 2, 3, 4, 5, 6, 7, 8, 2, 3, 4, 7, 1, 3, 6, 8, 1, 2, 3, 4, 5, 6, 7, 1, 3, 4, 6, 7, 1, 2, 3, 4, 5, 6, 8, 1, 2, 3, 4, 5, 6, 7, 8, 1, 2, 3, 4, 5, 6, 7, 8, 1, 2, 3, 4, 5, 6, 7, 1, 2, 3, 8, 1, 2, 3, 4, 5, 6, 7, 8, 2, 4, 5, 7, 8, 1, 2, 3, 4, 5, 6, 8, 1, 2, 3, 4, 5, 7, 8, 1, 2, 3, 4, 5, 6, 7, 8, 1, 2, 3, 4, 5, 6, 7, 1, 2, 3, 4, 5, 6, 7, 2, 3, 4, 5, 6, 7, 1, 2, 3, 4, 5, 7, 8, 1, 2, 3, 4, 5, 6, 7, 1, 2, 3, 4, 5, 6, 7, 1, 2, 3, 5, 6, 7, 8, 1, 2, 3, 4, 5, 6, 7, 8, 1, 2, 3, 5, 7, 1, 2, 3, 4, 5, 6], \"Freq\": [0.5977092385292053, 0.1280805468559265, 0.08538703620433807, 0.15654289722442627, 0.014231172390282154, 0.028462344780564308, 0.040753450244665146, 0.6520552039146423, 0.040753450244665146, 0.16301380097866058, 0.12226034700870514, 0.16285136342048645, 0.45598384737968445, 0.06514054536819458, 0.16285136342048645, 0.16285136342048645, 0.29365551471710205, 0.023305993527173996, 0.16314195096492767, 0.18644794821739197, 0.12585236132144928, 0.10720756649971008, 0.09788516908884048, 0.40322569012641907, 0.04244481027126312, 0.06366721540689468, 0.2122240513563156, 0.02122240513563156, 0.19100163877010345, 0.0530560128390789, 0.08092520385980606, 0.5260137915611267, 0.04046260192990303, 0.3641633987426758, 0.05838381499052048, 0.02919190749526024, 0.08757571876049042, 0.11676762998104095, 0.35030287504196167, 0.2335352599620819, 0.08757571876049042, 0.11715321242809296, 0.02343064360320568, 0.16401450335979462, 0.2811677157878876, 0.11715321242809296, 0.2811677157878876, 0.21084460616111755, 0.11860009282827377, 0.03953336551785469, 0.026355575770139694, 0.10542230308055878, 0.14495566487312317, 0.06588894128799438, 0.28991132974624634, 0.05202749744057655, 0.23412373661994934, 0.03902062401175499, 0.013006874360144138, 0.19510310888290405, 0.4292268455028534, 0.03902062401175499, 0.0793582871556282, 0.052905526012182236, 0.1587165743112564, 0.052905526012182236, 0.3571122884750366, 0.1587165743112564, 0.09258466958999634, 0.06613190472126007, 0.10729134827852249, 0.23604096472263336, 0.04291653633117676, 0.10729134827852249, 0.10729134827852249, 0.3862488567829132, 0.07316824793815613, 0.1881469190120697, 0.16724170744419098, 0.020905213430523872, 0.010452606715261936, 0.20905213057994843, 0.07316824793815613, 0.2404099553823471, 0.08679444342851639, 0.2808764576911926, 0.1808217614889145, 0.09884922951459885, 0.04701365530490875, 0.11452044546604156, 0.14224644005298615, 0.04821913316845894, 0.13714571297168732, 0.06095365062355995, 0.21333777904510498, 0.030476825311779976, 0.06095365062355995, 0.07619205862283707, 0.3809603154659271, 0.030476825311779976, 0.18653666973114014, 0.18653666973114014, 0.046634167432785034, 0.1399025022983551, 0.4197075068950653, 0.44207796454429626, 0.08037781715393066, 0.20094452798366547, 0.16075563430786133, 0.04018890857696533, 0.08037781715393066, 0.10731582343578339, 0.5365791320800781, 0.035771943628787994, 0.035771943628787994, 0.14308777451515198, 0.10731582343578339, 0.4737226068973541, 0.09474451839923859, 0.28423357009887695, 0.06316301226615906, 0.03158150613307953, 0.06316301226615906, 0.14994946122169495, 0.14994946122169495, 0.18993598222732544, 0.20493093132972717, 0.23492081463336945, 0.03998652100563049, 0.02998989075422287, 0.20422403514385223, 0.12836939096450806, 0.22756391763687134, 0.2625737488269806, 0.08752458542585373, 0.05251475051045418, 0.0233398899435997, 0.005834972485899925, 0.09172121435403824, 0.4586060643196106, 0.030573738738894463, 0.15286868810653687, 0.061147477477788925, 0.030573738738894463, 0.18344242870807648, 0.1843709945678711, 0.1570567637681961, 0.10242832452058792, 0.07511410862207413, 0.10925688594579697, 0.23899942636489868, 0.12291399389505386, 0.3230513632297516, 0.6461027264595032, 0.029368305578827858, 0.029368305578827858, 0.23278598487377167, 0.18622878193855286, 0.046557195484638214, 0.3724575638771057, 0.13967159390449524, 0.41325366497039795, 0.014759059064090252, 0.19186776876449585, 0.014759059064090252, 0.11807247251272202, 0.08855435252189636, 0.14759059250354767, 0.5090442895889282, 0.029943780973553658, 0.11977512389421463, 0.029943780973553658, 0.23955024778842926, 0.11977512389421463, 0.3477407693862915, 0.023182718083262444, 0.023182718083262444, 0.04636543616652489, 0.5563852190971375, 0.11765240132808685, 0.6666969656944275, 0.11765240132808685, 0.11765240132808685, 0.22183847427368164, 0.011675708927214146, 0.25686559081077576, 0.10508137941360474, 0.011675708927214146, 0.03502712771296501, 0.011675708927214146, 0.33859556913375854, 0.0914444550871849, 0.4115000367164612, 0.13716667890548706, 0.13716667890548706, 0.04572222754359245, 0.1828889101743698, 0.19190818071365356, 0.04112318158149719, 0.013707727193832397, 0.4249395430088043, 0.16449272632598877, 0.09595409035682678, 0.08224636316299438, 0.03594796359539032, 0.07189592719078064, 0.25163576006889343, 0.28758370876312256, 0.3954276144504547, 0.13013304769992828, 0.04337768256664276, 0.3614806830883026, 0.18796995282173157, 0.08675536513328552, 0.1445922702550888, 0.05783690884709358, 0.18931110203266144, 0.02804609015583992, 0.10517283529043198, 0.2804608941078186, 0.3014954626560211, 0.01402304507791996, 0.04206913337111473, 0.04206913337111473, 0.1872624158859253, 0.46815603971481323, 0.09363120794296265, 0.04012766107916832, 0.04012766107916832, 0.013375886715948582, 0.14713475108146667, 0.11951705068349838, 0.20716288685798645, 0.07967803627252579, 0.031871214509010315, 0.08764583617448807, 0.34261554479599, 0.007967803627252579, 0.11951705068349838, 0.5349143147468567, 0.21396572887897491, 0.03566095605492592, 0.14264382421970367, 0.03566095605492592, 0.4681326746940613, 0.2048080414533615, 0.11703316867351532, 0.02925829216837883, 0.14629146456718445, 0.4150683879852295, 0.09578500688076019, 0.4150683879852295, 0.06385667622089386, 0.03192833811044693, 0.21481949090957642, 0.10740974545478821, 0.6086552143096924, 0.07160650193691254, 0.03845752030611038, 0.8076079487800598, 0.03845752030611038, 0.11537256091833115, 0.2567915916442871, 0.11005353927612305, 0.2934761047363281, 0.36684513092041016, 0.135100319981575, 0.135100319981575, 0.27020063996315, 0.027020063251256943, 0.054040126502513885, 0.054040126502513885, 0.3242407441139221, 0.08874403685331345, 0.03327901288866997, 0.1774880737066269, 0.11093004047870636, 0.2995111048221588, 0.1996740847826004, 0.07765103131532669, 0.02218600921332836, 0.18980146944522858, 0.16060124337673187, 0.05840045213699341, 0.07300056517124176, 0.4818037152290344, 0.043800339102745056, 0.1628018170595169, 0.02960033155977726, 0.3552039861679077, 0.05920066311955452, 0.31080347299575806, 0.08880099654197693, 0.13038000464439392, 0.3042200207710266, 0.39114001393318176, 0.13038000464439392, 0.04346000403165817, 0.1956067979335785, 0.09780339896678925, 0.01956067979335785, 0.1173640787601471, 0.4694563150405884, 0.0391213595867157, 0.0391213595867157, 0.016707075759768486, 0.016707075759768486, 0.35084858536720276, 0.08353537321090698, 0.016707075759768486, 0.4176768660545349, 0.08353537321090698, 0.06537297368049622, 0.04358198493719101, 0.26149189472198486, 0.021790992468595505, 0.06537297368049622, 0.17432793974876404, 0.04358198493719101, 0.30507388710975647, 0.8065297603607178, 0.028804633766412735, 0.1728277951478958, 0.14124757051467896, 0.01569417491555214, 0.14124757051467896, 0.04708252474665642, 0.01569417491555214, 0.01569417491555214, 0.01569417491555214, 0.6120728254318237, 0.031374409794807434, 0.12549763917922974, 0.031374409794807434, 0.40786734223365784, 0.031374409794807434, 0.40786734223365784, 0.19297747313976288, 0.009648873470723629, 0.12543535232543945, 0.14473310112953186, 0.08683986216783524, 0.10613761097192764, 0.16403084993362427, 0.17367972433567047, 0.11790074408054352, 0.17685110867023468, 0.11790074408054352, 0.05895037204027176, 0.14148089289665222, 0.07074044644832611, 0.3183320164680481, 0.14714568853378296, 0.03783746063709259, 0.17237065732479095, 0.11771654337644577, 0.054654110223054886, 0.15555401146411896, 0.15555401146411896, 0.15975816547870636, 0.120904840528965, 0.120904840528965, 0.120904840528965, 0.120904840528965, 0.48361936211586, 0.010506007820367813, 0.26265019178390503, 0.04202403128147125, 0.44125235080718994, 0.03151802346110344, 0.21012015640735626, 0.021012015640735626, 0.17034846544265747, 0.13627877831459045, 0.5791848301887512, 0.034069694578647614, 0.06813938915729523, 0.04658915847539902, 0.062118880450725555, 0.2018863558769226, 0.04658915847539902, 0.12423776090145111, 0.18635663390159607, 0.24847552180290222, 0.04658915847539902, 0.07756505906581879, 0.23269516229629517, 0.6980854868888855, 0.1663249433040619, 0.07128211855888367, 0.19008564949035645, 0.09504282474517822, 0.35641059279441833, 0.11880353093147278, 0.04054969176650047, 0.22302329540252686, 0.20274844765663147, 0.08109938353300095, 0.020274845883250237, 0.04054969176650047, 0.38522207736968994, 0.1846419721841812, 0.03077366203069687, 0.5539259314537048, 0.1846419721841812, 0.0923209860920906, 0.32959622144699097, 0.16247700154781342, 0.15783479809761047, 0.11141280084848404, 0.12533940374851227, 0.04177980124950409, 0.06963299959897995, 0.096115343272686, 0.07208650559186935, 0.192230686545372, 0.31237486004829407, 0.048057671636343, 0.21625952422618866, 0.07208650559186935, 0.23032653331756592, 0.5630204081535339, 0.15355102717876434, 0.05118367448449135, 0.11277614533901215, 0.2255522906780243, 0.15036819875240326, 0.037592049688100815, 0.4511045813560486, 0.17615023255348206, 0.019572248682379723, 0.019572248682379723, 0.039144497364759445, 0.019572248682379723, 0.05871674418449402, 0.6654564142227173, 0.1875578612089157, 0.22506943345069885, 0.1875578612089157, 0.03751157224178314, 0.3376041650772095, 0.03751157224178314, 0.16508159041404724, 0.4127039909362793, 0.12381119281053543, 0.12381119281053543, 0.16508159041404724, 0.0879393145442009, 0.4690096974372864, 0.0293131060898304, 0.1465655267238617, 0.0586262121796608, 0.0879393145442009, 0.1465655267238617, 0.17360597848892212, 0.17360597848892212, 0.14880511164665222, 0.47121620178222656, 0.024800853803753853, 0.024800853803753853, 0.058411531150341034, 0.1533302664756775, 0.03650720790028572, 0.09491873532533646, 0.25555044412612915, 0.26285189390182495, 0.13872738182544708, 0.15434376895427704, 0.1062694787979126, 0.17458558082580566, 0.21000874042510986, 0.10373925417661667, 0.19735760986804962, 0.0177115797996521, 0.0354231595993042, 0.7770723700523376, 0.055505167692899704, 0.015858620405197144, 0.03171724081039429, 0.07929310202598572, 0.03964655101299286, 0.3365287482738495, 0.05364951118826866, 0.07315842807292938, 0.019508913159370422, 0.10242179781198502, 0.12680794298648834, 0.2828792333602905, 0.32574284076690674, 0.04401930421590805, 0.09684246778488159, 0.01760772056877613, 0.03521544113755226, 0.04401930421590805, 0.4401930272579193, 0.660818338394165, 0.07342426478862762, 0.03671213239431381, 0.03671213239431381, 0.18356065452098846, 0.08573722094297409, 0.08573722094297409, 0.628739595413208, 0.08573722094297409, 0.11431629210710526, 0.028579073026776314, 0.5473506450653076, 0.1368376612663269, 0.02736753039062023, 0.2736753225326538, 0.1556454449892044, 0.4669363498687744, 0.1556454449892044, 0.0518818162381649, 0.1556454449892044, 0.18172235786914825, 0.46728605031967163, 0.02596033737063408, 0.18172235786914825, 0.07788100838661194, 0.05192067474126816, 0.08102859556674957, 0.040514297783374786, 0.6077144742012024, 0.040514297783374786, 0.2836000919342041, 0.040250714868307114, 0.06037607043981552, 0.10062678158283234, 0.08050142973661423, 0.040250714868307114, 0.5433846116065979, 0.14087750017642975, 0.1158658042550087, 0.1158658042550087, 0.0772438645362854, 0.386219322681427, 0.1544877290725708, 0.0386219322681427, 0.0772438645362854, 0.1329524964094162, 0.04898249730467796, 0.040235623717308044, 0.27115312218666077, 0.1766868680715561, 0.05248124897480011, 0.2134237438440323, 0.06472687423229218, 0.08756349235773087, 0.01459391601383686, 0.16053307056427002, 0.01459391601383686, 0.6275383830070496, 0.07296957820653915, 0.02918783202767372, 0.024631725624203682, 0.024631725624203682, 0.17242208123207092, 0.024631725624203682, 0.5911614298820496, 0.12315862625837326, 0.049263451248407364, 0.33244165778160095, 0.1208878755569458, 0.1208878755569458, 0.015110984444618225, 0.17377632856369019, 0.022666476666927338, 0.14355435967445374, 0.0604439377784729, 0.12288876622915268, 0.36866629123687744, 0.07373325526714325, 0.19662202894687653, 0.17204426229000092, 0.012288876809179783, 0.04915550723671913, 0.03716579079627991, 0.557486891746521, 0.14866316318511963, 0.03716579079627991, 0.22299474477767944, 0.03716579079627991, 0.08135329186916351, 0.37964868545532227, 0.08135329186916351, 0.027117762714624405, 0.27117761969566345, 0.16270658373832703, 0.11003237217664719, 0.11003237217664719, 0.4034520387649536, 0.33009710907936096, 0.03667745739221573, 0.4116188883781433, 0.05311211571097374, 0.07302915304899216, 0.09294620156288147, 0.32531169056892395, 0.02655605785548687, 0.019917042925953865, 0.05905623361468315, 0.13779787719249725, 0.0787416398525238, 0.49213525652885437, 0.009842704981565475, 0.1574832797050476, 0.01968540996313095, 0.04921352490782738, 0.36857831478118896, 0.11667657643556595, 0.15437208116054535, 0.13881520926952362, 0.14001189172267914, 0.02752370573580265, 0.029917070642113686, 0.024531997740268707, 0.22049762308597565, 0.16207517683506012, 0.23180519044399261, 0.0697300136089325, 0.15265218913555145, 0.09046056121587753, 0.0339227095246315, 0.03769189864397049, 0.09538153558969498, 0.06358768790960312, 0.16351120173931122, 0.17259515821933746, 0.29068657755851746, 0.06812966614961624, 0.12717537581920624, 0.022709889337420464, 0.07925201952457428, 0.03170080855488777, 0.07925201952457428, 0.3170080780982971, 0.38040968775749207, 0.04755121096968651, 0.06340161710977554, 0.08879353851079941, 0.22198383510112762, 0.1331903040409088, 0.08879353851079941, 0.08879353851079941, 0.39957091212272644, 0.6703522205352783, 0.03943248465657234, 0.03943248465657234, 0.15772993862628937, 0.03943248465657234, 0.03943248465657234, 0.22712257504463196, 0.017470967024564743, 0.06988386809825897, 0.13976773619651794, 0.034941934049129486, 0.017470967024564743, 0.20965160429477692, 0.26206451654434204, 0.1683799773454666, 0.0841899886727333, 0.0841899886727333, 0.1683799773454666, 0.11225332319736481, 0.39288660883903503, 0.08581274747848511, 0.32952097058296204, 0.3604135513305664, 0.06521768867969513, 0.0926777720451355, 0.05835266783833504, 0.0068650199100375175, 0.11549394577741623, 0.041247837245464325, 0.3712305426597595, 0.10724437981843948, 0.09899481385946274, 0.06599654257297516, 0.0742461085319519, 0.13199308514595032, 0.13131125271320343, 0.07503499835729599, 0.09379374980926514, 0.48772749304771423, 0.05627625063061714, 0.018758749589323997, 0.037517499178647995, 0.11255250126123428, 0.12580937147140503, 0.16281214356422424, 0.05920441448688507, 0.11100827902555466, 0.15541158616542816, 0.21461600065231323, 0.15541158616542816, 0.014801103621721268, 0.6440824866294861, 0.1515488177537918, 0.1515488177537918, 0.0757744088768959, 0.11629734933376312, 0.03876578435301781, 0.27136048674583435, 0.07753156870603561, 0.03876578435301781, 0.4264236092567444, 0.19297060370445251, 0.0643235370516777, 0.4824264943599701, 0.16080883145332336, 0.09648530185222626, 0.40161702036857605, 0.03212936222553253, 0.40161702036857605, 0.03212936222553253, 0.06425872445106506, 0.016064681112766266, 0.0481940396130085, 0.40322145819664, 0.10710570216178894, 0.012600670568645, 0.30871644616127014, 0.03780201077461243, 0.06300335377454758, 0.06930369138717651, 0.5221956372261047, 0.09324922412633896, 0.055949531495571136, 0.2797476649284363, 0.037299688905477524, 0.11274519562721252, 0.07516346126794815, 0.4885624945163727, 0.18790864944458008, 0.11274519562721252, 0.037581730633974075, 0.6223940849304199, 0.20005524158477783, 0.055570900440216064, 0.0889134407043457, 0.03334254026412964, 0.08485977351665497, 0.042429886758327484, 0.16971954703330994, 0.12728966772556305, 0.12728966772556305, 0.46672874689102173, 0.6551907658576965, 0.07708126306533813, 0.03854063153266907, 0.15416252613067627, 0.07708126306533813, 0.3593999445438385, 0.10781998187303543, 0.3953399360179901, 0.07187999039888382, 0.07187999039888382, 0.23032163083553314, 0.027096662670373917, 0.013548331335186958, 0.027096662670373917, 0.3658049404621124, 0.08128998428583145, 0.040644992142915726, 0.20322495698928833, 0.11840438097715378, 0.07893625646829605, 0.07893625646829605, 0.039468128234148026, 0.23680876195430756, 0.4341493844985962, 0.09482547640800476, 0.12643396854400635, 0.06321698427200317, 0.6321698427200317, 0.03160849213600159, 0.03160849213600159, 0.03572339937090874, 0.3929573893547058, 0.03572339937090874, 0.03572339937090874, 0.35723400115966797, 0.10717019438743591, 0.23797252774238586, 0.3371277451515198, 0.049577612429857254, 0.009915522299706936, 0.1883949190378189, 0.089239701628685, 0.059493131935596466, 0.029746565967798233, 0.05349128320813179, 0.2715711295604706, 0.09875313192605972, 0.3538654148578644, 0.08640899509191513, 0.07406485080718994, 0.04526185244321823, 0.01645885594189167, 0.02058052271604538, 0.4116104543209076, 0.02058052271604538, 0.4939325451850891, 0.06174156814813614, 0.17735472321510315, 0.07094188779592514, 0.42565131187438965, 0.31923848390579224, 0.021475080400705338, 0.12885047495365143, 0.3865514397621155, 0.08590032160282135, 0.25770094990730286, 0.12885047495365143, 0.04417536407709122, 0.4196659326553345, 0.2208768129348755, 0.033131521195173264, 0.05521920323371887, 0.09939456731081009, 0.011043841019272804, 0.1214822456240654, 0.7018399834632874, 0.08772999793291092, 0.04386499896645546, 0.17545999586582184, 0.1277460902929306, 0.39485156536102295, 0.02322656288743019, 0.011613281443715096, 0.02322656288743019, 0.05806640535593033, 0.16258594393730164, 0.20903906226158142, 0.023124665021896362, 0.531867265701294, 0.023124665021896362, 0.23124665021896362, 0.1849973201751709, 0.42776650190353394, 0.21388325095176697, 0.08806957304477692, 0.018872052431106567, 0.1132323145866394, 0.12581367790699005, 0.01258136797696352, 0.0588977187871933, 0.0588977187871933, 0.1177954375743866, 0.5889772176742554, 0.02944885939359665, 0.14724430441856384, 0.30604416131973267, 0.01055324636399746, 0.16357532143592834, 0.04748960956931114, 0.3640870153903961, 0.02110649272799492, 0.08970259875059128, 0.7542773485183716, 0.09428466856479645, 0.09428466856479645, 0.047142334282398224, 0.136396124958992, 0.3210992217063904, 0.20743578672409058, 0.036940619349479675, 0.24153481423854828, 0.019891101866960526, 0.008524757809937, 0.0284158606082201, 0.2359236627817154, 0.566216766834259, 0.18873892724514008, 0.04718473181128502, 0.23975549638271332, 0.13398100435733795, 0.08461958169937134, 0.04936142638325691, 0.3455299735069275, 0.04230979084968567, 0.0775679498910904, 0.035258159041404724, 0.12273440510034561, 0.0818229392170906, 0.0409114696085453, 0.1636458784341812, 0.15000872313976288, 0.38184037804603577, 0.0409114696085453, 0.29679083824157715, 0.039572108536958694, 0.37593504786491394, 0.23743265867233276, 0.039572108536958694, 0.0622241273522377, 0.0622241273522377, 0.03111206367611885, 0.15556031465530396, 0.03111206367611885, 0.4977930188179016, 0.1244482547044754, 0.0760447233915329, 0.19011181592941284, 0.11406708508729935, 0.49429070949554443, 0.11406708508729935, 0.22721408307552338, 0.06491830945014954, 0.03245915472507477, 0.04868873208761215, 0.22721408307552338, 0.0973774641752243, 0.2921324074268341, 0.0856819748878479, 0.11424263566732407, 0.14280329644680023, 0.1713639497756958, 0.3427278995513916, 0.11424263566732407, 0.05879025161266327, 0.5291122794151306, 0.0881853774189949, 0.13227806985378265, 0.05879025161266327, 0.11758050322532654, 0.21388670802116394, 0.21388670802116394, 0.10694335401058197, 0.03564778342843056, 0.07129556685686111, 0.03564778342843056, 0.3208300471305847, 0.18643535673618317, 0.47456270456314087, 0.2711786925792694, 0.033897336572408676, 0.016948668286204338, 0.2233399599790573, 0.2233399599790573, 0.2233399599790573, 0.0744466558098793, 0.1082860454916954, 0.006767877843230963, 0.1150539219379425, 0.0203036330640316, 0.36201778054237366, 0.024134518578648567, 0.4102868139743805, 0.19307614862918854, 0.20367728173732758, 0.11489487439393997, 0.12533986568450928, 0.088782399892807, 0.2350122481584549, 0.05222494155168533, 0.16189731657505035, 0.010444988496601582, 0.5734456777572632, 0.15790534019470215, 0.09141887724399567, 0.02493242174386978, 0.02493242174386978, 0.0831080749630928, 0.04986484348773956, 0.7759643197059631, 0.05542602390050888, 0.08313903212547302, 0.08313903212547302, 0.46493545174598694, 0.14529232680797577, 0.0871753990650177, 0.20340925455093384, 0.0871753990650177, 0.03708747774362564, 0.14834991097450256, 0.11126242578029633, 0.07417495548725128, 0.48213720321655273, 0.11126242578029633, 0.07417495548725128, 0.0874495804309845, 0.30607354640960693, 0.4372479021549225, 0.04372479021549225, 0.13117437064647675, 0.0874495804309845, 0.24544912576675415, 0.4090818762779236, 0.12272456288337708, 0.08181637525558472, 0.04090818762779236, 0.12272456288337708, 0.16422614455223083, 0.16422614455223083, 0.046921756118535995, 0.07038263976573944, 0.5396001935005188, 0.4984532594680786, 0.19938130676746368, 0.04984532669186592, 0.2492266297340393, 0.4516936242580414, 0.31422165036201477, 0.019638853147625923, 0.039277706295251846, 0.039277706295251846, 0.05891655758023262, 0.039277706295251846, 0.039277706295251846, 0.057932592928409576, 0.08689889311790466, 0.11586518585681915, 0.20276407897472382, 0.521393358707428, 0.07840897142887115, 0.12272708863019943, 0.25909051299095154, 0.14999978244304657, 0.11931800097227097, 0.06477262824773788, 0.047727201133966446, 0.1568179428577423, 0.04831862822175026, 0.19327451288700104, 0.3865490257740021, 0.28991177678108215, 0.1207965761423111, 0.1327577531337738, 0.08297359198331833, 0.21573133766651154, 0.0663788765668869, 0.09956831485033035, 0.016594719141721725, 0.36508381366729736, 0.19181278347969055, 0.16339607536792755, 0.007104177493602037, 0.07814595103263855, 0.02131253108382225, 0.34810468554496765, 0.142083540558815, 0.0568334199488163, 0.03193143382668495, 0.03193143382668495, 0.7982857823371887, 0.15965716540813446, 0.291012167930603, 0.13431330025196075, 0.11192775517702103, 0.11192775517702103, 0.15222173929214478, 0.008954220451414585, 0.1746072918176651, 0.01343133021146059, 0.18591617047786713, 0.1593567132949829, 0.2478882372379303, 0.07967835664749146, 0.10623781383037567, 0.053118906915187836, 0.16820986568927765, 0.08382871747016907, 0.08382871747016907, 0.0658654198050499, 0.0658654198050499, 0.11376754939556122, 0.5568622350692749, 0.023951062932610512, 0.03879222646355629, 0.07758445292711258, 0.07758445292711258, 0.019396113231778145, 0.15516890585422516, 0.13577279448509216, 0.4267144799232483, 0.058188341557979584, 0.13017113506793976, 0.10650365054607391, 0.023667478933930397, 0.05916869640350342, 0.03550121933221817, 0.10650365054607391, 0.5561857223510742, 0.037229377776384354, 0.2606056332588196, 0.018614688888192177, 0.18614688515663147, 0.018614688888192177, 0.44675254821777344, 0.037229377776384354, 0.018614688888192177, 0.14665360748767853, 0.1257030963897705, 0.06983505189418793, 0.39107629656791687, 0.05586804077029228, 0.020950516685843468, 0.1536371111869812, 0.034917525947093964, 0.11690597981214523, 0.6429829001426697, 0.1461324691772461, 0.11690597981214523, 0.2714947462081909, 0.16289684176445007, 0.10859789699316025, 0.054298948496580124, 0.434391587972641, 0.11292077600955963, 0.23995664715766907, 0.056460388004779816, 0.49402838945388794, 0.09880568087100983, 0.055563412606716156, 0.0703803226351738, 0.11112682521343231, 0.13335219025611877, 0.18521137535572052, 0.2111409604549408, 0.09630991518497467, 0.1370564103126526, 0.07403561472892761, 0.5182492733001709, 0.25912463665008545, 0.14807122945785522, 0.0880391076207161, 0.14526453614234924, 0.05722542107105255, 0.18488213419914246, 0.05722542107105255, 0.2024899572134018, 0.23330363631248474, 0.030813688412308693, 0.042303431779146194, 0.16921372711658478, 0.5076411962509155, 0.08460686355829239, 0.16921372711658478, 0.042303431779146194, 0.031903330236673355, 0.06380666047334671, 0.031903330236673355, 0.22332331538200378, 0.15951664745807648, 0.350936621427536, 0.19141997396945953, 0.262714147567749, 0.05838092043995857, 0.4232616722583771, 0.014595230109989643, 0.16054753959178925, 0.05838092043995857, 0.022541934624314308, 0.09016773849725723, 0.24796129763126373, 0.09016773849725723, 0.5410064458847046, 0.32976630330085754, 0.14239908754825592, 0.06745219975709915, 0.11991501599550247, 0.044968131929636, 0.1349043995141983, 0.15738846361637115, 0.1128574088215828, 0.03761913627386093, 0.7900018692016602, 0.03761913627386093, 0.42252564430236816, 0.13203926384449005, 0.07042094320058823, 0.10563141107559204, 0.14084188640117645, 0.02640785276889801, 0.044013090431690216, 0.05281570553779602, 0.1021503284573555, 0.1021503284573555, 0.3745512068271637, 0.0340501107275486, 0.0340501107275486, 0.0340501107275486, 0.3064509928226471, 0.1916930228471756, 0.12482336163520813, 0.20952492952346802, 0.12928134202957153, 0.026747863739728928, 0.04012179374694824, 0.2808525562286377, 0.20448458194732666, 0.16358765959739685, 0.12269075214862823, 0.3680722415447235, 0.12269075214862823, 0.2615605890750885, 0.09263604879379272, 0.24702945351600647, 0.1325967013835907, 0.09808522462844849, 0.09445244073867798, 0.03814425319433212, 0.03814425319433212, 0.1850922852754593, 0.061697427183389664, 0.061697427183389664, 0.39075037837028503, 0.14396066963672638, 0.16452647745609283, 0.2687912881374359, 0.21676716208457947, 0.017341373488307, 0.2687912881374359, 0.034682746976614, 0.0086706867441535, 0.18208441138267517, 0.15652470290660858, 0.06172805279493332, 0.07054634392261505, 0.26454880833625793, 0.14991098642349243, 0.05290976166725159, 0.20722989737987518, 0.03747774660587311, 0.10606460273265839, 0.029698088765144348, 0.03818325698375702, 0.3097086548805237, 0.15273302793502808, 0.021212920546531677, 0.27152538299560547, 0.07636651396751404, 0.023678896948695183, 0.047357793897390366, 0.023678896948695183, 0.023678896948695183, 0.8761191964149475, 0.08927754312753677, 0.0714220330119133, 0.017855508252978325, 0.5892317891120911, 0.12498855590820312, 0.053566522896289825, 0.053566522896289825, 0.03398615121841431, 0.03398615121841431, 0.7476953864097595, 0.10195846110582352, 0.03398615121841431, 0.03398615121841431, 0.4694902300834656, 0.08383754640817642, 0.13414007425308228, 0.016767509281635284, 0.03353501856327057, 0.1173725575208664, 0.08383754640817642, 0.06707003712654114, 0.06888317316770554, 0.06888317316770554, 0.3444158732891083, 0.017220793291926384, 0.03444158658385277, 0.3616366684436798, 0.1033247634768486, 0.017220793291926384, 0.03695085644721985, 0.5542628169059753, 0.1478034257888794, 0.1478034257888794, 0.0739017128944397, 0.04883922263979912, 0.04883922263979912, 0.6837491393089294, 0.14651767909526825, 0.04883922263979912, 0.07050119340419769, 0.35250595211982727, 0.035250596702098846, 0.035250596702098846, 0.21150358021259308, 0.28200477361679077, 0.28235936164855957, 0.28235936164855957, 0.052013564854860306, 0.18576273322105408, 0.014861018396914005, 0.11145763844251633, 0.04458305612206459, 0.02972203679382801, 0.6250243186950684, 0.16667315363883972, 0.08333657681941986, 0.08333657681941986, 0.046143751591444016, 0.023071875795722008, 0.11535938084125519, 0.13843126595020294, 0.6690844297409058, 0.023071875795722008, 0.056605707854032516, 0.056605707854032516, 0.20378054678440094, 0.26038625836372375, 0.06792684644460678, 0.011321141384541988, 0.3169919550418854, 0.045284565538167953, 0.16512063145637512, 0.09173368662595749, 0.4770151674747467, 0.036693476140499115, 0.055040210485458374, 0.055040210485458374, 0.036693476140499115, 0.09173368662595749, 0.19879086315631866, 0.17394199967384338, 0.144123375415802, 0.09939543157815933, 0.07454657554626465, 0.11927451938390732, 0.009939542971551418, 0.17891177535057068, 0.6424660086631775, 0.2569864094257355, 0.032123301178216934, 0.032123301178216934, 0.26192206144332886, 0.5238441228866577, 0.05238441005349159, 0.05238441005349159, 0.05238441005349159, 0.05238441005349159, 0.07559258490800858, 0.3721481263637543, 0.11048147827386856, 0.08722221851348877, 0.2500370144844055, 0.06396295875310898, 0.040703702718019485, 0.08871610462665558, 0.17743220925331116, 0.08871610462665558, 0.13307414948940277, 0.17743220925331116, 0.3105063736438751, 0.055032920092344284, 0.055032920092344284, 0.22013168036937714, 0.055032920092344284, 0.08254937827587128, 0.5228127241134644, 0.6667027473449707, 0.10256964713335037, 0.20513929426670074, 0.051284823566675186, 0.051284823566675186, 0.28133824467658997, 0.14066912233829498, 0.42200735211372375, 0.18755881488323212, 0.03288533538579941, 0.09865600615739822, 0.03288533538579941, 0.5919360518455505, 0.23019734025001526, 0.13745874166488647, 0.13745874166488647, 0.16036853194236755, 0.02290979027748108, 0.02290979027748108, 0.06872937083244324, 0.4581958055496216, 0.09356909990310669, 0.09356909990310669, 0.031189700588583946, 0.031189700588583946, 0.031189700588583946, 0.31189700961112976, 0.40546610951423645, 0.016701452434062958, 0.13361161947250366, 0.16701452434062958, 0.4342377781867981, 0.05010435730218887, 0.2004174292087555, 0.13125357031822205, 0.13125357031822205, 0.6037663817405701, 0.10500285029411316, 0.23737770318984985, 0.03864288330078125, 0.12696947157382965, 0.1214490607380867, 0.10488782823085785, 0.154571533203125, 0.1656123548746109, 0.04968370497226715, 0.23073066771030426, 0.1071249470114708, 0.1071249470114708, 0.22249028086662292, 0.04120190441608429, 0.09476438164710999, 0.024721141904592514, 0.1730480045080185, 0.36656755208969116, 0.14469772577285767, 0.2701024115085602, 0.009646514430642128, 0.06752560287714005, 0.009646514430642128, 0.019293028861284256, 0.11575818061828613, 0.06589248776435852, 0.691871166229248, 0.06589248776435852, 0.06589248776435852, 0.09883873909711838, 0.03294624388217926, 0.4915846884250641, 0.27310261130332947, 0.10924103856086731, 0.054620519280433655, 0.04269971325993538, 0.08539942651987076, 0.25619828701019287, 0.12809914350509644, 0.46969684958457947, 0.18734917044639587, 0.037469834089279175, 0.037469834089279175, 0.4871078431606293, 0.18734917044639587, 0.037469834089279175, 0.07515040040016174, 0.22545120120048523, 0.2630263864994049, 0.03757520020008087, 0.3757520020008087, 0.4521801173686981, 0.04110728204250336, 0.2877509891986847, 0.04110728204250336, 0.20553641021251678, 0.21691691875457764, 0.09640751779079437, 0.08837355673313141, 0.04016980156302452, 0.1124754399061203, 0.32135841250419617, 0.1124754399061203, 0.00803396012634039, 0.19421757757663727, 0.18034487962722778, 0.18034487962722778, 0.36068975925445557, 0.013872683979570866, 0.06936341524124146, 0.4943426549434662, 0.22470121085643768, 0.08988048136234283, 0.17976096272468567, 0.3786592185497284, 0.0315549336373806, 0.1577746719121933, 0.0315549336373806, 0.0946648046374321, 0.3155493438243866, 0.088224858045578, 0.088224858045578, 0.1176331490278244, 0.3823077380657196, 0.3234911561012268, 0.24235966801643372, 0.04039327800273895, 0.48471933603286743, 0.12117983400821686, 0.0807865560054779, 0.4472213685512543, 0.5466039180755615, 0.10766349732875824, 0.043065398931503296, 0.3660559058189392, 0.19379429519176483, 0.021532699465751648, 0.2583923935890198, 0.021532699465751648, 0.17023757100105286, 0.46815329790115356, 0.08511878550052643, 0.042559392750263214, 0.08511878550052643, 0.042559392750263214, 0.042559392750263214, 0.12025566399097443, 0.2805965542793274, 0.04008522257208824, 0.08017044514417648, 0.4810226559638977, 0.43575364351272583, 0.09683414548635483, 0.3873365819454193, 0.048417072743177414, 0.048417072743177414, 0.1145811676979065, 0.07761950045824051, 0.0961003378033638, 0.19959300756454468, 0.2772125005722046, 0.0961003378033638, 0.09240416437387466, 0.0480501689016819, 0.43384718894958496, 0.058826737105846405, 0.03676671162247658, 0.05147339403629303, 0.16912686824798584, 0.1470668464899063, 0.08824010193347931, 0.022060025483369827, 0.1800542026758194, 0.05401625856757164, 0.2520758807659149, 0.0900271013379097, 0.030009033158421516, 0.21606503427028656, 0.12603794038295746, 0.04201264679431915, 0.042911212891340256, 0.042911212891340256, 0.3862009048461914, 0.12873363494873047, 0.3862009048461914, 0.042911212891340256, 0.12188216298818588, 0.7312929630279541, 0.03047054074704647, 0.03047054074704647, 0.06094108149409294, 0.4522654414176941, 0.09045308828353882, 0.06030206009745598, 0.18090617656707764, 0.03015103004872799, 0.06030206009745598, 0.12060412019491196, 0.2020750641822815, 0.05440482497215271, 0.04663270711898804, 0.5440482497215271, 0.0854932963848114, 0.00777211831882596, 0.06217694655060768, 0.13142938911914825, 0.0876195952296257, 0.05632688105106354, 0.11265376210212708, 0.21904897689819336, 0.006258542183786631, 0.031292710453271866, 0.3567368984222412, 0.09026096761226654, 0.12034796178340912, 0.1504349559545517, 0.5716528296470642, 0.06017398089170456, 0.03008699044585228, 0.11864979565143585, 0.059324897825717926, 0.4745991826057434, 0.17797470092773438, 0.14831224083900452, 0.044493675231933594, 0.14590658247470856, 0.1823832392692566, 0.10942994058132172, 0.01823832280933857, 0.12766826152801514, 0.34652814269065857, 0.01823832280933857, 0.03647664561867714, 0.03492958843708038, 0.28816911578178406, 0.04366198554635048, 0.1921127438545227, 0.2008451372385025, 0.14845074713230133, 0.008732397109270096, 0.07859157770872116, 0.25606247782707214, 0.29020413756370544, 0.0170708317309618, 0.0170708317309618, 0.0170708317309618, 0.1365666538476944, 0.25606247782707214, 0.06433803588151932, 0.1715680956840515, 0.12867607176303864, 0.06433803588151932, 0.36458221077919006, 0.19301411509513855, 0.08768389374017715, 0.1753677874803543, 0.08768389374017715, 0.08768389374017715, 0.4676474332809448, 0.08768389374017715, 0.04282869026064873, 0.08565738052129745, 0.08565738052129745, 0.04282869026064873, 0.1713147610425949, 0.08565738052129745, 0.12848606705665588, 0.38545820116996765, 0.18877889215946198, 0.20611572265625, 0.22345255315303802, 0.05201051011681557, 0.06549471616744995, 0.09631575644016266, 0.15795783698558807, 0.007705260533839464, 0.10566546767950058, 0.03522182255983353, 0.17610912024974823, 0.66921466588974, 0.43588054180145264, 0.10897013545036316, 0.03632337599992752, 0.10897013545036316, 0.14529350399971008, 0.1816168874502182, 0.07456488907337189, 0.049709927290678024, 0.17398473620414734, 0.07456488907337189, 0.024854963645339012, 0.049709927290678024, 0.5716641545295715, 0.06233407184481621, 0.10685840994119644, 0.11576327681541443, 0.12466814368963242, 0.0712389424443245, 0.284955769777298, 0.22262169420719147, 0.3976559340953827, 0.04057713598012924, 0.1460776925086975, 0.08115427196025848, 0.04869256541132927, 0.15419311821460724, 0.10550055652856827, 0.024346282705664635, 0.01940913498401642, 0.03881826996803284, 0.058227408677339554, 0.058227408677339554, 0.3299553096294403, 0.407591849565506, 0.09704568237066269, 0.04129311814904213, 0.4129312038421631, 0.49551743268966675, 0.15677213668823242, 0.031354427337646484, 0.031354427337646484, 0.3762531280517578, 0.06270885467529297, 0.1881265640258789, 0.15677213668823242, 0.03694755956530571, 0.07389511913061142, 0.4803183078765869, 0.18473780155181885, 0.07389511913061142, 0.18473780155181885, 0.2170831561088562, 0.031011879444122314, 0.12404751777648926, 0.12404751777648926, 0.031011879444122314, 0.4341663122177124, 0.026837453246116638, 0.363796591758728, 0.05069296807050705, 0.04174714908003807, 0.0447290875017643, 0.15506084263324738, 0.271356463432312, 0.04771102964878082, 0.08849687874317169, 0.15486954152584076, 0.13274532556533813, 0.3761117458343506, 0.06637266278266907, 0.044248439371585846, 0.13274532556533813, 0.1965886503458023, 0.2233961969614029, 0.026807542890310287, 0.14297357201576233, 0.08935847878456116, 0.07148678600788116, 0.053615085780620575, 0.1876528114080429, 0.027172869071364403, 0.13586434721946716, 0.21738295257091522, 0.12227790802717209, 0.09510503709316254, 0.2853151261806488, 0.10869147628545761, 0.12080491334199905, 0.06040245667099953, 0.030201228335499763, 0.12080491334199905, 0.4832196533679962, 0.030201228335499763, 0.12080491334199905, 0.11598507314920425, 0.06075408309698105, 0.15464675426483154, 0.027615493163466454, 0.016569295898079872, 0.038661688566207886, 0.5357405543327332, 0.04970788583159447, 0.16038139164447784, 0.08019069582223892, 0.5212395191192627, 0.24057208001613617, 0.30033326148986816, 0.09241023659706116, 0.11551279574632645, 0.4851537346839905, 0.31867945194244385, 0.06681988388299942, 0.251859575510025, 0.13877975940704346, 0.0616798959672451, 0.04625992104411125, 0.11307980865240097, 0.03753332421183586, 0.6755998730659485, 0.11259997636079788, 0.11259997636079788, 0.03753332421183586, 0.05188166722655296, 0.05188166722655296, 0.10376333445310593, 0.02594083361327648, 0.46693500876426697, 0.05188166722655296, 0.2594083249568939, 0.11701864749193192, 0.4046894907951355, 0.13652175664901733, 0.034130439162254333, 0.034130439162254333, 0.04388199374079704, 0.03900621458888054, 0.1901552975177765, 0.013388139195740223, 0.12049325555562973, 0.16065767407417297, 0.08032883703708649, 0.06694069504737854, 0.026776278391480446, 0.08032883703708649, 0.455196738243103, 0.1459844410419464, 0.6400856375694275, 0.13475486636161804, 0.01122957281768322, 0.01122957281768322, 0.03368871659040451, 0.01122957281768322, 0.13074448704719543, 0.13074448704719543, 0.3922334611415863, 0.3486519455909729, 0.2630484104156494, 0.1803760528564453, 0.09770369529724121, 0.06764101982116699, 0.14279770851135254, 0.20292305946350098, 0.01503133773803711, 0.03006267547607422, 0.037161119282245636, 0.11148335039615631, 0.11148335039615631, 0.22296670079231262, 0.5202556252479553, 0.16838230192661285, 0.04592244699597359, 0.19899727404117584, 0.03061496466398239, 0.07653740793466568, 0.10715237259864807, 0.3673795759677887, 0.05746839940547943, 0.028734199702739716, 0.028734199702739716, 0.11493679881095886, 0.3160761892795563, 0.1724051982164383, 0.25860780477523804, 0.052481040358543396, 0.1312026083469391, 0.116208016872406, 0.18555796146392822, 0.048732396215200424, 0.35049837827682495, 0.06560130417346954, 0.048732396215200424, 0.041965682059526443, 0.12589704990386963, 0.020982841029763222, 0.06294852495193481, 0.16786272823810577, 0.4406396448612213, 0.12589704990386963, 0.054361216723918915, 0.15221139788627625, 0.05979733541607857, 0.3261672854423523, 0.06523346155881882, 0.2554977238178253, 0.08697794377803802, 0.07145075500011444, 0.25007763504981995, 0.39297914505004883, 0.14290151000022888, 0.03572537750005722, 0.10717613250017166, 0.1221146434545517, 0.1221146434545517, 0.0407048836350441, 0.0814097672700882, 0.0814097672700882, 0.4070488214492798, 0.1221146434545517, 0.6104924082756042, 0.13757576048374176, 0.05159090831875801, 0.00859848503023386, 0.06878788024187088, 0.03439394012093544, 0.09458333253860474, 0.31295809149742126, 0.1524667590856552, 0.15647904574871063, 0.028085982427001, 0.12036849558353424, 0.028085982427001, 0.19660188257694244, 0.0795496329665184, 0.5568474531173706, 0.11136949062347412, 0.04772977903485298, 0.14318934082984924, 0.01590992696583271, 0.06363970786333084, 0.052639205008745193, 0.19301041960716248, 0.07018560916185379, 0.017546402290463448, 0.5088456869125366, 0.035092804580926895, 0.10527841001749039, 0.017546402290463448, 0.09937749058008194, 0.16562914848327637, 0.033125828951597214, 0.6625165939331055, 0.033125828951597214, 0.07240809500217438, 0.07240809500217438, 0.47065261006355286, 0.18102023005485535, 0.10861214250326157, 0.07240809500217438], \"Term\": [\"able\", \"able\", \"able\", \"able\", \"able\", \"able\", \"access\", \"access\", \"access\", \"access\", \"access\", \"actually\", \"actually\", \"actually\", \"actually\", \"actually\", \"ad\", \"ad\", \"ad\", \"ad\", \"ad\", \"ad\", \"ad\", \"add\", \"add\", \"add\", \"add\", \"add\", \"add\", \"add\", \"allow\", \"allow\", \"allow\", \"allow\", \"almost\", \"almost\", \"almost\", \"almost\", \"almost\", \"almost\", \"almost\", \"already\", \"already\", \"already\", \"already\", \"already\", \"already\", \"always\", \"always\", \"always\", \"always\", \"always\", \"always\", \"always\", \"always\", \"android\", \"android\", \"android\", \"android\", \"android\", \"android\", \"android\", \"annoying\", \"annoying\", \"annoying\", \"annoying\", \"annoying\", \"annoying\", \"annoying\", \"annoying\", \"anymore\", \"anymore\", \"anymore\", \"anymore\", \"anymore\", \"anymore\", \"anything\", \"anything\", \"anything\", \"anything\", \"anything\", \"anything\", \"anything\", \"anything\", \"app\", \"app\", \"app\", \"app\", \"app\", \"app\", \"app\", \"app\", \"apps\", \"apps\", \"apps\", \"apps\", \"apps\", \"apps\", \"apps\", \"apps\", \"automatically\", \"automatically\", \"automatically\", \"automatically\", \"automatically\", \"away\", \"away\", \"away\", \"away\", \"away\", \"away\", \"awesome\", \"awesome\", \"awesome\", \"awesome\", \"awesome\", \"awesome\", \"awful\", \"awful\", \"awful\", \"awful\", \"awful\", \"awful\", \"back\", \"back\", \"back\", \"back\", \"back\", \"back\", \"back\", \"bad\", \"bad\", \"bad\", \"bad\", \"bad\", \"bad\", \"bad\", \"bad\", \"best\", \"best\", \"best\", \"best\", \"best\", \"best\", \"best\", \"better\", \"better\", \"better\", \"better\", \"better\", \"better\", \"better\", \"big\", \"big\", \"big\", \"big\", \"bit\", \"bit\", \"bit\", \"bit\", \"bit\", \"black\", \"black\", \"black\", \"black\", \"black\", \"black\", \"black\", \"black_screen\", \"black_screen\", \"black_screen\", \"black_screen\", \"black_screen\", \"black_screen\", \"bonus\", \"bonus\", \"bonus\", \"bonus\", \"bonus\", \"book\", \"book\", \"book\", \"book\", \"boring\", \"boring\", \"boring\", \"boring\", \"boring\", \"boring\", \"boring\", \"boring\", \"bother\", \"bother\", \"bother\", \"bother\", \"bother\", \"bother\", \"bought\", \"bought\", \"bought\", \"bought\", \"bought\", \"bought\", \"bought\", \"broken\", \"broken\", \"broken\", \"broken\", \"broken\", \"bug\", \"bug\", \"bug\", \"bug\", \"bug\", \"bug\", \"bug\", \"buy\", \"buy\", \"buy\", \"buy\", \"buy\", \"buy\", \"buy\", \"buy\", \"cannot\", \"cannot\", \"cannot\", \"cannot\", \"cannot\", \"cannot\", \"cannot\", \"cant\", \"cant\", \"cant\", \"cant\", \"cant\", \"cant\", \"cant\", \"cant\", \"car\", \"car\", \"car\", \"car\", \"car\", \"card\", \"card\", \"card\", \"card\", \"card\", \"cause\", \"cause\", \"cause\", \"cause\", \"cause\", \"character\", \"character\", \"character\", \"character\", \"check\", \"check\", \"check\", \"check\", \"choose\", \"choose\", \"choose\", \"choose\", \"click\", \"click\", \"click\", \"click\", \"click\", \"click\", \"click\", \"close\", \"close\", \"close\", \"close\", \"close\", \"close\", \"close\", \"close\", \"coin\", \"coin\", \"coin\", \"coin\", \"coin\", \"coin\", \"come\", \"come\", \"come\", \"come\", \"come\", \"come\", \"complete\", \"complete\", \"complete\", \"complete\", \"complete\", \"connect\", \"connect\", \"connect\", \"connect\", \"connect\", \"connect\", \"connect\", \"connection\", \"connection\", \"connection\", \"connection\", \"connection\", \"connection\", \"connection\", \"constantly\", \"constantly\", \"constantly\", \"constantly\", \"constantly\", \"constantly\", \"constantly\", \"constantly\", \"content\", \"content\", \"content\", \"control\", \"control\", \"control\", \"control\", \"control\", \"control\", \"control\", \"control\", \"cool\", \"cool\", \"cool\", \"cool\", \"cool\", \"cool\", \"could\", \"could\", \"could\", \"could\", \"could\", \"could\", \"could\", \"could\", \"crap\", \"crap\", \"crap\", \"crap\", \"crap\", \"crap\", \"crap\", \"crash\", \"crash\", \"crash\", \"crash\", \"crash\", \"crash\", \"crash\", \"crash\", \"crashed\", \"crashed\", \"crashed\", \"crashed\", \"crashed\", \"crashing\", \"crashing\", \"crashing\", \"crashing\", \"crashing\", \"crashing\", \"crashing\", \"daughter\", \"daughter\", \"daughter\", \"daughter\", \"daughter\", \"day\", \"day\", \"day\", \"day\", \"day\", \"day\", \"day\", \"day\", \"delete\", \"delete\", \"delete\", \"developer\", \"developer\", \"developer\", \"developer\", \"developer\", \"developer\", \"device\", \"device\", \"device\", \"device\", \"device\", \"device\", \"device\", \"different\", \"different\", \"different\", \"different\", \"different\", \"download\", \"download\", \"download\", \"download\", \"download\", \"download\", \"download\", \"downloaded\", \"downloaded\", \"downloaded\", \"downloaded\", \"downloaded\", \"downloaded\", \"downloaded\", \"downloading\", \"downloading\", \"downloading\", \"downloading\", \"due\", \"due\", \"due\", \"due\", \"due\", \"dumb\", \"dumb\", \"dumb\", \"dumb\", \"dumb\", \"dumb\", \"dumb\", \"easy\", \"easy\", \"easy\", \"easy\", \"easy\", \"easy\", \"else\", \"else\", \"else\", \"else\", \"else\", \"end\", \"end\", \"end\", \"end\", \"end\", \"end\", \"end\", \"enough\", \"enough\", \"enough\", \"enough\", \"enough\", \"enough\", \"error\", \"error\", \"error\", \"error\", \"error\", \"error\", \"error\", \"even\", \"even\", \"even\", \"even\", \"even\", \"even\", \"even\", \"even\", \"ever\", \"ever\", \"ever\", \"ever\", \"ever\", \"ever\", \"every\", \"every\", \"every\", \"every\", \"every\", \"every\", \"every\", \"every_time\", \"every_time\", \"every_time\", \"every_time\", \"every_time\", \"every_time\", \"every_time\", \"fake\", \"fake\", \"fake\", \"fake\", \"fake\", \"far\", \"far\", \"far\", \"far\", \"far\", \"far\", \"fast\", \"fast\", \"fast\", \"fast\", \"favorite\", \"favorite\", \"favorite\", \"favorite\", \"favorite\", \"feature\", \"feature\", \"feature\", \"feature\", \"feature\", \"feature\", \"feel\", \"feel\", \"feel\", \"feel\", \"feel\", \"fine\", \"fine\", \"fine\", \"fine\", \"fine\", \"fine\", \"fine\", \"five\", \"five\", \"five\", \"five\", \"five\", \"five\", \"five\", \"fix\", \"fix\", \"fix\", \"fix\", \"fix\", \"fix\", \"fix\", \"fix\", \"force\", \"force\", \"force\", \"force\", \"force\", \"force\", \"force\", \"force_close\", \"force_close\", \"force_close\", \"force_close\", \"force_close\", \"force_close\", \"force_close\", \"free\", \"free\", \"free\", \"free\", \"free\", \"free\", \"free\", \"free\", \"freeze\", \"freeze\", \"freeze\", \"freeze\", \"freeze\", \"freeze\", \"freeze\", \"freezing\", \"freezing\", \"freezing\", \"freezing\", \"freezing\", \"freezing\", \"friend\", \"friend\", \"friend\", \"friend\", \"friend\", \"friend\", \"frustrating\", \"frustrating\", \"frustrating\", \"frustrating\", \"frustrating\", \"fun\", \"fun\", \"fun\", \"fun\", \"fun\", \"fun\", \"fun\", \"galaxy\", \"galaxy\", \"galaxy\", \"galaxy\", \"galaxy\", \"galaxy\", \"galaxy\", \"galaxy\", \"game\", \"game\", \"game\", \"game\", \"game\", \"game\", \"game\", \"game\", \"get\", \"get\", \"get\", \"get\", \"get\", \"get\", \"get\", \"get\", \"give\", \"give\", \"give\", \"give\", \"give\", \"give\", \"give\", \"give\", \"give_star\", \"give_star\", \"give_star\", \"give_star\", \"give_star\", \"give_star\", \"give_star\", \"giving\", \"giving\", \"giving\", \"giving\", \"giving\", \"giving\", \"glitch\", \"glitch\", \"glitch\", \"glitch\", \"glitch\", \"glitch\", \"go\", \"go\", \"go\", \"go\", \"go\", \"go\", \"go\", \"go\", \"gone\", \"gone\", \"gone\", \"gone\", \"gone\", \"gone\", \"good\", \"good\", \"good\", \"good\", \"good\", \"good\", \"good\", \"got\", \"got\", \"got\", \"got\", \"got\", \"got\", \"got\", \"got\", \"graphic\", \"graphic\", \"graphic\", \"graphic\", \"graphic\", \"graphic\", \"graphic\", \"graphic\", \"great\", \"great\", \"great\", \"great\", \"great\", \"great\", \"great\", \"great\", \"half\", \"half\", \"half\", \"half\", \"happened\", \"happened\", \"happened\", \"happened\", \"happened\", \"happened\", \"happy\", \"happy\", \"happy\", \"happy\", \"happy\", \"hard\", \"hard\", \"hard\", \"hard\", \"hard\", \"hard\", \"hard\", \"hate\", \"hate\", \"hate\", \"hate\", \"hate\", \"hate\", \"hate\", \"hated\", \"hated\", \"hated\", \"hated\", \"hated\", \"hell\", \"hell\", \"hell\", \"hell\", \"hell\", \"hell\", \"help\", \"help\", \"help\", \"help\", \"help\", \"higher\", \"higher\", \"higher\", \"higher\", \"higher\", \"higher\", \"hit\", \"hit\", \"hit\", \"hit\", \"hit\", \"home\", \"home\", \"home\", \"home\", \"home\", \"horrible\", \"horrible\", \"horrible\", \"horrible\", \"horrible\", \"horrible\", \"horrible\", \"horrible\", \"immediately\", \"immediately\", \"immediately\", \"immediately\", \"immediately\", \"immediately\", \"installed\", \"installed\", \"installed\", \"installed\", \"installed\", \"installed\", \"internet_connection\", \"internet_connection\", \"internet_connection\", \"internet_connection\", \"internet_connection\", \"internet_connection\", \"issue\", \"issue\", \"issue\", \"issue\", \"issue\", \"issue\", \"issue\", \"issue\", \"keep\", \"keep\", \"keep\", \"keep\", \"keep\", \"keep\", \"keep\", \"keep\", \"keep_crashing\", \"keep_crashing\", \"keep_crashing\", \"keep_crashing\", \"keep_crashing\", \"keep_saying\", \"keep_saying\", \"keep_saying\", \"keep_saying\", \"kid\", \"kid\", \"kid\", \"kid\", \"kid\", \"kid\", \"know\", \"know\", \"know\", \"know\", \"know\", \"know\", \"know\", \"know\", \"lame\", \"lame\", \"lame\", \"lame\", \"last\", \"last\", \"last\", \"last\", \"last\", \"last\", \"last\", \"last\", \"last_update\", \"last_update\", \"last_update\", \"last_update\", \"last_update\", \"let\", \"let\", \"let\", \"let\", \"let\", \"let\", \"let\", \"letter\", \"letter\", \"letter\", \"letter\", \"letter\", \"letter\", \"level\", \"level\", \"level\", \"level\", \"level\", \"level\", \"level\", \"life\", \"life\", \"life\", \"life\", \"like\", \"like\", \"like\", \"like\", \"like\", \"like\", \"like\", \"like\", \"liked\", \"liked\", \"liked\", \"liked\", \"load\", \"load\", \"load\", \"load\", \"load\", \"load\", \"load\", \"load\", \"loading\", \"loading\", \"loading\", \"loading\", \"loading\", \"loading\", \"loading\", \"log\", \"log\", \"log\", \"log\", \"log\", \"login\", \"login\", \"login\", \"login\", \"login\", \"login\", \"login\", \"lollipop\", \"lollipop\", \"lollipop\", \"lollipop\", \"lollipop\", \"long\", \"long\", \"long\", \"long\", \"long\", \"long\", \"long\", \"longer\", \"longer\", \"longer\", \"longer\", \"longer\", \"longer\", \"look\", \"look\", \"look\", \"look\", \"look\", \"look\", \"lose\", \"lose\", \"lose\", \"lose\", \"lose\", \"lose\", \"lose\", \"lost\", \"lost\", \"lost\", \"lost\", \"lost\", \"love\", \"love\", \"love\", \"love\", \"love\", \"love\", \"love\", \"love\", \"made\", \"made\", \"made\", \"made\", \"make\", \"make\", \"make\", \"make\", \"make\", \"make\", \"make\", \"make\", \"many\", \"many\", \"many\", \"many\", \"many\", \"many\", \"many\", \"many_ad\", \"many_ad\", \"many_ad\", \"many_ad\", \"map\", \"map\", \"map\", \"map\", \"map\", \"match\", \"match\", \"match\", \"match\", \"match\", \"match\", \"match\", \"maybe\", \"maybe\", \"maybe\", \"maybe\", \"maybe\", \"maybe\", \"mean\", \"mean\", \"mean\", \"mean\", \"mean\", \"mean\", \"message\", \"message\", \"message\", \"message\", \"message\", \"min\", \"min\", \"min\", \"min\", \"minute\", \"minute\", \"minute\", \"minute\", \"minute\", \"minute\", \"minute\", \"minute\", \"mode\", \"mode\", \"mode\", \"mode\", \"mode\", \"money\", \"money\", \"money\", \"money\", \"money\", \"money\", \"money\", \"money\", \"month\", \"month\", \"month\", \"month\", \"month\", \"move\", \"move\", \"move\", \"move\", \"move\", \"move\", \"move\", \"much\", \"much\", \"much\", \"much\", \"much\", \"much\", \"much\", \"much\", \"name\", \"name\", \"name\", \"name\", \"need\", \"need\", \"need\", \"need\", \"need\", \"need\", \"need\", \"need\", \"never\", \"never\", \"never\", \"never\", \"never\", \"never\", \"never\", \"new\", \"new\", \"new\", \"new\", \"new\", \"new\", \"new\", \"nexus\", \"nexus\", \"nexus\", \"nexus\", \"nexus\", \"nexus\", \"nexus\", \"nexus\", \"nice\", \"nice\", \"nice\", \"nice\", \"nice\", \"nice\", \"nice\", \"note\", \"note\", \"note\", \"note\", \"note\", \"note\", \"note\", \"note\", \"nothing\", \"nothing\", \"nothing\", \"nothing\", \"nothing\", \"nothing\", \"nothing\", \"nothing\", \"notification\", \"notification\", \"notification\", \"notification\", \"often\", \"often\", \"often\", \"often\", \"often\", \"old\", \"old\", \"old\", \"old\", \"old\", \"one\", \"one\", \"one\", \"one\", \"one\", \"one\", \"one\", \"one\", \"online\", \"online\", \"online\", \"online\", \"open\", \"open\", \"open\", \"open\", \"open\", \"open\", \"open\", \"open\", \"opened\", \"opened\", \"opened\", \"opened\", \"opened\", \"opened\", \"opening\", \"opening\", \"opening\", \"opening\", \"opening\", \"opening\", \"opening\", \"option\", \"option\", \"option\", \"option\", \"option\", \"option\", \"page\", \"page\", \"page\", \"page\", \"page\", \"paid\", \"paid\", \"paid\", \"paid\", \"paid\", \"paid\", \"paid\", \"part\", \"part\", \"part\", \"part\", \"pay\", \"pay\", \"pay\", \"pay\", \"pay\", \"pay\", \"pay\", \"pay\", \"paying\", \"paying\", \"paying\", \"paying\", \"paying\", \"paying\", \"paying\", \"phone\", \"phone\", \"phone\", \"phone\", \"phone\", \"phone\", \"phone\", \"place\", \"place\", \"place\", \"place\", \"place\", \"play\", \"play\", \"play\", \"play\", \"play\", \"play\", \"play\", \"play\", \"player\", \"player\", \"player\", \"player\", \"player\", \"player\", \"playing\", \"playing\", \"playing\", \"playing\", \"playing\", \"playing\", \"playing\", \"please\", \"please\", \"please\", \"please\", \"please\", \"please\", \"please\", \"please\", \"please_fix\", \"please_fix\", \"please_fix\", \"please_fix\", \"please_fix\", \"please_fix\", \"please_fix\", \"please_fix\", \"plus\", \"plus\", \"plus\", \"plus\", \"plus\", \"plz\", \"plz\", \"plz\", \"plz\", \"plz\", \"plz\", \"plz\", \"plz_fix\", \"plz_fix\", \"plz_fix\", \"plz_fix\", \"plz_fix\", \"plz_fix\", \"point\", \"point\", \"point\", \"point\", \"point\", \"point\", \"point\", \"point\", \"pop\", \"pop\", \"pop\", \"pop\", \"pop\", \"pop\", \"pop\", \"pop\", \"press\", \"press\", \"press\", \"press\", \"press\", \"pretty\", \"pretty\", \"pretty\", \"pretty\", \"pretty\", \"pro\", \"pro\", \"pro\", \"pro\", \"pro\", \"pro\", \"problem\", \"problem\", \"problem\", \"problem\", \"problem\", \"problem\", \"problem\", \"problem\", \"properly\", \"properly\", \"properly\", \"properly\", \"purchase\", \"purchase\", \"purchase\", \"purchase\", \"purchase\", \"purchase\", \"rate\", \"rate\", \"rate\", \"rate\", \"rate\", \"rate\", \"rate\", \"rate\", \"real\", \"real\", \"real\", \"real\", \"real\", \"real\", \"real\", \"real\", \"really\", \"really\", \"really\", \"really\", \"really\", \"really\", \"really\", \"really\", \"reason\", \"reason\", \"reason\", \"reason\", \"recommend\", \"recommend\", \"recommend\", \"recommend\", \"recommend\", \"recommend\", \"refund\", \"refund\", \"refund\", \"refund\", \"refund\", \"refund\", \"refund\", \"reinstalled\", \"reinstalled\", \"reinstalled\", \"reinstalled\", \"reinstalled\", \"reinstalled\", \"review\", \"review\", \"review\", \"review\", \"review\", \"review\", \"ridiculous\", \"ridiculous\", \"ridiculous\", \"ridiculous\", \"ridiculous\", \"rip\", \"rip\", \"rip\", \"rip\", \"round\", \"round\", \"round\", \"round\", \"round\", \"rubbish\", \"rubbish\", \"rubbish\", \"rubbish\", \"rubbish\", \"rubbish\", \"rubbish\", \"running\", \"running\", \"running\", \"running\", \"running\", \"running\", \"running\", \"samsung\", \"samsung\", \"samsung\", \"samsung\", \"samsung\", \"samsung\", \"samsung_galaxy\", \"samsung_galaxy\", \"samsung_galaxy\", \"samsung_galaxy\", \"say\", \"say\", \"say\", \"say\", \"say\", \"say\", \"say\", \"say\", \"screen\", \"screen\", \"screen\", \"screen\", \"screen\", \"screen\", \"screen\", \"screen\", \"see\", \"see\", \"see\", \"see\", \"see\", \"see\", \"see\", \"see\", \"seems\", \"seems\", \"seems\", \"seems\", \"seems\", \"seems\", \"seen\", \"seen\", \"seen\", \"seen\", \"seriously\", \"seriously\", \"seriously\", \"seriously\", \"seriously\", \"server\", \"server\", \"server\", \"server\", \"server\", \"server\", \"set\", \"set\", \"set\", \"set\", \"set\", \"setting\", \"setting\", \"setting\", \"setting\", \"setting\", \"show\", \"show\", \"show\", \"show\", \"show\", \"show\", \"show\", \"show\", \"slow\", \"slow\", \"slow\", \"slow\", \"slow\", \"slow\", \"someone\", \"someone\", \"someone\", \"someone\", \"sometimes\", \"sometimes\", \"sometimes\", \"sometimes\", \"sometimes\", \"sometimes\", \"son\", \"son\", \"son\", \"son\", \"son\", \"sorry\", \"sorry\", \"sorry\", \"sorry\", \"sorry\", \"sort\", \"sort\", \"sound\", \"sound\", \"sound\", \"sound\", \"sound\", \"sound\", \"sound\", \"space\", \"space\", \"space\", \"space\", \"space\", \"space\", \"space\", \"spend\", \"spend\", \"spend\", \"spend\", \"spend\", \"stage\", \"stage\", \"stage\", \"stage\", \"stage\", \"star\", \"star\", \"star\", \"star\", \"star\", \"star\", \"star\", \"star\", \"start\", \"start\", \"start\", \"start\", \"start\", \"start\", \"start\", \"start\", \"still\", \"still\", \"still\", \"still\", \"still\", \"still\", \"still\", \"still\", \"stopped_working\", \"stopped_working\", \"stopped_working\", \"stopped_working\", \"stopped_working\", \"stopped_working\", \"store\", \"store\", \"store\", \"store\", \"store\", \"stuck\", \"stuck\", \"stuck\", \"stuck\", \"stuck\", \"stuck\", \"stuck\", \"stupid\", \"stupid\", \"stupid\", \"stupid\", \"stupid\", \"stupid\", \"stupid\", \"suck\", \"suck\", \"suck\", \"suck\", \"suck\", \"suck\", \"suck\", \"suck\", \"tab\", \"tab\", \"tab\", \"tab\", \"tab\", \"tab\", \"tablet\", \"tablet\", \"tablet\", \"tablet\", \"tablet\", \"tablet\", \"terrible\", \"terrible\", \"terrible\", \"terrible\", \"terrible\", \"terrible\", \"terrible\", \"terrible\", \"thing\", \"thing\", \"thing\", \"thing\", \"thing\", \"thing\", \"thing\", \"thing\", \"think\", \"think\", \"think\", \"think\", \"think\", \"think\", \"think\", \"though\", \"though\", \"though\", \"though\", \"though\", \"though\", \"thought\", \"thought\", \"thought\", \"thought\", \"thought\", \"thought\", \"three\", \"three\", \"three\", \"three\", \"three\", \"three\", \"three\", \"three\", \"time\", \"time\", \"time\", \"time\", \"time\", \"time\", \"time\", \"time\", \"took\", \"took\", \"took\", \"took\", \"totally\", \"totally\", \"totally\", \"totally\", \"totally\", \"totally\", \"touch\", \"touch\", \"touch\", \"touch\", \"touch\", \"touch\", \"touch\", \"tried\", \"tried\", \"tried\", \"tried\", \"tried\", \"tried\", \"tried\", \"try\", \"try\", \"try\", \"try\", \"try\", \"try\", \"try\", \"try\", \"two\", \"two\", \"two\", \"two\", \"two\", \"two\", \"two\", \"type\", \"type\", \"type\", \"unable\", \"unable\", \"unable\", \"unable\", \"unable\", \"unable\", \"unable\", \"unfortunately\", \"unfortunately\", \"unfortunately\", \"unfortunately\", \"unfortunately\", \"unfortunately\", \"unlock\", \"unlock\", \"unlock\", \"unlock\", \"unlock\", \"unlock\", \"update\", \"update\", \"update\", \"update\", \"update\", \"update\", \"update\", \"update\", \"upgrade\", \"upgrade\", \"upgrade\", \"upgrade\", \"upgrade\", \"upgrade\", \"upgrade\", \"use\", \"use\", \"use\", \"use\", \"use\", \"use\", \"use\", \"use\", \"used\", \"used\", \"used\", \"used\", \"used\", \"used\", \"used\", \"user\", \"user\", \"user\", \"user\", \"user\", \"user\", \"user\", \"version\", \"version\", \"version\", \"version\", \"version\", \"version\", \"version\", \"version\", \"view\", \"view\", \"view\", \"view\", \"wait\", \"wait\", \"wait\", \"wait\", \"want\", \"want\", \"want\", \"want\", \"want\", \"want\", \"want\", \"want_refund\", \"want_refund\", \"want_refund\", \"want_refund\", \"want_refund\", \"wanted\", \"wanted\", \"wanted\", \"wanted\", \"wanted\", \"wanted\", \"wanted\", \"waste\", \"waste\", \"waste\", \"waste\", \"waste\", \"waste\", \"waste\", \"waste\", \"waste_money\", \"waste_money\", \"waste_money\", \"waste_money\", \"waste_money\", \"waste_money\", \"waste_money\", \"waste_money\", \"waste_time\", \"waste_time\", \"waste_time\", \"waste_time\", \"waste_time\", \"waste_time\", \"waste_time\", \"wasted\", \"wasted\", \"wasted\", \"wasted\", \"way\", \"way\", \"way\", \"way\", \"way\", \"way\", \"way\", \"way\", \"whenever\", \"whenever\", \"whenever\", \"whenever\", \"whenever\", \"win\", \"win\", \"win\", \"win\", \"win\", \"win\", \"win\", \"wish\", \"wish\", \"wish\", \"wish\", \"wish\", \"wish\", \"wish\", \"work\", \"work\", \"work\", \"work\", \"work\", \"work\", \"work\", \"work\", \"worked\", \"worked\", \"worked\", \"worked\", \"worked\", \"worked\", \"worked\", \"working\", \"working\", \"working\", \"working\", \"working\", \"working\", \"working\", \"world\", \"world\", \"world\", \"world\", \"world\", \"world\", \"worse\", \"worse\", \"worse\", \"worse\", \"worse\", \"worse\", \"worse\", \"worst\", \"worst\", \"worst\", \"worst\", \"worst\", \"worst\", \"worst\", \"would\", \"would\", \"would\", \"would\", \"would\", \"would\", \"would\", \"wrong\", \"wrong\", \"wrong\", \"wrong\", \"wrong\", \"wrong\", \"wrong\", \"year\", \"year\", \"year\", \"year\", \"year\", \"year\", \"year\", \"year\", \"year_old\", \"year_old\", \"year_old\", \"year_old\", \"year_old\", \"yet\", \"yet\", \"yet\", \"yet\", \"yet\", \"yet\"]}, \"R\": 30, \"lambda.step\": 0.01, \"plot.opts\": {\"xlab\": \"PC1\", \"ylab\": \"PC2\"}, \"topic.order\": [5, 1, 3, 7, 2, 4, 6, 8]};\n",
       "\n",
       "function LDAvis_load_lib(url, callback){\n",
       "  var s = document.createElement('script');\n",
       "  s.src = url;\n",
       "  s.async = true;\n",
       "  s.onreadystatechange = s.onload = callback;\n",
       "  s.onerror = function(){console.warn(\"failed to load library \" + url);};\n",
       "  document.getElementsByTagName(\"head\")[0].appendChild(s);\n",
       "}\n",
       "\n",
       "if(typeof(LDAvis) !== \"undefined\"){\n",
       "   // already loaded: just create the visualization\n",
       "   !function(LDAvis){\n",
       "       new LDAvis(\"#\" + \"ldavis_el6064747738737289569437927\", ldavis_el6064747738737289569437927_data);\n",
       "   }(LDAvis);\n",
       "}else if(typeof define === \"function\" && define.amd){\n",
       "   // require.js is available: use it to load d3/LDAvis\n",
       "   require.config({paths: {d3: \"https://cdnjs.cloudflare.com/ajax/libs/d3/3.5.5/d3.min\"}});\n",
       "   require([\"d3\"], function(d3){\n",
       "      window.d3 = d3;\n",
       "      LDAvis_load_lib(\"https://cdn.rawgit.com/bmabey/pyLDAvis/files/ldavis.v1.0.0.js\", function(){\n",
       "        new LDAvis(\"#\" + \"ldavis_el6064747738737289569437927\", ldavis_el6064747738737289569437927_data);\n",
       "      });\n",
       "    });\n",
       "}else{\n",
       "    // require.js not available: dynamically load d3 & LDAvis\n",
       "    LDAvis_load_lib(\"https://cdnjs.cloudflare.com/ajax/libs/d3/3.5.5/d3.min.js\", function(){\n",
       "         LDAvis_load_lib(\"https://cdn.rawgit.com/bmabey/pyLDAvis/files/ldavis.v1.0.0.js\", function(){\n",
       "                 new LDAvis(\"#\" + \"ldavis_el6064747738737289569437927\", ldavis_el6064747738737289569437927_data);\n",
       "            })\n",
       "         });\n",
       "}\n",
       "</script>"
      ],
      "text/plain": [
       "PreparedData(topic_coordinates=              x         y  topics  cluster       Freq\n",
       "topic                                                \n",
       "4      0.037355  0.059600       1        1  19.472828\n",
       "0      0.017817  0.026969       2        1  14.978385\n",
       "2      0.022330  0.038142       3        1  14.089666\n",
       "6      0.035855  0.002400       4        1  13.198236\n",
       "1      0.030676  0.076779       5        1  11.859049\n",
       "3      0.036398 -0.066366       6        1  10.691214\n",
       "5      0.056260 -0.123348       7        1   9.668876\n",
       "7     -0.236691 -0.014176       8        1   6.041747, topic_info=     Category         Freq         Term        Total  loglift  logprob\n",
       "term                                                                  \n",
       "13    Default   533.000000         work   533.000000  30.0000  30.0000\n",
       "0     Default   571.000000          fix   571.000000  29.0000  29.0000\n",
       "11    Default   335.000000       update   335.000000  28.0000  28.0000\n",
       "85    Default   159.000000         suck   159.000000  27.0000  27.0000\n",
       "57    Default   181.000000      version   181.000000  26.0000  26.0000\n",
       "95    Default   167.000000          new   167.000000  25.0000  25.0000\n",
       "6     Default   829.000000          app   829.000000  24.0000  24.0000\n",
       "41    Default  1671.000000         game  1671.000000  23.0000  23.0000\n",
       "101   Default   205.000000        waste   205.000000  22.0000  22.0000\n",
       "35    Default   235.000000   please_fix   235.000000  21.0000  21.0000\n",
       "34    Default   453.000000       please   453.000000  20.0000  20.0000\n",
       "145   Default   291.000000         good   291.000000  19.0000  19.0000\n",
       "366   Default    63.000000      control    63.000000  18.0000  18.0000\n",
       "114   Default   351.000000         like   351.000000  17.0000  17.0000\n",
       "98    Default   293.000000        money   293.000000  16.0000  16.0000\n",
       "118   Default   269.000000          one   269.000000  15.0000  15.0000\n",
       "36    Default   242.000000       screen   242.000000  14.0000  14.0000\n",
       "281   Default    51.000000         dumb    51.000000  13.0000  13.0000\n",
       "92    Default   237.000000        crash   237.000000  12.0000  12.0000\n",
       "102   Default    74.000000  waste_money    74.000000  11.0000  11.0000\n",
       "67    Default    85.000000       boring    85.000000  10.0000  10.0000\n",
       "136   Default   113.000000   every_time   113.000000   9.0000   9.0000\n",
       "135   Default   205.000000        every   205.000000   8.0000   8.0000\n",
       "94    Default   189.000000        level   189.000000   7.0000   7.0000\n",
       "146   Default   136.000000        error   136.000000   6.0000   6.0000\n",
       "5     Default   128.000000       stupid   128.000000   5.0000   5.0000\n",
       "211   Default   126.000000         ever   126.000000   4.0000   4.0000\n",
       "252   Default   224.000000        phone   224.000000   3.0000   3.0000\n",
       "4     Default   201.000000       really   201.000000   2.0000   2.0000\n",
       "362   Default    84.000000         nice    84.000000   1.0000   1.0000\n",
       "...       ...          ...          ...          ...      ...      ...\n",
       "340    Topic8    10.257865    sometimes    31.690765   1.6785  -5.2369\n",
       "383    Topic8    11.800750        click    37.009537   1.6635  -5.0968\n",
       "8      Topic8    26.788012         crap    84.817108   1.6539  -4.2770\n",
       "326    Topic8    14.340919   constantly    45.890522   1.6433  -4.9018\n",
       "152    Topic8     8.680520       paying    29.368481   1.5876  -5.4038\n",
       "338    Topic8    17.901632         long    61.615898   1.5704  -4.6800\n",
       "39     Topic8    22.025173       always    75.885269   1.5694  -4.4727\n",
       "18     Topic8    15.446337           go    57.237816   1.4966  -4.8275\n",
       "269    Topic8     6.657722         feel    24.682644   1.4962  -5.6691\n",
       "103    Topic8     9.291748         wish    34.801735   1.4859  -5.3358\n",
       "73     Topic8    15.485197        think    58.579453   1.4760  -4.8250\n",
       "14     Topic8    23.097807     anything    95.669914   1.3853  -4.4252\n",
       "101    Topic8    38.729855        waste   205.095520   1.1396  -3.9083\n",
       "36     Topic8    42.482235       screen   242.707230   1.0637  -3.8158\n",
       "4      Topic8    36.436687       really   201.216492   1.0977  -3.9693\n",
       "98     Topic8    46.190460        money   293.333771   0.9579  -3.7321\n",
       "92     Topic8    37.971653        crash   237.859512   0.9716  -3.9281\n",
       "118    Topic8    37.376225          one   269.961823   0.8292  -3.9439\n",
       "193    Topic8    21.249802          use   111.908798   1.1451  -4.5086\n",
       "88     Topic8    18.393747         last    86.108307   1.2629  -4.6529\n",
       "71     Topic8    20.521645      playing   115.331123   1.0801  -4.5434\n",
       "0      Topic8    37.342628          fix   571.632751   0.0781  -3.9448\n",
       "6      Topic8    40.184551          app   829.546204  -0.2209  -3.8714\n",
       "41     Topic8    41.443241         game  1671.286621  -0.8905  -3.8406\n",
       "96     Topic8    18.135670        could   103.639038   1.0634  -4.6670\n",
       "13     Topic8    25.783463         work   533.526001  -0.2233  -4.3152\n",
       "146    Topic8    18.777231        error   136.959259   0.8194  -4.6323\n",
       "79     Topic8    20.923115         play   550.541626  -0.4636  -4.5241\n",
       "52     Topic8    19.998251          get   530.617981  -0.4719  -4.5693\n",
       "35     Topic8    18.496435   please_fix   235.705399   0.2615  -4.6473\n",
       "\n",
       "[470 rows x 6 columns], token_table=      Topic      Freq      Term\n",
       "term                           \n",
       "221       1  0.597709      able\n",
       "221       2  0.128081      able\n",
       "221       3  0.085387      able\n",
       "221       4  0.156543      able\n",
       "221       5  0.014231      able\n",
       "221       6  0.028462      able\n",
       "86        1  0.040753    access\n",
       "86        2  0.652055    access\n",
       "86        5  0.040753    access\n",
       "86        6  0.163014    access\n",
       "86        7  0.122260    access\n",
       "229       1  0.162851  actually\n",
       "229       2  0.455984  actually\n",
       "229       3  0.065141  actually\n",
       "229       4  0.162851  actually\n",
       "229       5  0.162851  actually\n",
       "58        1  0.293656        ad\n",
       "58        2  0.023306        ad\n",
       "58        3  0.163142        ad\n",
       "58        4  0.186448        ad\n",
       "58        5  0.125852        ad\n",
       "58        6  0.107208        ad\n",
       "58        7  0.097885        ad\n",
       "66        1  0.403226       add\n",
       "66        2  0.042445       add\n",
       "66        3  0.063667       add\n",
       "66        4  0.212224       add\n",
       "66        5  0.021222       add\n",
       "66        6  0.191002       add\n",
       "66        7  0.053056       add\n",
       "...     ...       ...       ...\n",
       "180       4  0.028086     would\n",
       "180       5  0.120368     would\n",
       "180       6  0.028086     would\n",
       "180       7  0.196602     would\n",
       "163       1  0.079550     wrong\n",
       "163       2  0.556847     wrong\n",
       "163       3  0.111369     wrong\n",
       "163       5  0.047730     wrong\n",
       "163       6  0.143189     wrong\n",
       "163       7  0.015910     wrong\n",
       "163       8  0.063640     wrong\n",
       "247       1  0.052639      year\n",
       "247       2  0.193010      year\n",
       "247       3  0.070186      year\n",
       "247       4  0.017546      year\n",
       "247       5  0.508846      year\n",
       "247       6  0.035093      year\n",
       "247       7  0.105278      year\n",
       "247       8  0.017546      year\n",
       "249       1  0.099377  year_old\n",
       "249       2  0.165629  year_old\n",
       "249       3  0.033126  year_old\n",
       "249       5  0.662517  year_old\n",
       "249       7  0.033126  year_old\n",
       "334       1  0.072408       yet\n",
       "334       2  0.072408       yet\n",
       "334       3  0.470653       yet\n",
       "334       4  0.181020       yet\n",
       "334       5  0.108612       yet\n",
       "334       6  0.072408       yet\n",
       "\n",
       "[1890 rows x 3 columns], R=30, lambda_step=0.01, plot_opts={'xlab': 'PC1', 'ylab': 'PC2'}, topic_order=[5, 1, 3, 7, 2, 4, 6, 8])"
      ]
     },
     "execution_count": 6,
     "metadata": {},
     "output_type": "execute_result"
    }
   ],
   "source": [
    "import pyLDAvis\n",
    "from pyLDAvis import gensim\n",
    "import warnings\n",
    "warnings.filterwarnings('ignore')\n",
    "\n",
    "pyLDAvis.enable_notebook()\n",
    "pyLDAvis.gensim.prepare(model,corpus,dictionary)"
   ]
  },
  {
   "cell_type": "code",
   "execution_count": 7,
   "metadata": {},
   "outputs": [
    {
     "data": {
      "text/html": [
       "<div>\n",
       "<style scoped>\n",
       "    .dataframe tbody tr th:only-of-type {\n",
       "        vertical-align: middle;\n",
       "    }\n",
       "\n",
       "    .dataframe tbody tr th {\n",
       "        vertical-align: top;\n",
       "    }\n",
       "\n",
       "    .dataframe thead th {\n",
       "        text-align: right;\n",
       "    }\n",
       "</style>\n",
       "<table border=\"1\" class=\"dataframe\">\n",
       "  <thead>\n",
       "    <tr style=\"text-align: right;\">\n",
       "      <th></th>\n",
       "      <th>topic</th>\n",
       "      <th>keywords</th>\n",
       "    </tr>\n",
       "  </thead>\n",
       "  <tbody>\n",
       "    <tr>\n",
       "      <th>0</th>\n",
       "      <td>0</td>\n",
       "      <td>[app, game, update, like, time, good, get, waste, work, keep, waste_time, play, even, problem, know, would, look, money, cannot, really]</td>\n",
       "    </tr>\n",
       "    <tr>\n",
       "      <th>1</th>\n",
       "      <td>1</td>\n",
       "      <td>[game, fix, like, get, star, level, please, give, play, one, load, fun, back, make, force, buy, even, app, please_fix, old]</td>\n",
       "    </tr>\n",
       "    <tr>\n",
       "      <th>2</th>\n",
       "      <td>2</td>\n",
       "      <td>[game, app, play, get, time, good, money, like, even, refund, work, want, phone, got, still, crash, bad, would, back, give]</td>\n",
       "    </tr>\n",
       "    <tr>\n",
       "      <th>3</th>\n",
       "      <td>3</td>\n",
       "      <td>[work, app, even, one, update, play, time, much, get, working, open, game, cant, refund, show, crash, still, better, error, android]</td>\n",
       "    </tr>\n",
       "    <tr>\n",
       "      <th>4</th>\n",
       "      <td>4</td>\n",
       "      <td>[game, play, get, time, ever, would, fix, app, download, please, worst, every, many, let, need, hate, ad, want, fun, even]</td>\n",
       "    </tr>\n",
       "    <tr>\n",
       "      <th>5</th>\n",
       "      <td>5</td>\n",
       "      <td>[fix, app, version, please, new, update, time, please_fix, phone, every, open, every_time, game, would, nice, need, crash, plus, error, work]</td>\n",
       "    </tr>\n",
       "    <tr>\n",
       "      <th>6</th>\n",
       "      <td>6</td>\n",
       "      <td>[game, fix, please, work, keep, even, app, play, please_fix, stupid, working, nothing, star, screen, galaxy, hate, bad, money, open, crashing]</td>\n",
       "    </tr>\n",
       "    <tr>\n",
       "      <th>7</th>\n",
       "      <td>7</td>\n",
       "      <td>[suck, money, screen, game, app, control, waste, crash, one, fix, really, dumb, waste_money, boring, crap, work, win, anything, touch, move]</td>\n",
       "    </tr>\n",
       "  </tbody>\n",
       "</table>\n",
       "</div>"
      ],
      "text/plain": [
       "   topic  \\\n",
       "0  0       \n",
       "1  1       \n",
       "2  2       \n",
       "3  3       \n",
       "4  4       \n",
       "5  5       \n",
       "6  6       \n",
       "7  7       \n",
       "\n",
       "                                                                                                                                         keywords  \n",
       "0  [app, game, update, like, time, good, get, waste, work, keep, waste_time, play, even, problem, know, would, look, money, cannot, really]        \n",
       "1  [game, fix, like, get, star, level, please, give, play, one, load, fun, back, make, force, buy, even, app, please_fix, old]                     \n",
       "2  [game, app, play, get, time, good, money, like, even, refund, work, want, phone, got, still, crash, bad, would, back, give]                     \n",
       "3  [work, app, even, one, update, play, time, much, get, working, open, game, cant, refund, show, crash, still, better, error, android]            \n",
       "4  [game, play, get, time, ever, would, fix, app, download, please, worst, every, many, let, need, hate, ad, want, fun, even]                      \n",
       "5  [fix, app, version, please, new, update, time, please_fix, phone, every, open, every_time, game, would, nice, need, crash, plus, error, work]   \n",
       "6  [game, fix, please, work, keep, even, app, play, please_fix, stupid, working, nothing, star, screen, galaxy, hate, bad, money, open, crashing]  \n",
       "7  [suck, money, screen, game, app, control, waste, crash, one, fix, really, dumb, waste_money, boring, crap, work, win, anything, touch, move]    "
      ]
     },
     "execution_count": 7,
     "metadata": {},
     "output_type": "execute_result"
    }
   ],
   "source": [
    "pd.set_option('display.max_colwidth', -1)\n",
    "topics = pd.DataFrame({'topic':[i for i in range(fittest_gene.n)]})\n",
    "topics['keywords_prob'] = topics.topic.apply(lambda x: sorted(model.show_topic(x, 20),key=lambda x: x[1], reverse=True))\n",
    "topics['keywords'] = topics['keywords_prob'].apply(lambda x: [i[0] for i in x])\n",
    "topics[['topic','keywords']]"
   ]
  },
  {
   "cell_type": "code",
   "execution_count": 8,
   "metadata": {},
   "outputs": [
    {
     "data": {
      "text/html": [
       "<div>\n",
       "<style scoped>\n",
       "    .dataframe tbody tr th:only-of-type {\n",
       "        vertical-align: middle;\n",
       "    }\n",
       "\n",
       "    .dataframe tbody tr th {\n",
       "        vertical-align: top;\n",
       "    }\n",
       "\n",
       "    .dataframe thead th {\n",
       "        text-align: right;\n",
       "    }\n",
       "</style>\n",
       "<table border=\"1\" class=\"dataframe\">\n",
       "  <thead>\n",
       "    <tr style=\"text-align: right;\">\n",
       "      <th></th>\n",
       "      <th>raw</th>\n",
       "      <th>tokens</th>\n",
       "      <th>vectors</th>\n",
       "      <th>topic</th>\n",
       "      <th>topic_confidence</th>\n",
       "    </tr>\n",
       "  </thead>\n",
       "  <tbody>\n",
       "    <tr>\n",
       "      <th>1</th>\n",
       "      <td>Update messed up this app Cutting off wake up paths doesn't work, auto hibernation disabled on random occasions, frequently crashing... i was in love with this app untill it was updated to this crap.. fix this... ASAP</td>\n",
       "      <td>[update, messed, app, cutting, wake, path, work, auto, hibernation, disabled, random, occasion, frequently, crashing, love, app, untill, updated, crap, fix, asap]</td>\n",
       "      <td>[(0, 1), (6, 2), (7, 1), (8, 1), (9, 1), (10, 1), (11, 1), (12, 1), (13, 1)]</td>\n",
       "      <td>0</td>\n",
       "      <td>0.513344</td>\n",
       "    </tr>\n",
       "    <tr>\n",
       "      <th>10</th>\n",
       "      <td>Gave me information regarding another person, and charged me R29 for it. It is a breach of the other person's privacy. This app is not credit worthy</td>\n",
       "      <td>[gave, information, regarding, another, person, charged, r29, breach, person, privacy, app, credit, worthy]</td>\n",
       "      <td>[(6, 1), (59, 1), (65, 1)]</td>\n",
       "      <td>0</td>\n",
       "      <td>0.787811</td>\n",
       "    </tr>\n",
       "    <tr>\n",
       "      <th>15</th>\n",
       "      <td>Loved the game. Game Was amazing until last update. It keeps crashing when I try to access the guild</td>\n",
       "      <td>[loved, game, game, amazing, last, update, keep, crashing, try, access, guild, last_update, keep_crashing]</td>\n",
       "      <td>[(9, 1), (11, 1), (24, 1), (41, 2), (42, 1), (86, 1), (87, 1), (88, 1), (89, 1), (90, 1)]</td>\n",
       "      <td>0</td>\n",
       "      <td>0.929139</td>\n",
       "    </tr>\n",
       "    <tr>\n",
       "      <th>29</th>\n",
       "      <td>Hate it You should not get it you can't even race and I give this app 1 star. I don't know how the other people love it but I am telling you don't get it. Total waste of time</td>\n",
       "      <td>[hate, get, even, race, give, app, star, know, people, love, telling, get, total, waste, time, waste_time]</td>\n",
       "      <td>[(2, 1), (6, 1), (10, 1), (28, 1), (52, 2), (83, 1), (101, 1), (121, 1), (124, 1), (128, 1), (129, 1), (130, 1)]</td>\n",
       "      <td>0</td>\n",
       "      <td>0.939305</td>\n",
       "    </tr>\n",
       "    <tr>\n",
       "      <th>30</th>\n",
       "      <td>Using a high spec genuine dongle and this app lights my dash up like a Christmas tree. Throws up all sorts of dash light issues as well as lowering suspension and gearbox lock out from low ratio etc. Not advisable for Land Rover canbus systems</td>\n",
       "      <td>[using, high, spec, genuine, dongle, app, light, dash, like, christmas, tree, throw, sort, dash, light, issue, well, lowering, suspension, gearbox, lock, low, ratio, etc, advisable, land, rover, canbus, system]</td>\n",
       "      <td>[(6, 1), (114, 1), (131, 1), (132, 1), (133, 1), (134, 1)]</td>\n",
       "      <td>0</td>\n",
       "      <td>0.878713</td>\n",
       "    </tr>\n",
       "    <tr>\n",
       "      <th>36</th>\n",
       "      <td>It doesn't load pgn files or have the opening book, for 8 dollars</td>\n",
       "      <td>[load, pgn, file, opening, book, dollar]</td>\n",
       "      <td>[(154, 1), (155, 1), (156, 1)]</td>\n",
       "      <td>0</td>\n",
       "      <td>0.434557</td>\n",
       "    </tr>\n",
       "    <tr>\n",
       "      <th>39</th>\n",
       "      <td>Waste of time Wrong schedules</td>\n",
       "      <td>[waste, time, wrong, schedule, waste_time]</td>\n",
       "      <td>[(28, 1), (101, 1), (130, 1), (163, 1)]</td>\n",
       "      <td>0</td>\n",
       "      <td>0.830303</td>\n",
       "    </tr>\n",
       "    <tr>\n",
       "      <th>42</th>\n",
       "      <td>Stupid App. Pwd works on Website but not doesnt work on APP. Thats the reason you ppl gave Rs 150 discount is it on App</td>\n",
       "      <td>[stupid, app, pwd, work, website, doesnt, work, app, thats, reason, ppl, gave, discount, app]</td>\n",
       "      <td>[(5, 1), (6, 3), (13, 2), (65, 1), (169, 1), (170, 1)]</td>\n",
       "      <td>0</td>\n",
       "      <td>0.567856</td>\n",
       "    </tr>\n",
       "    <tr>\n",
       "      <th>45</th>\n",
       "      <td>Will not open on my nexus I sent a message to the creator but received no reply. I would like a refund if this is not going to be fixed.</td>\n",
       "      <td>[open, nexus, sent, message, creator, received, reply, would, like, refund, going, fixed]</td>\n",
       "      <td>[(77, 1), (99, 1), (114, 1), (143, 1), (176, 1), (177, 1), (178, 1), (179, 1), (180, 1)]</td>\n",
       "      <td>0</td>\n",
       "      <td>0.467601</td>\n",
       "    </tr>\n",
       "    <tr>\n",
       "      <th>75</th>\n",
       "      <td>Poor customer service Sent 3 emails regarding an issue and no response back. Actually love the game but what the hell do I gotta do to a reply back</td>\n",
       "      <td>[poor, customer, service, sent, email, regarding, issue, response, back, actually, love, game, hell, gotta, reply, back]</td>\n",
       "      <td>[(1, 1), (10, 1), (15, 2), (41, 1), (131, 1), (179, 1), (190, 1), (226, 1), (229, 1), (230, 1)]</td>\n",
       "      <td>0</td>\n",
       "      <td>0.929181</td>\n",
       "    </tr>\n",
       "    <tr>\n",
       "      <th>79</th>\n",
       "      <td>Paying for other book I bought this and then paid for an additional ABCs book. So far it's been downloading for over 15 minutes. AVOID THIS APP.  Editors choice my A. It's obviously unattended. No network issues on my end just garbage on their end.</td>\n",
       "      <td>[paying, book, bought, paid, additional, abc, book, far, downloading, minute, avoid, app, editor, choice, obviously, unattended, network, issue, end, garbage, end]</td>\n",
       "      <td>[(6, 1), (17, 1), (56, 1), (131, 1), (152, 1), (154, 2), (198, 1), (235, 1), (236, 1), (237, 2)]</td>\n",
       "      <td>0</td>\n",
       "      <td>0.934628</td>\n",
       "    </tr>\n",
       "    <tr>\n",
       "      <th>89</th>\n",
       "      <td>LB6300 Series not working.  Anyone else Anyone else have any luck  Currently giving 2 stars just because it seems to work for some and not others.  Will change to 5 if I can access my lb6300.</td>\n",
       "      <td>[lb6300, series, working, anyone, else, anyone, else, luck, currently, giving, star, seems, work, others, change, access, lb6300]</td>\n",
       "      <td>[(13, 1), (16, 1), (83, 1), (86, 1), (117, 1), (140, 1), (256, 2), (257, 2), (258, 1)]</td>\n",
       "      <td>0</td>\n",
       "      <td>0.929227</td>\n",
       "    </tr>\n",
       "    <tr>\n",
       "      <th>112</th>\n",
       "      <td>Worst online rummy game ever dont waste your time on this. It doesn't recognise most of the cards clubbed and gives wrong show error. It sucks.. fix it......</td>\n",
       "      <td>[worst, online, rummy, game, ever, dont, waste, time, recognise, card, clubbed, give, wrong, show, error, suck, fix, waste_time]</td>\n",
       "      <td>[(0, 1), (23, 1), (28, 1), (41, 1), (74, 1), (85, 1), (101, 1), (121, 1), (130, 1), (146, 1), (163, 1), (211, 1), (279, 1), (291, 1), (292, 1)]</td>\n",
       "      <td>0</td>\n",
       "      <td>0.442561</td>\n",
       "    </tr>\n",
       "    <tr>\n",
       "      <th>123</th>\n",
       "      <td>Cannot use Insure app after update After last update app doesn't recognize me or allow me to refresh register.</td>\n",
       "      <td>[cannot, use, insure, app, update, last, update, app, recognize, allow, refresh, register, last_update]</td>\n",
       "      <td>[(6, 2), (11, 2), (88, 1), (89, 1), (193, 1), (299, 1), (300, 1)]</td>\n",
       "      <td>0</td>\n",
       "      <td>0.915164</td>\n",
       "    </tr>\n",
       "    <tr>\n",
       "      <th>126</th>\n",
       "      <td>Unhappy I purchased 3 of the Monkey Preschool games tonight for my son who loves the apps.... However they will not download to my Galaxy, I keep getting an error 491 message. Very unhappy at the waste of money and now I have a very upset 2 year old</td>\n",
       "      <td>[unhappy, purchased, monkey, preschool, game, tonight, son, love, apps, however, download, galaxy, keep, getting, error, message, unhappy, waste, money, upset, year, old, waste_money, year_old]</td>\n",
       "      <td>[(10, 1), (41, 1), (42, 1), (53, 1), (77, 1), (98, 1), (101, 1), (102, 1), (112, 1), (113, 1), (141, 1), (146, 1), (247, 1), (248, 1), (249, 1), (302, 1), (303, 1)]</td>\n",
       "      <td>0</td>\n",
       "      <td>0.652552</td>\n",
       "    </tr>\n",
       "    <tr>\n",
       "      <th>131</th>\n",
       "      <td>From Number 1 to worst game Was the best game I've ever played  until the last update which made building units 10 times longer. NOT PLAYABLE anymore, SCREW YOU GREEDY DEVELOPERS.</td>\n",
       "      <td>[number, worst, game, best, game, ever, played, last, update, made, building, unit, time, longer, playable, anymore, screw, greedy, developer, last_update]</td>\n",
       "      <td>[(11, 1), (28, 1), (41, 2), (74, 1), (88, 1), (89, 1), (167, 1), (203, 1), (211, 1), (224, 1), (268, 1), (308, 1), (309, 1)]</td>\n",
       "      <td>0</td>\n",
       "      <td>0.521536</td>\n",
       "    </tr>\n",
       "    <tr>\n",
       "      <th>134</th>\n",
       "      <td>Hated it I thought it was actually going to look like a hologram. But it looked completely fake. It's a waist of time and it takes up room on your SD card</td>\n",
       "      <td>[hated, thought, actually, going, look, like, hologram, looked, completely, fake, waist, time, take, room, card]</td>\n",
       "      <td>[(28, 1), (114, 1), (177, 1), (200, 1), (225, 1), (229, 1), (282, 1), (291, 1), (315, 1), (316, 1)]</td>\n",
       "      <td>0</td>\n",
       "      <td>0.648000</td>\n",
       "    </tr>\n",
       "    <tr>\n",
       "      <th>146</th>\n",
       "      <td>My game won't even open up after the last update. I would like to see a hero or gem reward for this huge inconvenience</td>\n",
       "      <td>[game, even, open, last, update, would, like, see, hero, gem, reward, huge, inconvenience, last_update]</td>\n",
       "      <td>[(11, 1), (21, 1), (41, 1), (88, 1), (89, 1), (114, 1), (128, 1), (143, 1), (180, 1)]</td>\n",
       "      <td>0</td>\n",
       "      <td>0.915047</td>\n",
       "    </tr>\n",
       "    <tr>\n",
       "      <th>148</th>\n",
       "      <td>Nonsense game No features...</td>\n",
       "      <td>[nonsense, game, feature]</td>\n",
       "      <td>[(41, 1), (284, 1)]</td>\n",
       "      <td>0</td>\n",
       "      <td>0.716441</td>\n",
       "    </tr>\n",
       "    <tr>\n",
       "      <th>153</th>\n",
       "      <td>The update is Soooooooo......Messed up, all that did was make it slow it never passes the welcome page.that sucks big time I use to love this app you all better fix this snail effect</td>\n",
       "      <td>[update, soooooooo, messed, make, slow, never, pass, welcome, page, suck, big, time, use, love, app, better, fix, snail, effect]</td>\n",
       "      <td>[(0, 1), (6, 1), (10, 1), (11, 1), (28, 1), (45, 1), (48, 1), (78, 1), (85, 1), (108, 1), (186, 1), (193, 1), (325, 1)]</td>\n",
       "      <td>0</td>\n",
       "      <td>0.939307</td>\n",
       "    </tr>\n",
       "    <tr>\n",
       "      <th>156</th>\n",
       "      <td>I have wasted my money. I cannot cast properly. The casting seems to work in the reverse.when reeling and tilting back lowers the rod tip Am so disapointed</td>\n",
       "      <td>[wasted, money, cannot, cast, properly, casting, seems, work, reverse, reeling, tilting, back, lower, rod, tip, disapointed]</td>\n",
       "      <td>[(13, 1), (15, 1), (98, 1), (140, 1), (300, 1), (328, 1), (329, 1)]</td>\n",
       "      <td>0</td>\n",
       "      <td>0.893870</td>\n",
       "    </tr>\n",
       "    <tr>\n",
       "      <th>160</th>\n",
       "      <td>This is stole my net balance I down load this app it cannot work so frndz dont download this app</td>\n",
       "      <td>[stole, net, balance, load, app, cannot, work, frndz, dont, download, app]</td>\n",
       "      <td>[(6, 2), (13, 1), (113, 1), (155, 1), (279, 1), (300, 1)]</td>\n",
       "      <td>0</td>\n",
       "      <td>0.893854</td>\n",
       "    </tr>\n",
       "    <tr>\n",
       "      <th>162</th>\n",
       "      <td>Completely inaccurate Have been using this for a week now and it always says my wife is miles from where she is actually at. She is at home most of the time. We use Glympse to view each others location and this cm family app is completely inaccurate.</td>\n",
       "      <td>[completely, inaccurate, using, week, always, say, wife, mile, actually, home, time, use, glympse, view, others, location, family, app, completely, inaccurate]</td>\n",
       "      <td>[(6, 1), (28, 1), (39, 1), (133, 1), (161, 1), (193, 1), (229, 1), (255, 1), (330, 1), (331, 1)]</td>\n",
       "      <td>0</td>\n",
       "      <td>0.571799</td>\n",
       "    </tr>\n",
       "    <tr>\n",
       "      <th>169</th>\n",
       "      <td>App functionality ok but very very poor service Took me 8 calls ,30 rupees on phone bill to get a sorry from their side...and yea an added no taxi available after putting and cancelling 4 drivers as a gift too...</td>\n",
       "      <td>[app, functionality, poor, service, took, call, rupee, phone, bill, get, sorry, side, yea, added, taxi, available, putting, cancelling, driver, gift]</td>\n",
       "      <td>[(6, 1), (52, 1), (173, 1), (190, 1), (226, 1), (252, 1), (270, 1), (293, 1), (335, 1)]</td>\n",
       "      <td>0</td>\n",
       "      <td>0.468231</td>\n",
       "    </tr>\n",
       "    <tr>\n",
       "      <th>176</th>\n",
       "      <td>Update is more of a downgrade. Takes 5 minutes to recruit basic units...  Wtf, was 1 minute before. I'm sick of waiting, we want action not standby time.</td>\n",
       "      <td>[update, downgrade, take, minute, recruit, basic, unit, wtf, minute, sick, waiting, want, action, standby, time]</td>\n",
       "      <td>[(11, 1), (28, 1), (175, 1), (198, 2), (225, 1), (336, 1)]</td>\n",
       "      <td>0</td>\n",
       "      <td>0.792956</td>\n",
       "    </tr>\n",
       "    <tr>\n",
       "      <th>198</th>\n",
       "      <td>4.4 After your last update and 4.4 update Plume has literally fell apart. Can't get it to refresh, will not scroll and will not mark things as read.  Please fix</td>\n",
       "      <td>[last, update, update, plume, literally, fell, apart, get, refresh, scroll, mark, thing, read, please, fix, last_update, please_fix]</td>\n",
       "      <td>[(0, 1), (11, 2), (34, 1), (35, 1), (52, 1), (88, 1), (89, 1), (209, 1), (348, 1)]</td>\n",
       "      <td>0</td>\n",
       "      <td>0.518958</td>\n",
       "    </tr>\n",
       "    <tr>\n",
       "      <th>201</th>\n",
       "      <td>Corrupted update Eith this update I can only clear errors and get information on how to pay. No self service capability. Guess you want us to call the call centre instead</td>\n",
       "      <td>[corrupted, update, eith, update, clear, error, get, information, pay, self, service, capability, guess, want, call, call, centre, instead]</td>\n",
       "      <td>[(11, 2), (52, 1), (119, 1), (146, 1), (173, 2), (175, 1), (190, 1)]</td>\n",
       "      <td>0</td>\n",
       "      <td>0.915040</td>\n",
       "    </tr>\n",
       "    <tr>\n",
       "      <th>206</th>\n",
       "      <td>I don't like</td>\n",
       "      <td>[like]</td>\n",
       "      <td>[(114, 1)]</td>\n",
       "      <td>0</td>\n",
       "      <td>0.575577</td>\n",
       "    </tr>\n",
       "    <tr>\n",
       "      <th>209</th>\n",
       "      <td>Doesn't work Paid for pro yet all features still locked and tells me i need pro</td>\n",
       "      <td>[work, paid, pro, yet, feature, still, locked, tell, need, pro]</td>\n",
       "      <td>[(13, 1), (50, 1), (56, 1), (84, 1), (284, 1), (311, 2), (334, 1), (350, 1), (351, 1)]</td>\n",
       "      <td>0</td>\n",
       "      <td>0.922730</td>\n",
       "    </tr>\n",
       "    <tr>\n",
       "      <th>211</th>\n",
       "      <td>It really is a good game in theory but it does not get updates Often no event over a month it seems like kbaam completely forgotten about this game</td>\n",
       "      <td>[really, good, game, theory, get, update, often, event, month, seems, like, kbaam, completely, forgotten, game]</td>\n",
       "      <td>[(4, 1), (11, 1), (41, 2), (52, 1), (114, 1), (140, 1), (145, 1), (251, 1), (264, 1)]</td>\n",
       "      <td>0</td>\n",
       "      <td>0.922769</td>\n",
       "    </tr>\n",
       "    <tr>\n",
       "      <th>...</th>\n",
       "      <td>...</td>\n",
       "      <td>...</td>\n",
       "      <td>...</td>\n",
       "      <td>...</td>\n",
       "      <td>...</td>\n",
       "    </tr>\n",
       "    <tr>\n",
       "      <th>3746</th>\n",
       "      <td>Not good at all...keep on blinking.</td>\n",
       "      <td>[good, keep, blinking]</td>\n",
       "      <td>[(42, 1), (145, 1)]</td>\n",
       "      <td>0</td>\n",
       "      <td>0.717129</td>\n",
       "    </tr>\n",
       "    <tr>\n",
       "      <th>3747</th>\n",
       "      <td>WTH When it works it's Awesome, but lately after every update this app is sinking. If an update happens to fix one issue there's no time for celebration because it's guaranteed that about 3 other things are about to go wrong.</td>\n",
       "      <td>[wth, work, awesome, lately, every, update, app, sinking, update, happens, fix, one, issue, time, celebration, guaranteed, thing, wrong]</td>\n",
       "      <td>[(0, 1), (6, 1), (11, 2), (13, 1), (28, 1), (118, 1), (131, 1), (135, 1), (163, 1), (209, 1), (324, 1), (375, 1)]</td>\n",
       "      <td>0</td>\n",
       "      <td>0.693142</td>\n",
       "    </tr>\n",
       "    <tr>\n",
       "      <th>3756</th>\n",
       "      <td>android update now it won't open.  Will put it back to 5 stars when fixed.</td>\n",
       "      <td>[android, update, open, put, back, star, fixed]</td>\n",
       "      <td>[(11, 1), (15, 1), (83, 1), (143, 1), (176, 1), (216, 1), (283, 1)]</td>\n",
       "      <td>0</td>\n",
       "      <td>0.893833</td>\n",
       "    </tr>\n",
       "    <tr>\n",
       "      <th>3771</th>\n",
       "      <td>Very poor. Functionally it kinda works but you only get half of the menu icons along the bottom and there is no Android Menu button even though the app tells you to use it to create favorites. Very poor standard of build in this app.</td>\n",
       "      <td>[poor, functionally, kinda, work, get, half, menu, icon, along, bottom, android, menu, button, even, though, app, tell, use, create, favorite, poor, standard, build, app]</td>\n",
       "      <td>[(6, 2), (13, 1), (19, 2), (52, 1), (128, 1), (193, 1), (216, 1), (226, 2), (305, 1), (343, 1), (351, 1), (357, 1), (405, 1)]</td>\n",
       "      <td>0</td>\n",
       "      <td>0.950018</td>\n",
       "    </tr>\n",
       "    <tr>\n",
       "      <th>3780</th>\n",
       "      <td>If only it worked Firstly it does not allow you to change your password and secondly it never retrieves the seating plan so you can never book a movie. Just as bad as their first app</td>\n",
       "      <td>[worked, firstly, allow, change, password, secondly, never, retrieves, seating, plan, never, book, movie, bad, first, app]</td>\n",
       "      <td>[(6, 1), (16, 1), (78, 2), (137, 1), (154, 1), (187, 1), (299, 1), (352, 1)]</td>\n",
       "      <td>0</td>\n",
       "      <td>0.915052</td>\n",
       "    </tr>\n",
       "    <tr>\n",
       "      <th>3797</th>\n",
       "      <td>I love circket</td>\n",
       "      <td>[love, circket]</td>\n",
       "      <td>[(10, 1)]</td>\n",
       "      <td>0</td>\n",
       "      <td>0.560557</td>\n",
       "    </tr>\n",
       "    <tr>\n",
       "      <th>3802</th>\n",
       "      <td>Cannot get this to work AT ALL Everytime I press start, it notifies me it is going to disable Bluetooth. Why the FFFF would I want to do that Absolutely broken.</td>\n",
       "      <td>[cannot, get, work, everytime, press, start, notifies, going, disable, bluetooth, ffff, would, want, absolutely, broken]</td>\n",
       "      <td>[(13, 1), (52, 1), (75, 1), (175, 1), (177, 1), (180, 1), (212, 1), (278, 1), (300, 1), (399, 1)]</td>\n",
       "      <td>0</td>\n",
       "      <td>0.522713</td>\n",
       "    </tr>\n",
       "    <tr>\n",
       "      <th>3804</th>\n",
       "      <td>Cannot find me So what do I need to do to get this working Are you going to reimburse me my vitality points I lost for trying to make your dumb app work</td>\n",
       "      <td>[cannot, find, need, get, working, going, reimburse, vitality, point, lost, trying, make, dumb, app, work]</td>\n",
       "      <td>[(6, 1), (13, 1), (48, 1), (50, 1), (52, 1), (117, 1), (174, 1), (177, 1), (261, 1), (281, 1), (300, 1), (355, 1), (376, 1)]</td>\n",
       "      <td>0</td>\n",
       "      <td>0.939312</td>\n",
       "    </tr>\n",
       "    <tr>\n",
       "      <th>3813</th>\n",
       "      <td>I paid for this hassle Yes I did. The app crashed 3  times while installing and has yet to run successfully on my granddaughter's NuVision Intel tablet.  Let me know when you update it because my granddaughter would like to play it.</td>\n",
       "      <td>[paid, hassle, yes, app, crashed, time, installing, yet, run, successfully, granddaughter, nuvision, intel, tablet, let, know, update, granddaughter, would, like, play]</td>\n",
       "      <td>[(6, 1), (11, 1), (28, 1), (56, 1), (79, 1), (93, 1), (111, 1), (114, 1), (124, 1), (126, 1), (180, 1), (260, 1), (334, 1)]</td>\n",
       "      <td>0</td>\n",
       "      <td>0.603829</td>\n",
       "    </tr>\n",
       "    <tr>\n",
       "      <th>3814</th>\n",
       "      <td>Can't complete beginning I can't even get much into the tutorial because a monster isn't spawning after I select the sword, also switching between buttons can be sticky, would love to download if these problems are addressed</td>\n",
       "      <td>[complete, beginning, even, get, much, tutorial, monster, spawning, select, sword, also, switching, button, sticky, would, love, download, problem, addressed]</td>\n",
       "      <td>[(10, 1), (49, 1), (52, 1), (113, 1), (128, 1), (144, 1), (180, 1), (202, 1), (222, 1), (357, 1)]</td>\n",
       "      <td>0</td>\n",
       "      <td>0.922764</td>\n",
       "    </tr>\n",
       "    <tr>\n",
       "      <th>3816</th>\n",
       "      <td>The game is busted Totally pay to win. NO penalty for NEVER feeding your troops allows armies so large strategy and tactics mean nothing.  Only thing that matters is how much money spend buying stuff.</td>\n",
       "      <td>[game, busted, totally, pay, win, penalty, never, feeding, troop, allows, army, large, strategy, tactic, mean, nothing, thing, matter, much, money, spend, buying, stuff]</td>\n",
       "      <td>[(41, 1), (49, 1), (78, 1), (98, 1), (119, 1), (206, 1), (209, 1), (277, 1), (288, 1), (364, 1), (367, 1), (377, 1), (400, 1)]</td>\n",
       "      <td>0</td>\n",
       "      <td>0.496023</td>\n",
       "    </tr>\n",
       "    <tr>\n",
       "      <th>3825</th>\n",
       "      <td>Pointless I see no reason why this couldn't be integrated into the SuperSport app...</td>\n",
       "      <td>[pointless, see, reason, integrated, supersport, app]</td>\n",
       "      <td>[(6, 1), (21, 1), (170, 1)]</td>\n",
       "      <td>0</td>\n",
       "      <td>0.787668</td>\n",
       "    </tr>\n",
       "    <tr>\n",
       "      <th>3853</th>\n",
       "      <td>Dream crusher.... Well... Four word only... IT KEEP ON CRASHING</td>\n",
       "      <td>[dream, crusher, well, four, word, keep, crashing, keep_crashing]</td>\n",
       "      <td>[(9, 1), (42, 1), (87, 1), (106, 1), (134, 1)]</td>\n",
       "      <td>0</td>\n",
       "      <td>0.858483</td>\n",
       "    </tr>\n",
       "    <tr>\n",
       "      <th>3858</th>\n",
       "      <td>Meh, I recently have taken interest in anime and mangas but I really hoped this app would have stories to read for free, ugh I heard a ton of good reviews from friends but was disappointed</td>\n",
       "      <td>[meh, recently, taken, interest, anime, mangas, really, hoped, app, would, story, read, free, ugh, heard, ton, good, review, friend, disappointed]</td>\n",
       "      <td>[(4, 1), (6, 1), (51, 1), (145, 1), (180, 1), (217, 1), (342, 1), (348, 1), (372, 1)]</td>\n",
       "      <td>0</td>\n",
       "      <td>0.753597</td>\n",
       "    </tr>\n",
       "    <tr>\n",
       "      <th>3886</th>\n",
       "      <td>Blurry pics on galaxy s4 I just can't get this app to focus.. The native camera app on my s4 is fast better.</td>\n",
       "      <td>[blurry, pic, galaxy, get, app, focus, native, camera, app, fast, better]</td>\n",
       "      <td>[(6, 2), (52, 1), (141, 1), (186, 1), (392, 1)]</td>\n",
       "      <td>0</td>\n",
       "      <td>0.878601</td>\n",
       "    </tr>\n",
       "    <tr>\n",
       "      <th>3899</th>\n",
       "      <td>Very bad after download you guys need money this is not fair at last provide some service to New members     very bad very bad and fake application  this is to inform all you that pls don't download this app</td>\n",
       "      <td>[bad, download, guy, need, money, fair, last, provide, service, new, member, bad, bad, fake, application, inform, pls, download, app]</td>\n",
       "      <td>[(6, 1), (50, 1), (88, 1), (95, 1), (98, 1), (113, 2), (115, 1), (187, 3), (190, 1), (204, 1), (272, 1), (315, 1)]</td>\n",
       "      <td>0</td>\n",
       "      <td>0.555061</td>\n",
       "    </tr>\n",
       "    <tr>\n",
       "      <th>3909</th>\n",
       "      <td>Failure to Download 3x ive tried to down with storage space of 1GB, 3x it gets to 48 then cancels download due to and error 909 code, despite 3bar 3G signal. Totally useless, giving up. Fix immediately and i will reconsider downloading</td>\n",
       "      <td>[failure, download, ive, tried, storage, space, 1gb, get, cancel, download, due, error, code, despite, 3bar, signal, totally, useless, giving, fix, immediately, reconsider, downloading]</td>\n",
       "      <td>[(0, 1), (52, 1), (113, 2), (146, 1), (149, 1), (185, 1), (192, 1), (236, 1), (258, 1), (307, 1), (322, 1), (400, 1)]</td>\n",
       "      <td>0</td>\n",
       "      <td>0.636720</td>\n",
       "    </tr>\n",
       "    <tr>\n",
       "      <th>3915</th>\n",
       "      <td>I gave this app 5 stars now it gets 2. Please fix the update and let everything go back to normal. Can't see stories or anything. Went from the best to the worst</td>\n",
       "      <td>[gave, app, star, get, please, fix, update, let, everything, back, normal, see, story, anything, went, best, worst, please_fix]</td>\n",
       "      <td>[(0, 1), (6, 1), (11, 1), (14, 1), (15, 1), (21, 1), (34, 1), (35, 1), (37, 1), (52, 1), (65, 1), (74, 1), (83, 1), (111, 1), (245, 1), (308, 1)]</td>\n",
       "      <td>0</td>\n",
       "      <td>0.684543</td>\n",
       "    </tr>\n",
       "    <tr>\n",
       "      <th>3921</th>\n",
       "      <td>Why offer it in Canada if it's not going to work This app is why people switch to uber. Don't give me my address and tell me where I am unless you can actually request a taxi. Terrible and misleading business model</td>\n",
       "      <td>[offer, canada, going, work, app, people, switch, uber, give, address, tell, unless, actually, request, taxi, terrible, misleading, business, model]</td>\n",
       "      <td>[(2, 1), (6, 1), (13, 1), (121, 1), (177, 1), (229, 1), (246, 1), (351, 1)]</td>\n",
       "      <td>0</td>\n",
       "      <td>0.905637</td>\n",
       "    </tr>\n",
       "    <tr>\n",
       "      <th>3922</th>\n",
       "      <td>Why doesent The Moth respond We are all big enough for this app to be fixed and updated However there is a complete lack of response to these requests. Since my last posting this continues to be a problem. Keeps crashing on razor maxx</td>\n",
       "      <td>[doesent, moth, respond, big, enough, app, fixed, updated, however, complete, lack, response, request, since, last, posting, continues, problem, keep, crashing, razor, maxx, keep_crashing]</td>\n",
       "      <td>[(6, 1), (9, 1), (12, 1), (42, 1), (82, 1), (87, 1), (88, 1), (108, 1), (144, 1), (176, 1), (222, 1), (297, 1)]</td>\n",
       "      <td>0</td>\n",
       "      <td>0.934688</td>\n",
       "    </tr>\n",
       "    <tr>\n",
       "      <th>3925</th>\n",
       "      <td>waste simply waste of time downloading it</td>\n",
       "      <td>[waste, simply, waste, time, downloading, waste_time]</td>\n",
       "      <td>[(28, 1), (101, 2), (130, 1), (236, 1)]</td>\n",
       "      <td>0</td>\n",
       "      <td>0.858589</td>\n",
       "    </tr>\n",
       "    <tr>\n",
       "      <th>3937</th>\n",
       "      <td>Doesn't work on androids Saw the magic on an iPhone. Bought a couple coloring books and tried with my Galaxy Note and nothing happens. Disappointed kids....especially after seeing it work on an iPhone.</td>\n",
       "      <td>[work, android, saw, magic, iphone, bought, couple, coloring, book, tried, galaxy, note, nothing, happens, disappointed, kid, especially, seeing, work, iphone, galaxy_note]</td>\n",
       "      <td>[(13, 2), (97, 1), (141, 1), (142, 1), (154, 1), (185, 1), (206, 1), (216, 1), (217, 1), (235, 1), (324, 1)]</td>\n",
       "      <td>0</td>\n",
       "      <td>0.365301</td>\n",
       "    </tr>\n",
       "    <tr>\n",
       "      <th>3966</th>\n",
       "      <td>I can't download It keeps giving me an error. I forget the error code I think it was 905. It would love to play this game and enjoy It, but alas I cannot at the moment. Plz halp.</td>\n",
       "      <td>[download, keep, giving, error, forget, error, code, think, would, love, play, game, enjoy, ala, cannot, moment, plz, halp]</td>\n",
       "      <td>[(10, 1), (41, 1), (42, 1), (73, 1), (79, 1), (110, 1), (113, 1), (146, 2), (180, 1), (188, 1), (258, 1), (300, 1)]</td>\n",
       "      <td>0</td>\n",
       "      <td>0.636444</td>\n",
       "    </tr>\n",
       "    <tr>\n",
       "      <th>3974</th>\n",
       "      <td>Forum Won't allow me to put my favorite forum in,  and its not on the list,  only reason I downloaded it... Any support for this</td>\n",
       "      <td>[forum, allow, put, favorite, forum, list, reason, downloaded, support]</td>\n",
       "      <td>[(31, 1), (170, 1), (283, 1), (299, 1), (305, 1), (353, 1)]</td>\n",
       "      <td>0</td>\n",
       "      <td>0.878705</td>\n",
       "    </tr>\n",
       "    <tr>\n",
       "      <th>3981</th>\n",
       "      <td>Worst app Not of use.  Waste of time dont install</td>\n",
       "      <td>[worst, app, use, waste, time, dont, install, waste_time]</td>\n",
       "      <td>[(6, 1), (28, 1), (74, 1), (101, 1), (130, 1), (193, 1), (254, 1), (279, 1)]</td>\n",
       "      <td>0</td>\n",
       "      <td>0.905542</td>\n",
       "    </tr>\n",
       "    <tr>\n",
       "      <th>3984</th>\n",
       "      <td>7 times out of 10 u get rihht to the end of a  run  and what happens A flaming ad pops up. VERY ANJOYING  UNINSTALLING NOW</td>\n",
       "      <td>[time, get, rihht, end, run, happens, flaming, pop, anjoying, uninstalling]</td>\n",
       "      <td>[(28, 1), (52, 1), (91, 1), (126, 1), (237, 1), (275, 1), (324, 1)]</td>\n",
       "      <td>0</td>\n",
       "      <td>0.680382</td>\n",
       "    </tr>\n",
       "    <tr>\n",
       "      <th>3987</th>\n",
       "      <td>KEEPS CRASHING The game was awesome and did not crash at all until the version 1.3.0 came out. The version had much more features but it kept crashing whenever I start a mission. Hope netmarble will find a solution for this....</td>\n",
       "      <td>[keep, crashing, game, awesome, crash, version, came, version, much, feature, kept, crashing, whenever, start, mission, hope, netmarble, find, solution, keep_crashing]</td>\n",
       "      <td>[(9, 2), (41, 1), (42, 1), (49, 1), (57, 2), (87, 1), (92, 1), (159, 1), (212, 1), (240, 1), (261, 1), (284, 1), (375, 1), (390, 1)]</td>\n",
       "      <td>0</td>\n",
       "      <td>0.714819</td>\n",
       "    </tr>\n",
       "    <tr>\n",
       "      <th>3990</th>\n",
       "      <td>I like drum Me too</td>\n",
       "      <td>[like, drum]</td>\n",
       "      <td>[(114, 1)]</td>\n",
       "      <td>0</td>\n",
       "      <td>0.575576</td>\n",
       "    </tr>\n",
       "    <tr>\n",
       "      <th>3991</th>\n",
       "      <td>cheap n best</td>\n",
       "      <td>[cheap, best]</td>\n",
       "      <td>[(308, 1)]</td>\n",
       "      <td>0</td>\n",
       "      <td>0.575858</td>\n",
       "    </tr>\n",
       "    <tr>\n",
       "      <th>3994</th>\n",
       "      <td>WTF A piece of shit. Saying more is waste of time.</td>\n",
       "      <td>[wtf, piece, shit, saying, waste, time, waste_time]</td>\n",
       "      <td>[(28, 1), (44, 1), (101, 1), (130, 1), (336, 1)]</td>\n",
       "      <td>0</td>\n",
       "      <td>0.858530</td>\n",
       "    </tr>\n",
       "  </tbody>\n",
       "</table>\n",
       "<p>546 rows × 5 columns</p>\n",
       "</div>"
      ],
      "text/plain": [
       "                                                                                                                                                                                                                                                             raw  \\\n",
       "1     Update messed up this app Cutting off wake up paths doesn't work, auto hibernation disabled on random occasions, frequently crashing... i was in love with this app untill it was updated to this crap.. fix this... ASAP                                    \n",
       "10    Gave me information regarding another person, and charged me R29 for it. It is a breach of the other person's privacy. This app is not credit worthy                                                                                                         \n",
       "15    Loved the game. Game Was amazing until last update. It keeps crashing when I try to access the guild                                                                                                                                                         \n",
       "29    Hate it You should not get it you can't even race and I give this app 1 star. I don't know how the other people love it but I am telling you don't get it. Total waste of time                                                                               \n",
       "30    Using a high spec genuine dongle and this app lights my dash up like a Christmas tree. Throws up all sorts of dash light issues as well as lowering suspension and gearbox lock out from low ratio etc. Not advisable for Land Rover canbus systems          \n",
       "36    It doesn't load pgn files or have the opening book, for 8 dollars                                                                                                                                                                                            \n",
       "39    Waste of time Wrong schedules                                                                                                                                                                                                                                \n",
       "42    Stupid App. Pwd works on Website but not doesnt work on APP. Thats the reason you ppl gave Rs 150 discount is it on App                                                                                                                                      \n",
       "45    Will not open on my nexus I sent a message to the creator but received no reply. I would like a refund if this is not going to be fixed.                                                                                                                     \n",
       "75    Poor customer service Sent 3 emails regarding an issue and no response back. Actually love the game but what the hell do I gotta do to a reply back                                                                                                          \n",
       "79    Paying for other book I bought this and then paid for an additional ABCs book. So far it's been downloading for over 15 minutes. AVOID THIS APP.  Editors choice my A. It's obviously unattended. No network issues on my end just garbage on their end.     \n",
       "89    LB6300 Series not working.  Anyone else Anyone else have any luck  Currently giving 2 stars just because it seems to work for some and not others.  Will change to 5 if I can access my lb6300.                                                              \n",
       "112   Worst online rummy game ever dont waste your time on this. It doesn't recognise most of the cards clubbed and gives wrong show error. It sucks.. fix it......                                                                                                \n",
       "123   Cannot use Insure app after update After last update app doesn't recognize me or allow me to refresh register.                                                                                                                                               \n",
       "126   Unhappy I purchased 3 of the Monkey Preschool games tonight for my son who loves the apps.... However they will not download to my Galaxy, I keep getting an error 491 message. Very unhappy at the waste of money and now I have a very upset 2 year old    \n",
       "131   From Number 1 to worst game Was the best game I've ever played  until the last update which made building units 10 times longer. NOT PLAYABLE anymore, SCREW YOU GREEDY DEVELOPERS.                                                                          \n",
       "134   Hated it I thought it was actually going to look like a hologram. But it looked completely fake. It's a waist of time and it takes up room on your SD card                                                                                                   \n",
       "146   My game won't even open up after the last update. I would like to see a hero or gem reward for this huge inconvenience                                                                                                                                       \n",
       "148   Nonsense game No features...                                                                                                                                                                                                                                 \n",
       "153   The update is Soooooooo......Messed up, all that did was make it slow it never passes the welcome page.that sucks big time I use to love this app you all better fix this snail effect                                                                       \n",
       "156   I have wasted my money. I cannot cast properly. The casting seems to work in the reverse.when reeling and tilting back lowers the rod tip Am so disapointed                                                                                                  \n",
       "160   This is stole my net balance I down load this app it cannot work so frndz dont download this app                                                                                                                                                             \n",
       "162   Completely inaccurate Have been using this for a week now and it always says my wife is miles from where she is actually at. She is at home most of the time. We use Glympse to view each others location and this cm family app is completely inaccurate.   \n",
       "169   App functionality ok but very very poor service Took me 8 calls ,30 rupees on phone bill to get a sorry from their side...and yea an added no taxi available after putting and cancelling 4 drivers as a gift too...                                         \n",
       "176   Update is more of a downgrade. Takes 5 minutes to recruit basic units...  Wtf, was 1 minute before. I'm sick of waiting, we want action not standby time.                                                                                                    \n",
       "198   4.4 After your last update and 4.4 update Plume has literally fell apart. Can't get it to refresh, will not scroll and will not mark things as read.  Please fix                                                                                             \n",
       "201   Corrupted update Eith this update I can only clear errors and get information on how to pay. No self service capability. Guess you want us to call the call centre instead                                                                                   \n",
       "206   I don't like                                                                                                                                                                                                                                                 \n",
       "209   Doesn't work Paid for pro yet all features still locked and tells me i need pro                                                                                                                                                                              \n",
       "211   It really is a good game in theory but it does not get updates Often no event over a month it seems like kbaam completely forgotten about this game                                                                                                          \n",
       "...                                                                                                                                                   ...                                                                                                          \n",
       "3746  Not good at all...keep on blinking.                                                                                                                                                                                                                          \n",
       "3747  WTH When it works it's Awesome, but lately after every update this app is sinking. If an update happens to fix one issue there's no time for celebration because it's guaranteed that about 3 other things are about to go wrong.                            \n",
       "3756  android update now it won't open.  Will put it back to 5 stars when fixed.                                                                                                                                                                                   \n",
       "3771  Very poor. Functionally it kinda works but you only get half of the menu icons along the bottom and there is no Android Menu button even though the app tells you to use it to create favorites. Very poor standard of build in this app.                    \n",
       "3780  If only it worked Firstly it does not allow you to change your password and secondly it never retrieves the seating plan so you can never book a movie. Just as bad as their first app                                                                       \n",
       "3797  I love circket                                                                                                                                                                                                                                               \n",
       "3802  Cannot get this to work AT ALL Everytime I press start, it notifies me it is going to disable Bluetooth. Why the FFFF would I want to do that Absolutely broken.                                                                                             \n",
       "3804  Cannot find me So what do I need to do to get this working Are you going to reimburse me my vitality points I lost for trying to make your dumb app work                                                                                                     \n",
       "3813  I paid for this hassle Yes I did. The app crashed 3  times while installing and has yet to run successfully on my granddaughter's NuVision Intel tablet.  Let me know when you update it because my granddaughter would like to play it.                     \n",
       "3814  Can't complete beginning I can't even get much into the tutorial because a monster isn't spawning after I select the sword, also switching between buttons can be sticky, would love to download if these problems are addressed                             \n",
       "3816  The game is busted Totally pay to win. NO penalty for NEVER feeding your troops allows armies so large strategy and tactics mean nothing.  Only thing that matters is how much money spend buying stuff.                                                     \n",
       "3825  Pointless I see no reason why this couldn't be integrated into the SuperSport app...                                                                                                                                                                         \n",
       "3853  Dream crusher.... Well... Four word only... IT KEEP ON CRASHING                                                                                                                                                                                              \n",
       "3858  Meh, I recently have taken interest in anime and mangas but I really hoped this app would have stories to read for free, ugh I heard a ton of good reviews from friends but was disappointed                                                                 \n",
       "3886  Blurry pics on galaxy s4 I just can't get this app to focus.. The native camera app on my s4 is fast better.                                                                                                                                                 \n",
       "3899  Very bad after download you guys need money this is not fair at last provide some service to New members     very bad very bad and fake application  this is to inform all you that pls don't download this app                                              \n",
       "3909  Failure to Download 3x ive tried to down with storage space of 1GB, 3x it gets to 48 then cancels download due to and error 909 code, despite 3bar 3G signal. Totally useless, giving up. Fix immediately and i will reconsider downloading                  \n",
       "3915  I gave this app 5 stars now it gets 2. Please fix the update and let everything go back to normal. Can't see stories or anything. Went from the best to the worst                                                                                            \n",
       "3921  Why offer it in Canada if it's not going to work This app is why people switch to uber. Don't give me my address and tell me where I am unless you can actually request a taxi. Terrible and misleading business model                                       \n",
       "3922  Why doesent The Moth respond We are all big enough for this app to be fixed and updated However there is a complete lack of response to these requests. Since my last posting this continues to be a problem. Keeps crashing on razor maxx                   \n",
       "3925  waste simply waste of time downloading it                                                                                                                                                                                                                    \n",
       "3937  Doesn't work on androids Saw the magic on an iPhone. Bought a couple coloring books and tried with my Galaxy Note and nothing happens. Disappointed kids....especially after seeing it work on an iPhone.                                                    \n",
       "3966  I can't download It keeps giving me an error. I forget the error code I think it was 905. It would love to play this game and enjoy It, but alas I cannot at the moment. Plz halp.                                                                           \n",
       "3974  Forum Won't allow me to put my favorite forum in,  and its not on the list,  only reason I downloaded it... Any support for this                                                                                                                             \n",
       "3981  Worst app Not of use.  Waste of time dont install                                                                                                                                                                                                            \n",
       "3984  7 times out of 10 u get rihht to the end of a  run  and what happens A flaming ad pops up. VERY ANJOYING  UNINSTALLING NOW                                                                                                                                   \n",
       "3987  KEEPS CRASHING The game was awesome and did not crash at all until the version 1.3.0 came out. The version had much more features but it kept crashing whenever I start a mission. Hope netmarble will find a solution for this....                          \n",
       "3990  I like drum Me too                                                                                                                                                                                                                                           \n",
       "3991  cheap n best                                                                                                                                                                                                                                                 \n",
       "3994  WTF A piece of shit. Saying more is waste of time.                                                                                                                                                                                                           \n",
       "\n",
       "                                                                                                                                                                                                                  tokens  \\\n",
       "1     [update, messed, app, cutting, wake, path, work, auto, hibernation, disabled, random, occasion, frequently, crashing, love, app, untill, updated, crap, fix, asap]                                                   \n",
       "10    [gave, information, regarding, another, person, charged, r29, breach, person, privacy, app, credit, worthy]                                                                                                          \n",
       "15    [loved, game, game, amazing, last, update, keep, crashing, try, access, guild, last_update, keep_crashing]                                                                                                           \n",
       "29    [hate, get, even, race, give, app, star, know, people, love, telling, get, total, waste, time, waste_time]                                                                                                           \n",
       "30    [using, high, spec, genuine, dongle, app, light, dash, like, christmas, tree, throw, sort, dash, light, issue, well, lowering, suspension, gearbox, lock, low, ratio, etc, advisable, land, rover, canbus, system]   \n",
       "36    [load, pgn, file, opening, book, dollar]                                                                                                                                                                             \n",
       "39    [waste, time, wrong, schedule, waste_time]                                                                                                                                                                           \n",
       "42    [stupid, app, pwd, work, website, doesnt, work, app, thats, reason, ppl, gave, discount, app]                                                                                                                        \n",
       "45    [open, nexus, sent, message, creator, received, reply, would, like, refund, going, fixed]                                                                                                                            \n",
       "75    [poor, customer, service, sent, email, regarding, issue, response, back, actually, love, game, hell, gotta, reply, back]                                                                                             \n",
       "79    [paying, book, bought, paid, additional, abc, book, far, downloading, minute, avoid, app, editor, choice, obviously, unattended, network, issue, end, garbage, end]                                                  \n",
       "89    [lb6300, series, working, anyone, else, anyone, else, luck, currently, giving, star, seems, work, others, change, access, lb6300]                                                                                    \n",
       "112   [worst, online, rummy, game, ever, dont, waste, time, recognise, card, clubbed, give, wrong, show, error, suck, fix, waste_time]                                                                                     \n",
       "123   [cannot, use, insure, app, update, last, update, app, recognize, allow, refresh, register, last_update]                                                                                                              \n",
       "126   [unhappy, purchased, monkey, preschool, game, tonight, son, love, apps, however, download, galaxy, keep, getting, error, message, unhappy, waste, money, upset, year, old, waste_money, year_old]                    \n",
       "131   [number, worst, game, best, game, ever, played, last, update, made, building, unit, time, longer, playable, anymore, screw, greedy, developer, last_update]                                                          \n",
       "134   [hated, thought, actually, going, look, like, hologram, looked, completely, fake, waist, time, take, room, card]                                                                                                     \n",
       "146   [game, even, open, last, update, would, like, see, hero, gem, reward, huge, inconvenience, last_update]                                                                                                              \n",
       "148   [nonsense, game, feature]                                                                                                                                                                                            \n",
       "153   [update, soooooooo, messed, make, slow, never, pass, welcome, page, suck, big, time, use, love, app, better, fix, snail, effect]                                                                                     \n",
       "156   [wasted, money, cannot, cast, properly, casting, seems, work, reverse, reeling, tilting, back, lower, rod, tip, disapointed]                                                                                         \n",
       "160   [stole, net, balance, load, app, cannot, work, frndz, dont, download, app]                                                                                                                                           \n",
       "162   [completely, inaccurate, using, week, always, say, wife, mile, actually, home, time, use, glympse, view, others, location, family, app, completely, inaccurate]                                                      \n",
       "169   [app, functionality, poor, service, took, call, rupee, phone, bill, get, sorry, side, yea, added, taxi, available, putting, cancelling, driver, gift]                                                                \n",
       "176   [update, downgrade, take, minute, recruit, basic, unit, wtf, minute, sick, waiting, want, action, standby, time]                                                                                                     \n",
       "198   [last, update, update, plume, literally, fell, apart, get, refresh, scroll, mark, thing, read, please, fix, last_update, please_fix]                                                                                 \n",
       "201   [corrupted, update, eith, update, clear, error, get, information, pay, self, service, capability, guess, want, call, call, centre, instead]                                                                          \n",
       "206   [like]                                                                                                                                                                                                               \n",
       "209   [work, paid, pro, yet, feature, still, locked, tell, need, pro]                                                                                                                                                      \n",
       "211   [really, good, game, theory, get, update, often, event, month, seems, like, kbaam, completely, forgotten, game]                                                                                                      \n",
       "...                                                                                                               ...                                                                                                      \n",
       "3746  [good, keep, blinking]                                                                                                                                                                                               \n",
       "3747  [wth, work, awesome, lately, every, update, app, sinking, update, happens, fix, one, issue, time, celebration, guaranteed, thing, wrong]                                                                             \n",
       "3756  [android, update, open, put, back, star, fixed]                                                                                                                                                                      \n",
       "3771  [poor, functionally, kinda, work, get, half, menu, icon, along, bottom, android, menu, button, even, though, app, tell, use, create, favorite, poor, standard, build, app]                                           \n",
       "3780  [worked, firstly, allow, change, password, secondly, never, retrieves, seating, plan, never, book, movie, bad, first, app]                                                                                           \n",
       "3797  [love, circket]                                                                                                                                                                                                      \n",
       "3802  [cannot, get, work, everytime, press, start, notifies, going, disable, bluetooth, ffff, would, want, absolutely, broken]                                                                                             \n",
       "3804  [cannot, find, need, get, working, going, reimburse, vitality, point, lost, trying, make, dumb, app, work]                                                                                                           \n",
       "3813  [paid, hassle, yes, app, crashed, time, installing, yet, run, successfully, granddaughter, nuvision, intel, tablet, let, know, update, granddaughter, would, like, play]                                             \n",
       "3814  [complete, beginning, even, get, much, tutorial, monster, spawning, select, sword, also, switching, button, sticky, would, love, download, problem, addressed]                                                       \n",
       "3816  [game, busted, totally, pay, win, penalty, never, feeding, troop, allows, army, large, strategy, tactic, mean, nothing, thing, matter, much, money, spend, buying, stuff]                                            \n",
       "3825  [pointless, see, reason, integrated, supersport, app]                                                                                                                                                                \n",
       "3853  [dream, crusher, well, four, word, keep, crashing, keep_crashing]                                                                                                                                                    \n",
       "3858  [meh, recently, taken, interest, anime, mangas, really, hoped, app, would, story, read, free, ugh, heard, ton, good, review, friend, disappointed]                                                                   \n",
       "3886  [blurry, pic, galaxy, get, app, focus, native, camera, app, fast, better]                                                                                                                                            \n",
       "3899  [bad, download, guy, need, money, fair, last, provide, service, new, member, bad, bad, fake, application, inform, pls, download, app]                                                                                \n",
       "3909  [failure, download, ive, tried, storage, space, 1gb, get, cancel, download, due, error, code, despite, 3bar, signal, totally, useless, giving, fix, immediately, reconsider, downloading]                            \n",
       "3915  [gave, app, star, get, please, fix, update, let, everything, back, normal, see, story, anything, went, best, worst, please_fix]                                                                                      \n",
       "3921  [offer, canada, going, work, app, people, switch, uber, give, address, tell, unless, actually, request, taxi, terrible, misleading, business, model]                                                                 \n",
       "3922  [doesent, moth, respond, big, enough, app, fixed, updated, however, complete, lack, response, request, since, last, posting, continues, problem, keep, crashing, razor, maxx, keep_crashing]                         \n",
       "3925  [waste, simply, waste, time, downloading, waste_time]                                                                                                                                                                \n",
       "3937  [work, android, saw, magic, iphone, bought, couple, coloring, book, tried, galaxy, note, nothing, happens, disappointed, kid, especially, seeing, work, iphone, galaxy_note]                                         \n",
       "3966  [download, keep, giving, error, forget, error, code, think, would, love, play, game, enjoy, ala, cannot, moment, plz, halp]                                                                                          \n",
       "3974  [forum, allow, put, favorite, forum, list, reason, downloaded, support]                                                                                                                                              \n",
       "3981  [worst, app, use, waste, time, dont, install, waste_time]                                                                                                                                                            \n",
       "3984  [time, get, rihht, end, run, happens, flaming, pop, anjoying, uninstalling]                                                                                                                                          \n",
       "3987  [keep, crashing, game, awesome, crash, version, came, version, much, feature, kept, crashing, whenever, start, mission, hope, netmarble, find, solution, keep_crashing]                                              \n",
       "3990  [like, drum]                                                                                                                                                                                                         \n",
       "3991  [cheap, best]                                                                                                                                                                                                        \n",
       "3994  [wtf, piece, shit, saying, waste, time, waste_time]                                                                                                                                                                  \n",
       "\n",
       "                                                                                                                                                                   vectors  \\\n",
       "1     [(0, 1), (6, 2), (7, 1), (8, 1), (9, 1), (10, 1), (11, 1), (12, 1), (13, 1)]                                                                                           \n",
       "10    [(6, 1), (59, 1), (65, 1)]                                                                                                                                             \n",
       "15    [(9, 1), (11, 1), (24, 1), (41, 2), (42, 1), (86, 1), (87, 1), (88, 1), (89, 1), (90, 1)]                                                                              \n",
       "29    [(2, 1), (6, 1), (10, 1), (28, 1), (52, 2), (83, 1), (101, 1), (121, 1), (124, 1), (128, 1), (129, 1), (130, 1)]                                                       \n",
       "30    [(6, 1), (114, 1), (131, 1), (132, 1), (133, 1), (134, 1)]                                                                                                             \n",
       "36    [(154, 1), (155, 1), (156, 1)]                                                                                                                                         \n",
       "39    [(28, 1), (101, 1), (130, 1), (163, 1)]                                                                                                                                \n",
       "42    [(5, 1), (6, 3), (13, 2), (65, 1), (169, 1), (170, 1)]                                                                                                                 \n",
       "45    [(77, 1), (99, 1), (114, 1), (143, 1), (176, 1), (177, 1), (178, 1), (179, 1), (180, 1)]                                                                               \n",
       "75    [(1, 1), (10, 1), (15, 2), (41, 1), (131, 1), (179, 1), (190, 1), (226, 1), (229, 1), (230, 1)]                                                                        \n",
       "79    [(6, 1), (17, 1), (56, 1), (131, 1), (152, 1), (154, 2), (198, 1), (235, 1), (236, 1), (237, 2)]                                                                       \n",
       "89    [(13, 1), (16, 1), (83, 1), (86, 1), (117, 1), (140, 1), (256, 2), (257, 2), (258, 1)]                                                                                 \n",
       "112   [(0, 1), (23, 1), (28, 1), (41, 1), (74, 1), (85, 1), (101, 1), (121, 1), (130, 1), (146, 1), (163, 1), (211, 1), (279, 1), (291, 1), (292, 1)]                        \n",
       "123   [(6, 2), (11, 2), (88, 1), (89, 1), (193, 1), (299, 1), (300, 1)]                                                                                                      \n",
       "126   [(10, 1), (41, 1), (42, 1), (53, 1), (77, 1), (98, 1), (101, 1), (102, 1), (112, 1), (113, 1), (141, 1), (146, 1), (247, 1), (248, 1), (249, 1), (302, 1), (303, 1)]   \n",
       "131   [(11, 1), (28, 1), (41, 2), (74, 1), (88, 1), (89, 1), (167, 1), (203, 1), (211, 1), (224, 1), (268, 1), (308, 1), (309, 1)]                                           \n",
       "134   [(28, 1), (114, 1), (177, 1), (200, 1), (225, 1), (229, 1), (282, 1), (291, 1), (315, 1), (316, 1)]                                                                    \n",
       "146   [(11, 1), (21, 1), (41, 1), (88, 1), (89, 1), (114, 1), (128, 1), (143, 1), (180, 1)]                                                                                  \n",
       "148   [(41, 1), (284, 1)]                                                                                                                                                    \n",
       "153   [(0, 1), (6, 1), (10, 1), (11, 1), (28, 1), (45, 1), (48, 1), (78, 1), (85, 1), (108, 1), (186, 1), (193, 1), (325, 1)]                                                \n",
       "156   [(13, 1), (15, 1), (98, 1), (140, 1), (300, 1), (328, 1), (329, 1)]                                                                                                    \n",
       "160   [(6, 2), (13, 1), (113, 1), (155, 1), (279, 1), (300, 1)]                                                                                                              \n",
       "162   [(6, 1), (28, 1), (39, 1), (133, 1), (161, 1), (193, 1), (229, 1), (255, 1), (330, 1), (331, 1)]                                                                       \n",
       "169   [(6, 1), (52, 1), (173, 1), (190, 1), (226, 1), (252, 1), (270, 1), (293, 1), (335, 1)]                                                                                \n",
       "176   [(11, 1), (28, 1), (175, 1), (198, 2), (225, 1), (336, 1)]                                                                                                             \n",
       "198   [(0, 1), (11, 2), (34, 1), (35, 1), (52, 1), (88, 1), (89, 1), (209, 1), (348, 1)]                                                                                     \n",
       "201   [(11, 2), (52, 1), (119, 1), (146, 1), (173, 2), (175, 1), (190, 1)]                                                                                                   \n",
       "206   [(114, 1)]                                                                                                                                                             \n",
       "209   [(13, 1), (50, 1), (56, 1), (84, 1), (284, 1), (311, 2), (334, 1), (350, 1), (351, 1)]                                                                                 \n",
       "211   [(4, 1), (11, 1), (41, 2), (52, 1), (114, 1), (140, 1), (145, 1), (251, 1), (264, 1)]                                                                                  \n",
       "...                                                                                     ...                                                                                  \n",
       "3746  [(42, 1), (145, 1)]                                                                                                                                                    \n",
       "3747  [(0, 1), (6, 1), (11, 2), (13, 1), (28, 1), (118, 1), (131, 1), (135, 1), (163, 1), (209, 1), (324, 1), (375, 1)]                                                      \n",
       "3756  [(11, 1), (15, 1), (83, 1), (143, 1), (176, 1), (216, 1), (283, 1)]                                                                                                    \n",
       "3771  [(6, 2), (13, 1), (19, 2), (52, 1), (128, 1), (193, 1), (216, 1), (226, 2), (305, 1), (343, 1), (351, 1), (357, 1), (405, 1)]                                          \n",
       "3780  [(6, 1), (16, 1), (78, 2), (137, 1), (154, 1), (187, 1), (299, 1), (352, 1)]                                                                                           \n",
       "3797  [(10, 1)]                                                                                                                                                              \n",
       "3802  [(13, 1), (52, 1), (75, 1), (175, 1), (177, 1), (180, 1), (212, 1), (278, 1), (300, 1), (399, 1)]                                                                      \n",
       "3804  [(6, 1), (13, 1), (48, 1), (50, 1), (52, 1), (117, 1), (174, 1), (177, 1), (261, 1), (281, 1), (300, 1), (355, 1), (376, 1)]                                           \n",
       "3813  [(6, 1), (11, 1), (28, 1), (56, 1), (79, 1), (93, 1), (111, 1), (114, 1), (124, 1), (126, 1), (180, 1), (260, 1), (334, 1)]                                            \n",
       "3814  [(10, 1), (49, 1), (52, 1), (113, 1), (128, 1), (144, 1), (180, 1), (202, 1), (222, 1), (357, 1)]                                                                      \n",
       "3816  [(41, 1), (49, 1), (78, 1), (98, 1), (119, 1), (206, 1), (209, 1), (277, 1), (288, 1), (364, 1), (367, 1), (377, 1), (400, 1)]                                         \n",
       "3825  [(6, 1), (21, 1), (170, 1)]                                                                                                                                            \n",
       "3853  [(9, 1), (42, 1), (87, 1), (106, 1), (134, 1)]                                                                                                                         \n",
       "3858  [(4, 1), (6, 1), (51, 1), (145, 1), (180, 1), (217, 1), (342, 1), (348, 1), (372, 1)]                                                                                  \n",
       "3886  [(6, 2), (52, 1), (141, 1), (186, 1), (392, 1)]                                                                                                                        \n",
       "3899  [(6, 1), (50, 1), (88, 1), (95, 1), (98, 1), (113, 2), (115, 1), (187, 3), (190, 1), (204, 1), (272, 1), (315, 1)]                                                     \n",
       "3909  [(0, 1), (52, 1), (113, 2), (146, 1), (149, 1), (185, 1), (192, 1), (236, 1), (258, 1), (307, 1), (322, 1), (400, 1)]                                                  \n",
       "3915  [(0, 1), (6, 1), (11, 1), (14, 1), (15, 1), (21, 1), (34, 1), (35, 1), (37, 1), (52, 1), (65, 1), (74, 1), (83, 1), (111, 1), (245, 1), (308, 1)]                      \n",
       "3921  [(2, 1), (6, 1), (13, 1), (121, 1), (177, 1), (229, 1), (246, 1), (351, 1)]                                                                                            \n",
       "3922  [(6, 1), (9, 1), (12, 1), (42, 1), (82, 1), (87, 1), (88, 1), (108, 1), (144, 1), (176, 1), (222, 1), (297, 1)]                                                        \n",
       "3925  [(28, 1), (101, 2), (130, 1), (236, 1)]                                                                                                                                \n",
       "3937  [(13, 2), (97, 1), (141, 1), (142, 1), (154, 1), (185, 1), (206, 1), (216, 1), (217, 1), (235, 1), (324, 1)]                                                           \n",
       "3966  [(10, 1), (41, 1), (42, 1), (73, 1), (79, 1), (110, 1), (113, 1), (146, 2), (180, 1), (188, 1), (258, 1), (300, 1)]                                                    \n",
       "3974  [(31, 1), (170, 1), (283, 1), (299, 1), (305, 1), (353, 1)]                                                                                                            \n",
       "3981  [(6, 1), (28, 1), (74, 1), (101, 1), (130, 1), (193, 1), (254, 1), (279, 1)]                                                                                           \n",
       "3984  [(28, 1), (52, 1), (91, 1), (126, 1), (237, 1), (275, 1), (324, 1)]                                                                                                    \n",
       "3987  [(9, 2), (41, 1), (42, 1), (49, 1), (57, 2), (87, 1), (92, 1), (159, 1), (212, 1), (240, 1), (261, 1), (284, 1), (375, 1), (390, 1)]                                   \n",
       "3990  [(114, 1)]                                                                                                                                                             \n",
       "3991  [(308, 1)]                                                                                                                                                             \n",
       "3994  [(28, 1), (44, 1), (101, 1), (130, 1), (336, 1)]                                                                                                                       \n",
       "\n",
       "      topic  topic_confidence  \n",
       "1     0      0.513344          \n",
       "10    0      0.787811          \n",
       "15    0      0.929139          \n",
       "29    0      0.939305          \n",
       "30    0      0.878713          \n",
       "36    0      0.434557          \n",
       "39    0      0.830303          \n",
       "42    0      0.567856          \n",
       "45    0      0.467601          \n",
       "75    0      0.929181          \n",
       "79    0      0.934628          \n",
       "89    0      0.929227          \n",
       "112   0      0.442561          \n",
       "123   0      0.915164          \n",
       "126   0      0.652552          \n",
       "131   0      0.521536          \n",
       "134   0      0.648000          \n",
       "146   0      0.915047          \n",
       "148   0      0.716441          \n",
       "153   0      0.939307          \n",
       "156   0      0.893870          \n",
       "160   0      0.893854          \n",
       "162   0      0.571799          \n",
       "169   0      0.468231          \n",
       "176   0      0.792956          \n",
       "198   0      0.518958          \n",
       "201   0      0.915040          \n",
       "206   0      0.575577          \n",
       "209   0      0.922730          \n",
       "211   0      0.922769          \n",
       "...  ..           ...          \n",
       "3746  0      0.717129          \n",
       "3747  0      0.693142          \n",
       "3756  0      0.893833          \n",
       "3771  0      0.950018          \n",
       "3780  0      0.915052          \n",
       "3797  0      0.560557          \n",
       "3802  0      0.522713          \n",
       "3804  0      0.939312          \n",
       "3813  0      0.603829          \n",
       "3814  0      0.922764          \n",
       "3816  0      0.496023          \n",
       "3825  0      0.787668          \n",
       "3853  0      0.858483          \n",
       "3858  0      0.753597          \n",
       "3886  0      0.878601          \n",
       "3899  0      0.555061          \n",
       "3909  0      0.636720          \n",
       "3915  0      0.684543          \n",
       "3921  0      0.905637          \n",
       "3922  0      0.934688          \n",
       "3925  0      0.858589          \n",
       "3937  0      0.365301          \n",
       "3966  0      0.636444          \n",
       "3974  0      0.878705          \n",
       "3981  0      0.905542          \n",
       "3984  0      0.680382          \n",
       "3987  0      0.714819          \n",
       "3990  0      0.575576          \n",
       "3991  0      0.575858          \n",
       "3994  0      0.858530          \n",
       "\n",
       "[546 rows x 5 columns]"
      ]
     },
     "execution_count": 8,
     "metadata": {},
     "output_type": "execute_result"
    }
   ],
   "source": [
    "docs.df[docs.df['topic']==0]"
   ]
  },
  {
   "cell_type": "code",
   "execution_count": 9,
   "metadata": {},
   "outputs": [
    {
     "data": {
      "text/plain": [
       "[<matplotlib.lines.Line2D at 0x121e5e828>]"
      ]
     },
     "execution_count": 9,
     "metadata": {},
     "output_type": "execute_result"
    },
    {
     "data": {
      "image/png": "[encoded data removed]",
      "text/plain": [
       "<Figure size 432x288 with 1 Axes>"
      ]
     },
     "metadata": {
      "needs_background": "light"
     },
     "output_type": "display_data"
    }
   ],
   "source": [
    "import matplotlib.pyplot as plt\n",
    "plt.plot(list(range(len(ga.score_record))),ga.score_record)"
   ]
  },
  {
   "cell_type": "code",
   "execution_count": 10,
   "metadata": {},
   "outputs": [
    {
     "data": {
      "text/plain": [
       "[<matplotlib.lines.Line2D at 0x120fc6b70>]"
      ]
     },
     "execution_count": 10,
     "metadata": {},
     "output_type": "execute_result"
    },
    {
     "data": {
      "image/png": "[encoded data removed]",
      "text/plain": [
       "<Figure size 432x288 with 1 Axes>"
      ]
     },
     "metadata": {
      "needs_background": "light"
     },
     "output_type": "display_data"
    }
   ],
   "source": [
    "plt.plot(list(range(len(ga.n_record))),ga.n_record)"
   ]
  },
  {
   "cell_type": "code",
   "execution_count": null,
   "metadata": {},
   "outputs": [],
   "source": []
  }
 ],
 "metadata": {
  "kernelspec": {
   "display_name": "Python 3",
   "language": "python",
   "name": "python3"
  },
  "language_info": {
   "codemirror_mode": {
    "name": "ipython",
    "version": 3
   },
   "file_extension": ".py",
   "mimetype": "text/x-python",
   "name": "python",
   "nbconvert_exporter": "python",
   "pygments_lexer": "ipython3",
   "version": "3.7.3"
  }
 },
 "nbformat": 4,
 "nbformat_minor": 2
}
