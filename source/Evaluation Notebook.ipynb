{
 "cells": [
  {
   "cell_type": "markdown",
   "metadata": {},
   "source": [
    "# !!!! NOTE:\n",
    "\n",
    "To evaluate **coherence score**: set GA.objective to 'coherence' and in GA file, import Gene from Gene\n",
    "\n",
    "To evaluate **silhouette score**: set GA.objective to 'silhouette' and in GA file, import Gene from Gene2"
   ]
  },
  {
   "cell_type": "code",
   "execution_count": null,
   "metadata": {},
   "outputs": [
    {
     "name": "stderr",
     "output_type": "stream",
     "text": [
      "\r",
      "  0%|          | 0/20 [00:00<?, ?it/s]"
     ]
    },
    {
     "name": "stdout",
     "output_type": "stream",
     "text": [
      "No. of documents loaded: 693\n",
      "Initialising Population...\n"
     ]
    },
    {
     "name": "stderr",
     "output_type": "stream",
     "text": [
      " 75%|███████▌  | 15/20 [01:29<00:33,  6.71s/it]"
     ]
    },
    {
     "name": "stdout",
     "output_type": "stream",
     "text": [
      "LDA is fucked\n"
     ]
    },
    {
     "name": "stderr",
     "output_type": "stream",
     "text": [
      " 95%|█████████▌| 19/20 [01:56<00:07,  7.14s/it]"
     ]
    }
   ],
   "source": [
    "from Documents import Documents\n",
    "from GA import GA\n",
    "import pandas as pd\n",
    "import pickle\n",
    "from os import path\n",
    "\n",
    "loadit = False\n",
    "\n",
    "if loadit:\n",
    "  docs = pickle.load(open('docs.pkl', 'rb'))\n",
    "else:\n",
    "  data_path = '../data/github_issues.csv'\n",
    "  df = pd.read_csv(data_path)\n",
    "  docs = Documents()\n",
    "#   docs.load(list(df['description'])[:100])\n",
    "  docs.load(list(df['description']))\n",
    "  docs.vectorise()\n",
    "  pickle.dump(docs, open('docs.pkl', 'wb+'))\n",
    "\n",
    "print(\"No. of documents loaded: {}\".format(docs.get_doc_size()))\n",
    "\n",
    "corpus = docs.get_vectors()\n",
    "dictionary = docs.get_dictionary()\n",
    "\n",
    "## NOTE !!! : If using silhouette objective, modify GA file to import Gene from Gene2\n",
    "##            If using coherence objective, modify GA file to import Gene from Gene\n",
    "\n",
    "GA = GA(corpus,dictionary,pop_size=20,fitness_budget=10000,objective='silhouette')\n",
    "# GA = GA(corpus,dictionary,pop_size=20,fitness_budget=10000,objective='coherence')\n",
    "GA.initialise_population()\n",
    "GA.evolve()\n",
    "\n",
    "fittest_gene = GA.get_fittest()\n",
    "model = GA.get_model()\n",
    "docs.assign_labels(model)\n",
    "\n",
    "print('Fittest Gene discovered {} topics with score of {:.8f}'.format(fittest_gene.n,GA.fitness))"
   ]
  },
  {
   "cell_type": "code",
   "execution_count": null,
   "metadata": {},
   "outputs": [],
   "source": [
    "import pyLDAvis\n",
    "from pyLDAvis import gensim\n",
    "\n",
    "pyLDAvis.enable_notebook()\n",
    "pyLDAvis.gensim.prepare(model,corpus,model.id2word, mds='mmds')"
   ]
  },
  {
   "cell_type": "code",
   "execution_count": null,
   "metadata": {},
   "outputs": [],
   "source": [
    "fittest_gene.a"
   ]
  },
  {
   "cell_type": "code",
   "execution_count": null,
   "metadata": {},
   "outputs": [],
   "source": []
  }
 ],
 "metadata": {
  "kernelspec": {
   "display_name": "Python 3",
   "language": "python",
   "name": "python3"
  },
  "language_info": {
   "codemirror_mode": {
    "name": "ipython",
    "version": 3
   },
   "file_extension": ".py",
   "mimetype": "text/x-python",
   "name": "python",
   "nbconvert_exporter": "python",
   "pygments_lexer": "ipython3",
   "version": "3.7.3"
  }
 },
 "nbformat": 4,
 "nbformat_minor": 2
}
