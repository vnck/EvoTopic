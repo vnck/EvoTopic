{
 "cells": [
  {
   "cell_type": "markdown",
   "metadata": {},
   "source": [
    "# !!!! NOTE:\n",
    "\n",
    "To evaluate **coherence score**: set GA.objective to 'coherence' and in GA file, import Gene from Gene\n",
    "\n",
    "To evaluate **silhouette score**: set GA.objective to 'silhouette' and in GA file, import Gene from Gene2"
   ]
  },
  {
   "cell_type": "code",
   "execution_count": 3,
   "metadata": {},
   "outputs": [],
   "source": [
    "from Documents import Documents\n",
    "from GA import GA\n",
    "import pandas as pd\n",
    "import pickle\n",
    "from os import path\n",
    "import random"
   ]
  },
  {
   "cell_type": "code",
   "execution_count": 4,
   "metadata": {},
   "outputs": [
    {
     "name": "stdout",
     "output_type": "stream",
     "text": [
      "No. of documents loaded: 2000\n"
     ]
    }
   ],
   "source": [
    "loadit = False\n",
    "\n",
    "if loadit:\n",
    "  with open('react_docs.pkl', 'rb') as f:\n",
    "    docs = pickle.load(f)\n",
    "else:\n",
    "  data_path = '../data/github_issues.csv'\n",
    "  df = pd.read_csv(data_path)\n",
    "  docs = Documents()\n",
    "#   docs.load(list(df['description'])[:300])\n",
    "  docs.load(list(df['description']))\n",
    "  docs.vectorise()\n",
    "  with open('react_docs.pkl', 'wb+') as f:\n",
    "    pickle.dump(docs, f)\n",
    "\n",
    "print(\"No. of documents loaded: {}\".format(docs.get_doc_size()))\n",
    "\n",
    "corpus = docs.get_vectors()\n",
    "dictionary = docs.get_dictionary()"
   ]
  },
  {
   "cell_type": "code",
   "execution_count": 5,
   "metadata": {},
   "outputs": [],
   "source": [
    "# loadit = False\n",
    "\n",
    "# if loadit:\n",
    "#   with open('android_docs.pkl', 'rb') as f:\n",
    "#     docs = pickle.load(f)\n",
    "# else:\n",
    "#   data_path = '../data/android_app_reviews.txt'\n",
    "#   with open(data_path, 'r') as f:\n",
    "#     data = f.readlines()\n",
    "#   data = [x.strip() for x in data]\n",
    "#   data = random.sample(data,3000)\n",
    "#   docs = Documents()\n",
    "#   docs.load(data)\n",
    "#   docs.vectorise()\n",
    "#   with open('android_docs.pkl', 'wb+') as f:\n",
    "#     pickle.dump(docs, f)\n",
    "\n",
    "# print(\"No. of documents loaded: {}\".format(docs.get_doc_size()))\n",
    "\n",
    "# corpus = docs.get_vectors()\n",
    "# dictionary = docs.get_dictionary()"
   ]
  },
  {
   "cell_type": "code",
   "execution_count": 6,
   "metadata": {},
   "outputs": [
    {
     "name": "stdout",
     "output_type": "stream",
     "text": [
      "Initialising Population...\n"
     ]
    },
    {
     "data": {
      "application/vnd.jupyter.widget-view+json": {
       "model_id": "62dc527e05264c95872612c0daaa0696",
       "version_major": 2,
       "version_minor": 0
      },
      "text/plain": [
       "HBox(children=(FloatProgress(value=0.0, max=30.0), HTML(value='')))"
      ]
     },
     "metadata": {},
     "output_type": "display_data"
    },
    {
     "name": "stdout",
     "output_type": "stream",
     "text": [
      "\n",
      "0: Fitness: -1.758892783219139, Best Fitness: -1.758892783219139, Num Topics: 48, Fitness Budget: 2970 \n",
      "Evolving Population...\n"
     ]
    },
    {
     "data": {
      "application/vnd.jupyter.widget-view+json": {
       "model_id": "d61c6386934c4ea4b1d15c8c5b007736",
       "version_major": 2,
       "version_minor": 0
      },
      "text/plain": [
       "HBox(children=(FloatProgress(value=0.0, max=30.0), HTML(value='')))"
      ]
     },
     "metadata": {},
     "output_type": "display_data"
    },
    {
     "name": "stdout",
     "output_type": "stream",
     "text": [
      "\n",
      "0: Fitness: -1.565903005769868, Best Fitness: -1.565903005769868, Num Topics: 6, Fitness Budget: 2940 \n"
     ]
    },
    {
     "data": {
      "application/vnd.jupyter.widget-view+json": {
       "model_id": "5b80ef79d36a443da2684116642d567f",
       "version_major": 2,
       "version_minor": 0
      },
      "text/plain": [
       "HBox(children=(FloatProgress(value=0.0, max=30.0), HTML(value='')))"
      ]
     },
     "metadata": {},
     "output_type": "display_data"
    },
    {
     "name": "stdout",
     "output_type": "stream",
     "text": [
      "\n",
      "1: Fitness: -1.585888439211563, Best Fitness: -1.565903005769868, Num Topics: 6, Fitness Budget: 2910 \n"
     ]
    },
    {
     "data": {
      "application/vnd.jupyter.widget-view+json": {
       "model_id": "489c0d93699d445595abc54ea68a415d",
       "version_major": 2,
       "version_minor": 0
      },
      "text/plain": [
       "HBox(children=(FloatProgress(value=0.0, max=30.0), HTML(value='')))"
      ]
     },
     "metadata": {},
     "output_type": "display_data"
    },
    {
     "name": "stdout",
     "output_type": "stream",
     "text": [
      "\n",
      "2: Fitness: -1.560286101421678, Best Fitness: -1.560286101421678, Num Topics: 39, Fitness Budget: 2880 \n"
     ]
    },
    {
     "data": {
      "application/vnd.jupyter.widget-view+json": {
       "model_id": "abcd6b6960e841a0b84cb476639453e8",
       "version_major": 2,
       "version_minor": 0
      },
      "text/plain": [
       "HBox(children=(FloatProgress(value=0.0, max=30.0), HTML(value='')))"
      ]
     },
     "metadata": {},
     "output_type": "display_data"
    },
    {
     "name": "stdout",
     "output_type": "stream",
     "text": [
      "\n",
      "3: Fitness: -1.564775769005075, Best Fitness: -1.560286101421678, Num Topics: 39, Fitness Budget: 2850 \n"
     ]
    },
    {
     "data": {
      "application/vnd.jupyter.widget-view+json": {
       "model_id": "652e8c82bfc94d4e8f32308bf255bb3f",
       "version_major": 2,
       "version_minor": 0
      },
      "text/plain": [
       "HBox(children=(FloatProgress(value=0.0, max=30.0), HTML(value='')))"
      ]
     },
     "metadata": {},
     "output_type": "display_data"
    },
    {
     "name": "stdout",
     "output_type": "stream",
     "text": [
      "\n",
      "4: Fitness: -1.456633680523561, Best Fitness: -1.456633680523561, Num Topics: 5, Fitness Budget: 2820 \n"
     ]
    },
    {
     "data": {
      "application/vnd.jupyter.widget-view+json": {
       "model_id": "1c8423e280834046a91a53bca8c5b5c7",
       "version_major": 2,
       "version_minor": 0
      },
      "text/plain": [
       "HBox(children=(FloatProgress(value=0.0, max=30.0), HTML(value='')))"
      ]
     },
     "metadata": {},
     "output_type": "display_data"
    },
    {
     "name": "stdout",
     "output_type": "stream",
     "text": [
      "\n",
      "5: Fitness: -1.560641455463077, Best Fitness: -1.456633680523561, Num Topics: 5, Fitness Budget: 2790 \n"
     ]
    },
    {
     "data": {
      "application/vnd.jupyter.widget-view+json": {
       "model_id": "c3b8b3229bee4f3189864c4bd339fc6f",
       "version_major": 2,
       "version_minor": 0
      },
      "text/plain": [
       "HBox(children=(FloatProgress(value=0.0, max=30.0), HTML(value='')))"
      ]
     },
     "metadata": {},
     "output_type": "display_data"
    },
    {
     "name": "stdout",
     "output_type": "stream",
     "text": [
      "\n",
      "6: Fitness: -1.592098487181743, Best Fitness: -1.456633680523561, Num Topics: 5, Fitness Budget: 2760 \n"
     ]
    },
    {
     "data": {
      "application/vnd.jupyter.widget-view+json": {
       "model_id": "63f64a911ed34d5d8bcea2fce76948db",
       "version_major": 2,
       "version_minor": 0
      },
      "text/plain": [
       "HBox(children=(FloatProgress(value=0.0, max=30.0), HTML(value='')))"
      ]
     },
     "metadata": {},
     "output_type": "display_data"
    },
    {
     "name": "stdout",
     "output_type": "stream",
     "text": [
      "\n",
      "7: Fitness: -1.523777241781256, Best Fitness: -1.456633680523561, Num Topics: 5, Fitness Budget: 2730 \n"
     ]
    },
    {
     "data": {
      "application/vnd.jupyter.widget-view+json": {
       "model_id": "7fb01369a4e248aba0249be219a222e2",
       "version_major": 2,
       "version_minor": 0
      },
      "text/plain": [
       "HBox(children=(FloatProgress(value=0.0, max=30.0), HTML(value='')))"
      ]
     },
     "metadata": {},
     "output_type": "display_data"
    },
    {
     "name": "stdout",
     "output_type": "stream",
     "text": [
      "\n",
      "8: Fitness: -1.635992189069060, Best Fitness: -1.456633680523561, Num Topics: 5, Fitness Budget: 2700 \n"
     ]
    },
    {
     "data": {
      "application/vnd.jupyter.widget-view+json": {
       "model_id": "f45d318e3cd846fdbc56db24c03e2aa9",
       "version_major": 2,
       "version_minor": 0
      },
      "text/plain": [
       "HBox(children=(FloatProgress(value=0.0, max=30.0), HTML(value='')))"
      ]
     },
     "metadata": {},
     "output_type": "display_data"
    },
    {
     "name": "stdout",
     "output_type": "stream",
     "text": [
      "\n",
      "9: Fitness: -1.649369765934117, Best Fitness: -1.456633680523561, Num Topics: 5, Fitness Budget: 2670 \n"
     ]
    },
    {
     "data": {
      "application/vnd.jupyter.widget-view+json": {
       "model_id": "ba1529047aa74028a0c9f72de8ff525d",
       "version_major": 2,
       "version_minor": 0
      },
      "text/plain": [
       "HBox(children=(FloatProgress(value=0.0, max=30.0), HTML(value='')))"
      ]
     },
     "metadata": {},
     "output_type": "display_data"
    },
    {
     "name": "stdout",
     "output_type": "stream",
     "text": [
      "\n",
      "10: Fitness: -1.573099845099191, Best Fitness: -1.456633680523561, Num Topics: 5, Fitness Budget: 2640 \n"
     ]
    },
    {
     "data": {
      "application/vnd.jupyter.widget-view+json": {
       "model_id": "a99b5d59410a4a448eb002539e79461f",
       "version_major": 2,
       "version_minor": 0
      },
      "text/plain": [
       "HBox(children=(FloatProgress(value=0.0, max=30.0), HTML(value='')))"
      ]
     },
     "metadata": {},
     "output_type": "display_data"
    },
    {
     "name": "stdout",
     "output_type": "stream",
     "text": [
      "\n",
      "11: Fitness: -1.547994221252283, Best Fitness: -1.456633680523561, Num Topics: 5, Fitness Budget: 2610 \n"
     ]
    },
    {
     "data": {
      "application/vnd.jupyter.widget-view+json": {
       "model_id": "5e26673d4e13446da39f058b636dadfa",
       "version_major": 2,
       "version_minor": 0
      },
      "text/plain": [
       "HBox(children=(FloatProgress(value=0.0, max=30.0), HTML(value='')))"
      ]
     },
     "metadata": {},
     "output_type": "display_data"
    },
    {
     "name": "stdout",
     "output_type": "stream",
     "text": [
      "\n",
      "12: Fitness: -1.668690246578842, Best Fitness: -1.456633680523561, Num Topics: 5, Fitness Budget: 2580 \n"
     ]
    },
    {
     "data": {
      "application/vnd.jupyter.widget-view+json": {
       "model_id": "88dcf948bb3a4022812a2c0be7fe9b8c",
       "version_major": 2,
       "version_minor": 0
      },
      "text/plain": [
       "HBox(children=(FloatProgress(value=0.0, max=30.0), HTML(value='')))"
      ]
     },
     "metadata": {},
     "output_type": "display_data"
    },
    {
     "name": "stdout",
     "output_type": "stream",
     "text": [
      "\n",
      "13: Fitness: -1.482894660888422, Best Fitness: -1.456633680523561, Num Topics: 5, Fitness Budget: 2550 \n"
     ]
    },
    {
     "data": {
      "application/vnd.jupyter.widget-view+json": {
       "model_id": "2c521cf907eb4c2c9326a00cf7020d01",
       "version_major": 2,
       "version_minor": 0
      },
      "text/plain": [
       "HBox(children=(FloatProgress(value=0.0, max=30.0), HTML(value='')))"
      ]
     },
     "metadata": {},
     "output_type": "display_data"
    },
    {
     "name": "stdout",
     "output_type": "stream",
     "text": [
      "\n",
      "14: Fitness: -1.557965349083620, Best Fitness: -1.456633680523561, Num Topics: 5, Fitness Budget: 2520 \n"
     ]
    },
    {
     "data": {
      "application/vnd.jupyter.widget-view+json": {
       "model_id": "0dae53f5ef084b70878297b58b7aa686",
       "version_major": 2,
       "version_minor": 0
      },
      "text/plain": [
       "HBox(children=(FloatProgress(value=0.0, max=30.0), HTML(value='')))"
      ]
     },
     "metadata": {},
     "output_type": "display_data"
    },
    {
     "name": "stdout",
     "output_type": "stream",
     "text": [
      "\n",
      "15: Fitness: -1.589482343970036, Best Fitness: -1.456633680523561, Num Topics: 5, Fitness Budget: 2490 \n"
     ]
    },
    {
     "data": {
      "application/vnd.jupyter.widget-view+json": {
       "model_id": "c590859cc01c45efb9cd89900f3530d8",
       "version_major": 2,
       "version_minor": 0
      },
      "text/plain": [
       "HBox(children=(FloatProgress(value=0.0, max=30.0), HTML(value='')))"
      ]
     },
     "metadata": {},
     "output_type": "display_data"
    },
    {
     "name": "stdout",
     "output_type": "stream",
     "text": [
      "\n",
      "16: Fitness: -1.514955921550080, Best Fitness: -1.456633680523561, Num Topics: 5, Fitness Budget: 2460 \n"
     ]
    },
    {
     "data": {
      "application/vnd.jupyter.widget-view+json": {
       "model_id": "467d6a6976284f38b4ebce4d86f16b8f",
       "version_major": 2,
       "version_minor": 0
      },
      "text/plain": [
       "HBox(children=(FloatProgress(value=0.0, max=30.0), HTML(value='')))"
      ]
     },
     "metadata": {},
     "output_type": "display_data"
    },
    {
     "name": "stdout",
     "output_type": "stream",
     "text": [
      "\n",
      "17: Fitness: -1.508981174986751, Best Fitness: -1.456633680523561, Num Topics: 5, Fitness Budget: 2430 \n"
     ]
    },
    {
     "data": {
      "application/vnd.jupyter.widget-view+json": {
       "model_id": "d882e449980d480c86418cf6b0711957",
       "version_major": 2,
       "version_minor": 0
      },
      "text/plain": [
       "HBox(children=(FloatProgress(value=0.0, max=30.0), HTML(value='')))"
      ]
     },
     "metadata": {},
     "output_type": "display_data"
    },
    {
     "name": "stdout",
     "output_type": "stream",
     "text": [
      "\n",
      "18: Fitness: -1.537296443371535, Best Fitness: -1.456633680523561, Num Topics: 5, Fitness Budget: 2400 \n"
     ]
    },
    {
     "data": {
      "application/vnd.jupyter.widget-view+json": {
       "model_id": "b594d4d22ffe4c85be432533877e8f1b",
       "version_major": 2,
       "version_minor": 0
      },
      "text/plain": [
       "HBox(children=(FloatProgress(value=0.0, max=30.0), HTML(value='')))"
      ]
     },
     "metadata": {},
     "output_type": "display_data"
    },
    {
     "name": "stdout",
     "output_type": "stream",
     "text": [
      "\n",
      "19: Fitness: -1.491445134606843, Best Fitness: -1.456633680523561, Num Topics: 5, Fitness Budget: 2370 \n"
     ]
    },
    {
     "data": {
      "application/vnd.jupyter.widget-view+json": {
       "model_id": "950c9790565a4138a13f5697691d0b14",
       "version_major": 2,
       "version_minor": 0
      },
      "text/plain": [
       "HBox(children=(FloatProgress(value=0.0, max=30.0), HTML(value='')))"
      ]
     },
     "metadata": {},
     "output_type": "display_data"
    },
    {
     "name": "stdout",
     "output_type": "stream",
     "text": [
      "\n",
      "20: Fitness: -1.531436262383685, Best Fitness: -1.456633680523561, Num Topics: 5, Fitness Budget: 2340 \n"
     ]
    },
    {
     "data": {
      "application/vnd.jupyter.widget-view+json": {
       "model_id": "8cc13a23886746ad8d32e188935e0a67",
       "version_major": 2,
       "version_minor": 0
      },
      "text/plain": [
       "HBox(children=(FloatProgress(value=0.0, max=30.0), HTML(value='')))"
      ]
     },
     "metadata": {},
     "output_type": "display_data"
    },
    {
     "name": "stdout",
     "output_type": "stream",
     "text": [
      "\n",
      "21: Fitness: -1.520215705434421, Best Fitness: -1.456633680523561, Num Topics: 5, Fitness Budget: 2310 \n"
     ]
    },
    {
     "data": {
      "application/vnd.jupyter.widget-view+json": {
       "model_id": "98b5c1e6e721414bbcfcf362099c06da",
       "version_major": 2,
       "version_minor": 0
      },
      "text/plain": [
       "HBox(children=(FloatProgress(value=0.0, max=30.0), HTML(value='')))"
      ]
     },
     "metadata": {},
     "output_type": "display_data"
    },
    {
     "name": "stdout",
     "output_type": "stream",
     "text": [
      "\n",
      "22: Fitness: -1.558576808713422, Best Fitness: -1.456633680523561, Num Topics: 5, Fitness Budget: 2280 \n"
     ]
    },
    {
     "data": {
      "application/vnd.jupyter.widget-view+json": {
       "model_id": "42bc23d19412407d9fbcfce52b8446e5",
       "version_major": 2,
       "version_minor": 0
      },
      "text/plain": [
       "HBox(children=(FloatProgress(value=0.0, max=30.0), HTML(value='')))"
      ]
     },
     "metadata": {},
     "output_type": "display_data"
    },
    {
     "name": "stdout",
     "output_type": "stream",
     "text": [
      "\n",
      "23: Fitness: -1.540481306388426, Best Fitness: -1.456633680523561, Num Topics: 5, Fitness Budget: 2250 \n"
     ]
    },
    {
     "data": {
      "application/vnd.jupyter.widget-view+json": {
       "model_id": "68525d70394143ef8c941c80ba299ab9",
       "version_major": 2,
       "version_minor": 0
      },
      "text/plain": [
       "HBox(children=(FloatProgress(value=0.0, max=30.0), HTML(value='')))"
      ]
     },
     "metadata": {},
     "output_type": "display_data"
    },
    {
     "name": "stdout",
     "output_type": "stream",
     "text": [
      "\n",
      "24: Fitness: -1.630647743343848, Best Fitness: -1.456633680523561, Num Topics: 5, Fitness Budget: 2220 \n"
     ]
    },
    {
     "data": {
      "application/vnd.jupyter.widget-view+json": {
       "model_id": "1ae8458c6d6b42009a072f0f9c3557b6",
       "version_major": 2,
       "version_minor": 0
      },
      "text/plain": [
       "HBox(children=(FloatProgress(value=0.0, max=30.0), HTML(value='')))"
      ]
     },
     "metadata": {},
     "output_type": "display_data"
    },
    {
     "name": "stdout",
     "output_type": "stream",
     "text": [
      "\n",
      "25: Fitness: -1.590385387479498, Best Fitness: -1.456633680523561, Num Topics: 5, Fitness Budget: 2190 \n"
     ]
    },
    {
     "data": {
      "application/vnd.jupyter.widget-view+json": {
       "model_id": "2a0bfac95ccc4e60a431f65e8acb9620",
       "version_major": 2,
       "version_minor": 0
      },
      "text/plain": [
       "HBox(children=(FloatProgress(value=0.0, max=30.0), HTML(value='')))"
      ]
     },
     "metadata": {},
     "output_type": "display_data"
    },
    {
     "name": "stdout",
     "output_type": "stream",
     "text": [
      "\n",
      "26: Fitness: -1.541904165306369, Best Fitness: -1.456633680523561, Num Topics: 5, Fitness Budget: 2160 \n"
     ]
    },
    {
     "data": {
      "application/vnd.jupyter.widget-view+json": {
       "model_id": "6cdee86c0cfa4e2fb066ff3bbe902f83",
       "version_major": 2,
       "version_minor": 0
      },
      "text/plain": [
       "HBox(children=(FloatProgress(value=0.0, max=30.0), HTML(value='')))"
      ]
     },
     "metadata": {},
     "output_type": "display_data"
    },
    {
     "name": "stdout",
     "output_type": "stream",
     "text": [
      "\n",
      "27: Fitness: -1.548084141963378, Best Fitness: -1.456633680523561, Num Topics: 5, Fitness Budget: 2130 \n"
     ]
    },
    {
     "data": {
      "application/vnd.jupyter.widget-view+json": {
       "model_id": "5f125b7b33964c58b6f4d02058308cfe",
       "version_major": 2,
       "version_minor": 0
      },
      "text/plain": [
       "HBox(children=(FloatProgress(value=0.0, max=30.0), HTML(value='')))"
      ]
     },
     "metadata": {},
     "output_type": "display_data"
    },
    {
     "name": "stdout",
     "output_type": "stream",
     "text": [
      "\n",
      "28: Fitness: -1.586252573365878, Best Fitness: -1.456633680523561, Num Topics: 5, Fitness Budget: 2100 \n"
     ]
    },
    {
     "data": {
      "application/vnd.jupyter.widget-view+json": {
       "model_id": "f951d467db1d4b92bc2844dbdb580ab2",
       "version_major": 2,
       "version_minor": 0
      },
      "text/plain": [
       "HBox(children=(FloatProgress(value=0.0, max=30.0), HTML(value='')))"
      ]
     },
     "metadata": {},
     "output_type": "display_data"
    },
    {
     "name": "stdout",
     "output_type": "stream",
     "text": [
      "\n",
      "29: Fitness: -1.539452115871368, Best Fitness: -1.456633680523561, Num Topics: 5, Fitness Budget: 2070 \n"
     ]
    },
    {
     "data": {
      "application/vnd.jupyter.widget-view+json": {
       "model_id": "cdcc4abd6ce84f84b8a8380c20244742",
       "version_major": 2,
       "version_minor": 0
      },
      "text/plain": [
       "HBox(children=(FloatProgress(value=0.0, max=30.0), HTML(value='')))"
      ]
     },
     "metadata": {},
     "output_type": "display_data"
    },
    {
     "name": "stdout",
     "output_type": "stream",
     "text": [
      "\n",
      "30: Fitness: -1.488412318890552, Best Fitness: -1.456633680523561, Num Topics: 5, Fitness Budget: 2040 \n"
     ]
    },
    {
     "data": {
      "application/vnd.jupyter.widget-view+json": {
       "model_id": "0d2773fabfbd4803abbe036bfc595408",
       "version_major": 2,
       "version_minor": 0
      },
      "text/plain": [
       "HBox(children=(FloatProgress(value=0.0, max=30.0), HTML(value='')))"
      ]
     },
     "metadata": {},
     "output_type": "display_data"
    },
    {
     "name": "stdout",
     "output_type": "stream",
     "text": [
      "\n",
      "31: Fitness: -1.523618025303860, Best Fitness: -1.456633680523561, Num Topics: 5, Fitness Budget: 2010 \n"
     ]
    },
    {
     "data": {
      "application/vnd.jupyter.widget-view+json": {
       "model_id": "9d7a951c7e744d1e89507f858e44482d",
       "version_major": 2,
       "version_minor": 0
      },
      "text/plain": [
       "HBox(children=(FloatProgress(value=0.0, max=30.0), HTML(value='')))"
      ]
     },
     "metadata": {},
     "output_type": "display_data"
    },
    {
     "name": "stdout",
     "output_type": "stream",
     "text": [
      "\n",
      "32: Fitness: -1.578473984289609, Best Fitness: -1.456633680523561, Num Topics: 5, Fitness Budget: 1980 \n"
     ]
    },
    {
     "data": {
      "application/vnd.jupyter.widget-view+json": {
       "model_id": "f9a9b8d95f0e418a900904b3dfdc35ff",
       "version_major": 2,
       "version_minor": 0
      },
      "text/plain": [
       "HBox(children=(FloatProgress(value=0.0, max=30.0), HTML(value='')))"
      ]
     },
     "metadata": {},
     "output_type": "display_data"
    },
    {
     "name": "stdout",
     "output_type": "stream",
     "text": [
      "\n",
      "33: Fitness: -1.524277413704354, Best Fitness: -1.456633680523561, Num Topics: 5, Fitness Budget: 1950 \n"
     ]
    },
    {
     "data": {
      "application/vnd.jupyter.widget-view+json": {
       "model_id": "3543da1db85f434cbcff5e9169f5b9ba",
       "version_major": 2,
       "version_minor": 0
      },
      "text/plain": [
       "HBox(children=(FloatProgress(value=0.0, max=30.0), HTML(value='')))"
      ]
     },
     "metadata": {},
     "output_type": "display_data"
    },
    {
     "name": "stdout",
     "output_type": "stream",
     "text": [
      "\n",
      "34: Fitness: -1.505140098841964, Best Fitness: -1.456633680523561, Num Topics: 5, Fitness Budget: 1920 \n"
     ]
    },
    {
     "data": {
      "application/vnd.jupyter.widget-view+json": {
       "model_id": "d199e8d6da5c45e284f525ff596278a4",
       "version_major": 2,
       "version_minor": 0
      },
      "text/plain": [
       "HBox(children=(FloatProgress(value=0.0, max=30.0), HTML(value='')))"
      ]
     },
     "metadata": {},
     "output_type": "display_data"
    },
    {
     "name": "stdout",
     "output_type": "stream",
     "text": [
      "\n",
      "35: Fitness: -1.609969011829982, Best Fitness: -1.456633680523561, Num Topics: 5, Fitness Budget: 1890 \n"
     ]
    },
    {
     "data": {
      "application/vnd.jupyter.widget-view+json": {
       "model_id": "1752ee126df64b769919f4f4b6855e31",
       "version_major": 2,
       "version_minor": 0
      },
      "text/plain": [
       "HBox(children=(FloatProgress(value=0.0, max=30.0), HTML(value='')))"
      ]
     },
     "metadata": {},
     "output_type": "display_data"
    },
    {
     "name": "stdout",
     "output_type": "stream",
     "text": [
      "\n",
      "36: Fitness: -1.556028624887429, Best Fitness: -1.456633680523561, Num Topics: 5, Fitness Budget: 1860 \n"
     ]
    },
    {
     "data": {
      "application/vnd.jupyter.widget-view+json": {
       "model_id": "0730c5b61adb4b33a2021278dfbbeb1b",
       "version_major": 2,
       "version_minor": 0
      },
      "text/plain": [
       "HBox(children=(FloatProgress(value=0.0, max=30.0), HTML(value='')))"
      ]
     },
     "metadata": {},
     "output_type": "display_data"
    },
    {
     "name": "stdout",
     "output_type": "stream",
     "text": [
      "\n",
      "37: Fitness: -1.393233952863404, Best Fitness: -1.393233952863404, Num Topics: 27, Fitness Budget: 1830 \n"
     ]
    },
    {
     "data": {
      "application/vnd.jupyter.widget-view+json": {
       "model_id": "7a026f11d32e418982be5581450853f7",
       "version_major": 2,
       "version_minor": 0
      },
      "text/plain": [
       "HBox(children=(FloatProgress(value=0.0, max=30.0), HTML(value='')))"
      ]
     },
     "metadata": {},
     "output_type": "display_data"
    },
    {
     "name": "stdout",
     "output_type": "stream",
     "text": [
      "\n",
      "38: Fitness: -1.596023168604124, Best Fitness: -1.393233952863404, Num Topics: 27, Fitness Budget: 1800 \n"
     ]
    },
    {
     "data": {
      "application/vnd.jupyter.widget-view+json": {
       "model_id": "9be425a24e85400bb0887f334614f27a",
       "version_major": 2,
       "version_minor": 0
      },
      "text/plain": [
       "HBox(children=(FloatProgress(value=0.0, max=30.0), HTML(value='')))"
      ]
     },
     "metadata": {},
     "output_type": "display_data"
    },
    {
     "name": "stdout",
     "output_type": "stream",
     "text": [
      "\n",
      "39: Fitness: -1.579361174610536, Best Fitness: -1.393233952863404, Num Topics: 27, Fitness Budget: 1770 \n"
     ]
    },
    {
     "data": {
      "application/vnd.jupyter.widget-view+json": {
       "model_id": "feba649cab284ff6ac129edb1c6a4d89",
       "version_major": 2,
       "version_minor": 0
      },
      "text/plain": [
       "HBox(children=(FloatProgress(value=0.0, max=30.0), HTML(value='')))"
      ]
     },
     "metadata": {},
     "output_type": "display_data"
    },
    {
     "name": "stdout",
     "output_type": "stream",
     "text": [
      "\n",
      "40: Fitness: -1.523950948101027, Best Fitness: -1.393233952863404, Num Topics: 27, Fitness Budget: 1740 \n"
     ]
    },
    {
     "data": {
      "application/vnd.jupyter.widget-view+json": {
       "model_id": "f1b917bee4e34c52b8aa07cbeee33984",
       "version_major": 2,
       "version_minor": 0
      },
      "text/plain": [
       "HBox(children=(FloatProgress(value=0.0, max=30.0), HTML(value='')))"
      ]
     },
     "metadata": {},
     "output_type": "display_data"
    },
    {
     "name": "stdout",
     "output_type": "stream",
     "text": [
      "\n",
      "41: Fitness: -1.604730345910968, Best Fitness: -1.393233952863404, Num Topics: 27, Fitness Budget: 1710 \n"
     ]
    },
    {
     "data": {
      "application/vnd.jupyter.widget-view+json": {
       "model_id": "2b6938e87958436a91c453af6a62178e",
       "version_major": 2,
       "version_minor": 0
      },
      "text/plain": [
       "HBox(children=(FloatProgress(value=0.0, max=30.0), HTML(value='')))"
      ]
     },
     "metadata": {},
     "output_type": "display_data"
    },
    {
     "name": "stdout",
     "output_type": "stream",
     "text": [
      "\n",
      "42: Fitness: -1.587096944379713, Best Fitness: -1.393233952863404, Num Topics: 27, Fitness Budget: 1680 \n"
     ]
    },
    {
     "data": {
      "application/vnd.jupyter.widget-view+json": {
       "model_id": "84257bf5dacb4c15a912ca50c9139ee3",
       "version_major": 2,
       "version_minor": 0
      },
      "text/plain": [
       "HBox(children=(FloatProgress(value=0.0, max=30.0), HTML(value='')))"
      ]
     },
     "metadata": {},
     "output_type": "display_data"
    },
    {
     "name": "stdout",
     "output_type": "stream",
     "text": [
      "\n",
      "43: Fitness: -1.588326257513345, Best Fitness: -1.393233952863404, Num Topics: 27, Fitness Budget: 1650 \n"
     ]
    },
    {
     "data": {
      "application/vnd.jupyter.widget-view+json": {
       "model_id": "cf1630db2ef548a7bb5f4bcd0e2cad5e",
       "version_major": 2,
       "version_minor": 0
      },
      "text/plain": [
       "HBox(children=(FloatProgress(value=0.0, max=30.0), HTML(value='')))"
      ]
     },
     "metadata": {},
     "output_type": "display_data"
    },
    {
     "name": "stdout",
     "output_type": "stream",
     "text": [
      "\n",
      "44: Fitness: -1.603069866661590, Best Fitness: -1.393233952863404, Num Topics: 27, Fitness Budget: 1620 \n"
     ]
    },
    {
     "data": {
      "application/vnd.jupyter.widget-view+json": {
       "model_id": "769bd82b38a34cf084848056fb39ab68",
       "version_major": 2,
       "version_minor": 0
      },
      "text/plain": [
       "HBox(children=(FloatProgress(value=0.0, max=30.0), HTML(value='')))"
      ]
     },
     "metadata": {},
     "output_type": "display_data"
    },
    {
     "name": "stdout",
     "output_type": "stream",
     "text": [
      "\n",
      "45: Fitness: -1.532438788487661, Best Fitness: -1.393233952863404, Num Topics: 27, Fitness Budget: 1590 \n"
     ]
    },
    {
     "data": {
      "application/vnd.jupyter.widget-view+json": {
       "model_id": "3d082bbfeef04b7ab4bdfd6a4633e707",
       "version_major": 2,
       "version_minor": 0
      },
      "text/plain": [
       "HBox(children=(FloatProgress(value=0.0, max=30.0), HTML(value='')))"
      ]
     },
     "metadata": {},
     "output_type": "display_data"
    },
    {
     "name": "stdout",
     "output_type": "stream",
     "text": [
      "\n",
      "46: Fitness: -1.512150534735212, Best Fitness: -1.393233952863404, Num Topics: 27, Fitness Budget: 1560 \n"
     ]
    },
    {
     "data": {
      "application/vnd.jupyter.widget-view+json": {
       "model_id": "6e83fb181bb14f91aabeb5c8d5a62d88",
       "version_major": 2,
       "version_minor": 0
      },
      "text/plain": [
       "HBox(children=(FloatProgress(value=0.0, max=30.0), HTML(value='')))"
      ]
     },
     "metadata": {},
     "output_type": "display_data"
    },
    {
     "name": "stdout",
     "output_type": "stream",
     "text": [
      "\n",
      "47: Fitness: -1.343278454109970, Best Fitness: -1.343278454109970, Num Topics: 5, Fitness Budget: 1530 \n"
     ]
    },
    {
     "data": {
      "application/vnd.jupyter.widget-view+json": {
       "model_id": "717de5e433244d5f92f88e2b46973895",
       "version_major": 2,
       "version_minor": 0
      },
      "text/plain": [
       "HBox(children=(FloatProgress(value=0.0, max=30.0), HTML(value='')))"
      ]
     },
     "metadata": {},
     "output_type": "display_data"
    },
    {
     "name": "stdout",
     "output_type": "stream",
     "text": [
      "\n",
      "48: Fitness: -1.624174526166187, Best Fitness: -1.343278454109970, Num Topics: 5, Fitness Budget: 1500 \n"
     ]
    },
    {
     "data": {
      "application/vnd.jupyter.widget-view+json": {
       "model_id": "fa55da432faf447bb2a4a07463531cf3",
       "version_major": 2,
       "version_minor": 0
      },
      "text/plain": [
       "HBox(children=(FloatProgress(value=0.0, max=30.0), HTML(value='')))"
      ]
     },
     "metadata": {},
     "output_type": "display_data"
    },
    {
     "name": "stdout",
     "output_type": "stream",
     "text": [
      "\n",
      "49: Fitness: -1.600233898938158, Best Fitness: -1.343278454109970, Num Topics: 5, Fitness Budget: 1470 \n"
     ]
    },
    {
     "data": {
      "application/vnd.jupyter.widget-view+json": {
       "model_id": "bea5275adacd4344bbdd01de1511ff64",
       "version_major": 2,
       "version_minor": 0
      },
      "text/plain": [
       "HBox(children=(FloatProgress(value=0.0, max=30.0), HTML(value='')))"
      ]
     },
     "metadata": {},
     "output_type": "display_data"
    },
    {
     "name": "stdout",
     "output_type": "stream",
     "text": [
      "\n",
      "50: Fitness: -1.599469978813316, Best Fitness: -1.343278454109970, Num Topics: 5, Fitness Budget: 1440 \n"
     ]
    },
    {
     "data": {
      "application/vnd.jupyter.widget-view+json": {
       "model_id": "a2d974f3a52845079ce3d3300cb3a88b",
       "version_major": 2,
       "version_minor": 0
      },
      "text/plain": [
       "HBox(children=(FloatProgress(value=0.0, max=30.0), HTML(value='')))"
      ]
     },
     "metadata": {},
     "output_type": "display_data"
    },
    {
     "name": "stdout",
     "output_type": "stream",
     "text": [
      "\n",
      "51: Fitness: -1.467285907880377, Best Fitness: -1.343278454109970, Num Topics: 5, Fitness Budget: 1410 \n"
     ]
    },
    {
     "data": {
      "application/vnd.jupyter.widget-view+json": {
       "model_id": "c3f8e37e9c424685b2765b0a418398ab",
       "version_major": 2,
       "version_minor": 0
      },
      "text/plain": [
       "HBox(children=(FloatProgress(value=0.0, max=30.0), HTML(value='')))"
      ]
     },
     "metadata": {},
     "output_type": "display_data"
    },
    {
     "name": "stdout",
     "output_type": "stream",
     "text": [
      "\n",
      "52: Fitness: -1.516062182974846, Best Fitness: -1.343278454109970, Num Topics: 5, Fitness Budget: 1380 \n"
     ]
    },
    {
     "data": {
      "application/vnd.jupyter.widget-view+json": {
       "model_id": "f5a568cf8bff46eca19a1454bd48fbd5",
       "version_major": 2,
       "version_minor": 0
      },
      "text/plain": [
       "HBox(children=(FloatProgress(value=0.0, max=30.0), HTML(value='')))"
      ]
     },
     "metadata": {},
     "output_type": "display_data"
    },
    {
     "name": "stdout",
     "output_type": "stream",
     "text": [
      "\n",
      "53: Fitness: -1.590486230594229, Best Fitness: -1.343278454109970, Num Topics: 5, Fitness Budget: 1350 \n"
     ]
    },
    {
     "data": {
      "application/vnd.jupyter.widget-view+json": {
       "model_id": "4288183909794219ad3ab94f0d4dc569",
       "version_major": 2,
       "version_minor": 0
      },
      "text/plain": [
       "HBox(children=(FloatProgress(value=0.0, max=30.0), HTML(value='')))"
      ]
     },
     "metadata": {},
     "output_type": "display_data"
    },
    {
     "name": "stdout",
     "output_type": "stream",
     "text": [
      "\n",
      "54: Fitness: -1.596319557149053, Best Fitness: -1.343278454109970, Num Topics: 5, Fitness Budget: 1320 \n"
     ]
    },
    {
     "data": {
      "application/vnd.jupyter.widget-view+json": {
       "model_id": "c32acf1391fa406298182712810f94e0",
       "version_major": 2,
       "version_minor": 0
      },
      "text/plain": [
       "HBox(children=(FloatProgress(value=0.0, max=30.0), HTML(value='')))"
      ]
     },
     "metadata": {},
     "output_type": "display_data"
    },
    {
     "name": "stdout",
     "output_type": "stream",
     "text": [
      "\n",
      "55: Fitness: -1.511357927118874, Best Fitness: -1.343278454109970, Num Topics: 5, Fitness Budget: 1290 \n"
     ]
    },
    {
     "data": {
      "application/vnd.jupyter.widget-view+json": {
       "model_id": "fde5f5b726614f04b4c35a73030e8f8a",
       "version_major": 2,
       "version_minor": 0
      },
      "text/plain": [
       "HBox(children=(FloatProgress(value=0.0, max=30.0), HTML(value='')))"
      ]
     },
     "metadata": {},
     "output_type": "display_data"
    },
    {
     "name": "stdout",
     "output_type": "stream",
     "text": [
      "\n",
      "56: Fitness: -1.584239985119952, Best Fitness: -1.343278454109970, Num Topics: 5, Fitness Budget: 1260 \n"
     ]
    },
    {
     "data": {
      "application/vnd.jupyter.widget-view+json": {
       "model_id": "f4eb25128f37477387b3292680968a9a",
       "version_major": 2,
       "version_minor": 0
      },
      "text/plain": [
       "HBox(children=(FloatProgress(value=0.0, max=30.0), HTML(value='')))"
      ]
     },
     "metadata": {},
     "output_type": "display_data"
    },
    {
     "name": "stdout",
     "output_type": "stream",
     "text": [
      "\n",
      "57: Fitness: -1.576585630340219, Best Fitness: -1.343278454109970, Num Topics: 5, Fitness Budget: 1230 \n"
     ]
    },
    {
     "data": {
      "application/vnd.jupyter.widget-view+json": {
       "model_id": "da71c832f1b74f0a8526a1a749ef9dd2",
       "version_major": 2,
       "version_minor": 0
      },
      "text/plain": [
       "HBox(children=(FloatProgress(value=0.0, max=30.0), HTML(value='')))"
      ]
     },
     "metadata": {},
     "output_type": "display_data"
    },
    {
     "name": "stdout",
     "output_type": "stream",
     "text": [
      "\n",
      "58: Fitness: -1.556938975157554, Best Fitness: -1.343278454109970, Num Topics: 5, Fitness Budget: 1200 \n"
     ]
    },
    {
     "data": {
      "application/vnd.jupyter.widget-view+json": {
       "model_id": "9a1199f47aef48c6821ccd880c150c75",
       "version_major": 2,
       "version_minor": 0
      },
      "text/plain": [
       "HBox(children=(FloatProgress(value=0.0, max=30.0), HTML(value='')))"
      ]
     },
     "metadata": {},
     "output_type": "display_data"
    },
    {
     "name": "stdout",
     "output_type": "stream",
     "text": [
      "\n",
      "59: Fitness: -1.649455823039102, Best Fitness: -1.343278454109970, Num Topics: 5, Fitness Budget: 1170 \n"
     ]
    },
    {
     "data": {
      "application/vnd.jupyter.widget-view+json": {
       "model_id": "51dff03b71b64025ab3175b38d691454",
       "version_major": 2,
       "version_minor": 0
      },
      "text/plain": [
       "HBox(children=(FloatProgress(value=0.0, max=30.0), HTML(value='')))"
      ]
     },
     "metadata": {},
     "output_type": "display_data"
    },
    {
     "name": "stdout",
     "output_type": "stream",
     "text": [
      "\n",
      "60: Fitness: -1.509573849818392, Best Fitness: -1.343278454109970, Num Topics: 5, Fitness Budget: 1140 \n"
     ]
    },
    {
     "data": {
      "application/vnd.jupyter.widget-view+json": {
       "model_id": "e6c75c3a69774405802c991d57a1b0e7",
       "version_major": 2,
       "version_minor": 0
      },
      "text/plain": [
       "HBox(children=(FloatProgress(value=0.0, max=30.0), HTML(value='')))"
      ]
     },
     "metadata": {},
     "output_type": "display_data"
    },
    {
     "name": "stdout",
     "output_type": "stream",
     "text": [
      "\n",
      "61: Fitness: -1.607662104081331, Best Fitness: -1.343278454109970, Num Topics: 5, Fitness Budget: 1110 \n"
     ]
    },
    {
     "data": {
      "application/vnd.jupyter.widget-view+json": {
       "model_id": "d2b5102bad4543eeaefcdf5c38e6bcf0",
       "version_major": 2,
       "version_minor": 0
      },
      "text/plain": [
       "HBox(children=(FloatProgress(value=0.0, max=30.0), HTML(value='')))"
      ]
     },
     "metadata": {},
     "output_type": "display_data"
    },
    {
     "name": "stdout",
     "output_type": "stream",
     "text": [
      "\n",
      "62: Fitness: -1.562682537557387, Best Fitness: -1.343278454109970, Num Topics: 5, Fitness Budget: 1080 \n"
     ]
    },
    {
     "data": {
      "application/vnd.jupyter.widget-view+json": {
       "model_id": "131326f583af4a629604dbc8aadd9c0f",
       "version_major": 2,
       "version_minor": 0
      },
      "text/plain": [
       "HBox(children=(FloatProgress(value=0.0, max=30.0), HTML(value='')))"
      ]
     },
     "metadata": {},
     "output_type": "display_data"
    },
    {
     "name": "stdout",
     "output_type": "stream",
     "text": [
      "\n",
      "63: Fitness: -1.579471262374459, Best Fitness: -1.343278454109970, Num Topics: 5, Fitness Budget: 1050 \n"
     ]
    },
    {
     "data": {
      "application/vnd.jupyter.widget-view+json": {
       "model_id": "9beffa7c66314764b9788ac22762d9c4",
       "version_major": 2,
       "version_minor": 0
      },
      "text/plain": [
       "HBox(children=(FloatProgress(value=0.0, max=30.0), HTML(value='')))"
      ]
     },
     "metadata": {},
     "output_type": "display_data"
    },
    {
     "name": "stdout",
     "output_type": "stream",
     "text": [
      "\n",
      "64: Fitness: -1.603413240411230, Best Fitness: -1.343278454109970, Num Topics: 5, Fitness Budget: 1020 \n"
     ]
    },
    {
     "data": {
      "application/vnd.jupyter.widget-view+json": {
       "model_id": "1977ec8862cc44959809e8737e4d2500",
       "version_major": 2,
       "version_minor": 0
      },
      "text/plain": [
       "HBox(children=(FloatProgress(value=0.0, max=30.0), HTML(value='')))"
      ]
     },
     "metadata": {},
     "output_type": "display_data"
    },
    {
     "name": "stdout",
     "output_type": "stream",
     "text": [
      "\n",
      "65: Fitness: -1.580375680739211, Best Fitness: -1.343278454109970, Num Topics: 5, Fitness Budget: 990 \n"
     ]
    },
    {
     "data": {
      "application/vnd.jupyter.widget-view+json": {
       "model_id": "70c9e2dcd5854956b417d930ad228263",
       "version_major": 2,
       "version_minor": 0
      },
      "text/plain": [
       "HBox(children=(FloatProgress(value=0.0, max=30.0), HTML(value='')))"
      ]
     },
     "metadata": {},
     "output_type": "display_data"
    },
    {
     "name": "stdout",
     "output_type": "stream",
     "text": [
      "\n",
      "66: Fitness: -1.618313144563291, Best Fitness: -1.343278454109970, Num Topics: 5, Fitness Budget: 960 \n"
     ]
    },
    {
     "data": {
      "application/vnd.jupyter.widget-view+json": {
       "model_id": "907dbb97fae34160993f54ffff6fc6dc",
       "version_major": 2,
       "version_minor": 0
      },
      "text/plain": [
       "HBox(children=(FloatProgress(value=0.0, max=30.0), HTML(value='')))"
      ]
     },
     "metadata": {},
     "output_type": "display_data"
    },
    {
     "name": "stdout",
     "output_type": "stream",
     "text": [
      "\n",
      "67: Fitness: -1.573510570112288, Best Fitness: -1.343278454109970, Num Topics: 5, Fitness Budget: 930 \n"
     ]
    },
    {
     "data": {
      "application/vnd.jupyter.widget-view+json": {
       "model_id": "d47457bb634e4ac7921d5fcb946ff9a2",
       "version_major": 2,
       "version_minor": 0
      },
      "text/plain": [
       "HBox(children=(FloatProgress(value=0.0, max=30.0), HTML(value='')))"
      ]
     },
     "metadata": {},
     "output_type": "display_data"
    },
    {
     "name": "stdout",
     "output_type": "stream",
     "text": [
      "\n",
      "68: Fitness: -1.499755401073157, Best Fitness: -1.343278454109970, Num Topics: 5, Fitness Budget: 900 \n"
     ]
    },
    {
     "data": {
      "application/vnd.jupyter.widget-view+json": {
       "model_id": "700681795ad54790a02b87e74eb8346f",
       "version_major": 2,
       "version_minor": 0
      },
      "text/plain": [
       "HBox(children=(FloatProgress(value=0.0, max=30.0), HTML(value='')))"
      ]
     },
     "metadata": {},
     "output_type": "display_data"
    },
    {
     "name": "stdout",
     "output_type": "stream",
     "text": [
      "\n",
      "69: Fitness: -1.582072615394484, Best Fitness: -1.343278454109970, Num Topics: 5, Fitness Budget: 870 \n"
     ]
    },
    {
     "data": {
      "application/vnd.jupyter.widget-view+json": {
       "model_id": "fd72fa9d95b9443f99acfec91be859fd",
       "version_major": 2,
       "version_minor": 0
      },
      "text/plain": [
       "HBox(children=(FloatProgress(value=0.0, max=30.0), HTML(value='')))"
      ]
     },
     "metadata": {},
     "output_type": "display_data"
    },
    {
     "name": "stdout",
     "output_type": "stream",
     "text": [
      "\n",
      "70: Fitness: -1.587015402370471, Best Fitness: -1.343278454109970, Num Topics: 5, Fitness Budget: 840 \n"
     ]
    },
    {
     "data": {
      "application/vnd.jupyter.widget-view+json": {
       "model_id": "6ceb9400f469490cb12c7bf2fd9c648f",
       "version_major": 2,
       "version_minor": 0
      },
      "text/plain": [
       "HBox(children=(FloatProgress(value=0.0, max=30.0), HTML(value='')))"
      ]
     },
     "metadata": {},
     "output_type": "display_data"
    },
    {
     "name": "stdout",
     "output_type": "stream",
     "text": [
      "\n",
      "71: Fitness: -1.590679124100983, Best Fitness: -1.343278454109970, Num Topics: 5, Fitness Budget: 810 \n"
     ]
    },
    {
     "data": {
      "application/vnd.jupyter.widget-view+json": {
       "model_id": "c0a714bfd2b048cbae2e44009783b4f3",
       "version_major": 2,
       "version_minor": 0
      },
      "text/plain": [
       "HBox(children=(FloatProgress(value=0.0, max=30.0), HTML(value='')))"
      ]
     },
     "metadata": {},
     "output_type": "display_data"
    },
    {
     "name": "stdout",
     "output_type": "stream",
     "text": [
      "\n",
      "72: Fitness: -1.560600672327059, Best Fitness: -1.343278454109970, Num Topics: 5, Fitness Budget: 780 \n"
     ]
    },
    {
     "data": {
      "application/vnd.jupyter.widget-view+json": {
       "model_id": "410beadddc8b49dc8159a9d416ed45e1",
       "version_major": 2,
       "version_minor": 0
      },
      "text/plain": [
       "HBox(children=(FloatProgress(value=0.0, max=30.0), HTML(value='')))"
      ]
     },
     "metadata": {},
     "output_type": "display_data"
    },
    {
     "name": "stdout",
     "output_type": "stream",
     "text": [
      "\n",
      "73: Fitness: -1.523849538515643, Best Fitness: -1.343278454109970, Num Topics: 5, Fitness Budget: 750 \n"
     ]
    },
    {
     "data": {
      "application/vnd.jupyter.widget-view+json": {
       "model_id": "d8a1fb8545ef475bb9470633901339cb",
       "version_major": 2,
       "version_minor": 0
      },
      "text/plain": [
       "HBox(children=(FloatProgress(value=0.0, max=30.0), HTML(value='')))"
      ]
     },
     "metadata": {},
     "output_type": "display_data"
    },
    {
     "name": "stdout",
     "output_type": "stream",
     "text": [
      "\n",
      "74: Fitness: -1.585326490427134, Best Fitness: -1.343278454109970, Num Topics: 5, Fitness Budget: 720 \n"
     ]
    },
    {
     "data": {
      "application/vnd.jupyter.widget-view+json": {
       "model_id": "aeae1f24483f4a9fa2b8a8de57446306",
       "version_major": 2,
       "version_minor": 0
      },
      "text/plain": [
       "HBox(children=(FloatProgress(value=0.0, max=30.0), HTML(value='')))"
      ]
     },
     "metadata": {},
     "output_type": "display_data"
    },
    {
     "name": "stdout",
     "output_type": "stream",
     "text": [
      "\n",
      "75: Fitness: -1.605675400096684, Best Fitness: -1.343278454109970, Num Topics: 5, Fitness Budget: 690 \n"
     ]
    },
    {
     "data": {
      "application/vnd.jupyter.widget-view+json": {
       "model_id": "fda8b417c52e42e08dea777ba6bf2ef4",
       "version_major": 2,
       "version_minor": 0
      },
      "text/plain": [
       "HBox(children=(FloatProgress(value=0.0, max=30.0), HTML(value='')))"
      ]
     },
     "metadata": {},
     "output_type": "display_data"
    },
    {
     "name": "stdout",
     "output_type": "stream",
     "text": [
      "\n",
      "76: Fitness: -1.587321385750519, Best Fitness: -1.343278454109970, Num Topics: 5, Fitness Budget: 660 \n"
     ]
    },
    {
     "data": {
      "application/vnd.jupyter.widget-view+json": {
       "model_id": "0c2b6a54e5884a49ac0856d03e8a07bc",
       "version_major": 2,
       "version_minor": 0
      },
      "text/plain": [
       "HBox(children=(FloatProgress(value=0.0, max=30.0), HTML(value='')))"
      ]
     },
     "metadata": {},
     "output_type": "display_data"
    },
    {
     "name": "stdout",
     "output_type": "stream",
     "text": [
      "\n",
      "77: Fitness: -1.556846777204127, Best Fitness: -1.343278454109970, Num Topics: 5, Fitness Budget: 630 \n"
     ]
    },
    {
     "data": {
      "application/vnd.jupyter.widget-view+json": {
       "model_id": "77547cf481954eb8897e12f6f6d4deb1",
       "version_major": 2,
       "version_minor": 0
      },
      "text/plain": [
       "HBox(children=(FloatProgress(value=0.0, max=30.0), HTML(value='')))"
      ]
     },
     "metadata": {},
     "output_type": "display_data"
    },
    {
     "name": "stdout",
     "output_type": "stream",
     "text": [
      "\n",
      "78: Fitness: -1.552119083927356, Best Fitness: -1.343278454109970, Num Topics: 5, Fitness Budget: 600 \n"
     ]
    },
    {
     "data": {
      "application/vnd.jupyter.widget-view+json": {
       "model_id": "531c02cfd8134d4fb26cbb2aa6ce4240",
       "version_major": 2,
       "version_minor": 0
      },
      "text/plain": [
       "HBox(children=(FloatProgress(value=0.0, max=30.0), HTML(value='')))"
      ]
     },
     "metadata": {},
     "output_type": "display_data"
    },
    {
     "name": "stdout",
     "output_type": "stream",
     "text": [
      "\n",
      "79: Fitness: -1.611524041677014, Best Fitness: -1.343278454109970, Num Topics: 5, Fitness Budget: 570 \n"
     ]
    },
    {
     "data": {
      "application/vnd.jupyter.widget-view+json": {
       "model_id": "8d77525e34064bb980de0f07c9e42a6f",
       "version_major": 2,
       "version_minor": 0
      },
      "text/plain": [
       "HBox(children=(FloatProgress(value=0.0, max=30.0), HTML(value='')))"
      ]
     },
     "metadata": {},
     "output_type": "display_data"
    },
    {
     "name": "stdout",
     "output_type": "stream",
     "text": [
      "\n",
      "80: Fitness: -1.582037552524817, Best Fitness: -1.343278454109970, Num Topics: 5, Fitness Budget: 540 \n"
     ]
    },
    {
     "data": {
      "application/vnd.jupyter.widget-view+json": {
       "model_id": "bef370c49f3c4b448d0077a947e29499",
       "version_major": 2,
       "version_minor": 0
      },
      "text/plain": [
       "HBox(children=(FloatProgress(value=0.0, max=30.0), HTML(value='')))"
      ]
     },
     "metadata": {},
     "output_type": "display_data"
    },
    {
     "name": "stdout",
     "output_type": "stream",
     "text": [
      "\n",
      "81: Fitness: -1.558887180618960, Best Fitness: -1.343278454109970, Num Topics: 5, Fitness Budget: 510 \n"
     ]
    },
    {
     "data": {
      "application/vnd.jupyter.widget-view+json": {
       "model_id": "cc6304d438434401875c0348cf19b540",
       "version_major": 2,
       "version_minor": 0
      },
      "text/plain": [
       "HBox(children=(FloatProgress(value=0.0, max=30.0), HTML(value='')))"
      ]
     },
     "metadata": {},
     "output_type": "display_data"
    },
    {
     "name": "stdout",
     "output_type": "stream",
     "text": [
      "\n",
      "82: Fitness: -1.568992728985233, Best Fitness: -1.343278454109970, Num Topics: 5, Fitness Budget: 480 \n"
     ]
    },
    {
     "data": {
      "application/vnd.jupyter.widget-view+json": {
       "model_id": "10579a9b4ab249d494465573bc673eab",
       "version_major": 2,
       "version_minor": 0
      },
      "text/plain": [
       "HBox(children=(FloatProgress(value=0.0, max=30.0), HTML(value='')))"
      ]
     },
     "metadata": {},
     "output_type": "display_data"
    },
    {
     "name": "stdout",
     "output_type": "stream",
     "text": [
      "\n",
      "83: Fitness: -1.579847329962084, Best Fitness: -1.343278454109970, Num Topics: 5, Fitness Budget: 450 \n"
     ]
    },
    {
     "data": {
      "application/vnd.jupyter.widget-view+json": {
       "model_id": "a1ac88ef377a4731be3961ddb5532605",
       "version_major": 2,
       "version_minor": 0
      },
      "text/plain": [
       "HBox(children=(FloatProgress(value=0.0, max=30.0), HTML(value='')))"
      ]
     },
     "metadata": {},
     "output_type": "display_data"
    },
    {
     "name": "stdout",
     "output_type": "stream",
     "text": [
      "\n",
      "84: Fitness: -1.557512040971428, Best Fitness: -1.343278454109970, Num Topics: 5, Fitness Budget: 420 \n"
     ]
    },
    {
     "data": {
      "application/vnd.jupyter.widget-view+json": {
       "model_id": "03f9a49aaadf4785ab9ff35a34e6c7a4",
       "version_major": 2,
       "version_minor": 0
      },
      "text/plain": [
       "HBox(children=(FloatProgress(value=0.0, max=30.0), HTML(value='')))"
      ]
     },
     "metadata": {},
     "output_type": "display_data"
    },
    {
     "name": "stdout",
     "output_type": "stream",
     "text": [
      "\n",
      "85: Fitness: -1.591204554138066, Best Fitness: -1.343278454109970, Num Topics: 5, Fitness Budget: 390 \n"
     ]
    },
    {
     "data": {
      "application/vnd.jupyter.widget-view+json": {
       "model_id": "2d4b4c0f7079432081856fa33102efae",
       "version_major": 2,
       "version_minor": 0
      },
      "text/plain": [
       "HBox(children=(FloatProgress(value=0.0, max=30.0), HTML(value='')))"
      ]
     },
     "metadata": {},
     "output_type": "display_data"
    },
    {
     "name": "stdout",
     "output_type": "stream",
     "text": [
      "\n",
      "86: Fitness: -1.561867611068483, Best Fitness: -1.343278454109970, Num Topics: 5, Fitness Budget: 360 \n"
     ]
    },
    {
     "data": {
      "application/vnd.jupyter.widget-view+json": {
       "model_id": "293c2b349cea49cab4f95115684f6c87",
       "version_major": 2,
       "version_minor": 0
      },
      "text/plain": [
       "HBox(children=(FloatProgress(value=0.0, max=30.0), HTML(value='')))"
      ]
     },
     "metadata": {},
     "output_type": "display_data"
    },
    {
     "name": "stdout",
     "output_type": "stream",
     "text": [
      "\n",
      "87: Fitness: -1.527011603545880, Best Fitness: -1.343278454109970, Num Topics: 5, Fitness Budget: 330 \n"
     ]
    },
    {
     "data": {
      "application/vnd.jupyter.widget-view+json": {
       "model_id": "145b1740930e414db4ecfb0eab5c78a7",
       "version_major": 2,
       "version_minor": 0
      },
      "text/plain": [
       "HBox(children=(FloatProgress(value=0.0, max=30.0), HTML(value='')))"
      ]
     },
     "metadata": {},
     "output_type": "display_data"
    },
    {
     "name": "stdout",
     "output_type": "stream",
     "text": [
      "\n",
      "88: Fitness: -1.588838920354607, Best Fitness: -1.343278454109970, Num Topics: 5, Fitness Budget: 300 \n"
     ]
    },
    {
     "data": {
      "application/vnd.jupyter.widget-view+json": {
       "model_id": "65a6fe263a6140458285f8cd1cba8dd0",
       "version_major": 2,
       "version_minor": 0
      },
      "text/plain": [
       "HBox(children=(FloatProgress(value=0.0, max=30.0), HTML(value='')))"
      ]
     },
     "metadata": {},
     "output_type": "display_data"
    },
    {
     "name": "stdout",
     "output_type": "stream",
     "text": [
      "\n",
      "89: Fitness: -1.557230980581055, Best Fitness: -1.343278454109970, Num Topics: 5, Fitness Budget: 270 \n"
     ]
    },
    {
     "data": {
      "application/vnd.jupyter.widget-view+json": {
       "model_id": "c8d73e6e23af409785f4f1e93dbb0fba",
       "version_major": 2,
       "version_minor": 0
      },
      "text/plain": [
       "HBox(children=(FloatProgress(value=0.0, max=30.0), HTML(value='')))"
      ]
     },
     "metadata": {},
     "output_type": "display_data"
    },
    {
     "name": "stdout",
     "output_type": "stream",
     "text": [
      "\n",
      "90: Fitness: -1.572536290573551, Best Fitness: -1.343278454109970, Num Topics: 5, Fitness Budget: 240 \n"
     ]
    },
    {
     "data": {
      "application/vnd.jupyter.widget-view+json": {
       "model_id": "bdb2c0811f8c49f6933ade329f8b6dd3",
       "version_major": 2,
       "version_minor": 0
      },
      "text/plain": [
       "HBox(children=(FloatProgress(value=0.0, max=30.0), HTML(value='')))"
      ]
     },
     "metadata": {},
     "output_type": "display_data"
    },
    {
     "name": "stdout",
     "output_type": "stream",
     "text": [
      "\n",
      "91: Fitness: -1.575168425768644, Best Fitness: -1.343278454109970, Num Topics: 5, Fitness Budget: 210 \n"
     ]
    },
    {
     "data": {
      "application/vnd.jupyter.widget-view+json": {
       "model_id": "5e021e18f1da44f5bc16661ac0696e96",
       "version_major": 2,
       "version_minor": 0
      },
      "text/plain": [
       "HBox(children=(FloatProgress(value=0.0, max=30.0), HTML(value='')))"
      ]
     },
     "metadata": {},
     "output_type": "display_data"
    },
    {
     "name": "stdout",
     "output_type": "stream",
     "text": [
      "\n",
      "92: Fitness: -1.616445732517943, Best Fitness: -1.343278454109970, Num Topics: 5, Fitness Budget: 180 \n"
     ]
    },
    {
     "data": {
      "application/vnd.jupyter.widget-view+json": {
       "model_id": "b2141e94050c4634b160855c1045925b",
       "version_major": 2,
       "version_minor": 0
      },
      "text/plain": [
       "HBox(children=(FloatProgress(value=0.0, max=30.0), HTML(value='')))"
      ]
     },
     "metadata": {},
     "output_type": "display_data"
    },
    {
     "name": "stdout",
     "output_type": "stream",
     "text": [
      "\n",
      "93: Fitness: -1.557183291911067, Best Fitness: -1.343278454109970, Num Topics: 5, Fitness Budget: 150 \n"
     ]
    },
    {
     "data": {
      "application/vnd.jupyter.widget-view+json": {
       "model_id": "fc5bdf42a8294a9c9feddbbdf3d04cd3",
       "version_major": 2,
       "version_minor": 0
      },
      "text/plain": [
       "HBox(children=(FloatProgress(value=0.0, max=30.0), HTML(value='')))"
      ]
     },
     "metadata": {},
     "output_type": "display_data"
    },
    {
     "name": "stdout",
     "output_type": "stream",
     "text": [
      "\n",
      "94: Fitness: -1.613375733224935, Best Fitness: -1.343278454109970, Num Topics: 5, Fitness Budget: 120 \n"
     ]
    },
    {
     "data": {
      "application/vnd.jupyter.widget-view+json": {
       "model_id": "ccfb1a9174e1425193d9841cc08bd800",
       "version_major": 2,
       "version_minor": 0
      },
      "text/plain": [
       "HBox(children=(FloatProgress(value=0.0, max=30.0), HTML(value='')))"
      ]
     },
     "metadata": {},
     "output_type": "display_data"
    },
    {
     "name": "stdout",
     "output_type": "stream",
     "text": [
      "\n",
      "95: Fitness: -1.495405741972609, Best Fitness: -1.343278454109970, Num Topics: 5, Fitness Budget: 90 \n"
     ]
    },
    {
     "data": {
      "application/vnd.jupyter.widget-view+json": {
       "model_id": "76aa1f20f84145669af16ddc1e563ff4",
       "version_major": 2,
       "version_minor": 0
      },
      "text/plain": [
       "HBox(children=(FloatProgress(value=0.0, max=30.0), HTML(value='')))"
      ]
     },
     "metadata": {},
     "output_type": "display_data"
    },
    {
     "name": "stdout",
     "output_type": "stream",
     "text": [
      "\n",
      "96: Fitness: -1.526438250030046, Best Fitness: -1.343278454109970, Num Topics: 5, Fitness Budget: 60 \n"
     ]
    },
    {
     "data": {
      "application/vnd.jupyter.widget-view+json": {
       "model_id": "beb667c187c542f3b0a89aac3ad90f6a",
       "version_major": 2,
       "version_minor": 0
      },
      "text/plain": [
       "HBox(children=(FloatProgress(value=0.0, max=30.0), HTML(value='')))"
      ]
     },
     "metadata": {},
     "output_type": "display_data"
    },
    {
     "name": "stdout",
     "output_type": "stream",
     "text": [
      "\n",
      "97: Fitness: -1.550788761313036, Best Fitness: -1.343278454109970, Num Topics: 5, Fitness Budget: 30 \n"
     ]
    },
    {
     "data": {
      "application/vnd.jupyter.widget-view+json": {
       "model_id": "4498027899014a97a53ac6931489607f",
       "version_major": 2,
       "version_minor": 0
      },
      "text/plain": [
       "HBox(children=(FloatProgress(value=0.0, max=30.0), HTML(value='')))"
      ]
     },
     "metadata": {},
     "output_type": "display_data"
    },
    {
     "name": "stdout",
     "output_type": "stream",
     "text": [
      "\n",
      "98: Fitness: -1.666561312317167, Best Fitness: -1.343278454109970, Num Topics: 5, Fitness Budget: 0 \n",
      "Fittest Gene discovered 5 topics with score of -1.34327845\n"
     ]
    }
   ],
   "source": [
    "# GA = GA(corpus,dictionary,pop_size=20,fitness_budget=10000,objective='silhouette')\n",
    "ga = GA(corpus,dictionary,pop_size=30,fitness_budget=3000,objective='coherence')\n",
    "ga.initialise_population()\n",
    "ga.evolve()\n",
    "\n",
    "fittest_gene = ga.get_fittest()\n",
    "model = ga.get_model()\n",
    "docs.assign_labels(model)\n",
    "\n",
    "print('Fittest Gene discovered {} topics with score of {:.8f}'.format(fittest_gene.n,ga.fitness))"
   ]
  },
  {
   "cell_type": "code",
   "execution_count": 7,
   "metadata": {},
   "outputs": [],
   "source": [
    "fittest_gene = ga.get_fittest()\n",
    "model = ga.get_model()\n",
    "docs.assign_labels(model)"
   ]
  },
  {
   "cell_type": "code",
   "execution_count": 8,
   "metadata": {},
   "outputs": [],
   "source": [
    "# dump model\n",
    "with open('react_lda_model.pkl', 'wb+') as f:\n",
    "    pickle.dump(model, f)"
   ]
  },
  {
   "cell_type": "code",
   "execution_count": 9,
   "metadata": {
    "scrolled": true
   },
   "outputs": [
    {
     "data": {
      "text/html": [
       "\n",
       "<link rel=\"stylesheet\" type=\"text/css\" href=\"https://cdn.rawgit.com/bmabey/pyLDAvis/files/ldavis.v1.0.0.css\">\n",
       "\n",
       "\n",
       "<div id=\"ldavis_el594234901203424702519961\"></div>\n",
       "<script type=\"text/javascript\">\n",
       "\n",
       "var ldavis_el594234901203424702519961_data = {\"mdsDat\": {\"x\": [0.033820061001645065, 0.018815096783603973, 0.008253804676856127, 0.0501457292886983, -0.11103469175080341], \"y\": [0.0080760613122193, -0.022318598442397253, 0.07088528826063864, -0.041739499056585326, -0.014903252073875328], \"topics\": [1, 2, 3, 4, 5], \"cluster\": [1, 1, 1, 1, 1], \"Freq\": [37.91162109375, 28.676551818847656, 17.80332374572754, 10.470714569091797, 5.137790203094482]}, \"tinfo\": {\"Category\": [\"Default\", \"Default\", \"Default\", \"Default\", \"Default\", \"Default\", \"Default\", \"Default\", \"Default\", \"Default\", \"Default\", \"Default\", \"Default\", \"Default\", \"Default\", \"Default\", \"Default\", \"Default\", \"Default\", \"Default\", \"Default\", \"Default\", \"Default\", \"Default\", \"Default\", \"Default\", \"Default\", \"Default\", \"Default\", \"Default\", \"Topic1\", \"Topic1\", \"Topic1\", \"Topic1\", \"Topic1\", \"Topic1\", \"Topic1\", \"Topic1\", \"Topic1\", \"Topic1\", \"Topic1\", \"Topic1\", \"Topic1\", \"Topic1\", \"Topic1\", \"Topic1\", \"Topic1\", \"Topic1\", \"Topic1\", \"Topic1\", \"Topic1\", \"Topic1\", \"Topic1\", \"Topic1\", \"Topic1\", \"Topic1\", \"Topic1\", \"Topic1\", \"Topic1\", \"Topic1\", \"Topic1\", \"Topic1\", \"Topic1\", \"Topic1\", \"Topic1\", \"Topic1\", \"Topic1\", \"Topic1\", \"Topic1\", \"Topic1\", \"Topic1\", \"Topic1\", \"Topic1\", \"Topic1\", \"Topic1\", \"Topic1\", \"Topic1\", \"Topic1\", \"Topic1\", \"Topic1\", \"Topic1\", \"Topic1\", \"Topic1\", \"Topic1\", \"Topic1\", \"Topic1\", \"Topic1\", \"Topic1\", \"Topic1\", \"Topic1\", \"Topic1\", \"Topic1\", \"Topic1\", \"Topic1\", \"Topic1\", \"Topic1\", \"Topic1\", \"Topic1\", \"Topic1\", \"Topic1\", \"Topic1\", \"Topic2\", \"Topic2\", \"Topic2\", \"Topic2\", \"Topic2\", \"Topic2\", \"Topic2\", \"Topic2\", \"Topic2\", \"Topic2\", \"Topic2\", \"Topic2\", \"Topic2\", \"Topic2\", \"Topic2\", \"Topic2\", \"Topic2\", \"Topic2\", \"Topic2\", \"Topic2\", \"Topic2\", \"Topic2\", \"Topic2\", \"Topic2\", \"Topic2\", \"Topic2\", \"Topic2\", \"Topic2\", \"Topic2\", \"Topic2\", \"Topic2\", \"Topic2\", \"Topic2\", \"Topic2\", \"Topic2\", \"Topic2\", \"Topic2\", \"Topic2\", \"Topic2\", \"Topic2\", \"Topic2\", \"Topic2\", \"Topic2\", \"Topic2\", \"Topic2\", \"Topic2\", \"Topic2\", \"Topic2\", \"Topic2\", \"Topic2\", \"Topic2\", \"Topic2\", \"Topic2\", \"Topic2\", \"Topic2\", \"Topic2\", \"Topic2\", \"Topic2\", \"Topic2\", \"Topic2\", \"Topic2\", \"Topic2\", \"Topic3\", \"Topic3\", \"Topic3\", \"Topic3\", \"Topic3\", \"Topic3\", \"Topic3\", \"Topic3\", \"Topic3\", \"Topic3\", \"Topic3\", \"Topic3\", \"Topic3\", \"Topic3\", \"Topic3\", \"Topic3\", \"Topic3\", \"Topic3\", \"Topic3\", \"Topic3\", \"Topic3\", \"Topic3\", \"Topic3\", \"Topic3\", \"Topic3\", \"Topic3\", \"Topic3\", \"Topic3\", \"Topic3\", \"Topic3\", \"Topic3\", \"Topic3\", \"Topic3\", \"Topic3\", \"Topic3\", \"Topic3\", \"Topic3\", \"Topic3\", \"Topic3\", \"Topic3\", \"Topic3\", \"Topic3\", \"Topic3\", \"Topic3\", \"Topic3\", \"Topic3\", \"Topic3\", \"Topic3\", \"Topic3\", \"Topic3\", \"Topic3\", \"Topic3\", \"Topic3\", \"Topic3\", \"Topic3\", \"Topic4\", \"Topic4\", \"Topic4\", \"Topic4\", \"Topic4\", \"Topic4\", \"Topic4\", \"Topic4\", \"Topic4\", \"Topic4\", \"Topic4\", \"Topic4\", \"Topic4\", \"Topic4\", \"Topic4\", \"Topic4\", \"Topic4\", \"Topic4\", \"Topic4\", \"Topic4\", \"Topic4\", \"Topic4\", \"Topic4\", \"Topic4\", \"Topic4\", \"Topic4\", \"Topic4\", \"Topic4\", \"Topic4\", \"Topic4\", \"Topic4\", \"Topic4\", \"Topic4\", \"Topic4\", \"Topic4\", \"Topic4\", \"Topic4\", \"Topic4\", \"Topic4\", \"Topic4\", \"Topic4\", \"Topic4\", \"Topic4\", \"Topic4\", \"Topic4\", \"Topic4\", \"Topic4\", \"Topic4\", \"Topic4\", \"Topic4\", \"Topic4\", \"Topic4\", \"Topic4\", \"Topic4\", \"Topic4\", \"Topic4\", \"Topic4\", \"Topic5\", \"Topic5\", \"Topic5\", \"Topic5\", \"Topic5\", \"Topic5\", \"Topic5\", \"Topic5\", \"Topic5\", \"Topic5\", \"Topic5\", \"Topic5\", \"Topic5\", \"Topic5\", \"Topic5\", \"Topic5\", \"Topic5\", \"Topic5\", \"Topic5\", \"Topic5\", \"Topic5\", \"Topic5\", \"Topic5\", \"Topic5\", \"Topic5\", \"Topic5\", \"Topic5\", \"Topic5\", \"Topic5\", \"Topic5\", \"Topic5\", \"Topic5\", \"Topic5\", \"Topic5\", \"Topic5\", \"Topic5\", \"Topic5\", \"Topic5\", \"Topic5\", \"Topic5\", \"Topic5\", \"Topic5\", \"Topic5\", \"Topic5\", \"Topic5\", \"Topic5\", \"Topic5\", \"Topic5\", \"Topic5\", \"Topic5\"], \"Freq\": [909.0, 1372.0, 748.0, 503.0, 647.0, 1730.0, 442.0, 401.0, 707.0, 1031.0, 1202.0, 677.0, 2366.0, 362.0, 1534.0, 552.0, 801.0, 248.0, 239.0, 1077.0, 697.0, 2012.0, 1177.0, 1409.0, 436.0, 817.0, 161.0, 157.0, 983.0, 159.0, 30.772401809692383, 748.7621459960938, 314.1028747558594, 255.5037384033203, 110.09627532958984, 159.3757781982422, 39.85969161987305, 23.7600154876709, 41.048583984375, 20.75653076171875, 66.03264617919922, 15.654133796691895, 47.881107330322266, 35.063201904296875, 24.043785095214844, 21.215206146240234, 58.586463928222656, 23.614049911499023, 281.66705322265625, 111.01127624511719, 53.74433898925781, 313.9427795410156, 31.370750427246094, 25.57362937927246, 207.53627014160156, 285.80999755859375, 102.30381774902344, 258.2431945800781, 17.315998077392578, 34.710575103759766, 104.85957336425781, 479.8447570800781, 139.2449188232422, 187.30770874023438, 150.2479248046875, 125.17163848876953, 250.3164520263672, 739.579833984375, 221.8592987060547, 169.53334045410156, 149.9534149169922, 134.6143798828125, 640.9960327148438, 198.0814666748047, 331.0461120605469, 255.02487182617188, 516.123779296875, 167.3133087158203, 627.249267578125, 393.8404541015625, 610.78173828125, 303.5377197265625, 701.2449951171875, 430.6658935546875, 414.2852478027344, 849.3892822265625, 348.8517150878906, 382.93804931640625, 475.99554443359375, 534.9228515625, 554.8875732421875, 503.8507995605469, 336.0858459472656, 324.9921875, 503.2037658691406, 346.44873046875, 425.9058837890625, 314.7891540527344, 404.4301452636719, 345.2474670410156, 327.74810791015625, 64.52565002441406, 148.21337890625, 151.6243438720703, 146.56874084472656, 134.90106201171875, 40.31465148925781, 183.22738647460938, 134.6820526123047, 140.1809844970703, 144.33489990234375, 129.4579315185547, 139.1814727783203, 33.04707717895508, 130.21192932128906, 16.943359375, 129.0797119140625, 119.48885345458984, 134.06761169433594, 18.275911331176758, 135.07313537597656, 121.8449478149414, 300.2668762207031, 117.40555572509766, 368.39398193359375, 163.5828857421875, 270.1161193847656, 174.49224853515625, 136.00877380371094, 223.99050903320312, 160.1746063232422, 579.2075805664062, 282.33209228515625, 349.0760192871094, 728.3744506835938, 431.8406677246094, 637.7329711914062, 592.2572631835938, 332.4246826171875, 714.2384643554688, 805.875, 282.54315185546875, 240.7538299560547, 225.45834350585938, 537.6097412109375, 286.06622314453125, 414.0653991699219, 313.89434814453125, 301.5892028808594, 413.0240173339844, 296.2781677246094, 242.7925567626953, 212.92758178710938, 220.2469940185547, 414.3494567871094, 202.19537353515625, 297.60626220703125, 309.0914001464844, 312.56671142578125, 254.7954559326172, 294.94256591796875, 287.3635559082031, 278.23126220703125, 586.5244140625, 450.17950439453125, 523.1746215820312, 156.83685302734375, 42.07185745239258, 820.8121337890625, 118.01407623291016, 90.85250091552734, 26.147443771362305, 20.228437423706055, 602.058837890625, 203.76058959960938, 166.80982971191406, 15.379313468933105, 58.24348449707031, 20.747379302978516, 56.04609298706055, 15.934828758239746, 437.4502258300781, 41.92304611206055, 515.9287719726562, 8.372798919677734, 99.50737762451172, 46.76995849609375, 40.73195266723633, 86.44061279296875, 41.09588623046875, 16.315828323364258, 20.70686149597168, 51.02509307861328, 140.26744079589844, 451.4078369140625, 639.7238159179688, 242.28587341308594, 73.17131042480469, 147.7228546142578, 351.9678649902344, 200.8918914794922, 276.2235107421875, 106.61817932128906, 112.57662963867188, 115.02245330810547, 259.4952087402344, 241.50733947753906, 257.9645080566406, 169.32090759277344, 296.4632873535156, 206.59051513671875, 151.1151580810547, 124.77359771728516, 153.87234497070312, 130.53512573242188, 150.6400909423828, 137.48382568359375, 134.51190185546875, 269.7397155761719, 136.08042907714844, 566.8872680664062, 139.15525817871094, 136.1639404296875, 142.9969024658203, 302.490966796875, 188.17364501953125, 248.74978637695312, 345.64544677734375, 167.36322021484375, 13.235532760620117, 11.49551010131836, 7.7229437828063965, 184.9565887451172, 10.427684783935547, 18.36168670654297, 6.067065238952637, 179.76853942871094, 24.408002853393555, 6.9577813148498535, 13.848820686340332, 9.23988151550293, 328.6626892089844, 5.616232872009277, 12.783256530761719, 21.021221160888672, 9.820623397827148, 3.769380569458008, 7.732217788696289, 37.342830657958984, 25.705677032470703, 16.998998641967773, 160.6441650390625, 29.47068214416504, 30.71211051940918, 48.85411071777344, 48.72285079956055, 108.94295501708984, 129.8970947265625, 283.89776611328125, 116.98837280273438, 92.38575744628906, 75.74069213867188, 170.38206481933594, 205.94686889648438, 93.53252410888672, 101.9969482421875, 82.5347671508789, 144.51768493652344, 155.0272216796875, 90.61273193359375, 71.05988311767578, 113.33135986328125, 89.65410614013672, 91.6878433227539, 95.17365264892578, 15.853171348571777, 23.23318862915039, 93.24093627929688, 142.14724731445312, 22.557050704956055, 90.04447937011719, 133.85826110839844, 89.4599838256836, 222.06410217285156, 277.5650939941406, 238.63914489746094, 13.309081077575684, 25.15968132019043, 14.769980430603027, 44.05835723876953, 14.592771530151367, 19.85399627685547, 227.6882781982422, 228.6325225830078, 14.843443870544434, 44.771793365478516, 11.55256175994873, 8.92320442199707, 49.59686279296875, 9.199528694152832, 28.546072006225586, 5.77274227142334, 14.172755241394043, 5.409084796905518, 29.522605895996094, 202.20431518554688, 155.10897827148438, 38.397560119628906, 97.69624328613281, 55.20606231689453, 32.386817932128906, 130.8727264404297, 90.98143005371094, 60.67048263549805, 68.02281951904297, 53.336490631103516, 54.731422424316406, 60.77534103393555, 47.04598617553711, 42.68587112426758, 52.70303726196289, 42.64469909667969, 45.17088317871094, 47.935062408447266, 43.772098541259766], \"Term\": [\"module\", \"object\", \"chrome\", \"main\", \"build\", \"div\", \"extension\", \"fmkadmapgofadopljbjfkapdkoienihi\", \"www\", \"expected\", \"var\", \"case\", \"component\", \"equal\", \"behavior\", \"framework\", \"src\", \"chrome_extension\", \"fmkadmapgofadopljbjfkapdkoienihi_build\", \"app\", \"node_modules\", \"http\", \"request\", \"render\", \"lib\", \"babel\", \"extension_fmkadmapgofadopljbjfkapdkoienihi\", \"build_main\", \"value\", \"main_chrome\", \"description_provided\", \"babel\", \"plugin\", \"npm\", \"width\", \"core\", \"typescript\", \"hey\", \"template\", \"experimental\", \"route\", \"gaearon\", \"description\", \"installed\", \"sample\", \"task\", \"path\", \"exact\", \"item\", \"callback\", \"syntax\", \"style\", \"hello_world\", \"npm_install\", \"proptypes\", \"could\", \"env\", \"text\", \"follow\", \"createelement_div\", \"createelement\", \"import\", \"reactdom\", \"document\", \"container\", \"hello\", \"com\", \"return\", \"classname\", \"reactid\", \"view\", \"native\", \"const\", \"useeffect\", \"null\", \"onclick\", \"app\", \"script\", \"render\", \"data\", \"function\", \"element\", \"div\", \"use\", \"error\", \"component\", \"hook\", \"dom\", \"work\", \"version\", \"behavior\", \"state\", \"warning\", \"type\", \"bug\", \"code\", \"prop\", \"test\", \"http\", \"current\", \"var\", \"localhost\", \"problem_bug\", \"run_code\", \"codesandbox_http\", \"link_jsfiddle\", \"memo\", \"provide\", \"get_fixed\", \"much_faster\", \"paste\", \"react_paste\", \"bug_please\", \"scroll\", \"faster\", \"developer_tool\", \"reproduce_possible\", \"luktwrdm\", \"provide_step\", \"official_build\", \"minimal_demo\", \"net_luktwrdm\", \"jsfiddle\", \"codesandbox_new\", \"codesandbox\", \"much\", \"run\", \"demo\", \"fixed\", \"please\", \"bug_current\", \"current\", \"previous\", \"browser\", \"bug\", \"issue\", \"version\", \"prop\", \"feature\", \"http\", \"component\", \"ref\", \"expected_behavior\", \"previous_version\", \"behavior\", \"new\", \"work\", \"want\", \"child\", \"const\", \"chrome\", \"report\", \"affected\", \"feature_report\", \"div\", \"issue_work\", \"expected\", \"request\", \"function\", \"using\", \"state\", \"render\", \"return\", \"www\", \"framework\", \"src\", \"handle\", \"markup\", \"object\", \"select\", \"onchange\", \"handlechange\", \"target_value\", \"var\", \"line\", \"array\", \"basic\", \"client\", \"selected\", \"table\", \"boolean\", \"value\", \"setting\", \"request\", \"benefit\", \"server\", \"status\", \"webpack\", \"option\", \"checked\", \"public\", \"event_handler\", \"react_addons\", \"setstate\", \"state\", \"http\", \"data\", \"span\", \"event\", \"function\", \"like\", \"app\", \"index\", \"key\", \"input\", \"render\", \"return\", \"div\", \"dom\", \"component\", \"prop\", \"using\", \"button\", \"use\", \"name\", \"const\", \"error\", \"work\", \"equal\", \"lead\", \"module\", \"multiple\", \"unexpected\", \"another\", \"case\", \"lib\", \"node_modules\", \"expected\", \"one\", \"com_facebook\", \"blob\", \"perform\", \"name\", \"lifecycle\", \"bar\", \"statement\", \"warning\", \"cjs\", \"blob_master\", \"bootstrap\", \"mixin\", \"behavior\", \"far\", \"master\", \"output\", \"http_facebook\", \"almost\", \"cli\", \"development\", \"check\", \"web\", \"use\", \"foo\", \"createelement\", \"time\", \"reproduce\", \"example\", \"error\", \"component\", \"dom\", \"codesandbox\", \"console\", \"bug\", \"http\", \"get\", \"code\", \"null\", \"render\", \"div\", \"child\", \"jsfiddle\", \"prop\", \"issue\", \"current\", \"function\", \"unknown_div\", \"please_remove\", \"build_main\", \"chrome_extension\", \"text_line\", \"main_chrome\", \"fmkadmapgofadopljbjfkapdkoienihi_build\", \"extension_fmkadmapgofadopljbjfkapdkoienihi\", \"fmkadmapgofadopljbjfkapdkoienihi\", \"main\", \"extension\", \"div_unknown\", \"call_stack\", \"describe_bug\", \"unknown\", \"occurred\", \"describe\", \"build\", \"chrome\", \"reactelement\", \"stack\", \"length\", \"foreach\", \"div_div\", \"layout\", \"testutils\", \"testutils_renderintodocument\", \"tab\", \"componentwillmount\", \"remove\", \"div\", \"object\", \"reactid\", \"app\", \"event\", \"map\", \"component\", \"render\", \"data\", \"var\", \"type\", \"module\", \"prop\", \"child\", \"element\", \"version\", \"null\", \"request\", \"http\", \"bug\"], \"Total\": [909.0, 1372.0, 748.0, 503.0, 647.0, 1730.0, 442.0, 401.0, 707.0, 1031.0, 1202.0, 677.0, 2366.0, 362.0, 1534.0, 552.0, 801.0, 248.0, 239.0, 1077.0, 697.0, 2012.0, 1177.0, 1409.0, 436.0, 817.0, 161.0, 157.0, 983.0, 159.0, 30.97100067138672, 817.9856567382812, 375.6965026855469, 320.8828430175781, 143.92782592773438, 208.59523010253906, 52.221256256103516, 32.16361999511719, 56.776058197021484, 29.170883178710938, 94.16751861572266, 22.326557159423828, 69.89823150634766, 51.36067581176758, 35.506858825683594, 31.626323699951172, 87.87605285644531, 35.44767761230469, 423.3748474121094, 167.7581024169922, 81.58763122558594, 479.4922180175781, 48.30615234375, 39.481536865234375, 324.24725341796875, 446.7024841308594, 161.29107666015625, 407.9084167480469, 27.41089630126953, 55.115169525146484, 168.2065887451172, 792.4439697265625, 225.28167724609375, 305.8460388183594, 244.30880737304688, 203.1219024658203, 425.43341064453125, 1355.7979736328125, 376.2298278808594, 282.54742431640625, 247.76988220214844, 220.5627899169922, 1271.1954345703125, 340.78045654296875, 620.0237426757812, 463.5425109863281, 1077.6905517578125, 287.0105285644531, 1409.607177734375, 820.015625, 1406.76123046875, 599.9424438476562, 1730.79052734375, 939.3416137695312, 909.673583984375, 2366.498046875, 734.7874145507812, 843.5289306640625, 1141.8533935546875, 1424.678466796875, 1534.6727294921875, 1368.11669921875, 727.4514770507812, 709.6793212890625, 1541.7637939453125, 806.6769409179688, 1398.8603515625, 719.684814453125, 2012.2742919921875, 1085.8466796875, 1202.817138671875, 88.85813903808594, 224.7897186279297, 231.4881591796875, 228.3458251953125, 211.33677673339844, 63.22346496582031, 287.6346435546875, 212.27175903320312, 222.50576782226562, 229.8414764404297, 215.87049865722656, 233.73487854003906, 56.25409698486328, 222.10873413085938, 28.929027557373047, 222.97386169433594, 206.5079803466797, 233.4934539794922, 31.907745361328125, 236.33541870117188, 213.9052734375, 528.22802734375, 207.07896423339844, 653.8139038085938, 291.06890869140625, 482.2801513671875, 319.8826599121094, 249.3436737060547, 413.25823974609375, 297.0254821777344, 1085.8466796875, 546.0000610351562, 693.8111572265625, 1541.7637939453125, 893.7356567382812, 1424.678466796875, 1398.8603515625, 715.5186157226562, 2012.2742919921875, 2366.498046875, 613.7119750976562, 500.4790954589844, 462.9618835449219, 1534.6727294921875, 664.0364990234375, 1141.8533935546875, 781.5374145507812, 764.840576171875, 1271.1954345703125, 748.9583740234375, 569.9903564453125, 461.0763244628906, 495.7359619140625, 1730.79052734375, 422.3702392578125, 1031.8082275390625, 1177.207763671875, 1406.76123046875, 766.4706420898438, 1368.11669921875, 1409.607177734375, 1355.7979736328125, 707.8236083984375, 552.1434326171875, 801.3916015625, 244.37445068359375, 69.46549224853516, 1372.7371826171875, 201.48324584960938, 175.26034545898438, 51.18553924560547, 40.058311462402344, 1202.817138671875, 407.606201171875, 356.9526062011719, 33.24879455566406, 126.24342346191406, 45.57650375366211, 123.14251708984375, 35.55064010620117, 983.36767578125, 95.23400115966797, 1177.207763671875, 19.640817642211914, 235.9681396484375, 116.00072479248047, 101.23107147216797, 214.8418731689453, 105.35626220703125, 42.39741897583008, 53.86817932128906, 133.67884826660156, 390.61798095703125, 1368.11669921875, 2012.2742919921875, 820.015625, 205.2767333984375, 477.53759765625, 1406.76123046875, 713.4902954101562, 1077.6905517578125, 353.8346252441406, 384.9715576171875, 414.80938720703125, 1409.607177734375, 1355.7979736328125, 1730.79052734375, 843.5289306640625, 2366.498046875, 1398.8603515625, 766.4706420898438, 503.71893310546875, 939.3416137695312, 677.966796875, 1271.1954345703125, 909.673583984375, 1141.8533935546875, 362.6105651855469, 196.1487579345703, 909.93505859375, 235.49899291992188, 230.71804809570312, 264.3120422363281, 677.2877807617188, 436.47857666015625, 697.0885620117188, 1031.8082275390625, 550.2205810546875, 45.63285446166992, 40.24614715576172, 28.155649185180664, 677.966796875, 39.27475357055664, 70.79012298583984, 24.02741050720215, 727.4514770507812, 106.26294708251953, 31.812158584594727, 63.4233512878418, 42.801212310791016, 1534.6727294921875, 27.19260025024414, 64.95610046386719, 106.83873748779297, 50.29957580566406, 19.350360870361328, 40.187374114990234, 195.2425079345703, 134.2050323486328, 88.8661117553711, 939.3416137695312, 159.22702026367188, 168.2065887451172, 279.43896484375, 282.52984619140625, 713.492431640625, 909.673583984375, 2366.498046875, 843.5289306640625, 653.8139038085938, 536.0009765625, 1541.7637939453125, 2012.2742919921875, 710.6542358398438, 806.6769409179688, 620.0237426757812, 1409.607177734375, 1730.79052734375, 764.840576171875, 528.22802734375, 1398.8603515625, 893.7356567382812, 1085.8466796875, 1406.76123046875, 23.138019561767578, 39.03679656982422, 157.98968505859375, 248.60452270507812, 39.611412048339844, 159.10235595703125, 239.20135498046875, 161.45419311523438, 401.4998779296875, 503.5247497558594, 442.4066162109375, 24.8493709564209, 47.56205749511719, 28.377727508544922, 99.37664031982422, 38.14319610595703, 53.20516586303711, 647.9520263671875, 748.9583740234375, 51.51448440551758, 166.8485870361328, 44.196739196777344, 34.213775634765625, 205.9732666015625, 39.11611557006836, 128.09408569335938, 27.39502716064453, 68.49384307861328, 32.4710807800293, 178.16326904296875, 1730.79052734375, 1372.7371826171875, 282.54742431640625, 1077.6905517578125, 477.53759765625, 233.48486328125, 2366.498046875, 1409.607177734375, 820.015625, 1202.817138671875, 709.6793212890625, 909.93505859375, 1398.8603515625, 764.840576171875, 599.9424438476562, 1424.678466796875, 620.0237426757812, 1177.207763671875, 2012.2742919921875, 1541.7637939453125], \"loglift\": [30.0, 29.0, 28.0, 27.0, 26.0, 25.0, 24.0, 23.0, 22.0, 21.0, 20.0, 19.0, 18.0, 17.0, 16.0, 15.0, 14.0, 13.0, 12.0, 11.0, 10.0, 9.0, 8.0, 7.0, 6.0, 5.0, 4.0, 3.0, 2.0, 1.0, 0.9635000228881836, 0.8815000057220459, 0.7908999919891357, 0.7421000003814697, 0.7020000219345093, 0.7008000016212463, 0.6998000144958496, 0.6671000123023987, 0.6456000208854675, 0.6295999884605408, 0.6150000095367432, 0.6148999929428101, 0.5916000008583069, 0.5881999731063843, 0.5800999999046326, 0.5705999732017517, 0.5644999742507935, 0.5637000203132629, 0.5623999834060669, 0.5569999814033508, 0.5525000095367432, 0.5464000105857849, 0.5382000207901001, 0.5356000065803528, 0.5236999988555908, 0.5232999920845032, 0.5145999789237976, 0.5127999782562256, 0.5105999708175659, 0.5074999928474426, 0.49729999899864197, 0.4683000147342682, 0.4887999892234802, 0.4796000123023987, 0.4837999939918518, 0.48579999804496765, 0.43950000405311584, 0.3637999892234802, 0.44179999828338623, 0.45910000801086426, 0.4677000045776367, 0.47609999775886536, 0.28519999980926514, 0.42739999294281006, 0.3424000144004822, 0.3723999857902527, 0.2337000072002411, 0.4302999973297119, 0.16019999980926514, 0.23649999499320984, 0.1356000006198883, 0.28859999775886536, 0.06639999896287918, 0.19009999930858612, 0.1834000051021576, -0.05469999834895134, 0.22499999403953552, 0.18019999563694, 0.09489999711513519, -0.009700000286102295, -0.04740000143647194, -0.028999999165534973, 0.19769999384880066, 0.18889999389648438, -0.14980000257492065, 0.12470000237226486, -0.21930000185966492, 0.14300000667572021, -0.6345999836921692, -0.17589999735355377, -0.3303000032901764, 0.929099977016449, 0.8325999975204468, 0.8259999752044678, 0.8057000041007996, 0.8001999855041504, 0.7990999817848206, 0.7980999946594238, 0.7940999865531921, 0.7871000170707703, 0.7838000059127808, 0.7378000020980835, 0.7307000160217285, 0.7171000242233276, 0.7150999903678894, 0.7141000032424927, 0.7024999856948853, 0.7020000219345093, 0.6942999958992004, 0.6917999982833862, 0.6897000074386597, 0.6862999796867371, 0.6841999888420105, 0.6815999746322632, 0.6754000186920166, 0.6729000210762024, 0.6693999767303467, 0.6430000066757202, 0.6430000066757202, 0.6366000175476074, 0.6315000057220459, 0.6205999851226807, 0.5896000266075134, 0.5622000098228455, 0.4991999864578247, 0.5217000246047974, 0.44530001282691956, 0.38960000872612, 0.48249998688697815, 0.21330000460147858, 0.17190000414848328, 0.4733999967575073, 0.517300009727478, 0.5296000242233276, 0.20020000636577606, 0.40700000524520874, 0.23469999432563782, 0.336899995803833, 0.31850001215934753, 0.12489999830722809, 0.32170000672340393, 0.39570000767707825, 0.476500004529953, 0.43779999017715454, -0.18050000071525574, 0.5123999714851379, 0.005799999926239252, -0.08820000290870667, -0.2551000118255615, 0.1477999985218048, -0.28529998660087585, -0.34119999408721924, -0.3346000015735626, 1.5377999544143677, 1.5216000080108643, 1.299399971961975, 1.2822999954223633, 1.2243000268936157, 1.2115000486373901, 1.1908999681472778, 1.0686999559402466, 1.0541000366210938, 1.0425000190734863, 1.0336999893188477, 1.0324000120162964, 0.9649999737739563, 0.954800009727478, 0.9521999955177307, 0.9387999773025513, 0.9386000037193298, 0.92330002784729, 0.9157999753952026, 0.9053000211715698, 0.9009000062942505, 0.873199999332428, 0.8622999787330627, 0.8173999786376953, 0.8154000043869019, 0.8152999877929688, 0.7843000292778015, 0.770799994468689, 0.7696999907493591, 0.7627000212669373, 0.7016000151634216, 0.6169999837875366, 0.579800009727478, 0.506600022315979, 0.6941999793052673, 0.5525000095367432, 0.3402999937534332, 0.45840001106262207, 0.3643999993801117, 0.526199996471405, 0.49619999527931213, 0.4431000053882599, 0.03350000083446503, 0.0005000000237487257, -0.1776999980211258, 0.11999999731779099, -0.351500004529953, -0.18690000474452972, 0.10199999809265137, 0.3303000032901764, -0.08330000191926956, 0.07829999923706055, -0.40700000524520874, -0.16380000114440918, -0.4129999876022339, 1.9607000350952148, 1.8910000324249268, 1.783400058746338, 1.7304999828338623, 1.7293000221252441, 1.642300009727478, 1.4505000114440918, 1.4151999950408936, 1.226099967956543, 1.1628999710083008, 1.0664000511169434, 1.0189000368118286, 1.003499984741211, 0.9629999995231628, 0.9575999975204468, 0.9304999709129333, 0.9071000218391418, 0.880299985408783, 0.8586999773979187, 0.7856000065803528, 0.7365999817848206, 0.7350000143051147, 0.7235999703407288, 0.715499997138977, 0.6793000102043152, 0.6309999823570251, 0.6308000087738037, 0.6230999827384949, 0.6208000183105469, 0.6083999872207642, 0.6025000214576721, 0.6039000153541565, 0.6025999784469604, 0.49059998989105225, 0.5697000026702881, 0.5561000108718872, 0.5126000046730042, 0.49900001287460327, 0.37720000743865967, 0.3102000057697296, 0.13600000739097595, 0.28110000491142273, 0.299699991941452, 0.29980000853538513, 0.05389999970793724, -0.02280000038444996, 0.22869999706745148, 0.18860000371932983, 0.23999999463558197, -0.0210999995470047, -0.15610000491142273, 0.12349999696016312, 0.25060001015663147, -0.2565000057220459, -0.042899999767541885, -0.2151000052690506, -0.4368000030517578, 2.590399980545044, 2.4495999813079834, 2.441200017929077, 2.4094998836517334, 2.4054999351501465, 2.3993000984191895, 2.388000011444092, 2.3780999183654785, 2.376300096511841, 2.372999906539917, 2.351300001144409, 2.3441998958587646, 2.3317999839782715, 2.315500020980835, 2.155100107192993, 2.007699966430664, 1.982800006866455, 1.922700047492981, 1.781999945640564, 1.7242000102996826, 1.652999997138977, 1.6267999410629272, 1.6246000528335571, 1.544700026512146, 1.5211999416351318, 1.4673000574111938, 1.4112999439239502, 1.3931000232696533, 1.176300048828125, 1.1710000038146973, 0.8215000033378601, 0.788100004196167, 0.9726999998092651, 0.567799985408783, 0.8109999895095825, 0.9932000041007996, 0.07360000163316727, 0.2281000018119812, 0.36469998955726624, 0.09600000083446503, 0.38040000200271606, 0.15760000050067902, -0.16769999265670776, 0.18000000715255737, 0.3255999982357025, -0.32850000262260437, 0.29170000553131104, -0.29190000891685486, -0.7685999870300293, -0.5931000113487244], \"logprob\": [30.0, 29.0, 28.0, 27.0, 26.0, 25.0, 24.0, 23.0, 22.0, 21.0, 20.0, 19.0, 18.0, 17.0, 16.0, 15.0, 14.0, 13.0, 12.0, 11.0, 10.0, 9.0, 8.0, 7.0, 6.0, 5.0, 4.0, 3.0, 2.0, 1.0, -7.494900226593018, -4.303100109100342, -5.171800136566162, -5.378300189971924, -6.220200061798096, -5.850299835205078, -7.236199855804443, -7.753600120544434, -7.2067999839782715, -7.888700008392334, -6.731400012969971, -8.17080020904541, -7.052800178527832, -7.3643999099731445, -7.741700172424316, -7.866799831390381, -6.851099967956543, -7.759699821472168, -5.280799865722656, -6.211900234222412, -6.937300205230713, -5.172399997711182, -7.4756999015808105, -7.679999828338623, -5.586299896240234, -5.266200065612793, -6.293600082397461, -5.367700099945068, -8.069899559020996, -7.374499797821045, -6.268899917602539, -4.7480998039245605, -5.985300064086914, -5.688799858093262, -5.909299850463867, -6.091899871826172, -5.398799896240234, -4.315499782562256, -5.519499778747559, -5.78849983215332, -5.911200046539307, -6.019199848175049, -4.458499908447266, -5.632900238037109, -5.11929988861084, -5.380199909210205, -4.67519998550415, -5.801700115203857, -4.480199813842773, -4.9456000328063965, -4.506800174713135, -5.206099987030029, -4.36870002746582, -4.856200218200684, -4.894999980926514, -4.177000045776367, -5.06689977645874, -4.973700046539307, -4.756199836730957, -4.639400005340576, -4.602799892425537, -4.6992998123168945, -5.1041998863220215, -5.137800216674805, -4.7006001472473145, -5.073800086975098, -4.867300033569336, -5.1697001457214355, -4.919099807739258, -5.077300071716309, -5.129300117492676, -6.475299835205078, -5.643700122833252, -5.620999813079834, -5.654900074005127, -5.737800121307373, -6.945700168609619, -5.431700229644775, -5.739500045776367, -5.69950008392334, -5.670300006866455, -5.7789998054504395, -5.706600189208984, -7.144499778747559, -5.773200035095215, -7.8125, -5.7820000648498535, -5.8592000007629395, -5.74399995803833, -7.736800193786621, -5.736599922180176, -5.839600086212158, -4.937699794769287, -5.876800060272217, -4.7332000732421875, -5.545100212097168, -5.043499946594238, -5.480500221252441, -5.729700088500977, -5.230800151824951, -5.566100120544434, -4.280700206756592, -4.999300003051758, -4.787099838256836, -4.051599979400635, -4.5742998123168945, -4.184500217437744, -4.258399963378906, -4.835999965667725, -4.071199893951416, -3.950500011444092, -4.998600006103516, -5.158599853515625, -5.224299907684326, -4.355299949645996, -4.986199855804443, -4.616399765014648, -4.8933000564575195, -4.933300018310547, -4.618899822235107, -4.951099872589111, -5.150199890136719, -5.281400203704834, -5.247600078582764, -4.615699768066406, -5.333199977874756, -4.946599960327148, -4.90880012512207, -4.897600173950195, -5.101900100708008, -4.955599784851074, -4.981599807739258, -5.013899803161621, -3.7915000915527344, -4.056000232696533, -3.9058001041412354, -5.110499858856201, -6.426300048828125, -3.455399990081787, -5.394899845123291, -5.656499862670898, -6.901899814605713, -7.158599853515625, -3.7653000354766846, -4.848700046539307, -5.048799991607666, -7.432700157165527, -6.101099967956543, -7.133299827575684, -6.139500141143799, -7.397200107574463, -4.084700107574463, -6.429900169372559, -3.9196999073028564, -8.04069995880127, -5.565499782562256, -6.320499897003174, -6.458700180053711, -5.706200122833252, -6.44980001449585, -7.373600006103516, -7.135200023651123, -6.233399868011475, -5.222099781036377, -4.053299903869629, -3.704699993133545, -4.675600051879883, -5.872900009155273, -5.170400142669678, -4.302199840545654, -4.8628997802734375, -4.54449987411499, -5.496399879455566, -5.4421000480651855, -5.420599937438965, -4.60699987411499, -4.678800106048584, -4.6128997802734375, -5.033899784088135, -4.473800182342529, -4.835000038146973, -5.14769983291626, -5.339200019836426, -5.1296000480651855, -5.294099807739258, -5.1508002281188965, -5.242199897766113, -5.263999938964844, -4.037399768829346, -4.72160005569458, -3.2946999073028564, -4.6992998123168945, -4.7210001945495605, -4.672100067138672, -3.922800064086914, -4.397500038146973, -4.1184000968933105, -3.7894999980926514, -4.514699935913086, -7.052000045776367, -7.19290018081665, -7.590700149536133, -4.41480016708374, -7.29040002822876, -6.724599838256836, -7.831999778747559, -4.44320011138916, -6.440000057220459, -7.695000171661377, -7.006700038909912, -7.411399841308594, -3.839900016784668, -7.909200191497803, -7.0868000984191895, -6.589399814605713, -7.350399971008301, -8.307999610900879, -7.5894999504089355, -6.014699935913086, -6.388199806213379, -6.801700115203857, -4.555699825286865, -6.251500129699707, -6.21019983291626, -5.746099948883057, -5.748700141906738, -4.9440999031066895, -4.768099784851074, -3.986299991607666, -4.872799873352051, -5.10890007019043, -5.307600021362305, -4.496799945831299, -4.307300090789795, -5.09660005569458, -5.009900093078613, -5.221700191497803, -4.661499977111816, -4.591300010681152, -5.128300189971924, -5.371399879455566, -4.904600143432617, -5.138899803161621, -5.116499900817871, -5.07919979095459, -6.159599781036377, -5.777299880981445, -4.387700080871582, -3.966099977493286, -5.8069000244140625, -4.422599792480469, -4.026100158691406, -4.429100036621094, -3.5199999809265137, -3.2969000339508057, -3.447999954223633, -6.334499835968018, -5.697700023651123, -6.230299949645996, -5.137400150299072, -6.242400169372559, -5.934500217437744, -3.494999885559082, -3.490799903869629, -6.225399971008301, -5.121399879455566, -6.47599983215332, -6.734300136566162, -5.019000053405762, -6.703800201416016, -5.571400165557861, -7.1697998046875, -6.271599769592285, -7.234899997711182, -5.537799835205078, -3.6136999130249023, -3.8787999153137207, -5.274899959564209, -4.341100215911865, -4.911900043487549, -5.445199966430664, -4.048699855804443, -4.412300109863281, -4.817500114440918, -4.703100204467773, -4.946300029754639, -4.920499801635742, -4.815700054168701, -5.071800231933594, -5.169099807739258, -4.9583001136779785, -5.170000076293945, -5.112500190734863, -5.053100109100342, -5.143899917602539]}, \"token.table\": {\"Topic\": [1, 2, 3, 4, 5, 1, 2, 3, 4, 1, 2, 3, 4, 5, 1, 2, 3, 4, 5, 1, 2, 3, 4, 5, 1, 2, 3, 4, 5, 1, 2, 3, 4, 5, 1, 2, 3, 4, 1, 2, 3, 4, 5, 1, 2, 3, 4, 5, 1, 2, 3, 4, 1, 2, 3, 4, 1, 2, 3, 4, 1, 2, 3, 4, 5, 1, 2, 3, 4, 5, 1, 2, 3, 4, 5, 1, 2, 3, 4, 5, 1, 2, 3, 4, 5, 1, 2, 3, 4, 5, 1, 2, 3, 4, 5, 1, 2, 3, 4, 5, 1, 2, 3, 4, 5, 1, 2, 3, 4, 5, 1, 2, 3, 4, 5, 1, 2, 3, 4, 5, 1, 2, 3, 4, 5, 1, 2, 3, 4, 5, 1, 2, 3, 4, 5, 1, 2, 3, 4, 5, 1, 2, 3, 4, 1, 2, 3, 4, 5, 1, 2, 3, 4, 1, 2, 3, 4, 5, 1, 2, 3, 4, 5, 1, 2, 3, 4, 5, 1, 2, 3, 4, 5, 1, 2, 3, 4, 5, 1, 2, 3, 4, 5, 1, 2, 3, 4, 5, 1, 2, 3, 4, 5, 1, 2, 3, 4, 5, 1, 2, 3, 4, 5, 1, 2, 3, 4, 5, 1, 2, 3, 4, 5, 1, 2, 3, 4, 5, 1, 2, 3, 4, 5, 1, 2, 3, 4, 5, 1, 2, 3, 4, 5, 1, 2, 3, 4, 5, 1, 2, 3, 4, 5, 1, 2, 3, 4, 5, 1, 2, 3, 4, 5, 2, 3, 5, 1, 2, 3, 4, 1, 1, 2, 3, 4, 1, 2, 3, 4, 5, 1, 2, 3, 4, 5, 1, 2, 3, 4, 5, 2, 3, 5, 1, 2, 3, 4, 5, 1, 2, 3, 4, 5, 1, 2, 3, 4, 5, 1, 2, 3, 4, 5, 1, 2, 3, 4, 5, 1, 2, 3, 4, 5, 1, 2, 3, 4, 5, 1, 2, 3, 4, 5, 1, 2, 3, 4, 1, 2, 3, 4, 5, 1, 2, 3, 4, 5, 1, 2, 3, 4, 5, 1, 2, 3, 4, 1, 2, 3, 4, 5, 1, 2, 3, 5, 1, 2, 3, 4, 5, 1, 2, 3, 4, 5, 1, 2, 3, 4, 5, 1, 2, 3, 4, 5, 1, 2, 3, 4, 5, 1, 2, 3, 4, 5, 1, 2, 3, 4, 5, 1, 2, 3, 4, 1, 2, 3, 4, 5, 1, 2, 3, 4, 5, 1, 2, 3, 4, 5, 1, 2, 3, 4, 5, 1, 2, 3, 4, 5, 1, 2, 3, 4, 5, 1, 2, 3, 4, 5, 1, 2, 3, 4, 5, 1, 2, 3, 4, 5, 1, 2, 3, 4, 5, 1, 2, 3, 4, 1, 2, 3, 4, 5, 1, 2, 3, 4, 5, 1, 2, 3, 4, 5, 1, 2, 3, 4, 5, 1, 2, 3, 4, 5, 1, 2, 3, 4, 5, 1, 2, 3, 4, 5, 1, 2, 3, 4, 5, 1, 2, 3, 4, 5, 1, 2, 3, 4, 5, 1, 2, 3, 4, 5, 1, 2, 3, 4, 5, 1, 2, 3, 4, 5, 1, 2, 3, 4, 5, 1, 2, 3, 4, 5, 1, 2, 3, 4, 5, 1, 2, 3, 4, 5, 1, 2, 3, 4, 5, 1, 2, 3, 4, 5, 1, 2, 3, 4, 5, 1, 2, 3, 4, 5, 1, 2, 3, 4, 5, 1, 2, 3, 4, 5, 1, 2, 3, 4, 5, 1, 2, 3, 5, 1, 2, 3, 4, 5, 1, 2, 3, 4, 5, 1, 2, 3, 4, 1, 2, 3, 4, 1, 2, 3, 4, 5, 1, 2, 3, 4, 5, 1, 2, 3, 4, 5, 1, 2, 3, 4, 5, 1, 2, 3, 4, 5, 1, 2, 3, 4, 5, 1, 2, 3, 4, 5, 1, 2, 3, 4, 5, 1, 2, 3, 4, 5, 1, 2, 3, 4, 5, 1, 2, 3, 4, 5, 1, 2, 3, 4, 5, 1, 2, 3, 4, 5, 1, 2, 3, 4, 5, 1, 2, 3, 4, 5, 1, 2, 3, 4, 5, 1, 2, 3, 4, 1, 2, 3, 4, 5, 1, 2, 3, 4, 5, 1, 2, 3, 4, 5, 1, 2, 3, 4, 5, 1, 2, 3, 4, 5, 1, 2, 3, 4, 5, 1, 2, 3, 4, 5, 1, 2, 3, 4, 5, 1, 2, 3, 4, 5, 2, 3, 5, 1, 2, 3, 4, 5, 1, 2, 3, 4, 5, 1, 2, 3, 4, 5, 1, 2, 3, 4, 5, 1, 2, 3, 4, 5, 1, 2, 3, 4, 5, 1, 2, 3, 4, 5, 1, 2, 3, 4, 5, 1, 2, 3, 4, 5, 1, 2, 3, 4, 5, 1, 2, 3, 4, 5, 1, 2, 3, 4, 5, 1, 2, 3, 4, 5, 1, 2, 3, 4, 5, 1, 2, 3, 4, 5, 1, 2, 3, 4, 5, 1, 2, 3, 4, 5, 1, 2, 3, 4, 5, 1, 2, 3, 4, 5, 1, 2, 3, 4, 5, 1, 2, 3, 4, 5, 1, 2, 3, 4, 5, 1, 2, 3, 4, 5, 1, 2, 3, 4, 5, 1, 2, 3, 4, 5, 1, 2, 3, 4, 5, 1, 2, 3, 4, 5, 1, 2, 3, 5, 1, 2, 3, 4, 5, 1, 2, 3, 4, 5, 1, 2, 3, 4, 5, 1, 2, 3, 4, 5, 1, 2, 3, 4, 5, 1, 2, 3, 4, 5, 1, 2, 3, 4, 5, 1, 2, 3, 4, 5, 1, 2, 3, 4, 5, 1, 2, 3, 4, 5, 1, 2, 3, 4, 5, 1, 2, 3, 4, 5, 1, 2, 3, 4, 5, 1, 2, 3, 4, 5, 1, 2, 3, 4, 5, 1, 2, 3, 4, 5, 1, 2, 3, 4, 1, 2, 3, 4, 5, 1, 2, 3, 4, 5, 1, 2, 3, 4, 5, 1, 2, 3, 4, 5, 1, 2, 3, 4, 5, 1, 2, 3, 5, 1, 2, 3, 4, 5, 1, 2, 3, 4, 5, 1, 2, 3, 4, 1, 2, 3, 4, 5, 1, 2, 3, 4, 5, 2, 3, 5, 1, 2, 3, 4, 5, 1, 2, 3, 4, 5, 1, 2, 3, 4, 5, 1, 2, 3, 4, 5, 1, 2, 3, 4, 5, 1, 2, 3, 4, 5, 1, 2, 3, 4, 5, 1, 2, 3, 4, 5, 1, 2, 3, 4, 5, 1, 2, 3, 4, 5, 1, 2, 3, 4, 5, 1, 2, 3, 4, 5, 1, 2, 3, 4, 5, 1, 2, 3, 4, 5], \"Freq\": [0.35352063179016113, 0.4619625508785248, 0.07374050468206406, 0.08458469808101654, 0.026026058942079544, 0.310071736574173, 0.310071736574173, 0.1550358682870865, 0.20671449601650238, 0.2383546382188797, 0.0983685776591301, 0.06810132414102554, 0.5410271883010864, 0.05296769738197327, 0.4788016378879547, 0.09928638488054276, 0.25610318779945374, 0.0742328092455864, 0.09093519300222397, 0.23532535135746002, 0.15128058195114136, 0.4678492248058319, 0.09244924783706665, 0.05322835594415665, 0.9156639575958252, 0.018337730318307877, 0.037897974252700806, 0.025672821328043938, 0.00244503072462976, 0.2542727589607239, 0.15538890659809113, 0.28252530097961426, 0.2542727589607239, 0.04237879440188408, 0.36091533303260803, 0.12030511349439621, 0.45114418864250183, 0.060152556747198105, 0.3616406321525574, 0.3505633473396301, 0.054083190858364105, 0.21437795460224152, 0.019548142328858376, 0.20365750789642334, 0.2545718848705292, 0.4073150157928467, 0.10182875394821167, 0.050914376974105835, 0.39755359292030334, 0.19877679646015167, 0.12423549592494965, 0.2733180820941925, 0.5029523372650146, 0.15717260539531708, 0.09430356323719025, 0.2200416475534439, 0.28128889203071594, 0.22503110766410828, 0.45006221532821655, 0.028128888458013535, 0.36264246702194214, 0.12613651156425476, 0.23650595545768738, 0.22073888778686523, 0.03153412789106369, 0.28970420360565186, 0.5030187368392944, 0.0980093777179718, 0.08936148881912231, 0.01873708702623844, 0.32624971866607666, 0.47218647599220276, 0.06226634606719017, 0.11026332527399063, 0.028538743034005165, 0.30300429463386536, 0.5386742949485779, 0.03366714343428612, 0.10100143402814865, 0.02356700226664543, 0.21819593012332916, 0.5946908593177795, 0.03850516304373741, 0.1326289027929306, 0.012835054658353329, 0.12037928402423859, 0.36576780676841736, 0.12192260473966599, 0.04012642800807953, 0.351877897977829, 0.018988581374287605, 0.32280588150024414, 0.06329527497291565, 0.006329527124762535, 0.5886459946632385, 0.2957998812198639, 0.39506158232688904, 0.24815426766872406, 0.0416899174451828, 0.017867106944322586, 0.0841006487607956, 0.252301961183548, 0.063075490295887, 0.0841006487607956, 0.5256290435791016, 0.661666989326477, 0.1371021717786789, 0.10729735344648361, 0.05960964038968086, 0.03576578199863434, 0.287913054227829, 0.1373123824596405, 0.08563567698001862, 0.44589611887931824, 0.04134136438369751, 0.43217456340789795, 0.16392828524112701, 0.1788308471441269, 0.19373342394828796, 0.037256427109241486, 0.3701725900173187, 0.14237406849861145, 0.3891558051109314, 0.05694963037967682, 0.037966419011354446, 0.3386326730251312, 0.39485353231430054, 0.08759995549917221, 0.11897904425859451, 0.061450716108083725, 0.1588873416185379, 0.39521554112434387, 0.10681501775979996, 0.03471488133072853, 0.30575796961784363, 0.024134717881679535, 0.33386358618736267, 0.06033679470419884, 0.008044905960559845, 0.5711883306503296, 0.27290791273117065, 0.15998050570487976, 0.3293716311454773, 0.22585482895374298, 0.5900648832321167, 0.1833985298871994, 0.09834413975477219, 0.09568618983030319, 0.034553349018096924, 0.5225521922111511, 0.17418405413627625, 0.09953375160694122, 0.19906750321388245, 0.2613997459411621, 0.18218770623207092, 0.45942986011505127, 0.07921204715967178, 0.015842409804463387, 0.4289201498031616, 0.26900485157966614, 0.15619635581970215, 0.12644466757774353, 0.018594805151224136, 0.21259872615337372, 0.5628513097763062, 0.05353205278515816, 0.14071282744407654, 0.029060257598757744, 0.16641424596309662, 0.6437603831291199, 0.04817254841327667, 0.1270003467798233, 0.013137967325747013, 0.2221374809741974, 0.5650018453598022, 0.038632605224847794, 0.15935949981212616, 0.01448722742497921, 0.5876360535621643, 0.16218754649162292, 0.10107339918613434, 0.12457884103059769, 0.02350544184446335, 0.30679649114608765, 0.24105438590049744, 0.04382807016372681, 0.28488245606422424, 0.08765614032745361, 0.35875794291496277, 0.34058764576911926, 0.12507933378219604, 0.12000855058431625, 0.05535605549812317, 0.24637307226657867, 0.24637307226657867, 0.2155764400959015, 0.12318653613328934, 0.15398317575454712, 0.3134322762489319, 0.38992467522621155, 0.1268654465675354, 0.14179079234600067, 0.029850691556930542, 0.5042497515678406, 0.32489103078842163, 0.11878582835197449, 0.031466443091630936, 0.02123984880745411, 0.6139770746231079, 0.20875220000743866, 0.12279541045427322, 0.028652261942625046, 0.024559082463383675, 0.762241780757904, 0.10067344456911087, 0.052733708173036575, 0.071909599006176, 0.014381919987499714, 0.6402471661567688, 0.14327208697795868, 0.12088582664728165, 0.06715879589319229, 0.03134077042341232, 0.6242324113845825, 0.12484647333621979, 0.03567042201757431, 0.18429717421531677, 0.03567042201757431, 0.635033905506134, 0.14515060186386108, 0.054431475698947906, 0.14515060186386108, 0.03628765046596527, 0.31772440671920776, 0.5332244634628296, 0.04880983754992485, 0.08472651243209839, 0.015655985102057457, 0.4804786443710327, 0.0987786054611206, 0.2951163351535797, 0.052438024431467056, 0.07438882440328598, 0.1875687837600708, 0.5439494848251343, 0.07815365493297577, 0.15005502104759216, 0.03751375526189804, 0.22554200887680054, 0.24433717131614685, 0.13156616687774658, 0.03759033605456352, 0.37590333819389343, 0.3876279294490814, 0.07047780603170395, 0.5285835266113281, 0.6867126822471619, 0.18598467111587524, 0.07153256982564926, 0.05722605437040329, 1.0009363889694214, 0.31110620498657227, 0.5876450538635254, 0.06913471221923828, 0.03456735610961914, 0.2868227958679199, 0.22536076605319977, 0.2714572846889496, 0.18950791656970978, 0.025609176605939865, 0.405017226934433, 0.23919706046581268, 0.149064838886261, 0.08955445140600204, 0.11670967191457748, 0.30586493015289307, 0.21847495436668396, 0.1747799664735794, 0.06311498582363129, 0.24274994432926178, 0.4024246633052826, 0.04024246707558632, 0.5231520533561707, 0.6114187240600586, 0.12097590416669846, 0.1504024714231491, 0.08827970921993256, 0.02942657098174095, 0.4540448784828186, 0.18493734300136566, 0.20034879446029663, 0.13870300352573395, 0.021338924765586853, 0.5067152976989746, 0.21002013981342316, 0.1700163036584854, 0.04167066514492035, 0.07167354226112366, 0.6323970556259155, 0.06819967925548553, 0.2603987753391266, 0.024799883365631104, 0.006199970841407776, 0.16270899772644043, 0.027577795088291168, 0.00827333889901638, 0.7446004748344421, 0.055155590176582336, 0.45510831475257874, 0.2209583818912506, 0.15060347318649292, 0.14290840923786163, 0.029680976644158363, 0.33924031257629395, 0.16962015628814697, 0.3099232316017151, 0.06701043248176575, 0.11517417430877686, 0.22276602685451508, 0.27845752239227295, 0.3898405432701111, 0.07425533980131149, 0.037127669900655746, 0.677054226398468, 0.169263556599617, 0.0846317782998085, 0.0846317782998085, 0.4134591817855835, 0.2957284450531006, 0.10511673986911774, 0.15276966989040375, 0.032235801219940186, 0.28493666648864746, 0.28881335258483887, 0.05524282529950142, 0.3353336453437805, 0.035859376192092896, 0.31170132756233215, 0.4815385937690735, 0.07992342114448547, 0.10789661109447479, 0.01998085528612137, 0.7198958992958069, 0.2399653047323227, 0.03428075835108757, 0.03428075835108757, 0.07007128745317459, 0.3277527689933777, 0.04972800984978676, 0.013562183827161789, 0.5402269959449768, 0.012387414462864399, 0.3778161406517029, 0.049549657851457596, 0.5512399673461914, 0.4780712425708771, 0.18387354910373688, 0.07354941964149475, 0.22064825892448425, 0.036774709820747375, 0.19810116291046143, 0.5852988958358765, 0.04502299427986145, 0.15307818353176117, 0.01800919696688652, 0.37036073207855225, 0.4639991223812103, 0.058698683977127075, 0.08525285124778748, 0.020963815972208977, 0.3973889648914337, 0.44378462433815, 0.04437846317887306, 0.09480853378772736, 0.018154826015233994, 0.20453697443008423, 0.545431911945343, 0.07218951731920242, 0.16443167626857758, 0.012031586840748787, 0.012453303672373295, 0.39103373885154724, 0.03985057398676872, 0.002490660874173045, 0.5529267191886902, 0.012541734613478184, 0.38879379630088806, 0.037625204771757126, 0.004180578514933586, 0.5601974725723267, 0.6201913356781006, 0.18240921199321747, 0.10944552719593048, 0.07296368479728699, 0.2512136399745941, 0.21353159844875336, 0.29517602920532227, 0.1821298897266388, 0.056523069739341736, 0.23382394015789032, 0.32150793075561523, 0.11691197007894516, 0.05845598503947258, 0.26305192708969116, 0.023544607684016228, 0.07787831127643585, 0.8150056004524231, 0.043466966599226, 0.03984471783041954, 0.4343309998512268, 0.222496896982193, 0.2502201497554779, 0.06753100454807281, 0.025590697303414345, 0.7166353464126587, 0.1343691200017929, 0.08957941830158234, 0.04478970915079117, 0.04478970915079117, 0.34053128957748413, 0.34053128957748413, 0.15900841355323792, 0.13227248191833496, 0.028143081814050674, 0.15546108782291412, 0.6359772086143494, 0.03768753632903099, 0.15546108782291412, 0.014132826589047909, 0.09411785751581192, 0.1636832356452942, 0.6424567103385925, 0.04501288756728172, 0.05728913098573685, 0.21490444242954254, 0.23444122076034546, 0.5079559683799744, 0.019536767154932022, 0.019536767154932022, 0.6153939962387085, 0.16246402263641357, 0.11323249340057373, 0.0984630435705185, 0.00984630361199379, 0.6417402029037476, 0.1449090838432312, 0.10350648313760757, 0.10350648313760757, 0.7461846470832825, 0.06218205392360687, 0.09327308088541031, 0.06218205392360687, 0.031091026961803436, 0.4749673008918762, 0.3198204040527344, 0.14970315992832184, 0.03810625895857811, 0.017692191526293755, 0.2007678598165512, 0.35482239723205566, 0.3180480897426605, 0.10237172991037369, 0.0238536074757576, 0.4970220923423767, 0.11928530037403107, 0.178927943110466, 0.19880883395671844, 0.019880883395671844, 0.6057210564613342, 0.191811665892601, 0.12492997199296951, 0.031547971069812775, 0.045429080724716187, 0.41827449202537537, 0.17522309720516205, 0.3024011552333832, 0.0706544741988182, 0.033914148807525635, 0.4821491539478302, 0.1470554918050766, 0.2772357761859894, 0.0819653570652008, 0.01205372903496027, 0.6814551949501038, 0.15576119720935822, 0.07788059860467911, 0.038940299302339554, 0.019470149651169777, 0.24951449036598206, 0.48336440324783325, 0.13986238837242126, 0.10070091485977173, 0.02685357816517353, 0.35040348768234253, 0.47825339436531067, 0.04971941187977791, 0.10180641710758209, 0.018940728157758713, 0.6660764217376709, 0.19840574264526367, 0.08503103256225586, 0.025981703773140907, 0.025981703773140907, 0.2101365178823471, 0.5679365396499634, 0.06436613947153091, 0.13441164791584015, 0.022717460989952087, 0.3298945128917694, 0.22339312732219696, 0.29352816939353943, 0.08831821382045746, 0.06753745675086975, 0.28121402859687805, 0.2556491196155548, 0.07669473439455032, 0.1278245598077774, 0.23008419573307037, 0.13255245983600616, 0.07647257298231125, 0.03568720072507858, 0.6933513283729553, 0.061178058385849, 0.18100883066654205, 0.18100883066654205, 0.2941393554210663, 0.09050441533327103, 0.2715132534503937, 0.27034544944763184, 0.08018720895051956, 0.14891910552978516, 0.43071988224983215, 0.07102295756340027, 0.35646307468414307, 0.28007814288139343, 0.07638494670391083, 0.25461649894714355, 0.025461649522185326, 0.3391776978969574, 0.26209187507629395, 0.28171372413635254, 0.089699886739254, 0.026629654690623283, 0.1692810356616974, 0.2011745572090149, 0.5004830360412598, 0.04661361873149872, 0.08341384679079056, 0.16561244428157806, 0.6387908458709717, 0.03312248736619949, 0.1514170914888382, 0.009463568218052387, 0.14630061388015747, 0.7315030694007874, 0.05626946687698364, 0.05626946687698364, 0.011253893375396729, 0.20822440087795258, 0.5762489438056946, 0.03873942419886589, 0.1646425426006317, 0.014527283608913422, 0.09334198385477066, 0.254207968711853, 0.07745398581027985, 0.02383199706673622, 0.5521079301834106, 0.018855785951018333, 0.3205483555793762, 0.08799366652965546, 0.5656735897064209, 0.40687862038612366, 0.24841010570526123, 0.13277092576026917, 0.0728098601102829, 0.13705384731292725, 0.1727476418018341, 0.1151650920510292, 0.6046167612075806, 0.10076946020126343, 0.01439563650637865, 0.40027034282684326, 0.15395012497901917, 0.2463202029466629, 0.20013517141342163, 0.3005213439464569, 0.6326764822006226, 0.03163382411003113, 0.015816912055015564, 0.2496451884508133, 0.5712220668792725, 0.04231274500489235, 0.12270695716142654, 0.01269382331520319, 0.2336382418870926, 0.21027441322803497, 0.28036588430404663, 0.21027441322803497, 0.07009147107601166, 0.2725469172000885, 0.02747448906302452, 0.01758367195725441, 0.6231213808059692, 0.06044387444853783, 0.1992655247449875, 0.5634404420852661, 0.09619715064764023, 0.12368205189704895, 0.017178062349557877, 0.19325341284275055, 0.6291971802711487, 0.035954125225543976, 0.12583942711353302, 0.013482796959578991, 0.2293003499507904, 0.0636945366859436, 0.0636945366859436, 0.5902360677719116, 0.050955630838871, 0.2787747085094452, 0.21682478487491608, 0.19322480261325836, 0.27287471294403076, 0.03834995999932289, 0.612070620059967, 0.1677526831626892, 0.08160941302776337, 0.1133464053273201, 0.027203137055039406, 0.24777323007583618, 0.570345938205719, 0.03739973157644272, 0.13089905679225922, 0.01402489934116602, 0.2846229076385498, 0.4306992292404175, 0.1566178947687149, 0.10541589558124542, 0.022589119151234627, 0.32420557737350464, 0.08463773876428604, 0.1821863204240799, 0.35719993710517883, 0.05164336785674095, 0.7977989912033081, 0.07167725265026093, 0.07479365170001984, 0.04362963140010834, 0.01246560923755169, 0.6585356593132019, 0.0759848803281784, 0.10131318122148514, 0.12664146721363068, 0.05065659061074257, 0.5338505506515503, 0.17257404327392578, 0.09031911939382553, 0.1338658481836319, 0.0693521797657013, 0.10708531737327576, 0.1245686337351799, 0.5980751514434814, 0.05754925310611725, 0.1129130944609642, 0.07865098863840103, 0.39325493574142456, 0.07865098863840103, 0.05243398994207382, 0.39325493574142456, 0.37608423829078674, 0.5641263723373413, 0.031340353190898895, 0.031340353190898895, 0.2681724727153778, 0.1255275458097458, 0.5192275643348694, 0.03994058072566986, 0.05135217681527138, 0.5501113533973694, 0.1768985539674759, 0.14885365962982178, 0.04530328884720802, 0.07982008159160614, 0.3180542588233948, 0.17992784082889557, 0.17447547614574432, 0.30351462960243225, 0.023626888170838356, 0.38633063435554504, 0.11636465042829514, 0.40029439330101013, 0.06050961837172508, 0.032582104206085205, 0.4024757444858551, 0.24335741996765137, 0.12167870998382568, 0.1965579241514206, 0.037439603358507156, 0.19578711688518524, 0.6265187859535217, 0.043508246541023254, 0.11747226864099503, 0.013052474707365036, 0.6714001893997192, 0.1024169772863388, 0.1365559697151184, 0.0796576514840126, 0.0227593295276165, 0.2486179620027542, 0.17758426070213318, 0.2131011039018631, 0.28413480520248413, 0.10655055195093155, 0.22504088282585144, 0.5420339703559875, 0.08227301388978958, 0.08227301388978958, 0.06775424629449844, 0.3330191373825073, 0.07685057073831558, 0.5891876816749573, 0.8357809782028198, 0.08517513424158096, 0.06654307246208191, 0.007985169067978859, 0.002661722945049405, 0.3443222939968109, 0.5164834856987, 0.06043955311179161, 0.06043955311179161, 0.018315015360713005, 0.3758408725261688, 0.4860011339187622, 0.045360106974840164, 0.07560017704963684, 0.015120035037398338, 0.16904687881469727, 0.6583930850028992, 0.044486019760370255, 0.11121504753828049, 0.017794407904148102, 0.30453360080718994, 0.42320165038108826, 0.14797760546207428, 0.0807800441980362, 0.04360692575573921, 0.6414857506752014, 0.16037143766880035, 0.05551319196820259, 0.06168132275342941, 0.08018571883440018, 0.17730826139450073, 0.6362237930297852, 0.048672858625650406, 0.11472887545824051, 0.020859796553850174, 0.23555263876914978, 0.5738918781280518, 0.042827751487493515, 0.13276603817939758, 0.017131101340055466, 0.21227706968784332, 0.23586341738700867, 0.37738147377967834, 0.11793170869350433, 0.04717268422245979, 0.39647260308265686, 0.11968983709812164, 0.3815113604068756, 0.07480615377426147, 0.022441845387220383, 0.22235552966594696, 0.5975804924964905, 0.032426849007606506, 0.13433979451656342, 0.009264813736081123, 0.6170053482055664, 0.14648328721523285, 0.14648328721523285, 0.06214442476630211, 0.02663332410156727, 0.31059226393699646, 0.23294419050216675, 0.09706007689237595, 0.07764806598424911, 0.29118025302886963, 0.6016688942909241, 0.0920199528336525, 0.12033378332853317, 0.05308843404054642, 0.1344906985759735, 0.3992100656032562, 0.4611283540725708, 0.06680658459663391, 0.0244414322078228, 0.0488828644156456, 0.3985108733177185, 0.2413516491651535, 0.14593355357646942, 0.05051546171307564, 0.1683848798274994, 0.44480475783348083, 0.20360282063484192, 0.18373912572860718, 0.1028655394911766, 0.06455699354410172, 0.3842170238494873, 0.4263229966163635, 0.06666779518127441, 0.10526493936777115, 0.017544155940413475, 0.2442219853401184, 0.47428616881370544, 0.07786788046360016, 0.17343300580978394, 0.03185504302382469, 0.21078704297542572, 0.5785431265830994, 0.03587864339351654, 0.16145390272140503, 0.013454492203891277, 0.18858183920383453, 0.262485533952713, 0.43832534551620483, 0.07220475375652313, 0.03822604939341545, 0.5458040237426758, 0.20504529774188995, 0.17849266529083252, 0.04351680725812912, 0.02729020081460476, 0.7008786201477051, 0.03185812011361122, 0.08495498448610306, 0.08495498448610306, 0.09557435661554337, 0.2114953249692917, 0.5598405599594116, 0.06842496246099472, 0.11611508578062057, 0.04561664164066315, 0.15551550686359406, 0.6566210389137268, 0.05615837872028351, 0.11663663387298584, 0.012959626503288746, 0.6759257316589355, 0.14081786572933197, 0.08449071645736694, 0.08449071645736694, 0.028163572773337364, 0.5818601846694946, 0.12891513109207153, 0.229956716299057, 0.04877869784832001, 0.010452577844262123, 0.23109428584575653, 0.5866239666938782, 0.08888241648674011, 0.07110593467950821, 0.2531227767467499, 0.07941106706857681, 0.5856566429138184, 0.039705533534288406, 0.039705533534288406, 0.2632935643196106, 0.15358790755271912, 0.46076372265815735, 0.08776452392339706, 0.04388226196169853, 0.28817451000213623, 0.1822279840707779, 0.4237860143184662, 0.088995061814785, 0.02118930034339428, 0.281605064868927, 0.25600460171699524, 0.3584064543247223, 0.06912124156951904, 0.03328059986233711, 0.1470063179731369, 0.24151037633419037, 0.4410189688205719, 0.1260054111480713, 0.05250225588679314, 0.4335610568523407, 0.12665829062461853, 0.355617493391037, 0.04384325444698334, 0.038971781730651855, 0.11480030417442322, 0.12478294223546982, 0.6526147723197937, 0.07362193614244461, 0.034939222037792206, 0.13784953951835632, 0.34762057662010193, 0.14384299516677856, 0.10188878327608109, 0.2697056233882904, 0.36838963627815247, 0.2156248837709427, 0.32965025305747986, 0.05701268091797829, 0.02923727221786976, 0.37457218766212463, 0.24971480667591095, 0.08323826640844345, 0.24971480667591095, 0.041619133204221725, 0.370687335729599, 0.09482699632644653, 0.40516987442970276, 0.08620635420084, 0.04310317710042, 0.6548594236373901, 0.13973115384578705, 0.0792505070567131, 0.08342158049345016, 0.04379633069038391, 0.6618650555610657, 0.12256760150194168, 0.08579731732606888, 0.08579731732606888, 0.036770280450582504, 0.30659690499305725, 0.18979808688163757, 0.13139867782592773, 0.17519822716712952, 0.20439793169498444, 0.2842235267162323, 0.09744806587696075, 0.4547576308250427, 0.11368940770626068, 0.04872403293848038, 0.24963608384132385, 0.14978164434432983, 0.4992721676826477, 0.04992721602320671, 0.04992721602320671, 0.664003849029541, 0.09485769271850586, 0.18971538543701172, 0.06323845684528351, 0.7221353650093079, 0.12329140305519104, 0.07045222818851471, 0.07045222818851471, 0.017613057047128677, 0.4376915991306305, 0.31819483637809753, 0.12227574735879898, 0.09865429997444153, 0.02362145110964775, 0.4762124717235565, 0.14832846820354462, 0.1014879047870636, 0.054647330194711685, 0.2263960838317871, 0.4745386838912964, 0.1095089241862297, 0.1095089241862297, 0.07300595194101334, 0.2190178483724594, 0.6324949264526367, 0.16670408844947815, 0.06373979896306992, 0.06373979896306992, 0.0735459178686142, 0.050490498542785645, 0.3281882405281067, 0.050490498542785645, 0.5806407332420349, 0.2576591372489929, 0.332809716463089, 0.18608714640140533, 0.1753513514995575, 0.046521786600351334, 0.4579533040523529, 0.25504475831985474, 0.1366814523935318, 0.07468161731958389, 0.07468161731958389, 0.7659716010093689, 0.11489573866128922, 0.09574645012617111, 0.019149290397763252, 0.23838619887828827, 0.0736830085515976, 0.03467435762286186, 0.5894640684127808, 0.060680124908685684, 0.10062727332115173, 0.3521954417228699, 0.07043908536434174, 0.0301881805062294, 0.44275999069213867, 0.2593134641647339, 0.043218910694122314, 0.691502571105957, 0.4588319957256317, 0.17778410017490387, 0.16394461691379547, 0.1713966429233551, 0.02874353714287281, 0.5810192227363586, 0.18193531036376953, 0.15259091556072235, 0.055754370987415314, 0.029344405978918076, 0.39531847834587097, 0.33269375562667847, 0.19700689613819122, 0.041749805212020874, 0.03261703625321388, 0.27049902081489563, 0.19423051178455353, 0.44439125061035156, 0.061014819890260696, 0.02847358211874962, 0.2726931571960449, 0.11473065614700317, 0.5004916787147522, 0.055702563375234604, 0.056533947587013245, 0.37552332878112793, 0.4478203356266022, 0.08352761715650558, 0.05615302175283432, 0.037201374769210815, 0.6054004430770874, 0.13722410798072815, 0.16144011914730072, 0.06457605212926865, 0.03228802606463432, 0.35826820135116577, 0.4017722010612488, 0.13179151713848114, 0.08188987523317337, 0.02559058554470539, 0.461886465549469, 0.14433951675891876, 0.11134763062000275, 0.2474391907453537, 0.03574121370911598, 0.36009228229522705, 0.18004614114761353, 0.19129902124404907, 0.19129902124404907, 0.07877018302679062, 0.37537881731987, 0.07902711629867554, 0.4050139784812927, 0.12841907143592834, 0.009878389537334442, 0.7642719745635986, 0.06253134459257126, 0.048635486513376236, 0.0555834136903286, 0.06253134459257126, 0.41686612367630005, 0.3625684380531311, 0.11822883784770966, 0.07794345915317535, 0.024521537125110626, 0.03390675410628319, 0.07346463203430176, 0.8293026685714722, 0.029668409377336502, 0.03390675410628319], \"Term\": [\"affected\", \"affected\", \"affected\", \"affected\", \"affected\", \"almost\", \"almost\", \"almost\", \"almost\", \"another\", \"another\", \"another\", \"another\", \"another\", \"app\", \"app\", \"app\", \"app\", \"app\", \"array\", \"array\", \"array\", \"array\", \"array\", \"babel\", \"babel\", \"babel\", \"babel\", \"babel\", \"bar\", \"bar\", \"bar\", \"bar\", \"bar\", \"basic\", \"basic\", \"basic\", \"basic\", \"behavior\", \"behavior\", \"behavior\", \"behavior\", \"behavior\", \"benefit\", \"benefit\", \"benefit\", \"benefit\", \"benefit\", \"blob\", \"blob\", \"blob\", \"blob\", \"blob_master\", \"blob_master\", \"blob_master\", \"blob_master\", \"boolean\", \"boolean\", \"boolean\", \"boolean\", \"bootstrap\", \"bootstrap\", \"bootstrap\", \"bootstrap\", \"bootstrap\", \"browser\", \"browser\", \"browser\", \"browser\", \"browser\", \"bug\", \"bug\", \"bug\", \"bug\", \"bug\", \"bug_current\", \"bug_current\", \"bug_current\", \"bug_current\", \"bug_current\", \"bug_please\", \"bug_please\", \"bug_please\", \"bug_please\", \"bug_please\", \"build\", \"build\", \"build\", \"build\", \"build\", \"build_main\", \"build_main\", \"build_main\", \"build_main\", \"build_main\", \"button\", \"button\", \"button\", \"button\", \"button\", \"call_stack\", \"call_stack\", \"call_stack\", \"call_stack\", \"call_stack\", \"callback\", \"callback\", \"callback\", \"callback\", \"callback\", \"case\", \"case\", \"case\", \"case\", \"case\", \"check\", \"check\", \"check\", \"check\", \"check\", \"checked\", \"checked\", \"checked\", \"checked\", \"checked\", \"child\", \"child\", \"child\", \"child\", \"child\", \"chrome\", \"chrome\", \"chrome\", \"chrome\", \"chrome\", \"chrome_extension\", \"chrome_extension\", \"chrome_extension\", \"chrome_extension\", \"chrome_extension\", \"cjs\", \"cjs\", \"cjs\", \"cjs\", \"classname\", \"classname\", \"classname\", \"classname\", \"classname\", \"cli\", \"cli\", \"cli\", \"cli\", \"client\", \"client\", \"client\", \"client\", \"client\", \"code\", \"code\", \"code\", \"code\", \"code\", \"codesandbox\", \"codesandbox\", \"codesandbox\", \"codesandbox\", \"codesandbox\", \"codesandbox_http\", \"codesandbox_http\", \"codesandbox_http\", \"codesandbox_http\", \"codesandbox_http\", \"codesandbox_new\", \"codesandbox_new\", \"codesandbox_new\", \"codesandbox_new\", \"codesandbox_new\", \"com\", \"com\", \"com\", \"com\", \"com\", \"com_facebook\", \"com_facebook\", \"com_facebook\", \"com_facebook\", \"com_facebook\", \"component\", \"component\", \"component\", \"component\", \"component\", \"componentwillmount\", \"componentwillmount\", \"componentwillmount\", \"componentwillmount\", \"componentwillmount\", \"console\", \"console\", \"console\", \"console\", \"console\", \"const\", \"const\", \"const\", \"const\", \"const\", \"container\", \"container\", \"container\", \"container\", \"container\", \"core\", \"core\", \"core\", \"core\", \"core\", \"could\", \"could\", \"could\", \"could\", \"could\", \"createelement\", \"createelement\", \"createelement\", \"createelement\", \"createelement\", \"createelement_div\", \"createelement_div\", \"createelement_div\", \"createelement_div\", \"createelement_div\", \"current\", \"current\", \"current\", \"current\", \"current\", \"data\", \"data\", \"data\", \"data\", \"data\", \"demo\", \"demo\", \"demo\", \"demo\", \"demo\", \"describe\", \"describe\", \"describe\", \"describe\", \"describe\", \"describe_bug\", \"describe_bug\", \"describe_bug\", \"description\", \"description\", \"description\", \"description\", \"description_provided\", \"developer_tool\", \"developer_tool\", \"developer_tool\", \"developer_tool\", \"development\", \"development\", \"development\", \"development\", \"development\", \"div\", \"div\", \"div\", \"div\", \"div\", \"div_div\", \"div_div\", \"div_div\", \"div_div\", \"div_div\", \"div_unknown\", \"div_unknown\", \"div_unknown\", \"document\", \"document\", \"document\", \"document\", \"document\", \"dom\", \"dom\", \"dom\", \"dom\", \"dom\", \"element\", \"element\", \"element\", \"element\", \"element\", \"env\", \"env\", \"env\", \"env\", \"env\", \"equal\", \"equal\", \"equal\", \"equal\", \"equal\", \"error\", \"error\", \"error\", \"error\", \"error\", \"event\", \"event\", \"event\", \"event\", \"event\", \"event_handler\", \"event_handler\", \"event_handler\", \"event_handler\", \"event_handler\", \"exact\", \"exact\", \"exact\", \"exact\", \"example\", \"example\", \"example\", \"example\", \"example\", \"expected\", \"expected\", \"expected\", \"expected\", \"expected\", \"expected_behavior\", \"expected_behavior\", \"expected_behavior\", \"expected_behavior\", \"expected_behavior\", \"experimental\", \"experimental\", \"experimental\", \"experimental\", \"extension\", \"extension\", \"extension\", \"extension\", \"extension\", \"extension_fmkadmapgofadopljbjfkapdkoienihi\", \"extension_fmkadmapgofadopljbjfkapdkoienihi\", \"extension_fmkadmapgofadopljbjfkapdkoienihi\", \"extension_fmkadmapgofadopljbjfkapdkoienihi\", \"far\", \"far\", \"far\", \"far\", \"far\", \"faster\", \"faster\", \"faster\", \"faster\", \"faster\", \"feature\", \"feature\", \"feature\", \"feature\", \"feature\", \"feature_report\", \"feature_report\", \"feature_report\", \"feature_report\", \"feature_report\", \"fixed\", \"fixed\", \"fixed\", \"fixed\", \"fixed\", \"fmkadmapgofadopljbjfkapdkoienihi\", \"fmkadmapgofadopljbjfkapdkoienihi\", \"fmkadmapgofadopljbjfkapdkoienihi\", \"fmkadmapgofadopljbjfkapdkoienihi\", \"fmkadmapgofadopljbjfkapdkoienihi\", \"fmkadmapgofadopljbjfkapdkoienihi_build\", \"fmkadmapgofadopljbjfkapdkoienihi_build\", \"fmkadmapgofadopljbjfkapdkoienihi_build\", \"fmkadmapgofadopljbjfkapdkoienihi_build\", \"fmkadmapgofadopljbjfkapdkoienihi_build\", \"follow\", \"follow\", \"follow\", \"follow\", \"foo\", \"foo\", \"foo\", \"foo\", \"foo\", \"foreach\", \"foreach\", \"foreach\", \"foreach\", \"foreach\", \"framework\", \"framework\", \"framework\", \"framework\", \"framework\", \"function\", \"function\", \"function\", \"function\", \"function\", \"gaearon\", \"gaearon\", \"gaearon\", \"gaearon\", \"gaearon\", \"get\", \"get\", \"get\", \"get\", \"get\", \"get_fixed\", \"get_fixed\", \"get_fixed\", \"get_fixed\", \"get_fixed\", \"handle\", \"handle\", \"handle\", \"handle\", \"handle\", \"handlechange\", \"handlechange\", \"handlechange\", \"handlechange\", \"handlechange\", \"hello\", \"hello\", \"hello\", \"hello\", \"hello\", \"hello_world\", \"hello_world\", \"hello_world\", \"hello_world\", \"hey\", \"hey\", \"hey\", \"hey\", \"hey\", \"hook\", \"hook\", \"hook\", \"hook\", \"hook\", \"http\", \"http\", \"http\", \"http\", \"http\", \"http_facebook\", \"http_facebook\", \"http_facebook\", \"http_facebook\", \"http_facebook\", \"import\", \"import\", \"import\", \"import\", \"import\", \"index\", \"index\", \"index\", \"index\", \"index\", \"input\", \"input\", \"input\", \"input\", \"input\", \"installed\", \"installed\", \"installed\", \"installed\", \"installed\", \"issue\", \"issue\", \"issue\", \"issue\", \"issue\", \"issue_work\", \"issue_work\", \"issue_work\", \"issue_work\", \"issue_work\", \"item\", \"item\", \"item\", \"item\", \"item\", \"jsfiddle\", \"jsfiddle\", \"jsfiddle\", \"jsfiddle\", \"jsfiddle\", \"key\", \"key\", \"key\", \"key\", \"key\", \"layout\", \"layout\", \"layout\", \"layout\", \"layout\", \"lead\", \"lead\", \"lead\", \"lead\", \"lead\", \"length\", \"length\", \"length\", \"length\", \"length\", \"lib\", \"lib\", \"lib\", \"lib\", \"lib\", \"lifecycle\", \"lifecycle\", \"lifecycle\", \"lifecycle\", \"lifecycle\", \"like\", \"like\", \"like\", \"like\", \"like\", \"line\", \"line\", \"line\", \"line\", \"line\", \"link_jsfiddle\", \"link_jsfiddle\", \"link_jsfiddle\", \"link_jsfiddle\", \"link_jsfiddle\", \"localhost\", \"localhost\", \"localhost\", \"localhost\", \"localhost\", \"luktwrdm\", \"luktwrdm\", \"luktwrdm\", \"luktwrdm\", \"luktwrdm\", \"main\", \"main\", \"main\", \"main\", \"main\", \"main_chrome\", \"main_chrome\", \"main_chrome\", \"main_chrome\", \"map\", \"map\", \"map\", \"map\", \"map\", \"markup\", \"markup\", \"markup\", \"markup\", \"markup\", \"master\", \"master\", \"master\", \"master\", \"memo\", \"memo\", \"memo\", \"memo\", \"minimal_demo\", \"minimal_demo\", \"minimal_demo\", \"minimal_demo\", \"minimal_demo\", \"mixin\", \"mixin\", \"mixin\", \"mixin\", \"mixin\", \"module\", \"module\", \"module\", \"module\", \"module\", \"much\", \"much\", \"much\", \"much\", \"much\", \"much_faster\", \"much_faster\", \"much_faster\", \"much_faster\", \"much_faster\", \"multiple\", \"multiple\", \"multiple\", \"multiple\", \"multiple\", \"name\", \"name\", \"name\", \"name\", \"name\", \"native\", \"native\", \"native\", \"native\", \"native\", \"net_luktwrdm\", \"net_luktwrdm\", \"net_luktwrdm\", \"net_luktwrdm\", \"net_luktwrdm\", \"new\", \"new\", \"new\", \"new\", \"new\", \"node_modules\", \"node_modules\", \"node_modules\", \"node_modules\", \"node_modules\", \"npm\", \"npm\", \"npm\", \"npm\", \"npm\", \"npm_install\", \"npm_install\", \"npm_install\", \"npm_install\", \"npm_install\", \"null\", \"null\", \"null\", \"null\", \"null\", \"object\", \"object\", \"object\", \"object\", \"object\", \"occurred\", \"occurred\", \"occurred\", \"occurred\", \"occurred\", \"official_build\", \"official_build\", \"official_build\", \"official_build\", \"onchange\", \"onchange\", \"onchange\", \"onchange\", \"onchange\", \"onclick\", \"onclick\", \"onclick\", \"onclick\", \"onclick\", \"one\", \"one\", \"one\", \"one\", \"one\", \"option\", \"option\", \"option\", \"option\", \"option\", \"output\", \"output\", \"output\", \"output\", \"output\", \"paste\", \"paste\", \"paste\", \"paste\", \"paste\", \"path\", \"path\", \"path\", \"path\", \"path\", \"perform\", \"perform\", \"perform\", \"perform\", \"perform\", \"please\", \"please\", \"please\", \"please\", \"please\", \"please_remove\", \"please_remove\", \"please_remove\", \"plugin\", \"plugin\", \"plugin\", \"plugin\", \"plugin\", \"previous\", \"previous\", \"previous\", \"previous\", \"previous\", \"previous_version\", \"previous_version\", \"previous_version\", \"previous_version\", \"previous_version\", \"problem_bug\", \"problem_bug\", \"problem_bug\", \"problem_bug\", \"problem_bug\", \"prop\", \"prop\", \"prop\", \"prop\", \"prop\", \"proptypes\", \"proptypes\", \"proptypes\", \"proptypes\", \"proptypes\", \"provide\", \"provide\", \"provide\", \"provide\", \"provide\", \"provide_step\", \"provide_step\", \"provide_step\", \"provide_step\", \"provide_step\", \"public\", \"public\", \"public\", \"public\", \"public\", \"react_addons\", \"react_addons\", \"react_addons\", \"react_addons\", \"react_addons\", \"react_paste\", \"react_paste\", \"react_paste\", \"react_paste\", \"react_paste\", \"reactdom\", \"reactdom\", \"reactdom\", \"reactdom\", \"reactdom\", \"reactelement\", \"reactelement\", \"reactelement\", \"reactelement\", \"reactelement\", \"reactid\", \"reactid\", \"reactid\", \"reactid\", \"reactid\", \"ref\", \"ref\", \"ref\", \"ref\", \"ref\", \"remove\", \"remove\", \"remove\", \"remove\", \"remove\", \"render\", \"render\", \"render\", \"render\", \"render\", \"report\", \"report\", \"report\", \"report\", \"report\", \"reproduce\", \"reproduce\", \"reproduce\", \"reproduce\", \"reproduce\", \"reproduce_possible\", \"reproduce_possible\", \"reproduce_possible\", \"reproduce_possible\", \"reproduce_possible\", \"request\", \"request\", \"request\", \"request\", \"request\", \"return\", \"return\", \"return\", \"return\", \"return\", \"route\", \"route\", \"route\", \"route\", \"route\", \"run\", \"run\", \"run\", \"run\", \"run\", \"run_code\", \"run_code\", \"run_code\", \"run_code\", \"run_code\", \"sample\", \"sample\", \"sample\", \"sample\", \"sample\", \"script\", \"script\", \"script\", \"script\", \"script\", \"scroll\", \"scroll\", \"scroll\", \"scroll\", \"select\", \"select\", \"select\", \"select\", \"select\", \"selected\", \"selected\", \"selected\", \"selected\", \"selected\", \"server\", \"server\", \"server\", \"server\", \"server\", \"setstate\", \"setstate\", \"setstate\", \"setstate\", \"setstate\", \"setting\", \"setting\", \"setting\", \"setting\", \"setting\", \"span\", \"span\", \"span\", \"span\", \"span\", \"src\", \"src\", \"src\", \"src\", \"src\", \"stack\", \"stack\", \"stack\", \"stack\", \"stack\", \"state\", \"state\", \"state\", \"state\", \"state\", \"statement\", \"statement\", \"statement\", \"statement\", \"statement\", \"status\", \"status\", \"status\", \"status\", \"status\", \"style\", \"style\", \"style\", \"style\", \"style\", \"syntax\", \"syntax\", \"syntax\", \"syntax\", \"syntax\", \"tab\", \"tab\", \"tab\", \"tab\", \"tab\", \"table\", \"table\", \"table\", \"table\", \"table\", \"target_value\", \"target_value\", \"target_value\", \"target_value\", \"target_value\", \"task\", \"task\", \"task\", \"task\", \"template\", \"template\", \"template\", \"template\", \"template\", \"test\", \"test\", \"test\", \"test\", \"test\", \"testutils\", \"testutils\", \"testutils\", \"testutils\", \"testutils\", \"testutils_renderintodocument\", \"testutils_renderintodocument\", \"testutils_renderintodocument\", \"testutils_renderintodocument\", \"testutils_renderintodocument\", \"text\", \"text\", \"text\", \"text\", \"text\", \"text_line\", \"text_line\", \"text_line\", \"text_line\", \"time\", \"time\", \"time\", \"time\", \"time\", \"type\", \"type\", \"type\", \"type\", \"type\", \"typescript\", \"typescript\", \"typescript\", \"typescript\", \"unexpected\", \"unexpected\", \"unexpected\", \"unexpected\", \"unexpected\", \"unknown\", \"unknown\", \"unknown\", \"unknown\", \"unknown\", \"unknown_div\", \"unknown_div\", \"unknown_div\", \"use\", \"use\", \"use\", \"use\", \"use\", \"useeffect\", \"useeffect\", \"useeffect\", \"useeffect\", \"useeffect\", \"using\", \"using\", \"using\", \"using\", \"using\", \"value\", \"value\", \"value\", \"value\", \"value\", \"var\", \"var\", \"var\", \"var\", \"var\", \"version\", \"version\", \"version\", \"version\", \"version\", \"view\", \"view\", \"view\", \"view\", \"view\", \"want\", \"want\", \"want\", \"want\", \"want\", \"warning\", \"warning\", \"warning\", \"warning\", \"warning\", \"web\", \"web\", \"web\", \"web\", \"web\", \"webpack\", \"webpack\", \"webpack\", \"webpack\", \"webpack\", \"width\", \"width\", \"width\", \"width\", \"width\", \"work\", \"work\", \"work\", \"work\", \"work\", \"www\", \"www\", \"www\", \"www\", \"www\"]}, \"R\": 30, \"lambda.step\": 0.01, \"plot.opts\": {\"xlab\": \"PC1\", \"ylab\": \"PC2\"}, \"topic.order\": [2, 4, 1, 5, 3]};\n",
       "\n",
       "function LDAvis_load_lib(url, callback){\n",
       "  var s = document.createElement('script');\n",
       "  s.src = url;\n",
       "  s.async = true;\n",
       "  s.onreadystatechange = s.onload = callback;\n",
       "  s.onerror = function(){console.warn(\"failed to load library \" + url);};\n",
       "  document.getElementsByTagName(\"head\")[0].appendChild(s);\n",
       "}\n",
       "\n",
       "if(typeof(LDAvis) !== \"undefined\"){\n",
       "   // already loaded: just create the visualization\n",
       "   !function(LDAvis){\n",
       "       new LDAvis(\"#\" + \"ldavis_el594234901203424702519961\", ldavis_el594234901203424702519961_data);\n",
       "   }(LDAvis);\n",
       "}else if(typeof define === \"function\" && define.amd){\n",
       "   // require.js is available: use it to load d3/LDAvis\n",
       "   require.config({paths: {d3: \"https://cdnjs.cloudflare.com/ajax/libs/d3/3.5.5/d3.min\"}});\n",
       "   require([\"d3\"], function(d3){\n",
       "      window.d3 = d3;\n",
       "      LDAvis_load_lib(\"https://cdn.rawgit.com/bmabey/pyLDAvis/files/ldavis.v1.0.0.js\", function(){\n",
       "        new LDAvis(\"#\" + \"ldavis_el594234901203424702519961\", ldavis_el594234901203424702519961_data);\n",
       "      });\n",
       "    });\n",
       "}else{\n",
       "    // require.js not available: dynamically load d3 & LDAvis\n",
       "    LDAvis_load_lib(\"https://cdnjs.cloudflare.com/ajax/libs/d3/3.5.5/d3.min.js\", function(){\n",
       "         LDAvis_load_lib(\"https://cdn.rawgit.com/bmabey/pyLDAvis/files/ldavis.v1.0.0.js\", function(){\n",
       "                 new LDAvis(\"#\" + \"ldavis_el594234901203424702519961\", ldavis_el594234901203424702519961_data);\n",
       "            })\n",
       "         });\n",
       "}\n",
       "</script>"
      ],
      "text/plain": [
       "PreparedData(topic_coordinates=              x         y  topics  cluster       Freq\n",
       "topic                                                \n",
       "1      0.033820  0.008076       1        1  37.911621\n",
       "3      0.018815 -0.022319       2        1  28.676552\n",
       "0      0.008254  0.070885       3        1  17.803324\n",
       "4      0.050146 -0.041739       4        1  10.470715\n",
       "2     -0.111035 -0.014903       5        1   5.137790, topic_info=     Category         Freq                                        Term  \\\n",
       "term                                                                     \n",
       "361   Default   909.000000                                      module   \n",
       "50    Default  1372.000000                                      object   \n",
       "169   Default   748.000000                                      chrome   \n",
       "181   Default   503.000000                                        main   \n",
       "166   Default   647.000000                                       build   \n",
       "78    Default  1730.000000                                         div   \n",
       "176   Default   442.000000                                   extension   \n",
       "178   Default   401.000000            fmkadmapgofadopljbjfkapdkoienihi   \n",
       "852   Default   707.000000                                         www   \n",
       "81    Default  1031.000000                                    expected   \n",
       "736   Default  1202.000000                                         var   \n",
       "66    Default   677.000000                                        case   \n",
       "5     Default  2366.000000                                   component   \n",
       "871   Default   362.000000                                       equal   \n",
       "62    Default  1534.000000                                    behavior   \n",
       "392   Default   552.000000                                   framework   \n",
       "368   Default   801.000000                                         src   \n",
       "170   Default   248.000000                            chrome_extension   \n",
       "179   Default   239.000000      fmkadmapgofadopljbjfkapdkoienihi_build   \n",
       "139   Default  1077.000000                                         app   \n",
       "605   Default   697.000000                                node_modules   \n",
       "91    Default  2012.000000                                        http   \n",
       "125   Default  1177.000000                                     request   \n",
       "121   Default  1409.000000                                      render   \n",
       "875   Default   436.000000                                         lib   \n",
       "616   Default   817.000000                                       babel   \n",
       "177   Default   161.000000  extension_fmkadmapgofadopljbjfkapdkoienihi   \n",
       "167   Default   157.000000                                  build_main   \n",
       "227   Default   983.000000                                       value   \n",
       "182   Default   159.000000                                 main_chrome   \n",
       "...       ...          ...                                         ...   \n",
       "186    Topic5    44.771793                                       stack   \n",
       "460    Topic5    11.552562                                      length   \n",
       "180    Topic5     8.923204                                     foreach   \n",
       "174    Topic5    49.596863                                     div_div   \n",
       "459    Topic5     9.199529                                      layout   \n",
       "890    Topic5    28.546072                                   testutils   \n",
       "892    Topic5     5.772742                testutils_renderintodocument   \n",
       "513    Topic5    14.172755                                         tab   \n",
       "350    Topic5     5.409085                          componentwillmount   \n",
       "51     Topic5    29.522606                                      remove   \n",
       "78     Topic5   202.204315                                         div   \n",
       "50     Topic5   155.108978                                      object   \n",
       "898    Topic5    38.397560                                     reactid   \n",
       "139    Topic5    97.696243                                         app   \n",
       "649    Topic5    55.206062                                       event   \n",
       "183    Topic5    32.386818                                         map   \n",
       "5      Topic5   130.872726                                   component   \n",
       "121    Topic5    90.981430                                      render   \n",
       "145    Topic5    60.670483                                        data   \n",
       "736    Topic5    68.022820                                         var   \n",
       "53     Topic5    53.336491                                        type   \n",
       "361    Topic5    54.731422                                      module   \n",
       "28     Topic5    60.775341                                        prop   \n",
       "68     Topic5    47.045986                                       child   \n",
       "338    Topic5    42.685871                                     element   \n",
       "137    Topic5    52.703037                                     version   \n",
       "26     Topic5    42.644699                                        null   \n",
       "125    Topic5    45.170883                                     request   \n",
       "91     Topic5    47.935062                                        http   \n",
       "0      Topic5    43.772099                                         bug   \n",
       "\n",
       "            Total  loglift  logprob  \n",
       "term                                 \n",
       "361    909.000000  30.0000  30.0000  \n",
       "50    1372.000000  29.0000  29.0000  \n",
       "169    748.000000  28.0000  28.0000  \n",
       "181    503.000000  27.0000  27.0000  \n",
       "166    647.000000  26.0000  26.0000  \n",
       "78    1730.000000  25.0000  25.0000  \n",
       "176    442.000000  24.0000  24.0000  \n",
       "178    401.000000  23.0000  23.0000  \n",
       "852    707.000000  22.0000  22.0000  \n",
       "81    1031.000000  21.0000  21.0000  \n",
       "736   1202.000000  20.0000  20.0000  \n",
       "66     677.000000  19.0000  19.0000  \n",
       "5     2366.000000  18.0000  18.0000  \n",
       "871    362.000000  17.0000  17.0000  \n",
       "62    1534.000000  16.0000  16.0000  \n",
       "392    552.000000  15.0000  15.0000  \n",
       "368    801.000000  14.0000  14.0000  \n",
       "170    248.000000  13.0000  13.0000  \n",
       "179    239.000000  12.0000  12.0000  \n",
       "139   1077.000000  11.0000  11.0000  \n",
       "605    697.000000  10.0000  10.0000  \n",
       "91    2012.000000   9.0000   9.0000  \n",
       "125   1177.000000   8.0000   8.0000  \n",
       "121   1409.000000   7.0000   7.0000  \n",
       "875    436.000000   6.0000   6.0000  \n",
       "616    817.000000   5.0000   5.0000  \n",
       "177    161.000000   4.0000   4.0000  \n",
       "167    157.000000   3.0000   3.0000  \n",
       "227    983.000000   2.0000   2.0000  \n",
       "182    159.000000   1.0000   1.0000  \n",
       "...           ...      ...      ...  \n",
       "186    166.848587   1.6530  -5.1214  \n",
       "460     44.196739   1.6268  -6.4760  \n",
       "180     34.213776   1.6246  -6.7343  \n",
       "174    205.973267   1.5447  -5.0190  \n",
       "459     39.116116   1.5212  -6.7038  \n",
       "890    128.094086   1.4673  -5.5714  \n",
       "892     27.395027   1.4113  -7.1698  \n",
       "513     68.493843   1.3931  -6.2716  \n",
       "350     32.471081   1.1763  -7.2349  \n",
       "51     178.163269   1.1710  -5.5378  \n",
       "78    1730.790527   0.8215  -3.6137  \n",
       "50    1372.737183   0.7881  -3.8788  \n",
       "898    282.547424   0.9727  -5.2749  \n",
       "139   1077.690552   0.5678  -4.3411  \n",
       "649    477.537598   0.8110  -4.9119  \n",
       "183    233.484863   0.9932  -5.4452  \n",
       "5     2366.498047   0.0736  -4.0487  \n",
       "121   1409.607178   0.2281  -4.4123  \n",
       "145    820.015625   0.3647  -4.8175  \n",
       "736   1202.817139   0.0960  -4.7031  \n",
       "53     709.679321   0.3804  -4.9463  \n",
       "361    909.935059   0.1576  -4.9205  \n",
       "28    1398.860352  -0.1677  -4.8157  \n",
       "68     764.840576   0.1800  -5.0718  \n",
       "338    599.942444   0.3256  -5.1691  \n",
       "137   1424.678467  -0.3285  -4.9583  \n",
       "26     620.023743   0.2917  -5.1700  \n",
       "125   1177.207764  -0.2919  -5.1125  \n",
       "91    2012.274292  -0.7686  -5.0531  \n",
       "0     1541.763794  -0.5931  -5.1439  \n",
       "\n",
       "[325 rows x 6 columns], token_table=      Topic      Freq      Term\n",
       "term                           \n",
       "61        1  0.353521  affected\n",
       "61        2  0.461963  affected\n",
       "61        3  0.073741  affected\n",
       "61        4  0.084585  affected\n",
       "61        5  0.026026  affected\n",
       "833       1  0.310072    almost\n",
       "833       2  0.310072    almost\n",
       "833       3  0.155036    almost\n",
       "833       4  0.206714    almost\n",
       "230       1  0.238355   another\n",
       "230       2  0.098369   another\n",
       "230       3  0.068101   another\n",
       "230       4  0.541027   another\n",
       "230       5  0.052968   another\n",
       "139       1  0.478802       app\n",
       "139       2  0.099286       app\n",
       "139       3  0.256103       app\n",
       "139       4  0.074233       app\n",
       "139       5  0.090935       app\n",
       "453       1  0.235325     array\n",
       "453       2  0.151281     array\n",
       "453       3  0.467849     array\n",
       "453       4  0.092449     array\n",
       "453       5  0.053228     array\n",
       "616       1  0.915664     babel\n",
       "616       2  0.018338     babel\n",
       "616       3  0.037898     babel\n",
       "616       4  0.025673     babel\n",
       "616       5  0.002445     babel\n",
       "165       1  0.254273       bar\n",
       "...     ...       ...       ...\n",
       "40        1  0.461886   warning\n",
       "40        2  0.144340   warning\n",
       "40        3  0.111348   warning\n",
       "40        4  0.247439   warning\n",
       "40        5  0.035741   warning\n",
       "332       1  0.360092       web\n",
       "332       2  0.180046       web\n",
       "332       3  0.191299       web\n",
       "332       4  0.191299       web\n",
       "332       5  0.078770       web\n",
       "551       1  0.375379   webpack\n",
       "551       2  0.079027   webpack\n",
       "551       3  0.405014   webpack\n",
       "551       4  0.128419   webpack\n",
       "551       5  0.009878   webpack\n",
       "863       1  0.764272     width\n",
       "863       2  0.062531     width\n",
       "863       3  0.048635     width\n",
       "863       4  0.055583     width\n",
       "863       5  0.062531     width\n",
       "42        1  0.416866      work\n",
       "42        2  0.362568      work\n",
       "42        3  0.118229      work\n",
       "42        4  0.077943      work\n",
       "42        5  0.024522      work\n",
       "852       1  0.033907       www\n",
       "852       2  0.073465       www\n",
       "852       3  0.829303       www\n",
       "852       4  0.029668       www\n",
       "852       5  0.033907       www\n",
       "\n",
       "[1071 rows x 3 columns], R=30, lambda_step=0.01, plot_opts={'xlab': 'PC1', 'ylab': 'PC2'}, topic_order=[2, 4, 1, 5, 3])"
      ]
     },
     "execution_count": 9,
     "metadata": {},
     "output_type": "execute_result"
    }
   ],
   "source": [
    "import pyLDAvis\n",
    "from pyLDAvis import gensim\n",
    "import warnings\n",
    "warnings.filterwarnings('ignore')\n",
    "\n",
    "pyLDAvis.enable_notebook()\n",
    "pyLDAvis.gensim.prepare(model,corpus,dictionary)"
   ]
  },
  {
   "cell_type": "code",
   "execution_count": 12,
   "metadata": {},
   "outputs": [
    {
     "data": {
      "text/html": [
       "<div>\n",
       "<style scoped>\n",
       "    .dataframe tbody tr th:only-of-type {\n",
       "        vertical-align: middle;\n",
       "    }\n",
       "\n",
       "    .dataframe tbody tr th {\n",
       "        vertical-align: top;\n",
       "    }\n",
       "\n",
       "    .dataframe thead th {\n",
       "        text-align: right;\n",
       "    }\n",
       "</style>\n",
       "<table border=\"1\" class=\"dataframe\">\n",
       "  <thead>\n",
       "    <tr style=\"text-align: right;\">\n",
       "      <th></th>\n",
       "      <th>topic</th>\n",
       "      <th>keywords</th>\n",
       "    </tr>\n",
       "  </thead>\n",
       "  <tbody>\n",
       "    <tr>\n",
       "      <th>0</th>\n",
       "      <td>0</td>\n",
       "      <td>[object, http, var, www, src, request, state, framework, value, function, component, app, render, div, data, return, prop, line, like, dom]</td>\n",
       "    </tr>\n",
       "    <tr>\n",
       "      <th>1</th>\n",
       "      <td>1</td>\n",
       "      <td>[component, babel, return, div, const, render, function, behavior, version, app, state, bug, import, work, use, prop, error, http, data, dom]</td>\n",
       "    </tr>\n",
       "    <tr>\n",
       "      <th>2</th>\n",
       "      <td>2</td>\n",
       "      <td>[main, extension, chrome, build, fmkadmapgofadopljbjfkapdkoienihi, div, object, chrome_extension, fmkadmapgofadopljbjfkapdkoienihi_build, component, app, build_main, render, main_chrome, extension_fmkadmapgofadopljbjfkapdkoienihi, var, prop, data, event, module]</td>\n",
       "    </tr>\n",
       "    <tr>\n",
       "      <th>3</th>\n",
       "      <td>3</td>\n",
       "      <td>[component, bug, http, version, prop, current, behavior, issue, div, work, const, codesandbox, browser, feature, want, function, request, child, jsfiddle, expected]</td>\n",
       "    </tr>\n",
       "    <tr>\n",
       "      <th>4</th>\n",
       "      <td>4</td>\n",
       "      <td>[module, expected, behavior, case, component, equal, node_modules, http, lib, name, warning, bug, one, use, div, render, another, multiple, unexpected, lead]</td>\n",
       "    </tr>\n",
       "  </tbody>\n",
       "</table>\n",
       "</div>"
      ],
      "text/plain": [
       "   topic  \\\n",
       "0  0       \n",
       "1  1       \n",
       "2  2       \n",
       "3  3       \n",
       "4  4       \n",
       "\n",
       "                                                                                                                                                                                                                                                                 keywords  \n",
       "0  [object, http, var, www, src, request, state, framework, value, function, component, app, render, div, data, return, prop, line, like, dom]                                                                                                                             \n",
       "1  [component, babel, return, div, const, render, function, behavior, version, app, state, bug, import, work, use, prop, error, http, data, dom]                                                                                                                           \n",
       "2  [main, extension, chrome, build, fmkadmapgofadopljbjfkapdkoienihi, div, object, chrome_extension, fmkadmapgofadopljbjfkapdkoienihi_build, component, app, build_main, render, main_chrome, extension_fmkadmapgofadopljbjfkapdkoienihi, var, prop, data, event, module]  \n",
       "3  [component, bug, http, version, prop, current, behavior, issue, div, work, const, codesandbox, browser, feature, want, function, request, child, jsfiddle, expected]                                                                                                    \n",
       "4  [module, expected, behavior, case, component, equal, node_modules, http, lib, name, warning, bug, one, use, div, render, another, multiple, unexpected, lead]                                                                                                           "
      ]
     },
     "execution_count": 12,
     "metadata": {},
     "output_type": "execute_result"
    }
   ],
   "source": [
    "pd.set_option('display.max_colwidth', -1)\n",
    "topics = pd.DataFrame({'topic':[i for i in range(fittest_gene.n)]})\n",
    "topics['keywords_prob'] = topics.topic.apply(lambda x: sorted(model.show_topic(x, 20),key=lambda x: x[1], reverse=True))\n",
    "topics['keywords'] = topics['keywords_prob'].apply(lambda x: [i[0] for i in x])\n",
    "topics[['topic','keywords']]"
   ]
  },
  {
   "cell_type": "code",
   "execution_count": 14,
   "metadata": {},
   "outputs": [
    {
     "data": {
      "text/plain": [
       "3       [want, request, feature, report, bug, bug, error, boundary, 这是一个关于错误边界的bug, current, behavior, neither, static, getderivedstatefromerror, componentdidcatch, catch, error, error, occurs, subcomponent, child, component, settimeout, static, getderivedstatefromerror, componentdidcatch, 都无法捕获到发生在子组件里的延时器逻辑的错误, current, behavior, bug, please, provide, step, reproduce, possible, minimal, demo, problem, bug, get, fixed, much, faster, run, code, dependency, react, paste, link, jsfiddle, http, jsfiddle, net, luktwrdm, codesandbox, http, codesandbox, new, example, version, react, errorboundary, index, import, react, react, export, default, class, errorboundary, extends, react, component, state, haserror, false, static, getderivedstatefromerror, error, console, log, 被触发了, error, return, haserror, true, componentdidcatch, error, errorinfo, console, log, error, errorinfo, render, state, haserror, return, div, 悲伤的错误发生了, div, ...]                                                  \n",
       "4       [want, request, feature, report, bug, bug, current, behavior, react, apps, use, version, serialize, javascript, creates, warning, github, com, yahoo, serialize, javascript, advisory, ghsa, h9rv, jmmf, 4pgx, updated, version, released, fix, issue, impact, affected, version, package, vulnerable, cross, site, scripting, x, properly, mitigate, unsafe, character, serialized, regular, expression, vulnerability, affected, node, environment, since, node, implementation, regexp, prototype, tostring, backslash, escape, forward, slash, regular, expression, serialized, data, regular, expression, object, used, environment, node, affected, vulnerability, patch, patched, reproduction, step, npx, create, react, app, testing, latest, react, react, version, expected, behavior, version, react, browser, affected, issue, work, previous, version, react, security, advisory, created, ...]                                                                                                     \n",
       "8       [want, request, feature, report, bug, feature, current, behavior, easy, way, automatic, prop, binding, current, behavior, bug, please, provide, step, reproduce, possible, minimal, demo, problem, bug, get, fixed, much, faster, run, code, dependency, react, paste, link, jsfiddle, http, jsfiddle, net, luktwrdm, codesandbox, http, codesandbox, new, example, expected, behavior, sorry, already, asked, talked, internally, github, issue, find, anything, simple, google, search, think, reason, behavior, react, best, practice, react, devs, much, smarter, probably, thought, much, longer, harder, trivial, worth, react, devs, time, please, close, right, away, basically, proposing, allowing, easy, prop, binding, similar, using, function, bind, function, apply, call, would, make, easier, pas, ...]                                                                                                                                                                                          \n",
       "10      [want, request, feature, report, bug, report, bug, current, behavior, value, boxshadow, element, style, parsed, wrong, way, color, moved, beginning, value, instead, kept, original, position, end, example, element, div, style, boxshadow, 1px, 1px, 1px, parsed, like, div, style, box, shadow, rgb, 1px, 1px, 1px, div, major, browser, like, chrome, firefox, tolerant, interpret, malformed, cs, correctly, bug, causing, issue, puppeteer, fails, cast, shadow, fiddle, show, issue, see, inspecting, element, value, malformed, version, react, browser, affected, issue, work, previous, version, react, tested, react, ubuntu, chrome, firefox, puppeteer, aws, lambda, machine, encounter, problem, want_request, feature_report, report_bug, current_behavior, browser_affected, issue_work, previous_version]                                                                                                                                                                                        \n",
       "12      [want, request, feature, report, bug, ask, question, hook, behaviour, current, behavior, set, component, state, using, usestate, hook, becomes, react, element, stay, component, happen, component, set, state, setstate, method, class, component, function, component, using, hook, const, asynccomponent, prop, const, loadedcomponent, setloadedcomponent, usestate, null, const, loadcomponent, prop, useeffect, loadedcomponent, loadcomponent, component, setloadedcomponent, component, default, component, default, component, console, log, loadedcomponent, type, div, key, null, ref, null, prop, object, _owner, null, _store, object, return, fragment, loadedcomponent, loadedcomponent, loadingindicator, fragment, class, component, export, default, class, asynccomponent, extends, purecomponent, state, loadedcomponent, null, componentwillmount, state, loadedcomponent, prop, loadcomponent, component, setstate, loadedcomponent, component, default, component, default, component, ...]\n",
       "13      [want, request, feature, report, bug, ask, question, current, behavior, ran, issue, messed, forgot, access, current, property, ref, missed, testing, dev, build, mode, ran, automated, test, test, case, test, run, production, mode, pipeline, code, passed, passage, due, way, component, built, would, expected, test, blow, trying, assign, property, ref, current, thankfully, caught, went, master, question, would, fail, dev, production, went, digging, hook, code, found, line, appears, sealing, ref, object, dev, wondering, reasoning, behind, sealing, ref, dev, mode, want, sealed, production, mode, version, react, browser, affected, issue, work, previous, version, react, want_request, feature_report, current_behavior, browser_affected, issue_work, previous_version]                                                                                                                                                                                                                    \n",
       "17      [want, request, feature, report, bug, bug, current, behavior, onchange, handler, controlled, radio, button, called, include, bootstrap, file, popper, jquery, fine, removing, script, tag, allows, change, handler, called, necessary, bootstrap, responsive, navbar, collapsing, seem, issue, bootstrap, work, fine, using, react, see, gist, current, behavior, bug, please, provide, step, reproduce, possible, minimal, demo, problem, create, fresh, react, app, npx, create, react, app, replace, app, index, html, version, gist, try, commenting, uncommenting, indicated, script, tag, html, file, see, output, logged, logged, console, example, following, input, change, handler, would, called, label, classname, btn, btn, secondary, input, type, radio, name, option, option1, value, checked, currentoption, ...]                                                                                                                                                                                \n",
       "19      [want, request, feature, report, bug, bug, current, behavior, see, code, sandbox, hope, text, render, first, time, click, button, got, http, codesandbox, elegant, bartik, kchb7, view, ctx, provider, value, real, button, onclick, setvalue, click, button, button, onclick, setvalue, reset, button, value, child, ctx, provider, value, view, render, also, value, associated, context, useeffect, setreal, value, value, child, const, child, const, value, usecontext, ctx, const, sum, setsum, usestate, useeffect, setsum, value, console, log, value, value, return, sum, perception, react, sum, child, render, value, greater, code, get, want_request, feature_report, bug_current, click_button, http_codesandbox, button_onclick, click_button, button_onclick, console_log]                                                                                                                                                                                                                        \n",
       "20      [want, request, feature, report, bug, potential, bug, current, behavior, calling, setstate, usestate, state, value, stale, inside, function, value, correct, inside, body, component, inside, function, current, behavior, bug, please, provide, step, reproduce, possible, minimal, demo, problem, bug, get, fixed, much, faster, run, code, dependency, react, paste, link, jsfiddle, http, jsfiddle, net, luktwrdm, codesandbox, http, codesandbox, new, example, begin, typing, autocomplete, gmail, com, see, expected, actual, value, input, http, codesandbox, useemailautocomplete, material, expected, behavior, correct, value, email, inside, handlechange, function, version, react, browser, affected, issue, work, previous, version, react, react, v16, browser, chrome, catalina, want_request, feature_report, bug_current, current_behavior, bug_please, provide_step, reproduce_possible, minimal_demo, ...]                                                                                   \n",
       "23      [want, request, feature, report, bug, bug, current, behavior, website, branch, converting, route, based, code, splitting, reduce, bundle, size, issue, global, index, sc, property, applied, lazy, loaded, module, breaking, thing, like, font, face, tag, styling, route, import, home, component, home, const, route, react, switch, route, exact, path, component, home, redirect, switch, route, const, home, lazy, import, component, home, const, route, react, suspense, fallback, switch, route, exact, path, component, home, redirect, switch, suspense, current, behavior, bug, please, provide, step, reproduce, possible, minimal, demo, problem, bug, get, fixed, much, faster, run, code, dependency, react, paste, link, jsfiddle, http, jsfiddle, net, luktwrdm, codesandbox, http, ...]                                                                                                                                                                                                         \n",
       "24      [want, request, feature, report, bug, error, current, behavior, uncaught, error, invalid, hook, call, hook, called, inside, body, function, component, could, happen, one, following, reason, might, mismatching, version, react, renderer, react, dom, might, breaking, rule, hook, might, one, copy, react, app, current, behavior, bug, please, provide, step, reproduce, possible, minimal, demo, problem, bug, get, fixed, much, faster, run, code, dependency, react, paste, link, jsfiddle, http, jsfiddle, net, luktwrdm, codesandbox, http, codesandbox, new, example, const, data, data, comment, loading, commentsloading, usehttprequest, api, getcomment, get, added, data, going, pull, latest, data, best, way, write, expected, behavior, custom, hook, called, method, need, write, usestate, ...]                                                                                                                                                                                               \n",
       "26      [want, request, feature, report, bug, yes, current, behavior, want, use, usecontext, pas, usereducer, state, dispath, method, way, wrote, globalcontext, provider, value, object, assign, state, dispatch, value, state, dispatch, however, corresponding, dispatch, method, state, child, component, current, behavior, bug, please, provide, step, reproduce, possible, minimal, demo, problem, bug, get, fixed, much, faster, run, code, dependency, react, paste, link, jsfiddle, http, jsfiddle, net, luktwrdm, codesandbox, http, codesandbox, new, example, expected, behavior, result, envision, ability, use, usecotext, get, state, dispatch, subcomponents, including, deep, level, make, convenient, unlike, redux, pas, prop, version, react, browser, affected, issue, work, previous, version, react, google, browser, react, cdn, ...]                                                                                                                                                            \n",
       "29      [want, request, feature, report, bug, current, behavior, current, behavior, bug, please, provide, step, reproduce, possible, minimal, demo, problem, bug, get, fixed, much, faster, run, code, dependency, react, paste, link, jsfiddle, http, jsfiddle, net, luktwrdm, codesandbox, http, codesandbox, new, example, expected, behavior, version, react, browser, affected, issue, work, previous, version, react, want_request, feature_report, bug_current, current_behavior, bug_please, provide_step, reproduce_possible, minimal_demo, problem_bug, get_fixed, much_faster, run_code, react_paste, link_jsfiddle, http_jsfiddle, net_luktwrdm, codesandbox_http, codesandbox_new, expected_behavior, browser_affected, issue_work, previous_version]                                                                                                                                                                                                                                                        \n",
       "32      [want, request, feature, report, bug, feature, current, behavior, currently, react, show, hydration, warning, dev, mode, expected, behavior, would, cool, react, show, warning, mismatch, hydration, production, mode, doc, treat, mismatch, bug, fix, development, mode, react, warns, mismatch, hydration, track, development, large, apps, could, hard, could, take, bunch, time, find, missmatches, output, warning, prod, mode, track, via, sentry, service, like, version, react, browser, affected, issue, work, previous, version, react, v16, want_request, feature_report, current_behavior, expected_behavior, browser_affected, issue_work, previous_version]                                                                                                                                                                                                                                                                                                                                         \n",
       "36      [want, request, feature, report, bug, request, feature, current, behavior, usestate, hook, printed, generic, state, label, making, hard, distinguish, current, behavior, bug, please, provide, step, reproduce, possible, minimal, demo, problem, bug, get, fixed, much, faster, run, code, dependency, react, paste, link, jsfiddle, http, jsfiddle, net, luktwrdm, codesandbox, http, codesandbox, new, example, expected, behavior, name, variable, used, probably, shown, possible, const, page, setpage, usestate, show, page, instead, state, version, react, browser, affected, issue, work, previous, version, react, latest, firefox, macos, catalina, react, react, devtools, want_request, feature_report, request_feature, current_behavior, current_behavior, bug_please, provide_step, reproduce_possible, minimal_demo, problem_bug, get_fixed, much_faster, run_code, react_paste, link_jsfiddle, http_jsfiddle, net_luktwrdm, codesandbox_http, ...]                                             \n",
       "41      [bug, report, workaround, autofocus, linter, compile, typescript, code, using, autofocus, reader, accessibility, issue, could, please, provide, workaround, problem, alternatively, please, remove, library, cause, issue, worth, please_provide, please_remove]                                                                                                                                                                                                                                                                                                                                                                                                                                                                                                                                                                                                                                                                                                                                                  \n",
       "42      [react, changelog, markdown, documentation, formatting, issue, want, request, feature, report, bug, bug, formatting, subtitle, marked, current, behavior, react, test, renderer, subtitle, rendered, finding, formatting, error, using, chrome, devtools, http, github, com, facebook, react, blob, master, changelog, react, test, renderer, open, devtools, inspect, html, via, markdown, source, http, raw, githubusercontent, com, facebook, react, master, changelog, search, word, fix, handling, fragment, totree, see, react, test, renderer, react, test, renderer, expected, behavior, react, test, renderer, subtitle, rendered, version, react, browser, affected, issue, work, previous, version, react, applicable, additional, context, might, look, like, nitpicking, programmatically, parsing, changelog, ran, inconsistency, hopefully, fixed, easy, fix, prep, ...]                                                                                                                           \n",
       "43      [want, request, feature, report, bug, bug, current, behavior, undefined, object, assigned, property, component, done, render, current, behavior, bug, please, provide, step, reproduce, possible, minimal, demo, problem, bug, get, fixed, much, faster, run, code, dependency, react, paste, link, jsfiddle, http, jsfiddle, net, luktwrdm, codesandbox, http, codesandbox, new, example, function, ashwin, let, obj, undefined, obj, hasbasket, true, call, function, inside, functional, component, result, code, rendered, throwing, error, http, codesandbox, priceless, wing, 6xh8r, expected, behavior, render, throw, error, version, react, browser, affected, issue, work, previous, version, react, react, able, reproduce, chrome, safari, test, previous, version, react, want_request, feature_report, bug_current, current_behavior, bug_please, provide_step, reproduce_possible, ...]                                                                                                            \n",
       "44      [want, request, feature, report, bug, bug, current, behavior, react, doc, say, useeffect, let, express, different, kind, side, effect, component, render, suspense, seem, true, longer, useeffect, called, pre, emptively, least, rendering, seems, refer, double, buffer, situation, side, effect, rely, element, rendered, effectively, visually, demo, case, need, render, content, screen, supposed, follow, along, parent, whereabouts, http, codesandbox, mystifying, wilson, 30u2m, useeffect, belonging, dom, component, dump, content, parent, rendered, odd, since, parent, suspended, component, done, loading, mixed, mode, react, two, reconciler, anything, culprit, useeffect, expected, behavior, useeffect, fire, component, effectively, rendered, think, people, thought, would, already, version, react, affected, issue, want_request, feature_report, bug_current, ...]                                                                                                                     \n",
       "46      [previous, version, react, version, still, return, previous_version]                                                                                                                                                                                                                                                                                                                                                                                                                                                                                                                                                                                                                                                                                                                                                                                                                                                                                                                                              \n",
       "48      [higher, order, wrapper, component, library, replace, component, wrapped, version, like, let, component, div, hello, world, div, connect, react, redux, component, connect, selector, component, withrouter, react, router, component, withrouter, component, export, default, component, see, lot, people, way, guess, recommended, best, practice, know, mutating, devil, functional, always, way, think, lot, cleaner, nest, bunch, function, increase, indent, code, decrease, readability, create, bunch, separate, duplicate, component, name, obtuse, name, like, componentwithrouter, connectedcomponentwithrouterwithforwardedref, first, definition, component, pure, display, component, receives, prop, need, care, come, define, everything, connects, separately, anyway, forwardref, reassigning, component, like, seems, crash, react, fine, const, unforwardedcomponent, forwardedref, prop, div, sup, div, const, ...]                                                                          \n",
       "50      [react, devtools, feature, request, please, make, prop, state, etc, key, right, panel, stuff, key, highlightable, order, user, able, copy, mentioned, key, chrome, version, official, build, bit, official_build]                                                                                                                                                                                                                                                                                                                                                                                                                                                                                                                                                                                                                                                                                                                                                                                                 \n",
       "51      [want, request, feature, report, bug, maybe, bug, current, behavior, function, reducer, state, action, console, log, run, reducer, switch, action, type, case, increment, return, state, default, return, state, function, increase, dispatch, type, increment, console, log, dispatch, output, first, time, calling, increase, run, reducer, dispatch, output, later, time, calling, increase, dispatch, run, reducer, http, codesandbox, infallible, basso, r0k3w, open, link, reproduction, see, console, log, current, behavior, bug, please, provide, step, reproduce, possible, minimal, demo, problem, bug, get, fixed, much, faster, run, code, dependency, react, paste, link, jsfiddle, http, jsfiddle, net, luktwrdm, codesandbox, http, codesandbox, new, example, expected, behavior, sequence, output, keep, version, ...]                                                                                                                                                                          \n",
       "53      [want, request, feature, report, bug, discussion, current, behavior, exploring, source, code, react, found, reactfiberbeginwork, depends, function, reactfiberworkloop, react, package, react, reconciler, src, reactfiberbeginwork, line, 6470e0f, import, markspawnedwork, requestcurrenttimeforupdate, retrydehydratedsuspenseboundary, schedulework, renderdidsuspenddelayifpossible, markunprocessedupdatetime, reactfiberworkloop, time, reactfiberworkloop, depends, function, reactfiberbeginwork, react, package, react, reconciler, src, reactfiberworkloop, line, 6470e0f, import, beginwork, originalbeginwork, reactfiberbeginwork, actually, bug, may, lead, unexpected, behavior, future, okay, circular, dependency, want_request, feature_report, current_behavior, reconciler_src, reconciler_src, lead_unexpected]                                                                                                                                                                             \n",
       "54      [bug, react, http, codesandbox, determined, lehmann, hl43r, issue, exist, http, codesandbox, nifty, paper, 8cqil, http_codesandbox, http_codesandbox]                                                                                                                                                                                                                                                                                                                                                                                                                                                                                                                                                                                                                                                                                                                                                                                                                                                             \n",
       "55      [want, request, feature, report, bug, api, design, question, useeffect, current, behavior, currently, useeffect, run, every, render, default, behavior, dangerous, situation, like, dealing, http, request, forget, pas, second, argument, seems, common, mistake, especially, newcomer, like, think, many, pattern, want, run, useeffect, every, render, reasoning, behind, defaulting, run, want_request, feature_report, current_behavior, http_request]                                                                                                                                                                                                                                                                                                                                                                                                                                                                                                                                                       \n",
       "57      [want, request, feature, report, bug, bug, current, behavior, clicking, link, hash, href, event, get, caught, delegated, onclick, handler, higher, dom, although, work, correct, onmousedown, event, click, link, without, hash, current, behavior, bug, please, provide, step, reproduce, possible, minimal, demo, problem, bug, get, fixed, much, faster, run, code, dependency, react, paste, link, jsfiddle, http, jsfiddle, net, luktwrdm, codesandbox, http, codesandbox, new, example, example, http, codesandbox, loving, smoke, oqx2w, expected, behavior, delegated, handler, also, get, triggered, onclick, event, version, react, browser, affected, issue, work, previous, version, react, tested, macos, catalina, firefox, chrome, react, want_request, feature_report, bug_current, current_behavior, bug_please, provide_step, reproduce_possible, minimal_demo, problem_bug, ...]                                                                                                               \n",
       "58      [want, request, feature, report, bug, current, behavior, current, behavior, bug, please, provide, step, reproduce, possible, minimal, demo, problem, bug, get, fixed, much, faster, run, code, dependency, react, paste, link, jsfiddle, http, jsfiddle, net, luktwrdm, codesandbox, http, codesandbox, new, example, expected, behavior, version, react, browser, affected, issue, work, previous, version, react, want_request, feature_report, bug_current, current_behavior, bug_please, provide_step, reproduce_possible, minimal_demo, problem_bug, get_fixed, much_faster, run_code, react_paste, link_jsfiddle, http_jsfiddle, net_luktwrdm, codesandbox_http, codesandbox_new, expected_behavior, browser_affected, issue_work, previous_version]                                                                                                                                                                                                                                                        \n",
       "66      [want, request, feature, report, bug, bug, current, behavior, passing, function, second, argument, react, memo, cause, state, initialized, hook, reset, previous, state, current, behavior, bug, please, provide, step, reproduce, possible, minimal, demo, problem, bug, get, fixed, much, faster, run, code, dependency, react, paste, link, jsfiddle, http, jsfiddle, net, luktwrdm, codesandbox, http, codesandbox, new, example, http, codesandbox, romantic, wilson, 34sup, expected, behavior, alternating, row, click, preserve, previous, state, associated, row, remove, areequal, function, 2nd, parameter, react, memo, app, behaves, expected, another, fix, passing, function, setstate, prevstate, version, react, browser, affected, issue, work, previous, version, react, react, chrome, want_request, feature_report, bug_current, current_behavior, bug_please, ...]                                                                                                                          \n",
       "68      [want, request, feature, report, bug, seems, bug, maybe, bug, current, behavior, wrapandrenderchildren, component, unmounted, mounted, hence, changing, input, value, turn, set, state, input, rerendered, loses, focus, current, behavior, bug, please, provide, step, reproduce, possible, minimal, demo, problem, bug, get, fixed, much, faster, run, code, dependency, react, paste, link, jsfiddle, http, jsfiddle, net, luktwrdm, codesandbox, http, codesandbox, new, example, http, codesandbox, wrappe, renderer, force, rerender, 1tlwm, fbclid, iwar2fumrdr0vrifkrgztjn7yr7, iq67kgl0qjprh73rksk1b_g8, 4lrpe, expected, behavior, wrapandrenderchildren, component, updated, modify, state, unmounted, react, unmounts, component, type, component, key, changed, exemple, type, change, define, wrapandrenderchildren, outside, app, component, seems, work, correctly, version, react, browser, affected, issue, ...]                                                                                \n",
       "                                                                                                                                                                                                                                                                                                                                                                                                                                                                       ...                                                                                                                                                                                                                                                                                                                                                                                                                                                                                                                                                \n",
       "1521    [console, log, element, prop, child, react, isvalidelement, element, prop, child, element, prop, child, produce, false, even, though, regular, reactelement, happening, rc1, console_log, prop_child, prop_child, prop_child, even_though]                                                                                                                                                                                                                                                                                                                                                                                                                                                                                                                                                                                                                                                                                                                                                                        \n",
       "1596    [opened, issue, reactart, incompatibility, reactart, react, beta3]                                                                                                                                                                                                                                                                                                                                                                                                                                                                                                                                                                                                                                                                                                                                                                                                                                                                                                                                                \n",
       "1601    [detail, see, pilwon, react, famous, basically, seems, component, unmounted, componentwillunmount, method, need, called, element, owns, issue, related, probably, addressed, although, part, mixins, ignored]                                                                                                                                                                                                                                                                                                                                                                                                                                                                                                                                                                                                                                                                                                                                                                                                     \n",
       "1632    [child, prop, bit, awkward, random, per, prior, conversation, jordwalke, prop, child, special, cased, deciding, factor, certainly, bit, irksume, theoretical, computer, science, perspective, element, child, feel, cleaner, element, prop, child, current, api, bit, ambiguous, regard, result, react, createelement, div, child, since, child, specified, two, potentially, conflicting, value, imagine, third, argument, null, different, value, actually, know, would, happen, top, head, especially, null, case, null, treated, like, undefined, third, argument, override, second, child, prop, mean, prop, object, saved, reactelement, hoisted, intelligent, runtime, would, otherwise, possible, runtimes, transpilers, see, non, child, prop, depend, particular, render, could, save, thousand, allocation, per, render, importantly, string, compare, ...]                                                                                                                                            \n",
       "1659    [current, used, version, webpomponents, nov, bit, time, change, log, quite, long, webcomponents, webcomponentsjs, posting, enchancement, request, cannot, test, bump, prepare, also, sure, good, idea, push, react]                                                                                                                                                                                                                                                                                                                                                                                                                                                                                                                                                                                                                                                                                                                                                                                               \n",
       "1686    [time, something, like, prop, child, map, renderchild, render, child, component, need, clone, element, something, right, facing, problem, pas, child, map, function, longer, object, end, something, like, time, creating, little, layer, deal, problem, maybe, take, approach, always, create, array, even, pas, single, element, unless, see, problem, return, div, renderchildren, div, renderchildren, array, isarray, prop, child, return, prop, child, map, renderchild, return, renderchild, prop, child, something_like, prop_child, something_like, return_div, prop_child, prop_child, prop_child]                                                                                                                                                                                                                                                                                                                                                                                                      \n",
       "1701    [update, checkbox, defaultchecked, work, please, see]                                                                                                                                                                                                                                                                                                                                                                                                                                                                                                                                                                                                                                                                                                                                                                                                                                                                                                                                                             \n",
       "1714    [warning, setstate, update, mounted, mounting, component, usually, mean, called, setstate, unmounted, component, would, great, get, stack, trace, know, warning, referring, stack_trace]                                                                                                                                                                                                                                                                                                                                                                                                                                                                                                                                                                                                                                                                                                                                                                                                                          \n",
       "1736    [see, jsfiddle, http, jsfiddle, net, tvxderw3, chrome, quickly, move, mouse, list, notice, get, stuck, hover, state, work, fine, safari, work, chrome, use, stable, key, hover, state, think, mouseout, somehow, firing, underlying, dom, node, replaced, new, one, tick, odd, chrome, bug, jsfiddle_http, jsfiddle_net, work_fine]                                                                                                                                                                                                                                                                                                                                                                                                                                                                                                                                                                                                                                                                               \n",
       "1740    [tested, basic, animation, working, fine, chrome, firefox, safari, issue, nothing, seems, work, safari, even, fadein, fadeout, http, jsfiddle, net, pchng, 17rq3s6d, http_jsfiddle]                                                                                                                                                                                                                                                                                                                                                                                                                                                                                                                                                                                                                                                                                                                                                                                                                               \n",
       "1769    [child, intended, called, opaque, child, object, prop, child, best, tell, child, map, intended, return, opaque, child, object, child, called, return, value, child, map, per, comment, seems, reasonable, want, map, child, another, element, clone, element, instance, grab, child, map, use, render, also, surprising, identity, operation, passed, map, thing, come, semantically, equivalent, issue, demonstrated, http, jsfiddle, net, 9ldyq5jk, prop_child, http_jsfiddle]                                                                                                                                                                                                                                                                                                                                                                                                                                                                                                                                  \n",
       "1773    [hello, work, react, recently, meet, problem, divide, entire, page, two, component, called, xxxheader, xxxbody, want, click, button, xxxheader, refresh, xxxbody, content, work, well, wrap, xxxheader, xxxbody, parent, component, wrap, xxxheader, xxxbody, component, limit, try, use, mixin, resolve, mixin, used, wrap, common, function, give, suggests, click_button]                                                                                                                                                                                                                                                                                                                                                                                                                                                                                                                                                                                                                                      \n",
       "1776    [componentwillunmount, triggered, child, component, parent, component, unmounts, child, component]                                                                                                                                                                                                                                                                                                                                                                                                                                                                                                                                                                                                                                                                                                                                                                                                                                                                                                                \n",
       "1812    [found, react, child, map, foreach, optional, argument, object, thisarg, could, set, another, object, top, level, api, try, run, code, var, obj, num, var, component, react, createclass, deal, function, console, log, num, obj, render, function, react, child, foreach, prop, child, deal, obj, return, prop, child, react, render, component, component, document, body, log, three, time, constructor, undefined, idea, obj, third, argument, react, child, foreach, work, top_level, run_code, react_createclass, console_log, prop_child, prop_child, document_body]                                                                                                                                                                                                                                                                                                                                                                                                                                       \n",
       "1842    [wondering, anyone, could, provide, insight, achieve, animated, component, page, switch, react, like, achieve, component, page, transition, like, one, http, www, semplicelabs, com, header, transition, opacity, margin, top, content, transition, opacity, new, component, page, shown, currently, shown, component, page, transition, new, component, page, transitioning, code, play, around, http, jsfiddle, net, gonsfx, xva2g6oo, http_jsfiddle]                                                                                                                                                                                                                                                                                                                                                                                                                                                                                                                                                           \n",
       "1850    [trying, use, react, finddomnode, prop, child, item, reactelement, error, thrown, uncaught, error, invariant, violation, element, appears, neither, reactcomponent, domnode, small, demo, show, problem, react, child, foreach, prop, child, child, console, log, react, finddomnode, child, parent, component, mounted, console, log, ismounted, ismounted, ismounted, true, related, additionally, behavior, didmount, didupdate, handler, currently, undefined, regard, fire, relation, child, therefore, ref, example, componentdidupdate, guaranteed, fire, child, fully, mounted, sebmarkbage, source, prop_child, uncaught_error, invariant_violation, prop_child, console_log, console_log]                                                                                                                                                                                                                                                                                                               \n",
       "1863    [like, feature, allows, forward, ref, define, public, instance, component, way, make, higher, order, component, completely, transparent]                                                                                                                                                                                                                                                                                                                                                                                                                                                                                                                                                                                                                                                                                                                                                                                                                                                                          \n",
       "1866    [encountered, trying, different, part, form, validation, happen, onblur, onclick, seems, update, state, onblur, state, element, injected, dom, via, jsx, positionally, button, onclick, onclick, fire, believe, related, issue, see, http, jsfiddle, net, kb3gn, variation, example, provided, enter, text, click, button, twice, see, click, true, confident, order, matter, dom, see, consistently, reproducable, jsfiddle, andela, domonori, first, noticed, weird, behavior, button_onclick, http_jsfiddle, click_button]                                                                                                                                                                                                                                                                                                                                                                                                                                                                                     \n",
       "1871    [http, jsfiddle, net, bm0b1brs, mini, search, mdn, w3c, spec, checkbox, event, target, label, seem, standard, defined, anywhere, thing, chrome, idea, worth, polyfilling, firefox, http_jsfiddle]                                                                                                                                                                                                                                                                                                                                                                                                                                                                                                                                                                                                                                                                                                                                                                                                                 \n",
       "1923    [faced, issue, recently, solved, using, jquery, please, run, app, reproduce, missed, something, appologies, either, way, please, share, wisdom, thread]                                                                                                                                                                                                                                                                                                                                                                                                                                                                                                                                                                                                                                                                                                                                                                                                                                                           \n",
       "1958    [using, rowheightgetter, function, dynamically, change, row, height, state, change, unfortunately, rerender, row, position, correctly, expanded, row, get, negative, offset, value, scroll, recalculate, calling, _updaterowheight, method, getrowposition, fixeddatatablescrollhelper, line, _updaterowheight, rowindex, fix, offset, recalculation, _updaterowheight, rowindex, forcing, scroll, recalculation, commenting, line, line, fixeddatatable, react, fix, scroll, problem, oldstate, prop, overflowy, hidden, scrolly, oldstate, scrolly, else, scrollstate, _scrollhelper, scrollto, prop, scrolltop, firstrowindex, scrollstate, index, firstrowoffset, scrollstate, offset, scrolly, scrollstate, position, sure, elegant, solution, added, information, purpose, whats, proper, solution, problem, _updaterowheight, _updaterowheight, _updaterowheight, _scrollhelper]                                                                                                                           \n",
       "1960    [implementing, something, using, onmouseover, svg, circle, seem, work, found, old, issue, following, fiddle, http, jsfiddle, net, lkye5, expected, work, spicyj, commented, thread, make, work, suppose, regression, http_jsfiddle]                                                                                                                                                                                                                                                                                                                                                                                                                                                                                                                                                                                                                                                                                                                                                                               \n",
       "1968    [post, build, react, gave, example, reconciliation, jsfiddle, working, understand, correctly, something, like, create, change, url, fix, something_like]                                                                                                                                                                                                                                                                                                                                                                                                                                                                                                                                                                                                                                                                                                                                                                                                                                                          \n",
       "1969    [created, component, take, input, textarea, generates, tspan, line, text, textarea, http, jsfiddle, net, 69z2wepo, seeing, correct, svg, generated, browser, display, first, tspan, screen, even, paste, output, another, html, fiddle, see, rendered, correctly, kind, soul, greenjello, freenode, reactjs, able, find, workaround, cause, text, element, get, rendered, behaves, expected, rendering, tspans, http, jsfiddle, net, 69z2wepo, thought, might, browser, bug, able, successfully, reproduce, chrome, firefox, something, related, nature, svg, browser, bug, affecting, multiple, browser, react, something, strange, http_jsfiddle, http_jsfiddle]                                                                                                                                                                                                                                                                                                                                                \n",
       "1977    [spent, like, minute, hunting, bug, ended, caused, reusing, ref, line, component, imagine, get, much, worse, bigger, component, warning, dev, mode, would, nice, would_nice]                                                                                                                                                                                                                                                                                                                                                                                                                                                                                                                                                                                                                                                                                                                                                                                                                                      \n",
       "1985    [current, version, react, long, react, release, new, version, api, change, lot, new, version, released]                                                                                                                                                                                                                                                                                                                                                                                                                                                                                                                                                                                                                                                                                                                                                                                                                                                                                                           \n",
       "1991    [log, particular, parent, child, owner, stack, trio]                                                                                                                                                                                                                                                                                                                                                                                                                                                                                                                                                                                                                                                                                                                                                                                                                                                                                                                                                              \n",
       "1992    [test, currently, pas, browser, running, chrome, support, webcomponents, already, however, fail, every, browser, think, webcomponents, actually, loaded, currently, getting, packaged, react, test, requiring, creates, new, node, resulting, node, create, createnodefrommarkup, different, prototype, expected, webcomponents, webcomponents, new, node, prototype, different, implementation, insertbefore, instanceof, node, check, node, failing, think, loaded, webcomponents, browser, loaded, node, create, markup, wrapping, would, right, prototype]                                                                                                                                                                                                                                                                                                                                                                                                                                                    \n",
       "1995    [appears, onwheel, broken, react, return, event, full, undefined, everything, fiddle, http, jsfiddle, net, 06fm6wv4, working, fiddle, http, jsfiddle, net, ddd7lc9o, working, edit, reproduce, try, using, scroll, wheel, div, info, mac, using, track, pad, tested, latest, chrome, firefox, safari, http_jsfiddle, http_jsfiddle]                                                                                                                                                                                                                                                                                                                                                                                                                                                                                                                                                                                                                                                                               \n",
       "1997    [like, scrollview, child, return, reactelement, get, real, htmlelementnode, reactelement, want, getcomputedstyle, node]                                                                                                                                                                                                                                                                                                                                                                                                                                                                                                                                                                                                                                                                                                                                                                                                                                                                                           \n",
       "Name: tokens, Length: 526, dtype: object"
      ]
     },
     "execution_count": 14,
     "metadata": {},
     "output_type": "execute_result"
    }
   ],
   "source": [
    "docs.df[docs.df['topic']==3]['tokens']"
   ]
  },
  {
   "cell_type": "code",
   "execution_count": 17,
   "metadata": {},
   "outputs": [
    {
     "data": {
      "text/plain": [
       "[<matplotlib.lines.Line2D at 0x12ae4db38>]"
      ]
     },
     "execution_count": 17,
     "metadata": {},
     "output_type": "execute_result"
    },
    {
     "data": {
      "image/png": "[encoded data removed]",
      "text/plain": [
       "<Figure size 432x288 with 1 Axes>"
      ]
     },
     "metadata": {
      "needs_background": "light"
     },
     "output_type": "display_data"
    }
   ],
   "source": [
    "import matplotlib.pyplot as plt\n",
    "plt.plot(list(range(len(ga.n_record))),ga.n_record)"
   ]
  },
  {
   "cell_type": "code",
   "execution_count": 18,
   "metadata": {},
   "outputs": [
    {
     "data": {
      "text/plain": [
       "[<matplotlib.lines.Line2D at 0x12b96f4a8>]"
      ]
     },
     "execution_count": 18,
     "metadata": {},
     "output_type": "execute_result"
    },
    {
     "data": {
      "image/png": "[encoded data removed]",
      "text/plain": [
       "<Figure size 432x288 with 1 Axes>"
      ]
     },
     "metadata": {
      "needs_background": "light"
     },
     "output_type": "display_data"
    }
   ],
   "source": [
    "plt.plot(list(range(len(ga.score_record))),ga.score_record)"
   ]
  },
  {
   "cell_type": "code",
   "execution_count": null,
   "metadata": {},
   "outputs": [],
   "source": []
  }
 ],
 "metadata": {
  "kernelspec": {
   "display_name": "Python 3",
   "language": "python",
   "name": "python3"
  },
  "language_info": {
   "codemirror_mode": {
    "name": "ipython",
    "version": 3
   },
   "file_extension": ".py",
   "mimetype": "text/x-python",
   "name": "python",
   "nbconvert_exporter": "python",
   "pygments_lexer": "ipython3",
   "version": "3.7.3"
  }
 },
 "nbformat": 4,
 "nbformat_minor": 2
}
