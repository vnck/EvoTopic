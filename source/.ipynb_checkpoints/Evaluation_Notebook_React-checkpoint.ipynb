{
 "cells": [
  {
   "cell_type": "markdown",
   "metadata": {},
   "source": [
    "# !!!! NOTE:\n",
    "\n",
    "To evaluate **coherence score**: set GA.objective to 'coherence' and in GA file, import Gene from Gene\n",
    "\n",
    "To evaluate **silhouette score**: set GA.objective to 'silhouette' and in GA file, import Gene from Gene2"
   ]
  },
  {
   "cell_type": "code",
   "execution_count": 1,
   "metadata": {},
   "outputs": [],
   "source": [
    "from Documents import Documents\n",
    "from GA import GA\n",
    "import pandas as pd\n",
    "import pickle\n",
    "from os import path\n",
    "import random"
   ]
  },
  {
   "cell_type": "code",
   "execution_count": 2,
   "metadata": {},
   "outputs": [],
   "source": [
    "loadit = False\n",
    "\n",
    "if loadit:\n",
    "  with open('react_docs.pkl', 'rb') as f:\n",
    "    docs = pickle.load(f)\n",
    "else:\n",
    "  data_path = '../data/github_issues.csv'\n",
    "  df = pd.read_csv(data_path)\n",
    "  docs = Documents()\n",
    "#   docs.load(list(df['description'])[:300])\n",
    "  docs.load(list(df['description']))\n",
    "  docs.vectorise()\n",
    "  with open('react_docs.pkl', 'wb+') as f:\n",
    "    pickle.dump(docs, f)\n",
    "\n",
    "print(\"No. of documents loaded: {}\".format(docs.get_doc_size()))\n",
    "\n",
    "corpus = docs.get_vectors()\n",
    "dictionary = docs.get_dictionary()"
   ]
  },
  {
   "cell_type": "code",
   "execution_count": 3,
   "metadata": {},
   "outputs": [
    {
     "name": "stdout",
     "output_type": "stream",
     "text": [
      "No. of documents loaded: 3000\n"
     ]
    }
   ],
   "source": [
    "# loadit = False\n",
    "\n",
    "# if loadit:\n",
    "#   with open('android_docs.pkl', 'rb') as f:\n",
    "#     docs = pickle.load(f)\n",
    "# else:\n",
    "#   data_path = '../data/android_app_reviews.txt'\n",
    "#   with open(data_path, 'r') as f:\n",
    "#     data = f.readlines()\n",
    "#   data = [x.strip() for x in data]\n",
    "#   data = random.sample(data,3000)\n",
    "#   docs = Documents()\n",
    "#   docs.load(data)\n",
    "#   docs.vectorise()\n",
    "#   with open('android_docs.pkl', 'wb+') as f:\n",
    "#     pickle.dump(docs, f)\n",
    "\n",
    "# print(\"No. of documents loaded: {}\".format(docs.get_doc_size()))\n",
    "\n",
    "# corpus = docs.get_vectors()\n",
    "# dictionary = docs.get_dictionary()"
   ]
  },
  {
   "cell_type": "code",
   "execution_count": null,
   "metadata": {},
   "outputs": [
    {
     "name": "stdout",
     "output_type": "stream",
     "text": [
      "Initialising Population...\n"
     ]
    },
    {
     "data": {
      "application/vnd.jupyter.widget-view+json": {
       "model_id": "b753097c146a4df5bee8b6b1c3577635",
       "version_major": 2,
       "version_minor": 0
      },
      "text/plain": [
       "HBox(children=(FloatProgress(value=0.0, max=30.0), HTML(value='')))"
      ]
     },
     "metadata": {},
     "output_type": "display_data"
    }
   ],
   "source": [
    "# GA = GA(corpus,dictionary,pop_size=20,fitness_budget=10000,objective='silhouette')\n",
    "ga = GA(corpus,dictionary,pop_size=30,fitness_budget=3000,objective='coherence')\n",
    "ga.initialise_population()\n",
    "ga.evolve()\n",
    "\n",
    "fittest_gene = ga.get_fittest()\n",
    "model = ga.get_model()\n",
    "docs.assign_labels(model)\n",
    "\n",
    "print('Fittest Gene discovered {} topics with score of {:.8f}'.format(fittest_gene.n,ga.fitness))"
   ]
  },
  {
   "cell_type": "code",
   "execution_count": null,
   "metadata": {},
   "outputs": [],
   "source": [
    "fittest_gene = ga.get_fittest()\n",
    "model = ga.get_model()\n",
    "docs.assign_labels(model)"
   ]
  },
  {
   "cell_type": "code",
   "execution_count": null,
   "metadata": {},
   "outputs": [],
   "source": [
    "# dump model\n",
    "with open('android_lda_model.pkl', 'wb+') as f:\n",
    "    pickle.dump(model, f)"
   ]
  },
  {
   "cell_type": "code",
   "execution_count": null,
   "metadata": {
    "scrolled": true
   },
   "outputs": [],
   "source": [
    "import pyLDAvis\n",
    "from pyLDAvis import gensim\n",
    "import warnings\n",
    "warnings.filterwarnings('ignore')\n",
    "\n",
    "pyLDAvis.enable_notebook()\n",
    "pyLDAvis.gensim.prepare(model,corpus,dictionary)"
   ]
  },
  {
   "cell_type": "code",
   "execution_count": null,
   "metadata": {},
   "outputs": [],
   "source": [
    "docs.df"
   ]
  },
  {
   "cell_type": "code",
   "execution_count": null,
   "metadata": {},
   "outputs": [],
   "source": []
  }
 ],
 "metadata": {
  "kernelspec": {
   "display_name": "Python 3",
   "language": "python",
   "name": "python3"
  },
  "language_info": {
   "codemirror_mode": {
    "name": "ipython",
    "version": 3
   },
   "file_extension": ".py",
   "mimetype": "text/x-python",
   "name": "python",
   "nbconvert_exporter": "python",
   "pygments_lexer": "ipython3",
   "version": "3.7.3"
  }
 },
 "nbformat": 4,
 "nbformat_minor": 2
}
